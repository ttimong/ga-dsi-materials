{
 "cells": [
  {
   "cell_type": "markdown",
   "metadata": {},
   "source": [
    "<img src=\"http://imgur.com/1ZcRyrc.png\" style=\"float: left; margin: 20px; height: 55px\">\n",
    "\n",
    "# Fast Food Chains and Price Discrimination\n",
    "\n",
    "_Authors: Kiefer Katovich (SF), Mario Carrillo (SF)_\n",
    "\n",
    "---\n",
    "\n",
    "This group lab uses a 1994 dataset that has detailed prices on items sold at over 400 Burger King, Wendy's, KFC and [Roy Roger](https://en.wikipedia.org/wiki/Roy_Rogers_Restaurants) restaurants in New Jersey and Pennsivania.\n",
    "\n",
    "It is a restricted version of the dataset used in this publication:\n",
    "\n",
    "> [K. Graddy (1997), \"Do Fast-Food Chains Price Discriminate on the Race and Income Characteristics of an Area?\" Journal of Business and Economic Statistics 15, 391-401.](http://people.brandeis.edu/~kgraddy/published%20papers/GraddyK_jbes1997.pdf)\n",
    "\n",
    "**The goal of this this exercise is to evaluate whether fast-food restaurants are using discriminatory pricing.** This is a fairly open ended prompt and it up to you how you want to quantify pricing discrimination. There are two immediate groups of variables that can help you investigate this:\n",
    "- You have the prices of items, which can be a metric of discriminatory practices (charging higher prices).\n",
    "- You have proportion of African Americans, proportion of low income, and proportion of residents without a car.\n",
    "\n",
    "---\n",
    "\n",
    "### In groups, you should:\n",
    "1. **Load the data and examine it.**\n",
    "2. **Perform any required data cleaning.**\n",
    "3. **Conduct EDA relevant to the goals of the project.** What variables are you interested in for your target(s) and predictors? What kinds of relationships to you see in the data that will inform your analysis?\n",
    "4. **Formulate your hypotheses and formally define them.** Come up with a plan, based on the prompt and your EDA, for testing your hypotheses.\n",
    "5. **Construct regression models to test your hypotheses.** What do you find? Do you accept or reject your hypothesis? What are the limitations and assumptions of your approach? \n",
    "6. **[Bonus] Cross-validate the results of your regression.** If you achieved positive results, do these hold up during cross-validation or train/test split?\n",
    "7. **Prepare a brief (10 minute) presentation on the findings.** Your group will present on the questions you asked, models you built, and findings.\n",
    "    - Be concise! Only present information that is relevant.\n",
    "    - Visuals are nice but don't overdo it.\n",
    "    - Don't just talk about the significance or metrics in your model. Interpret the coefficients. What are the implications?\n",
    "    - What future directions would you go in from here?\n",
    "\n",
    "\n",
    "> *Note*: If you are interested, the full dataset is also in the datasets folder under the name `discrim_full.csv`."
   ]
  },
  {
   "cell_type": "markdown",
   "metadata": {},
   "source": [
    "### Dataset characteristics\n",
    "\n",
    "    :Number of Instances: 410\n",
    "    \n",
    "    :Attribute Information\n",
    "    \n",
    "    psoda         price of medium soda\n",
    "    pfries        price of small fries\n",
    "    pentree       price entree (burger or chicken)\n",
    "    wagest        starting wage\n",
    "    nmgrs         number of managers\n",
    "    nregs         number of registers\n",
    "    hrsopen       hours open\n",
    "    emp           number of employees\n",
    "    compown       =1 if company owned\n",
    "    chain         BK = 1, KFC = 2, Roy Rogers = 3, Wendy's = 4\n",
    "    density       population density, town\n",
    "    crmrte        crime rate, town\n",
    "    state         NJ = 1, PA = 2\n",
    "    prpblck       proportion black, zipcode\n",
    "    prppov        proportion in poverty, zipcode\n",
    "    prpncar       proportion no car, zipcode\n",
    "    hseval        median housing value, zipcode\n",
    "    nstores       number of stores, zipcode\n",
    "    income        median family income, zipcode\n",
    "    county        county label\n",
    "    NJ            =1 for New Jersey\n",
    "    BK            =1 if Burger King\n",
    "    KFC           =1 if Kentucky Fried Chicken\n",
    "    RR            =1 if Roy Rogers"
   ]
  },
  {
   "cell_type": "code",
   "execution_count": 1,
   "metadata": {
    "collapsed": true
   },
   "outputs": [],
   "source": [
    "# data modules\n",
    "import numpy as np\n",
    "import scipy.stats as stats\n",
    "import pandas as pd\n",
    "\n",
    "# plotting modules\n",
    "import matplotlib.pyplot as plt\n",
    "import seaborn as sns\n",
    "sns.set_style('whitegrid')\n",
    "\n",
    "# Stats/Regresions Packages\n",
    "from sklearn import linear_model\n",
    "from sklearn.metrics import r2_score\n",
    "\n",
    "# make sure charts appear in the notebook:\n",
    "%matplotlib inline\n",
    "%config InlineBackend.figure_format ='retina'"
   ]
  },
  {
   "cell_type": "code",
   "execution_count": 2,
   "metadata": {
    "collapsed": true
   },
   "outputs": [],
   "source": [
    "food = pd.read_csv('./datasets/discrim.csv')"
   ]
  },
  {
   "cell_type": "code",
   "execution_count": 3,
   "metadata": {
    "collapsed": true
   },
   "outputs": [],
   "source": [
    "food['pmeal'] = food['psoda'] + food['pfries'] + food['pentree']"
   ]
  },
  {
   "cell_type": "code",
   "execution_count": 7,
   "metadata": {
    "collapsed": true
   },
   "outputs": [],
   "source": [
    "food.dropna(inplace=True, axis = 0)"
   ]
  },
  {
   "cell_type": "code",
   "execution_count": 8,
   "metadata": {
    "collapsed": true
   },
   "outputs": [],
   "source": [
    "predictorsA = ['prpblck','prppov','prpncar','hseval','income']"
   ]
  },
  {
   "cell_type": "code",
   "execution_count": 13,
   "metadata": {
    "collapsed": true
   },
   "outputs": [],
   "source": [
    "lm = LinearRegression()"
   ]
  },
  {
   "cell_type": "code",
   "execution_count": 14,
   "metadata": {},
   "outputs": [
    {
     "name": "stdout",
     "output_type": "stream",
     "text": [
      "-0.00606204774105 0.0879441269694 [ 0.09490097 -0.06858075  0.00469444  0.07713985 -0.13846474]\n"
     ]
    }
   ],
   "source": [
    "from sklearn.model_selection import KFold, cross_val_score, cross_val_predict\n",
    "from sklearn import metrics\n",
    "\n",
    "# run cross validation with 5 fold split\n",
    "# scores = cross_val_score(lm, X_train, y_train, cv=5)\n",
    "\n",
    "# use the KFold class to add more options!\n",
    "kf_shuffle = KFold(n_splits=5,shuffle=True)\n",
    "scores = cross_val_score(lm, food[predictorsA], food['pmeal'], cv=kf_shuffle)\n",
    "\n",
    "print np.mean(scores), np.std(scores), scores"
   ]
  },
  {
   "cell_type": "code",
   "execution_count": 10,
   "metadata": {
    "collapsed": true
   },
   "outputs": [],
   "source": [
    "predictorsB = ['wagest', 'nmgrs', 'nregs', 'hrsopen', 'emp', 'compown']"
   ]
  },
  {
   "cell_type": "code",
   "execution_count": 15,
   "metadata": {},
   "outputs": [
    {
     "name": "stdout",
     "output_type": "stream",
     "text": [
      "0.357341898239 0.0903103144301 [ 0.36669203  0.3946183   0.48179073  0.33956079  0.20404764]\n"
     ]
    }
   ],
   "source": [
    "from sklearn.model_selection import KFold, cross_val_score, cross_val_predict\n",
    "from sklearn import metrics\n",
    "\n",
    "# run cross validation with 5 fold split\n",
    "# scores = cross_val_score(lm, X_train, y_train, cv=5)\n",
    "\n",
    "# use the KFold class to add more options!\n",
    "kf_shuffle = KFold(n_splits=5,shuffle=True)\n",
    "scores = cross_val_score(lm, food[predictorsB], food['pmeal'], cv=kf_shuffle)\n",
    "\n",
    "print np.mean(scores), np.std(scores), scores"
   ]
  },
  {
   "cell_type": "markdown",
   "metadata": {},
   "source": [
    "H0: R2 of model 1 = R2 of model 2"
   ]
  },
  {
   "cell_type": "code",
   "execution_count": 17,
   "metadata": {},
   "outputs": [
    {
     "data": {
      "text/plain": [
       "Ttest_indResult(statistic=5.7657526216354311, pvalue=0.00042132539426495468)"
      ]
     },
     "execution_count": 17,
     "metadata": {},
     "output_type": "execute_result"
    }
   ],
   "source": [
    "stats.ttest_ind([ 0.36669203, 0.3946183,0.48179073, 0.33956079, 0.20404764], [ 0.09490097, -0.06858075,  0.00469444,  0.07713985, -0.13846474])"
   ]
  },
  {
   "cell_type": "code",
   "execution_count": null,
   "metadata": {
    "collapsed": true
   },
   "outputs": [],
   "source": []
  }
 ],
 "metadata": {
  "kernelspec": {
   "display_name": "Python 2",
   "language": "python",
   "name": "python2"
  },
  "language_info": {
   "codemirror_mode": {
    "name": "ipython",
    "version": 2
   },
   "file_extension": ".py",
   "mimetype": "text/x-python",
   "name": "python",
   "nbconvert_exporter": "python",
   "pygments_lexer": "ipython2",
   "version": "2.7.13"
  }
 },
 "nbformat": 4,
 "nbformat_minor": 2
}
