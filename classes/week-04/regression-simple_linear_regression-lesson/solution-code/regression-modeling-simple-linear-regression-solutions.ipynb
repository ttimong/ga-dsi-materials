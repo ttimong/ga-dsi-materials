{
 "cells": [
  {
   "cell_type": "markdown",
   "metadata": {},
   "source": [
    "<img src=\"http://imgur.com/1ZcRyrc.png\" style=\"float: left; margin: 20px; height: 55px\">\n",
    "\n",
    "# Introduction to Regression Modeling: Simple Linear Regression\n",
    "\n",
    "_Authors: Matt Brems (DC), Marc Harper (LA)_\n",
    "\n",
    "---\n",
    "\n",
    "<a id=\"learning-objectives\"></a>\n",
    "### Learning Objectives \n",
    "- Understand modeling, inference from models, and prediction\n",
    "- Understand the framework of regression modeling\n",
    "- Understand simple linear regression and linear relationships between variables\n",
    "- Learn how to find the best slope and intercept for simple linear regression\n",
    "- Be able to interpret the results of simple linear regression\n",
    "- Understand the assumptions that simple linear regression makes"
   ]
  },
  {
   "cell_type": "markdown",
   "metadata": {},
   "source": [
    "### Lesson Guide\n",
    "- [Introduction: modeling, inference, and prediction](#introduction-modeling-inference-and-prediction)\n",
    "\t- [Modeling](#modeling)\n",
    "\t- [Model-based inference](#model-based-inference)\n",
    "\t- [Prediction](#prediction)\n",
    "- [Naive/Baseline Prediction](#naivebaseline-prediction)\n",
    "\t- [Let's generate some data](#lets-generate-some-data)\n",
    "- [Regression modeling and linear relationships between variables](#regression-modeling-and-linear-relationships-between-variables)\n",
    "- [Simple linear regression and error](#simple-linear-regression-and-error)\n",
    "\t- [The error term $\\epsilon$](#the-error-term-epsilon)\n",
    "\t- [Common syntax for linear regression models](#common-syntax-for-linear-regression-models)\n",
    "- [Finding the \"best\" slope and intercept](#finding-the-best-slope-and-intercept)\n",
    "\t- [Residuals](#residuals)\n",
    "\t- [Residual sum of squares (RSS)](#residual-sum-of-squares-rss)\n",
    "\t- [Minimizing the MSE](#minimizing-the-mse)\n",
    "\t- [Calculate beta coefficients by hand](#calculate-beta-coefficients-by-hand)\n",
    "- [Interpretation of SLR](#interpretation-of-slr)\n",
    "- [Assumptions of SLR](#assumptions-of-slr)\n",
    "- [Final notes on linear regression](#final-notes-on-linear-regression)\n",
    "\t- [Categorical predictors](#categorical-predictors)\n"
   ]
  },
  {
   "cell_type": "code",
   "execution_count": 1,
   "metadata": {
    "collapsed": true
   },
   "outputs": [],
   "source": [
    "import pandas as pd\n",
    "import numpy as np\n",
    "import matplotlib.pyplot as plt\n",
    "\n",
    "% matplotlib inline"
   ]
  },
  {
   "cell_type": "markdown",
   "metadata": {},
   "source": [
    "<a id=\"introduction-modeling-inference-and-prediction\"></a>\n",
    "## Introduction: modeling, inference, and prediction\n",
    "\n",
    "---\n",
    "\n",
    "<a id=\"modeling\"></a>\n",
    "### Modeling\n",
    "\n",
    "Depending on how long you've lived in a particular place and traveled to a location for work, you probably have a good understanding of commute times in your area. For example, you've traveled to work (or GA!) using some combination of the Metro, buses, trains, Ubers, taxis, carpools, walking, etc.\n",
    "\n",
    "**All humans naturally model the world around them.** \n",
    "\n",
    "Over time, your observations about transportation have built up a mental dataset and a mental model that helps you predict what traffic will be like at various times and locations. You probably use this mental model to help plan your days, predict arrival times, and many other tasks.\n",
    "- As data scientists we attempt to make our understanding of relationships between different quantities more precise through using data and mathematical/statistical structures.\n",
    "- This process is called modeling.\n",
    "- Models are simplifications of reality that help us to better understand that which we observe.\n",
    "- In a data science setting, models generally consist of a dependent variable (or output) of interest and one or more independent variables (or inputs) believed to have an effect on the independent variable.\n",
    "- Linear regression is an extremely common and critically important modeling tool.\n",
    "\n",
    "\n",
    "<a id=\"model-based-inference\"></a>\n",
    "### Model-based inference\n",
    "\n",
    "- We can use models to conduct inference.\n",
    "- Given a model, we can better understand relationships between an independent variable and the dependent variable or between multiple independent variables.\n",
    "\n",
    "**What are some examples of where inference from a mental model would be valuable in your job?**"
   ]
  },
  {
   "cell_type": "code",
   "execution_count": 2,
   "metadata": {
    "collapsed": true
   },
   "outputs": [],
   "source": [
    "# - Judging quality of sales leads\n",
    "# - Assessing potential candidates in interviews\n",
    "# - Determining what times of day you work best and worst\n",
    "# many more"
   ]
  },
  {
   "cell_type": "markdown",
   "metadata": {},
   "source": [
    "<a id=\"prediction\"></a>\n",
    "### Prediction\n",
    "\n",
    "- We can use a model to make predictions, or to estimate an dependent variable's value given at least one independent variable's value.\n",
    "- Predictions can be valuable even if they are not exactly right.\n",
    "- Good predictions are extremely valuable for a wide variety of purposes.\n",
    "\n",
    "**What are some examples of where prediction from a mental model could be valuable?**"
   ]
  },
  {
   "cell_type": "code",
   "execution_count": 3,
   "metadata": {
    "collapsed": true
   },
   "outputs": [],
   "source": [
    "# - Predict the wait time for a popular restaurant \n",
    "# - Predict how long it will take you to get from A to B\n",
    "# - Estimate how much money you will spend next month\n",
    "# etc."
   ]
  },
  {
   "cell_type": "markdown",
   "metadata": {},
   "source": [
    "**What is the difference between model prediction and inference?**"
   ]
  },
  {
   "cell_type": "code",
   "execution_count": 4,
   "metadata": {
    "collapsed": true
   },
   "outputs": [],
   "source": [
    "# Prediction is making guesses about future scenarios based on data and a model constructed on that data.\n",
    "# Inference is judging what the reationship, if any, there is between the data and the output."
   ]
  },
  {
   "cell_type": "markdown",
   "metadata": {},
   "source": [
    "<a id=\"naivebaseline-prediction\"></a>\n",
    "## Naive/Baseline Prediction"
   ]
  },
  {
   "cell_type": "markdown",
   "metadata": {},
   "source": [
    "What is the best prediction we can make for any data point if we can only use a single value?\n",
    "\n",
    "How can we measure the success of our prediction?"
   ]
  },
  {
   "cell_type": "markdown",
   "metadata": {},
   "source": [
    "<a id=\"lets-generate-some-data\"></a>\n",
    "### Let's generate some data"
   ]
  },
  {
   "cell_type": "code",
   "execution_count": 5,
   "metadata": {
    "collapsed": true
   },
   "outputs": [],
   "source": [
    "# create an x and a y that is \n",
    "# 50 plus 2 times x with some random noise around that\n",
    "x = np.linspace(-5, 50, 100)\n",
    "y = 50 + 2 * x  + np.random.normal(0, 20, size=len(x))"
   ]
  },
  {
   "cell_type": "code",
   "execution_count": 6,
   "metadata": {},
   "outputs": [
    {
     "data": {
      "text/html": [
       "<div>\n",
       "<table border=\"1\" class=\"dataframe\">\n",
       "  <thead>\n",
       "    <tr style=\"text-align: right;\">\n",
       "      <th></th>\n",
       "      <th>X</th>\n",
       "      <th>Y</th>\n",
       "    </tr>\n",
       "  </thead>\n",
       "  <tbody>\n",
       "    <tr>\n",
       "      <th>0</th>\n",
       "      <td>-5.000000</td>\n",
       "      <td>22.838681</td>\n",
       "    </tr>\n",
       "    <tr>\n",
       "      <th>1</th>\n",
       "      <td>-4.444444</td>\n",
       "      <td>15.170985</td>\n",
       "    </tr>\n",
       "    <tr>\n",
       "      <th>2</th>\n",
       "      <td>-3.888889</td>\n",
       "      <td>54.650534</td>\n",
       "    </tr>\n",
       "    <tr>\n",
       "      <th>3</th>\n",
       "      <td>-3.333333</td>\n",
       "      <td>46.200430</td>\n",
       "    </tr>\n",
       "    <tr>\n",
       "      <th>4</th>\n",
       "      <td>-2.777778</td>\n",
       "      <td>55.387490</td>\n",
       "    </tr>\n",
       "  </tbody>\n",
       "</table>\n",
       "</div>"
      ],
      "text/plain": [
       "          X          Y\n",
       "0 -5.000000  22.838681\n",
       "1 -4.444444  15.170985\n",
       "2 -3.888889  54.650534\n",
       "3 -3.333333  46.200430\n",
       "4 -2.777778  55.387490"
      ]
     },
     "execution_count": 6,
     "metadata": {},
     "output_type": "execute_result"
    }
   ],
   "source": [
    "df = pd.DataFrame({'X': x, 'Y': y})\n",
    "df.head()"
   ]
  },
  {
   "cell_type": "markdown",
   "metadata": {},
   "source": [
    "If we know very little about our data and can only use a single value, we can still predict the mean."
   ]
  },
  {
   "cell_type": "code",
   "execution_count": 7,
   "metadata": {},
   "outputs": [
    {
     "data": {
      "image/png": "[encoded data removed]",
      "text/plain": [
       "<matplotlib.figure.Figure at 0x7f6d03a865d0>"
      ]
     },
     "metadata": {},
     "output_type": "display_data"
    }
   ],
   "source": [
    "### Plot the data\n",
    "# create a figure\n",
    "fig = plt.figure(figsize=(15,7))\n",
    "# get the axis of that figure\n",
    "ax = plt.gca()\n",
    "\n",
    "# plot a scatter plot on it with our data\n",
    "ax.scatter(x, y, c='k')\n",
    "ax.plot((df['X'].min(), df['X'].max()),(np.mean(df['Y']), np.mean(df['Y'])), color='r');"
   ]
  },
  {
   "cell_type": "markdown",
   "metadata": {},
   "source": [
    "We'll add that prediction to our DataFrame to use later"
   ]
  },
  {
   "cell_type": "code",
   "execution_count": 8,
   "metadata": {
    "collapsed": true
   },
   "outputs": [],
   "source": [
    "df['Mean_Yhat'] = df['Y'].mean()"
   ]
  },
  {
   "cell_type": "markdown",
   "metadata": {},
   "source": [
    "<a id=\"regression-modeling-and-linear-relationships-between-variables\"></a>\n",
    "##  Regression modeling and linear relationships between variables\n",
    "\n",
    "---\n",
    "\n",
    "You may have previously learned about a linear relationship between some variable $X$ and another **continuous** variable $Y$, where you used the phrase \"Y equals m X plus b\" to describe this relationship.\n",
    "\n",
    "### $$ Y = mX + b$$\n",
    "\n",
    "In this case, we don't know anything (yet!) about the relationship between $X$ and $Y$. If we decided to plot the relationship between these variables on a graph, we wouldn't know where to start because we don't know how $X$ and $Y$ are related. (Another way of saying this is that we don't know $m$ or $b$.)\n",
    "\n",
    "The line we want to plot for $Y$ as a function of $X$ is parameterized by its slope $m$ and \"Y-intercept\" $b$.\n",
    "\n",
    "**The term \"regression modeling\" implies that the target variable (also known as the \"dependent\" variable and many other names) is a CONTINUOUS random variable.**\n",
    "\n",
    "**What are some examples of continous random variables?**"
   ]
  },
  {
   "cell_type": "code",
   "execution_count": 9,
   "metadata": {
    "collapsed": true
   },
   "outputs": [],
   "source": [
    "# - Amount of money something costs\n",
    "# - Amount of time something takes\n",
    "# - How old something is in years"
   ]
  },
  {
   "cell_type": "markdown",
   "metadata": {},
   "source": [
    "**What are some examples of random variables that are not continuous?**"
   ]
  },
  {
   "cell_type": "code",
   "execution_count": 10,
   "metadata": {
    "collapsed": true
   },
   "outputs": [],
   "source": [
    "# - Whether something is or is not fun (a binary 1/0)\n",
    "# - Category of occupation (salesman, data scientist, cook, etc.)"
   ]
  },
  {
   "cell_type": "markdown",
   "metadata": {},
   "source": [
    "**The slope**\n",
    "\n",
    "In the equation $Y = mX + b$, $m$ is the slope. Its value indicates that, if $X$ were to increase by 1 unit, then $Y$ will increase by exactly $m$ units.\n",
    "\n",
    "> *Warning: This is exact only if we know that $X$ and $Y$ have exactly a linear relationship. In almost all linear regression applications, this will not be exact!*\n",
    "\n",
    "**The intercept**\n",
    "\n",
    "In the equation $Y = mX + b$, $b$ is the Y-intercept. Its value indicates that, if $X$ equals 0, then Y is exactly equal to $b$ units. \n",
    "\n",
    "> *Warning: This is exact only if we know that $X$ and $Y$ have exactly a linear relationship. In almost all linear regression applications, this will not be exact!*\n",
    "\n",
    "**Suppose my commute time to GA includes exactly ten minutes of walking plus exactly three minutes for every Metro stop.**\n",
    "- What is the value of the slope?\n",
    "- What is the value of the Y-intercept?\n",
    "- What is the equation of the line?\n",
    "- Give an example of using this line for prediction.\n",
    "- Give an example of using this line for inference."
   ]
  },
  {
   "cell_type": "code",
   "execution_count": 11,
   "metadata": {
    "collapsed": true
   },
   "outputs": [],
   "source": [
    "# The value of the slope is 3 minutes.\n",
    "# The value of the Y-intercept is 10 minutes.\n",
    "# Y = 3X + 10; [commute time in minutes] = 3 * [number of Metro stops] + 10\n",
    "# If I am five Metro stops away, my commute will be exactly 25 minutes.\n",
    "# For every Metro stop I am away from GA, my commute will be exactly three minutes longer. (In this example, trivial.)"
   ]
  },
  {
   "cell_type": "markdown",
   "metadata": {},
   "source": [
    "This is useful, but we're relying on the idea of *exactly*. The relationship between X and Y must be exactly linear – a perfect correspondence or functional relationship.\n",
    "\n",
    "Put another way, *we currently believe there to be exactly zero measurement error or any other error in our line.*\n",
    "\n",
    "Furthermore, this scenario assumed that we knew the true commute times for our model. This is probably not realistic; in most cases we'll gather data and then try to build a model from the data - not the other way around."
   ]
  },
  {
   "cell_type": "markdown",
   "metadata": {},
   "source": [
    "<a id=\"simple-linear-regression-and-error\"></a>\n",
    "## Simple linear regression and error\n",
    "\n",
    "---\n",
    "\n",
    "In simple linear regression (SLR), we model the inexact linear relationship between a single $X$ and $Y$ variable.\n",
    "\n",
    "- We derive the slope and intercept from the data that we have to \"best fit\" the data (more on this later).\n",
    "- We no longer require the relationship between X and Y to be exactly linear. It is assumed there will be some degree of *error* in our estimation.\n",
    "- We understand and accept that errors in our data collection process and in the data itself will exist.\n",
    "\n",
    "<a id=\"the-error-term-epsilon\"></a>\n",
    "### The error term $\\epsilon$\n",
    "\n",
    "Recall the previous formula for the linear relationship between $X$ and $Y$:\n",
    "\n",
    "### $$ Y = mX + b $$\n",
    "\n",
    "We now add a term for the *error*, denoted $\\epsilon$:\n",
    "\n",
    "### $$ Y = mX + b + \\epsilon $$\n",
    "\n",
    "**By adding a term for error, we are accounting for the fact that there may not be an exact function of $Y$ given $X$, $m$, and $b$.**\n",
    "\n",
    "<a id=\"common-syntax-for-linear-regression-models\"></a>\n",
    "### Common syntax for linear regression models\n",
    "\n",
    "Below are a handful of common ways to write out linear regression models. **They are all equivalent in meaning.**\n",
    "\n",
    "### $$ Y = mX + b + \\epsilon \\\\\n",
    "Y = b_1 X + b_0 + \\epsilon \\\\\n",
    "Y = \\alpha + \\beta X + \\epsilon\\\\\n",
    "Y = \\beta_0 + \\beta_1 X + \\epsilon$$\n",
    "\n",
    "Going forward we will be using $\\beta_0$ to indicate the intercept and $\\beta_1$ to indicate the slope or \"weight\"."
   ]
  },
  {
   "cell_type": "markdown",
   "metadata": {},
   "source": [
    "<a id=\"finding-the-best-slope-and-intercept\"></a>\n",
    "## Finding the \"best\" slope and intercept\n",
    "\n",
    "---\n",
    "\n",
    "**1. If we want to find the \"best\" slope an intercept, we will need a criterion that defines what it means to be the \"best\".**\n",
    "\n",
    "**2. We need to be able to numerically optimize (maximize or minimize) this criterion.**\n",
    "\n",
    "\n",
    "<a id=\"residuals\"></a>\n",
    "### Residuals\n",
    "\n",
    "The difference between the true value of $Y$ and the predicted value of $Y$ (denoted $\\hat{Y}$, \"Y-hat\") is known as a \"residual.\" For every value of $\\hat{Y}_i$, there is an accompanying residual $\\epsilon_i$.\n",
    "\n",
    "**Note that the residual $\\epsilon_i$ is the same as the error in our modeled linear relationship!**\n",
    "\n",
    "\n",
    "<a id=\"residual-sum-of-squares-rss\"></a>\n",
    "### Residual sum of squares (RSS)\n",
    "\n",
    "The most common way to define the \"best fit line\" is one that forces the ensures our residuals (a.k.a. errors) will be as close to zero as possible.\n",
    "\n",
    "In fact, we see to minimize the *sum of squared residuals* or [residual sum of squares (RSS)](https://en.wikipedia.org/wiki/Residual_sum_of_squares). This minimizes the [mean squared error (MSE) or sum of squares of error (SSE)](https://en.wikipedia.org/wiki/Mean_squared_error).\n",
    "\n",
    "### $$RSS = \\sum_{i=1}^n (Y_i - \\hat{Y}_i)^2 $$\n",
    "\n",
    "This is also known as a **loss function**, where the \"loss\" here is the sum of squared residuals.\n",
    "\n",
    "---\n",
    "\n",
    "**Review: what is the difference between a parameter and a statistic?**\n",
    "\n",
    "Below are two equations, one using parameters and one using statistics. What is the difference?\n",
    "\n",
    "### $$ Y = \\beta_0 + \\beta_1 X \\\\\n",
    "\\hat{Y} = \\hat{\\beta}_0 + \\hat{\\beta}_1 X $$"
   ]
  },
  {
   "cell_type": "code",
   "execution_count": 12,
   "metadata": {
    "collapsed": true
   },
   "outputs": [],
   "source": [
    "# Parameters represent the values in the true populations\n",
    "# Statistics are our estimation of the true parameters from the sample"
   ]
  },
  {
   "cell_type": "markdown",
   "metadata": {},
   "source": [
    "Remember our naive prediction? Let's see how it does."
   ]
  },
  {
   "cell_type": "code",
   "execution_count": 13,
   "metadata": {},
   "outputs": [
    {
     "data": {
      "text/plain": [
       "1643.1504561083023"
      ]
     },
     "execution_count": 13,
     "metadata": {},
     "output_type": "execute_result"
    }
   ],
   "source": [
    "# Calculate MSE\n",
    "df['Mean_Yhat_SE'] = np.square(df['Y'] - df['Mean_Yhat'])\n",
    "df['Mean_Yhat_SE'].mean()"
   ]
  },
  {
   "cell_type": "markdown",
   "metadata": {},
   "source": [
    "<a id=\"minimizing-the-mse\"></a>\n",
    "### Minimizing the MSE\n",
    "\n",
    "For simple linear regression [we can derive the intercept and slope that minimize the RSS algebraically](https://en.wikipedia.org/wiki/Simple_linear_regression#Fitting_the_regression_line). \n",
    "\n",
    "Given variables:\n",
    "- $\\bar{y}$ : the sample mean of observed values $Y$\n",
    "- $\\bar{x}$ : the sample mean of observed values $X$\n",
    "- $s_Y$ : the sample standard deviation of observed values $Y$\n",
    "- $s_X$ : the sample standard deviation of observed values $X$\n",
    "- $r_{XY}$ : the sample Pearson correlation coefficient between observed $X$ and $Y$\n",
    "\n",
    "The equations for the intercept and slope that minimize the RSS is:\n",
    "\n",
    "### $$ \\hat{\\beta}_0 = \\bar{y} - \\hat{\\beta}_1 \\bar{x} \\\\\n",
    "\\hat{\\beta}_1 = r_{XY} \\frac{s_Y}{s_X}$$\n",
    "\n",
    "Our simple linear regression is an **estimator of the expected value (mean) of $Y$**.\n",
    "\n",
    "> **Note:** Estimators are mathematical functions or formulas that yield an *estimate*. For example, an estimator might be the sample mean whereas the estimate is the value of the sample mean from our data set."
   ]
  },
  {
   "cell_type": "markdown",
   "metadata": {},
   "source": [
    "<a id=\"calculate-beta-coefficients-by-hand\"></a>\n",
    "### Calculate beta coefficients by hand"
   ]
  },
  {
   "cell_type": "code",
   "execution_count": 14,
   "metadata": {
    "collapsed": true
   },
   "outputs": [],
   "source": [
    "y_bar = df['Y'].mean()\n",
    "x_bar = df['X'].mean()\n",
    "std_y = df['Y'].std()\n",
    "std_x = df['X'].std()\n",
    "r_xy = df.corr().loc['X','Y']\n",
    "beta_1 = r_xy*(std_y/std_x)\n",
    "beta_0 = y_bar - beta_1*x_bar"
   ]
  },
  {
   "cell_type": "code",
   "execution_count": 15,
   "metadata": {
    "collapsed": true
   },
   "outputs": [],
   "source": [
    "df['Linear_Yhat'] = beta_0 + beta_1*df['X']"
   ]
  },
  {
   "cell_type": "code",
   "execution_count": 16,
   "metadata": {},
   "outputs": [
    {
     "data": {
      "text/plain": [
       "400.99792321972376"
      ]
     },
     "execution_count": 16,
     "metadata": {},
     "output_type": "execute_result"
    }
   ],
   "source": [
    "np.square(df['Y'] - df['Linear_Yhat']).mean()"
   ]
  },
  {
   "cell_type": "markdown",
   "metadata": {},
   "source": [
    "**How does our new MSE compare to our old MSE?**"
   ]
  },
  {
   "cell_type": "code",
   "execution_count": 17,
   "metadata": {
    "collapsed": true
   },
   "outputs": [],
   "source": [
    "# Our new MSE is much smaller. \n",
    "# This means that on average our residuals are smaller and we have a better fit."
   ]
  },
  {
   "cell_type": "markdown",
   "metadata": {},
   "source": [
    "#### We can now plot our line"
   ]
  },
  {
   "cell_type": "code",
   "execution_count": 18,
   "metadata": {},
   "outputs": [
    {
     "data": {
      "image/png": "[encoded data removed]",
      "text/plain": [
       "<matplotlib.figure.Figure at 0x7f6d2c2ded10>"
      ]
     },
     "metadata": {},
     "output_type": "display_data"
    }
   ],
   "source": [
    "# create a figure\n",
    "fig = plt.figure(figsize=(15,7))\n",
    "# get the axis of that figure\n",
    "ax = plt.gca()\n",
    "\n",
    "# plot a scatter plot on it with our data\n",
    "ax.scatter(x, y, c='k')\n",
    "ax.plot(df['X'], df['Linear_Yhat'], color='r');"
   ]
  },
  {
   "cell_type": "markdown",
   "metadata": {},
   "source": [
    "#### We can also plot our residuals"
   ]
  },
  {
   "cell_type": "code",
   "execution_count": 19,
   "metadata": {},
   "outputs": [
    {
     "data": {
      "image/png": "[encoded data removed]",
      "text/plain": [
       "<matplotlib.figure.Figure at 0x7f6d005ef390>"
      ]
     },
     "metadata": {},
     "output_type": "display_data"
    }
   ],
   "source": [
    "# create a figure\n",
    "fig = plt.figure(figsize=(15,7))\n",
    "fig.set_figheight(8)\n",
    "fig.set_figwidth(15)\n",
    "\n",
    "# get the axis\n",
    "ax = fig.gca()\n",
    "\n",
    "# plot it\n",
    "ax.scatter(x=df['X'], y=df['Y'], c='k')\n",
    "ax.plot(df['X'], df['Linear_Yhat'], color='k');\n",
    "\n",
    "# iterate over predictions\n",
    "for _, row in df.iterrows():\n",
    "    plt.plot((row['X'], row['X']), (row['Y'], row['Linear_Yhat']), 'r-')"
   ]
  },
  {
   "cell_type": "markdown",
   "metadata": {},
   "source": [
    "<a id=\"interpretation-of-slr\"></a>\n",
    "## Interpretation of SLR\n",
    "\n",
    "---\n",
    "\n",
    "The simple linear regression estimators described above have really nice properties:\n",
    "\n",
    "1. They are unbiased. (a.k.a. the statistics will on average equal the true parameter value)\n",
    "2. Among all unbiased estimators, the estimators above have the smallest possible variance.\n",
    "3. They are consistent. (a.k.a. as your sample size n goes to infinity, the statistic converges to the true parameter value)\n",
    "\n",
    "**However, these are just mathematical properties.** They do not take into account real-world situations. For example, suppose I want to use a SLR model to predict my commute time and I get the model:\n",
    "\n",
    "    [commute time] = 8 * [number of Metro stops] - 10\n",
    "\n",
    "In this case, my commute time is estimated to be negative if I go zero stops or one stop on the Metro. If I were to interpret my intercept, I might say \"If I travel zero Metro stops on my way to work, I expect to commute -10 minutes.\" Of course, this is nonsense; you can't have a negative commute time!\n",
    "\n",
    "**What this means:** \n",
    "\n",
    "When building a model, make sure your model makes sense! You are responsible for the interpretation of the model. All the computer will do is optimize. You may not do anything wrong when you fit a model, but make a note that there are  shortcomings to the framework."
   ]
  },
  {
   "cell_type": "markdown",
   "metadata": {},
   "source": [
    "<a id='assumptions'></a>\n",
    "\n",
    "<a id=\"assumptions-of-slr\"></a>\n",
    "## Assumptions of SLR\n",
    "\n",
    "---\n",
    "\n",
    "There are some critical assumptions involved in SLR that you must be aware of:\n",
    "\n",
    "1. **Linearity:** Y and X must have an approximately linear relationship.\n",
    "2. **Independence:** Errors (residuals) $\\epsilon_i$ and $\\epsilon_j$ must be independent of one another for any i != j.\n",
    "3. **Normality:** The errors (residuals) follow a Normal distribution.\n",
    "4. **Equality of Variances** (Homoscedasticity of errors): The errors (residuals) should have a roughly consistent pattern, regardless of the value of X. (There should be no discernable relationship between X and the residuals.)\n",
    "\n",
    "The mnemonic **LINE** is a useful way to remember these four assumptions.\n",
    "\n",
    "Lengthier discussions of the four main assumptions and how one can evaluate or test for each of these [can be found here](http://people.duke.edu/~rnau/testing.htm).\n",
    "\n",
    "If all four assumptions are true, the following holds: \n",
    "\n",
    "### $$ Y_i \\text{ ~ } N(\\beta_0 + \\beta_1 X_i, \\sigma) $$"
   ]
  },
  {
   "cell_type": "markdown",
   "metadata": {},
   "source": [
    "<a id=\"final-notes-on-linear-regression\"></a>\n",
    "## Final notes on linear regression\n",
    "\n",
    "---\n",
    "\n",
    "The term \"linear\" here means linear in the coefficient. That means that we expect $Y$ to change by a constant amount for a constant change in $X$. A linear regression model could include $X^2$, $X^3$, $log(X)$, etc. as long as the coefficient is linear! (This might be a bit confusing, but imagine that instead of squaring $X$, we created a new column called 'Z' that was equal to $X^2$.)\n",
    "\n",
    "<a id=\"categorical-predictors\"></a>\n",
    "### Categorical predictors\n",
    "\n",
    "You may note that in our examples so far our independent variable $X$ is quantitative. This need not be the case. In many cases, we'll use qualitative variables to explain quantitative outcomes. Some examples:\n",
    "\n",
    "- One's sex and race are often linked to income.\n",
    "- The day of the week might explain a bar's profits or the month of the year might affect an airlines' revenues.\n",
    "- Whether or not someone has children under 5 might help to predict the number of days missed by that employee.\n",
    "\n",
    "If you have variable that is categorical, you will need to \"dummy code\" it:\n",
    "- Check out [a worked out example](http://chrisalbon.com/python/pandas_convert_categorical_to_dummies.html) \n",
    "- and/or [the Pandas documentation](http://pandas.pydata.org/pandas-docs/version/0.17.0/generated/pandas.get_dummies.html) to see this implemented in Python.\n",
    "\n",
    "Practically, dummy variables come into play more in **multiple linear regression** (MLR), but it can technically apply to SLR and it's something of which you should be aware of."
   ]
  }
 ],
 "metadata": {
  "kernelspec": {
   "display_name": "Python 2",
   "language": "python",
   "name": "python2"
  },
  "language_info": {
   "codemirror_mode": {
    "name": "ipython",
    "version": 2
   },
   "file_extension": ".py",
   "mimetype": "text/x-python",
   "name": "python",
   "nbconvert_exporter": "python",
   "pygments_lexer": "ipython2",
   "version": "2.7.13"
  }
 },
 "nbformat": 4,
 "nbformat_minor": 2
}
