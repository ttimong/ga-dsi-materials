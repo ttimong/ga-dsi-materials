{
 "cells": [
  {
   "cell_type": "markdown",
   "metadata": {},
   "source": [
    "# List Comprehension"
   ]
  },
  {
   "cell_type": "code",
   "execution_count": 55,
   "metadata": {
    "collapsed": true
   },
   "outputs": [],
   "source": [
    "numbers = [1,2,3,4,5,6,7,8,9,10]"
   ]
  },
  {
   "cell_type": "code",
   "execution_count": 56,
   "metadata": {
    "collapsed": false
   },
   "outputs": [
    {
     "name": "stdout",
     "output_type": "stream",
     "text": [
      "[1, 2, 3, 4, 5, 6, 7, 8, 9, 10]\n"
     ]
    }
   ],
   "source": [
    "my_list = []\n",
    "\n",
    "for n in numbers:\n",
    "    my_list.append(n)\n",
    "    \n",
    "print my_list"
   ]
  },
  {
   "cell_type": "code",
   "execution_count": 57,
   "metadata": {
    "collapsed": false
   },
   "outputs": [
    {
     "name": "stdout",
     "output_type": "stream",
     "text": [
      "[1, 2, 3, 4, 5, 6, 7, 8, 9, 10]\n"
     ]
    }
   ],
   "source": [
    "my_list_compre = [n for n in numbers]\n",
    "print my_list_compre"
   ]
  },
  {
   "cell_type": "code",
   "execution_count": 58,
   "metadata": {
    "collapsed": false
   },
   "outputs": [
    {
     "name": "stdout",
     "output_type": "stream",
     "text": [
      "[1, 4, 9, 16, 25, 36, 49, 64, 81, 100]\n"
     ]
    }
   ],
   "source": [
    "my_list = []\n",
    "\n",
    "for n in numbers:\n",
    "    my_list.append(n*n)\n",
    "\n",
    "print my_list"
   ]
  },
  {
   "cell_type": "code",
   "execution_count": 59,
   "metadata": {
    "collapsed": false
   },
   "outputs": [
    {
     "name": "stdout",
     "output_type": "stream",
     "text": [
      "[1, 4, 9, 16, 25, 36, 49, 64, 81, 100]\n"
     ]
    }
   ],
   "source": [
    "my_list_compre = [n*n for n in numbers]\n",
    "print my_list_compre"
   ]
  },
  {
   "cell_type": "code",
   "execution_count": 60,
   "metadata": {
    "collapsed": false
   },
   "outputs": [
    {
     "name": "stdout",
     "output_type": "stream",
     "text": [
      "[1, 4, 9, 16, 25, 36, 49, 64, 81, 100]\n"
     ]
    }
   ],
   "source": [
    "my_list_lambda = map(lambda n: n*n, numbers) #less intuitive compared to list comprehension.\n",
    "print my_list_lambda"
   ]
  },
  {
   "cell_type": "code",
   "execution_count": 61,
   "metadata": {
    "collapsed": false
   },
   "outputs": [
    {
     "name": "stdout",
     "output_type": "stream",
     "text": [
      "[2, 4, 6, 8, 10]\n"
     ]
    }
   ],
   "source": [
    "my_list = []\n",
    "\n",
    "for n in numbers:\n",
    "    if n%2 == 0:\n",
    "        my_list.append(n)\n",
    "\n",
    "print my_list"
   ]
  },
  {
   "cell_type": "code",
   "execution_count": 62,
   "metadata": {
    "collapsed": false
   },
   "outputs": [
    {
     "name": "stdout",
     "output_type": "stream",
     "text": [
      "[1, 0, 1, 0, 1, 0, 1, 0, 1, 0]\n"
     ]
    }
   ],
   "source": [
    "my_list_compre = [n%2 for n in numbers]\n",
    "print my_list_compre"
   ]
  },
  {
   "cell_type": "code",
   "execution_count": 63,
   "metadata": {
    "collapsed": false
   },
   "outputs": [
    {
     "name": "stdout",
     "output_type": "stream",
     "text": [
      "[('w', 0), ('w', 1), ('w', 2), ('w', 3), ('x', 0), ('x', 1), ('x', 2), ('x', 3), ('y', 0), ('y', 1), ('y', 2), ('y', 3), ('z', 0), ('z', 1), ('z', 2), ('z', 3)]\n"
     ]
    }
   ],
   "source": [
    "my_list = []\n",
    "\n",
    "for alphabet in 'wxyz':\n",
    "    for numbers in range(4):\n",
    "        my_list.append((alphabet, numbers)) #tuples\n",
    "\n",
    "print my_list"
   ]
  },
  {
   "cell_type": "code",
   "execution_count": 64,
   "metadata": {
    "collapsed": false
   },
   "outputs": [
    {
     "name": "stdout",
     "output_type": "stream",
     "text": [
      "[('w', 0), ('w', 1), ('w', 2), ('w', 3), ('x', 0), ('x', 1), ('x', 2), ('x', 3), ('y', 0), ('y', 1), ('y', 2), ('y', 3), ('z', 0), ('z', 1), ('z', 2), ('z', 3)]\n"
     ]
    }
   ],
   "source": [
    "my_list_compre = [(alphabet, numbers) for alphabet in 'wxyz' for numbers in range(4)]\n",
    "print my_list_compre"
   ]
  },
  {
   "cell_type": "markdown",
   "metadata": {},
   "source": [
    "# Dictionary Comprehension"
   ]
  },
  {
   "cell_type": "code",
   "execution_count": 65,
   "metadata": {
    "collapsed": false
   },
   "outputs": [
    {
     "data": {
      "text/plain": [
       "[('En Lai', 'Chua'),\n",
       " ('Alaric', 'Tay'),\n",
       " ('Suhaimi', 'Yusof'),\n",
       " ('Michelle', 'Chong'),\n",
       " ('Siti', 'Khalijah'),\n",
       " ('Kayly', 'Loh'),\n",
       " ('Gurmit', 'Singh')]"
      ]
     },
     "execution_count": 65,
     "metadata": {},
     "output_type": "execute_result"
    }
   ],
   "source": [
    "first_names =['En Lai','Alaric','Suhaimi','Michelle','Siti','Kayly','Gurmit']\n",
    "surnames = ['Chua','Tay','Yusof','Chong','Khalijah','Loh','Singh']\n",
    "\n",
    "zip(first_names,surnames)"
   ]
  },
  {
   "cell_type": "code",
   "execution_count": 66,
   "metadata": {
    "collapsed": false
   },
   "outputs": [
    {
     "name": "stdout",
     "output_type": "stream",
     "text": [
      "{'Michelle': 'Chong', 'Alaric': 'Tay', 'En Lai': 'Chua', 'Siti': 'Khalijah', 'Kayly': 'Loh', 'Suhaimi': 'Yusof', 'Gurmit': 'Singh'}\n"
     ]
    }
   ],
   "source": [
    "my_dictionary = {}\n",
    "\n",
    "for fname,sname in zip(first_names, surnames):\n",
    "    my_dictionary[fname] = sname\n",
    "\n",
    "print my_dictionary"
   ]
  },
  {
   "cell_type": "code",
   "execution_count": 67,
   "metadata": {
    "collapsed": false
   },
   "outputs": [
    {
     "name": "stdout",
     "output_type": "stream",
     "text": [
      "{'Michelle': 'Chong', 'Alaric': 'Tay', 'En Lai': 'Chua', 'Siti': 'Khalijah', 'Kayly': 'Loh', 'Suhaimi': 'Yusof', 'Gurmit': 'Singh'}\n"
     ]
    }
   ],
   "source": [
    "my_dictionary_compre = {fname:sname for fname, sname in zip(first_names, surnames)}\n",
    "print my_dictionary_compre"
   ]
  },
  {
   "cell_type": "code",
   "execution_count": 68,
   "metadata": {
    "collapsed": false
   },
   "outputs": [
    {
     "name": "stdout",
     "output_type": "stream",
     "text": [
      "{'Michelle': 'Chong', 'Alaric': 'Tay', 'Siti': 'Khalijah', 'Kayly': 'Loh', 'Suhaimi': 'Yusof', 'Gurmit': 'Singh'}\n"
     ]
    }
   ],
   "source": [
    "my_dictionary_compre = {fname:sname for fname, sname in zip(first_names, surnames) if fname !='En Lai'}\n",
    "print my_dictionary_compre"
   ]
  },
  {
   "cell_type": "markdown",
   "metadata": {},
   "source": [
    "# Set Comprehension"
   ]
  },
  {
   "cell_type": "code",
   "execution_count": 69,
   "metadata": {
    "collapsed": false
   },
   "outputs": [
    {
     "name": "stdout",
     "output_type": "stream",
     "text": [
      "set([67, 36, 38, 39, 13, 48, 59, 35, 20, 55, 25, 90, 27, 26])\n"
     ]
    }
   ],
   "source": [
    "more_numbers = [90,20,20,20,20,27,36,36,36,36,36,36,36,67,25,38,35,13,59,25,26,55,48,39]\n",
    "my_set = set()\n",
    "\n",
    "for n in more_numbers:\n",
    "    my_set.add(n)\n",
    "\n",
    "print my_set"
   ]
  },
  {
   "cell_type": "code",
   "execution_count": 70,
   "metadata": {
    "collapsed": false
   },
   "outputs": [
    {
     "name": "stdout",
     "output_type": "stream",
     "text": [
      "set([67, 36, 38, 39, 13, 48, 59, 35, 20, 55, 25, 90, 27, 26])\n"
     ]
    }
   ],
   "source": [
    "my_set_compre = {n for n in more_numbers}\n",
    "print my_set_compre"
   ]
  },
  {
   "cell_type": "code",
   "execution_count": null,
   "metadata": {
    "collapsed": true
   },
   "outputs": [],
   "source": []
  }
 ],
 "metadata": {
  "kernelspec": {
   "display_name": "Python 2",
   "language": "python",
   "name": "python2"
  },
  "language_info": {
   "codemirror_mode": {
    "name": "ipython",
    "version": 2
   },
   "file_extension": ".py",
   "mimetype": "text/x-python",
   "name": "python",
   "nbconvert_exporter": "python",
   "pygments_lexer": "ipython2",
   "version": "2.7.12"
  }
 },
 "nbformat": 4,
 "nbformat_minor": 0
}
