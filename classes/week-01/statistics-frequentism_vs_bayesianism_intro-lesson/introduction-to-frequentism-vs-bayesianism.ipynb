{
 "cells": [
  {
   "cell_type": "markdown",
   "metadata": {
    "slideshow": {
     "slide_type": "slide"
    }
   },
   "source": [
    "<img src=\"http://imgur.com/1ZcRyrc.png\" style=\"float: left; margin: 20px; height: 55px\">\n",
    "\n",
    "## Introduction to Frequentism vs. Bayesianism\n",
    "\n",
    "_Authors: Kiefer Katovich (SF)_\n",
    "\n",
    "---\n",
    "\n",
    "### Learning Objectives\n",
    "- Understand the differences between the Frequentist and Bayesian approaches to probability and estimation."
   ]
  },
  {
   "cell_type": "markdown",
   "metadata": {},
   "source": [
    "### Lesson Guide\n",
    "- [Frequentism vs. Bayesianism](#bayesian-vs-frequentist)\n",
    "- [Example: Estimating a Mean Value](#estimating-a-mean)\n",
    "- [Bayesian Estimation of a Mean](#bayesian-mean-estimation)\n",
    "- [Frequentist Estimation of a Mean](#frequentist-mean-estimation)\n",
    "- [Inverse Approaches](#inverse-approaches)"
   ]
  },
  {
   "cell_type": "markdown",
   "metadata": {
    "slideshow": {
     "slide_type": "slide"
    }
   },
   "source": [
    "<a id='bayesian-vs-frequentist'></a>\n",
    "\n",
    "### Frequentism vs. Bayesianism\n",
    "\n",
    "---\n",
    "\n",
    "Bayesian statistics has gotten a lot of hype in recent years (and not without good reason), but it is easy to forget that both types of statistics are correct, they simply focus on different things.\n",
    "\n",
    "Bayesian statistics will be covered in greater depth later in the course. For now, we will focus the high-level differences between the two approaches to probability.\n",
    "\n",
    "The overarching goal of both approaches is the same:\n",
    "\n",
    "**We want to make a statement about ALL data points (the population) based on a SAMPLE of data points and describe our degree of UNCERTAINTY about that statement.**"
   ]
  },
  {
   "cell_type": "markdown",
   "metadata": {
    "slideshow": {
     "slide_type": "slide"
    }
   },
   "source": [
    "<a id='estimating-a-mean'></a>\n",
    "\n",
    "### Example: Estimating a Mean Value\n",
    "\n",
    "---\n",
    "\n",
    "Say we want to measure the **mean height of male professional athletes**. We measure the height of 100 different athletes and thus have 100 data points in our sample.\n",
    "\n",
    "- We want to make a statement about the mean height of **ALL** male professional athletes.\n",
    "- We only have a **sample** of 100 measured heights from that **population**."
   ]
  },
  {
   "cell_type": "markdown",
   "metadata": {
    "slideshow": {
     "slide_type": "slide"
    }
   },
   "source": [
    "<a id='bayesian-mean-estimation'></a>\n",
    "\n",
    "### Bayesian Estimation of a Mean\n",
    "\n",
    "---\n",
    "\n",
    "As a **Bayesian**, my approach will be to make a statement about the probability of the mean height given the data I have and my prior belief about the height.\n",
    "\n",
    "- I start with a belief about how the height of these athletes.\n",
    "- I have collected data that can inform my belief about this height.\n",
    "- I am going to update my belief with the observed data and make a statement about the probability of the value of the mean height."
   ]
  },
  {
   "cell_type": "markdown",
   "metadata": {
    "slideshow": {
     "slide_type": "fragment"
    }
   },
   "source": [
    "More specifically:\n",
    "    \n",
    "- I have 100 observations, or data points, that I will use to **update** my \"prior\" belief about the height.\n",
    "- I have collected **fixed data**, which I use to update my belief regarding the likelihood of different mean heights. This is called the **posterior distribution** of mean heights.\n",
    "- Thus, I have a **probability distribution of values for the mean height of professional male athletes.**"
   ]
  },
  {
   "cell_type": "markdown",
   "metadata": {
    "slideshow": {
     "slide_type": "slide"
    }
   },
   "source": [
    "<a id='frequentist-mean-estimation'></a>\n",
    "\n",
    "### Frequentist Estimation of a Mean\n",
    "\n",
    "---\n",
    "\n",
    "Frequentists have a different perspective on probability. As a **Frequentist**, I believe that:\n",
    "\n",
    "- The mean height of male professional athletes is an **unknown-but-fixed, \"true\" value**.\n",
    "- My 100 data points are a **random sample from the total population of professional male athletes.** That is to say, I have collected at random 100 possible height measurements from the population.\n",
    "- This random sample is one of an infinite number of hypothetical samples. The procedure is considered infinitely repeatable. My inferences about height will be based on the idea that this sample is just one of an infinite number of hypothetical population samples.\n"
   ]
  },
  {
   "cell_type": "markdown",
   "metadata": {
    "slideshow": {
     "slide_type": "fragment"
    }
   },
   "source": [
    "More generally:\n",
    "    \n",
    "- While a data sample is random, the true value of the parameter is fixed.\n",
    "- There is a distribution of possible samples, given the true fixed value. The data is random."
   ]
  },
  {
   "cell_type": "markdown",
   "metadata": {
    "slideshow": {
     "slide_type": "slide"
    }
   },
   "source": [
    "<a id='inverse-approaches'></a>\n",
    "\n",
    "### Inverse Approaches to Estimation\n",
    "\n",
    "---\n",
    "\n",
    "**FREQUENTISTS** ask:\n",
    "\n",
    "### $$P(\\text{data}\\;|\\;\\text{mean height})$$\n",
    "\n",
    "> What is the probability of our data, given a mean height that is true and fixed?\n",
    "\n",
    "--- \n",
    "\n",
    "**BAYESIANS** ask:\n",
    "\n",
    "### $$P(\\text{mean height}\\;|\\;\\text{data})$$\n",
    "\n",
    "> What is the probability of the mean height, given the data that we have?\n",
    "\n"
   ]
  }
 ],
 "metadata": {
  "celltoolbar": "Slideshow",
  "kernelspec": {
   "display_name": "Python 2",
   "language": "python",
   "name": "python2"
  },
  "language_info": {
   "codemirror_mode": {
    "name": "ipython",
    "version": 2
   },
   "file_extension": ".py",
   "mimetype": "text/x-python",
   "name": "python",
   "nbconvert_exporter": "python",
   "pygments_lexer": "ipython2",
   "version": "2.7.13"
  }
 },
 "nbformat": 4,
 "nbformat_minor": 2
}
