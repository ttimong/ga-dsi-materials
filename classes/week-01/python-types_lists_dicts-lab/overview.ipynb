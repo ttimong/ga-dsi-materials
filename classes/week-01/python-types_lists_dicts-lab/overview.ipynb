{
 "cells": [
  {
   "cell_type": "markdown",
   "metadata": {},
   "source": [
    "# Lists"
   ]
  },
  {
   "cell_type": "code",
   "execution_count": 1,
   "metadata": {
    "collapsed": false
   },
   "outputs": [
    {
     "name": "stdout",
     "output_type": "stream",
     "text": [
      "['rice', 'noodles', 'bread', 'steak']\n"
     ]
    }
   ],
   "source": [
    "food = ['rice','noodles', 'bread', 'steak']\n",
    "print food"
   ]
  },
  {
   "cell_type": "code",
   "execution_count": 2,
   "metadata": {
    "collapsed": false
   },
   "outputs": [
    {
     "name": "stdout",
     "output_type": "stream",
     "text": [
      "4\n"
     ]
    }
   ],
   "source": [
    "print len(food)"
   ]
  },
  {
   "cell_type": "code",
   "execution_count": 3,
   "metadata": {
    "collapsed": false
   },
   "outputs": [
    {
     "name": "stdout",
     "output_type": "stream",
     "text": [
      "rice\n"
     ]
    }
   ],
   "source": [
    "print food[0] #index, starts at 0"
   ]
  },
  {
   "cell_type": "code",
   "execution_count": 4,
   "metadata": {
    "collapsed": false
   },
   "outputs": [
    {
     "name": "stdout",
     "output_type": "stream",
     "text": [
      "steak\n"
     ]
    }
   ],
   "source": [
    "print food[-1] #last item in the list"
   ]
  },
  {
   "cell_type": "code",
   "execution_count": 5,
   "metadata": {
    "collapsed": false
   },
   "outputs": [],
   "source": [
    "#food[4] #item does not exist"
   ]
  },
  {
   "cell_type": "code",
   "execution_count": 6,
   "metadata": {
    "collapsed": false
   },
   "outputs": [
    {
     "name": "stdout",
     "output_type": "stream",
     "text": [
      "['rice', 'noodles']\n"
     ]
    }
   ],
   "source": [
    "print food[0:2]"
   ]
  },
  {
   "cell_type": "code",
   "execution_count": 7,
   "metadata": {
    "collapsed": false
   },
   "outputs": [
    {
     "name": "stdout",
     "output_type": "stream",
     "text": [
      "['rice', 'noodles']\n"
     ]
    }
   ],
   "source": [
    "print food[:2] #slicing"
   ]
  },
  {
   "cell_type": "code",
   "execution_count": 8,
   "metadata": {
    "collapsed": false
   },
   "outputs": [
    {
     "name": "stdout",
     "output_type": "stream",
     "text": [
      "['bread', 'steak']\n"
     ]
    }
   ],
   "source": [
    "print food[2:] #Slicing"
   ]
  },
  {
   "cell_type": "code",
   "execution_count": 9,
   "metadata": {
    "collapsed": false
   },
   "outputs": [
    {
     "name": "stdout",
     "output_type": "stream",
     "text": [
      "['rice', 'noodles', 'bread', 'steak', 'banana']\n"
     ]
    }
   ],
   "source": [
    "food.append('banana')\n",
    "print food"
   ]
  },
  {
   "cell_type": "code",
   "execution_count": 10,
   "metadata": {
    "collapsed": false
   },
   "outputs": [
    {
     "name": "stdout",
     "output_type": "stream",
     "text": [
      "['apple', 'rice', 'noodles', 'bread', 'steak', 'banana']\n"
     ]
    }
   ],
   "source": [
    "food.insert(0,'apple') \n",
    "print food\n",
    "#takes 2 arguments: \n",
    "#location and value to insert"
   ]
  },
  {
   "cell_type": "code",
   "execution_count": 11,
   "metadata": {
    "collapsed": false
   },
   "outputs": [
    {
     "name": "stdout",
     "output_type": "stream",
     "text": [
      "[['mee siam', 'mee soto'], 'apple', 'rice', 'noodles', 'bread', 'steak', 'banana']\n"
     ]
    }
   ],
   "source": [
    "more_food = ['mee siam', 'mee soto']\n",
    "food.insert(0,more_food)\n",
    "print food"
   ]
  },
  {
   "cell_type": "code",
   "execution_count": 12,
   "metadata": {
    "collapsed": false
   },
   "outputs": [
    {
     "name": "stdout",
     "output_type": "stream",
     "text": [
      "['mee siam', 'mee soto']\n"
     ]
    }
   ],
   "source": [
    "print food[0]"
   ]
  },
  {
   "cell_type": "code",
   "execution_count": 13,
   "metadata": {
    "collapsed": false
   },
   "outputs": [
    {
     "name": "stdout",
     "output_type": "stream",
     "text": [
      "['rice', 'noodles', 'bread', 'steak', ['mee siam', 'mee soto']]\n"
     ]
    }
   ],
   "source": [
    "food = ['rice','noodles', 'bread', 'steak']\n",
    "food.append(more_food)\n",
    "print food"
   ]
  },
  {
   "cell_type": "code",
   "execution_count": 14,
   "metadata": {
    "collapsed": false
   },
   "outputs": [
    {
     "name": "stdout",
     "output_type": "stream",
     "text": [
      "['rice', 'noodles', 'bread', 'steak', 'mee siam', 'mee soto']\n"
     ]
    }
   ],
   "source": [
    "food = ['rice','noodles', 'bread', 'steak']\n",
    "food.extend(more_food)\n",
    "print food"
   ]
  },
  {
   "cell_type": "code",
   "execution_count": 15,
   "metadata": {
    "collapsed": false
   },
   "outputs": [
    {
     "name": "stdout",
     "output_type": "stream",
     "text": [
      "['rice', 'noodles', 'bread', 'mee siam', 'mee soto']\n"
     ]
    }
   ],
   "source": [
    "food.remove('steak')\n",
    "print food"
   ]
  },
  {
   "cell_type": "code",
   "execution_count": 16,
   "metadata": {
    "collapsed": false
   },
   "outputs": [
    {
     "name": "stdout",
     "output_type": "stream",
     "text": [
      "['rice', 'noodles', 'bread']\n"
     ]
    }
   ],
   "source": [
    "food = ['rice','noodles', 'bread', 'steak']\n",
    "food.pop() #by default, removes the final item\n",
    "print food"
   ]
  },
  {
   "cell_type": "code",
   "execution_count": 17,
   "metadata": {
    "collapsed": false
   },
   "outputs": [
    {
     "name": "stdout",
     "output_type": "stream",
     "text": [
      "steak\n"
     ]
    }
   ],
   "source": [
    "food = ['rice','noodles', 'bread', 'steak']\n",
    "popped = food.pop()\n",
    "print popped"
   ]
  },
  {
   "cell_type": "code",
   "execution_count": 18,
   "metadata": {
    "collapsed": false
   },
   "outputs": [
    {
     "name": "stdout",
     "output_type": "stream",
     "text": [
      "None\n"
     ]
    }
   ],
   "source": [
    "food = ['rice','noodles', 'bread', 'steak']\n",
    "print food.reverse() #food[::-1]\n",
    "\n",
    "#reverse modifies the list in place and returns None."
   ]
  },
  {
   "cell_type": "code",
   "execution_count": 19,
   "metadata": {
    "collapsed": false
   },
   "outputs": [
    {
     "name": "stdout",
     "output_type": "stream",
     "text": [
      "['steak', 'bread', 'noodles', 'rice']\n"
     ]
    }
   ],
   "source": [
    "#print the list and you will see your list has been modified.\n",
    "print food"
   ]
  },
  {
   "cell_type": "code",
   "execution_count": 20,
   "metadata": {
    "collapsed": false
   },
   "outputs": [
    {
     "name": "stdout",
     "output_type": "stream",
     "text": [
      "None\n"
     ]
    }
   ],
   "source": [
    "print food.sort()\n"
   ]
  },
  {
   "cell_type": "code",
   "execution_count": 21,
   "metadata": {
    "collapsed": false
   },
   "outputs": [
    {
     "name": "stdout",
     "output_type": "stream",
     "text": [
      "['bread', 'noodles', 'rice', 'steak']\n"
     ]
    }
   ],
   "source": [
    "print food"
   ]
  },
  {
   "cell_type": "code",
   "execution_count": 22,
   "metadata": {
    "collapsed": false
   },
   "outputs": [
    {
     "name": "stdout",
     "output_type": "stream",
     "text": [
      "[1, 5, 6, 9, 10]\n"
     ]
    }
   ],
   "source": [
    "list_numbers = [5,9,10,1,6]\n",
    "list_numbers2 = [-10,-7,-8,11,4]\n",
    "\n",
    "list_numbers.sort()\n",
    "print list_numbers #numbers in ascending order"
   ]
  },
  {
   "cell_type": "code",
   "execution_count": 23,
   "metadata": {
    "collapsed": false
   },
   "outputs": [
    {
     "name": "stdout",
     "output_type": "stream",
     "text": [
      "[10, 9, 6, 5, 1]\n"
     ]
    }
   ],
   "source": [
    "list_numbers.reverse()\n",
    "print list_numbers"
   ]
  },
  {
   "cell_type": "code",
   "execution_count": 24,
   "metadata": {
    "collapsed": false
   },
   "outputs": [
    {
     "name": "stdout",
     "output_type": "stream",
     "text": [
      "['steak', 'rice', 'noodles', 'bread']\n",
      "[10, 9, 6, 5, 1]\n"
     ]
    }
   ],
   "source": [
    "list_numbers.sort(reverse=True)\n",
    "food.sort(reverse=True)\n",
    "print food\n",
    "print list_numbers"
   ]
  },
  {
   "cell_type": "code",
   "execution_count": 25,
   "metadata": {
    "collapsed": false
   },
   "outputs": [
    {
     "name": "stdout",
     "output_type": "stream",
     "text": [
      "['bread', 'noodles', 'rice', 'steak']\n"
     ]
    }
   ],
   "source": [
    "#sorted() does not sort in-place, it returns a sorted list.\n",
    "#sorted() does not alter original list.\n",
    "sorted_food = sorted(food)\n",
    "print sorted_food"
   ]
  },
  {
   "cell_type": "code",
   "execution_count": 26,
   "metadata": {
    "collapsed": false
   },
   "outputs": [
    {
     "name": "stdout",
     "output_type": "stream",
     "text": [
      "[1, 5, 6, 9, 10]\n"
     ]
    }
   ],
   "source": [
    "sorted_numbers = sorted(list_numbers)\n",
    "print sorted_numbers"
   ]
  },
  {
   "cell_type": "code",
   "execution_count": 27,
   "metadata": {
    "collapsed": false
   },
   "outputs": [
    {
     "name": "stdout",
     "output_type": "stream",
     "text": [
      "[-10, -8, -7, 4, 11]\n"
     ]
    }
   ],
   "source": [
    "sorted_numbers2 = sorted(list_numbers2)\n",
    "print sorted_numbers2"
   ]
  },
  {
   "cell_type": "code",
   "execution_count": 28,
   "metadata": {
    "collapsed": false
   },
   "outputs": [
    {
     "name": "stdout",
     "output_type": "stream",
     "text": [
      "[4, -7, -8, -10, 11]\n"
     ]
    }
   ],
   "source": [
    "sorted_numbers2_absolute = sorted(list_numbers2, key=abs)\n",
    "print sorted_numbers2_absolute"
   ]
  },
  {
   "cell_type": "code",
   "execution_count": 29,
   "metadata": {
    "collapsed": false
   },
   "outputs": [
    {
     "name": "stdout",
     "output_type": "stream",
     "text": [
      "1\n",
      "10\n",
      "31\n"
     ]
    }
   ],
   "source": [
    "print min(list_numbers)\n",
    "print max(list_numbers)\n",
    "print sum(list_numbers)"
   ]
  },
  {
   "cell_type": "code",
   "execution_count": 30,
   "metadata": {
    "collapsed": false
   },
   "outputs": [
    {
     "name": "stdout",
     "output_type": "stream",
     "text": [
      "2\n"
     ]
    }
   ],
   "source": [
    "print food.index('noodles')"
   ]
  },
  {
   "cell_type": "code",
   "execution_count": 31,
   "metadata": {
    "collapsed": false
   },
   "outputs": [],
   "source": [
    "# print food.index('burger')\n",
    "# ValueError: 'burger' is not in list"
   ]
  },
  {
   "cell_type": "code",
   "execution_count": 32,
   "metadata": {
    "collapsed": false
   },
   "outputs": [
    {
     "data": {
      "text/plain": [
       "False"
      ]
     },
     "execution_count": 32,
     "metadata": {},
     "output_type": "execute_result"
    }
   ],
   "source": [
    "'burger' in food"
   ]
  },
  {
   "cell_type": "code",
   "execution_count": 33,
   "metadata": {
    "collapsed": false
   },
   "outputs": [
    {
     "data": {
      "text/plain": [
       "True"
      ]
     },
     "execution_count": 33,
     "metadata": {},
     "output_type": "execute_result"
    }
   ],
   "source": [
    "'rice' in food"
   ]
  },
  {
   "cell_type": "code",
   "execution_count": 34,
   "metadata": {
    "collapsed": false
   },
   "outputs": [
    {
     "name": "stdout",
     "output_type": "stream",
     "text": [
      "steak\n",
      "rice\n",
      "noodles\n",
      "bread\n"
     ]
    }
   ],
   "source": [
    "for food_name in food:\n",
    "    print food_name"
   ]
  },
  {
   "cell_type": "code",
   "execution_count": 35,
   "metadata": {
    "collapsed": false
   },
   "outputs": [
    {
     "name": "stdout",
     "output_type": "stream",
     "text": [
      "steak 0\n",
      "rice 1\n",
      "noodles 2\n",
      "bread 3\n"
     ]
    }
   ],
   "source": [
    "for index,food_name in enumerate(food):\n",
    "    print food_name, index"
   ]
  },
  {
   "cell_type": "code",
   "execution_count": 36,
   "metadata": {
    "collapsed": false
   },
   "outputs": [
    {
     "name": "stdout",
     "output_type": "stream",
     "text": [
      "steak 1\n",
      "rice 2\n",
      "noodles 3\n",
      "bread 4\n"
     ]
    }
   ],
   "source": [
    "for index,food_name in enumerate(food, start=1):\n",
    "    print food_name, index"
   ]
  },
  {
   "cell_type": "code",
   "execution_count": 37,
   "metadata": {
    "collapsed": false
   },
   "outputs": [
    {
     "name": "stdout",
     "output_type": "stream",
     "text": [
      "steak | rice | noodles | bread\n"
     ]
    }
   ],
   "source": [
    "food_string = ' | '.join(food)\n",
    "print food_string"
   ]
  },
  {
   "cell_type": "code",
   "execution_count": 38,
   "metadata": {
    "collapsed": false
   },
   "outputs": [
    {
     "name": "stdout",
     "output_type": "stream",
     "text": [
      "['steak', 'rice', 'noodles', 'bread']\n"
     ]
    },
    {
     "data": {
      "text/plain": [
       "list"
      ]
     },
     "execution_count": 38,
     "metadata": {},
     "output_type": "execute_result"
    }
   ],
   "source": [
    "new_food_list = food_string.split(' | ')\n",
    "#splits string into a list\n",
    "\n",
    "print new_food_list\n",
    "type(new_food_list)"
   ]
  },
  {
   "cell_type": "code",
   "execution_count": 39,
   "metadata": {
    "collapsed": false
   },
   "outputs": [
    {
     "name": "stdout",
     "output_type": "stream",
     "text": [
      "['rice', 'noodles', 'bread', 'steak']\n",
      "['rice', 'noodles', 'bread', 'steak']\n"
     ]
    }
   ],
   "source": [
    "#these are lists\n",
    "food = ['rice','noodles', 'bread', 'steak']\n",
    "food2 = food\n",
    "\n",
    "print food\n",
    "print food2"
   ]
  },
  {
   "cell_type": "code",
   "execution_count": 40,
   "metadata": {
    "collapsed": false
   },
   "outputs": [
    {
     "name": "stdout",
     "output_type": "stream",
     "text": [
      "['veg', 'noodles', 'bread', 'steak']\n",
      "['veg', 'noodles', 'bread', 'steak']\n"
     ]
    }
   ],
   "source": [
    "food2[0]='veg' #lists are mutable\n",
    "# Does a change in food2 lead to change in food?\n",
    "\n",
    "print food #this list changed\n",
    "print food2 #this list changed\n",
    "#both are the same mutable object"
   ]
  },
  {
   "cell_type": "markdown",
   "metadata": {},
   "source": [
    "# Tuples"
   ]
  },
  {
   "cell_type": "code",
   "execution_count": 41,
   "metadata": {
    "collapsed": false
   },
   "outputs": [
    {
     "name": "stdout",
     "output_type": "stream",
     "text": [
      "('rice', 'noodles', 'bread', 'steak')\n",
      "('rice', 'noodles', 'bread', 'steak')\n"
     ]
    }
   ],
   "source": [
    "food_tuple1 = ('rice','noodles', 'bread', 'steak')\n",
    "food_tuple2 = food_tuple1\n",
    "\n",
    "print food_tuple1\n",
    "print food_tuple2"
   ]
  },
  {
   "cell_type": "code",
   "execution_count": 42,
   "metadata": {
    "collapsed": false
   },
   "outputs": [],
   "source": [
    "# food_tuple2[0]='veg' #immutable\n",
    "# 'tuple' object does not support item assignment"
   ]
  },
  {
   "cell_type": "code",
   "execution_count": 43,
   "metadata": {
    "collapsed": false
   },
   "outputs": [],
   "source": [
    "# food_tuple1.sort()\n",
    "# type object 'tuple' has no attribute 'sort'\n",
    "\n",
    "# food_tuple1.insert()\n",
    "# type object 'tuple' has no attribute 'insert'\n",
    "\n",
    "#food_tuple1.reverse()\n",
    "#'tuple' object has no attribute 'reverse'"
   ]
  },
  {
   "cell_type": "code",
   "execution_count": 44,
   "metadata": {
    "collapsed": false
   },
   "outputs": [
    {
     "name": "stdout",
     "output_type": "stream",
     "text": [
      "['bread', 'noodles', 'rice', 'steak']\n"
     ]
    }
   ],
   "source": [
    "sorted_tuple1 = sorted(food_tuple1)\n",
    "print sorted_tuple1"
   ]
  },
  {
   "cell_type": "markdown",
   "metadata": {},
   "source": [
    "# Sets\n",
    "Sets are unordered and have no duplicates."
   ]
  },
  {
   "cell_type": "code",
   "execution_count": 45,
   "metadata": {
    "collapsed": false
   },
   "outputs": [
    {
     "name": "stdout",
     "output_type": "stream",
     "text": [
      "set(['rice', 'steak', 'noodles', 'bread'])\n"
     ]
    }
   ],
   "source": [
    "food_set = {'rice','noodles', 'bread', 'steak'}\n",
    "print food_set #not in the order we added"
   ]
  },
  {
   "cell_type": "code",
   "execution_count": 46,
   "metadata": {
    "collapsed": false
   },
   "outputs": [
    {
     "name": "stdout",
     "output_type": "stream",
     "text": [
      "set(['rice', 'steak', 'noodles', 'bread'])\n"
     ]
    }
   ],
   "source": [
    "food_set = {'rice','rice','noodles','noodles', 'bread', 'steak'}\n",
    "print food_set #no duplicates"
   ]
  },
  {
   "cell_type": "code",
   "execution_count": 47,
   "metadata": {
    "collapsed": false
   },
   "outputs": [
    {
     "data": {
      "text/plain": [
       "True"
      ]
     },
     "execution_count": 47,
     "metadata": {},
     "output_type": "execute_result"
    }
   ],
   "source": [
    "'rice' in food_set #check item membership"
   ]
  },
  {
   "cell_type": "code",
   "execution_count": 48,
   "metadata": {
    "collapsed": false
   },
   "outputs": [
    {
     "name": "stdout",
     "output_type": "stream",
     "text": [
      "set(['steak', 'bread'])\n"
     ]
    }
   ],
   "source": [
    "food_set = {'rice','noodles', 'bread', 'steak'}\n",
    "favourites_set = {'chicken','burger', 'fries', 'bread', 'steak'}\n",
    "\n",
    "print food_set.intersection(favourites_set)"
   ]
  },
  {
   "cell_type": "code",
   "execution_count": 49,
   "metadata": {
    "collapsed": false
   },
   "outputs": [
    {
     "name": "stdout",
     "output_type": "stream",
     "text": [
      "set(['rice', 'noodles'])\n"
     ]
    }
   ],
   "source": [
    "print food_set.difference(favourites_set)"
   ]
  },
  {
   "cell_type": "code",
   "execution_count": 50,
   "metadata": {
    "collapsed": false
   },
   "outputs": [
    {
     "name": "stdout",
     "output_type": "stream",
     "text": [
      "set(['rice', 'fries', 'burger', 'noodles', 'chicken', 'steak', 'bread'])\n"
     ]
    }
   ],
   "source": [
    "print food_set.union(favourites_set)"
   ]
  },
  {
   "cell_type": "code",
   "execution_count": 51,
   "metadata": {
    "collapsed": false
   },
   "outputs": [
    {
     "data": {
      "text/plain": [
       "dict"
      ]
     },
     "execution_count": 51,
     "metadata": {},
     "output_type": "execute_result"
    }
   ],
   "source": [
    "# Empty lists\n",
    "empty_list = []\n",
    "#empty_list = list[] #WRONG syntax\n",
    "empty_list = list()\n",
    "\n",
    "# Empty Tuples\n",
    "empty_tuple = ()\n",
    "empty_tuple = tuple()\n",
    "\n",
    "# Empty Sets\n",
    "# empty_set = {} #this is WRONG! It's dictionary\n",
    "# empty_set = set{} #WRONG syntax\n",
    "empty_set = set()\n",
    "\n",
    "# Empty Dictionary\n",
    "empty_dict = {}\n",
    "type(empty_dict)"
   ]
  },
  {
   "cell_type": "markdown",
   "metadata": {},
   "source": [
    "# Dictionary\n",
    "Key-value pairs"
   ]
  },
  {
   "cell_type": "code",
   "execution_count": 52,
   "metadata": {
    "collapsed": false
   },
   "outputs": [
    {
     "name": "stdout",
     "output_type": "stream",
     "text": [
      "{'dept': 'HR', 'age': 30, 'name': 'Paul', 'projects': ['onboarding', 'recruitment']}\n"
     ]
    }
   ],
   "source": [
    "employee = {'name':'Paul', 'dept': 'HR', 'projects':['onboarding','recruitment'],'age':30}\n",
    "\n",
    "print employee # not in order"
   ]
  },
  {
   "cell_type": "code",
   "execution_count": 53,
   "metadata": {
    "collapsed": false
   },
   "outputs": [
    {
     "name": "stdout",
     "output_type": "stream",
     "text": [
      "Paul\n",
      "['onboarding', 'recruitment']\n"
     ]
    }
   ],
   "source": [
    "print employee['name']\n",
    "print employee['projects']"
   ]
  },
  {
   "cell_type": "code",
   "execution_count": 54,
   "metadata": {
    "collapsed": false
   },
   "outputs": [
    {
     "name": "stdout",
     "output_type": "stream",
     "text": [
      "Paul\n"
     ]
    }
   ],
   "source": [
    "employee2 = {987:'Paul'}\n",
    "print employee2[987]"
   ]
  },
  {
   "cell_type": "code",
   "execution_count": 55,
   "metadata": {
    "collapsed": false
   },
   "outputs": [],
   "source": [
    "# print employee['phone'] \n",
    "#KeyError, doesn't exist"
   ]
  },
  {
   "cell_type": "code",
   "execution_count": 56,
   "metadata": {
    "collapsed": false
   },
   "outputs": [
    {
     "name": "stdout",
     "output_type": "stream",
     "text": [
      "None\n",
      "Paul\n"
     ]
    }
   ],
   "source": [
    "print employee.get('phone') # Doesn't exist\n",
    "print employee.get('name') "
   ]
  },
  {
   "cell_type": "code",
   "execution_count": 57,
   "metadata": {
    "collapsed": false
   },
   "outputs": [
    {
     "name": "stdout",
     "output_type": "stream",
     "text": [
      "{'dept': 'HR', 'age': 30, 'name': 'Paul', 'projects': ['onboarding', 'recruitment'], 'phone': '81234567'}\n"
     ]
    }
   ],
   "source": [
    "employee['phone'] = '81234567'\n",
    "print employee"
   ]
  },
  {
   "cell_type": "code",
   "execution_count": 58,
   "metadata": {
    "collapsed": false
   },
   "outputs": [
    {
     "name": "stdout",
     "output_type": "stream",
     "text": [
      "{'dept': 'HR', 'age': 31, 'name': 'Paul', 'projects': ['onboarding', 'recruitment'], 'phone': '81234567'}\n"
     ]
    }
   ],
   "source": [
    "employee['age']=31 \n",
    "#updates the value of this key\n",
    "\n",
    "print employee"
   ]
  },
  {
   "cell_type": "code",
   "execution_count": 59,
   "metadata": {
    "collapsed": false
   },
   "outputs": [
    {
     "name": "stdout",
     "output_type": "stream",
     "text": [
      "{'status': 'married', 'dept': 'HR', 'name': 'Paul Smith', 'phone': '81234567', 'age': 31, 'projects': ['onboarding', 'recruitment']}\n"
     ]
    }
   ],
   "source": [
    "employee.update({'name':'Paul Smith','status':'married'})\n",
    "\n",
    "print employee\n",
    "# changed name, added marriage status"
   ]
  },
  {
   "cell_type": "code",
   "execution_count": 60,
   "metadata": {
    "collapsed": false
   },
   "outputs": [
    {
     "name": "stdout",
     "output_type": "stream",
     "text": [
      "{'dept': 'HR', 'name': 'Paul Smith', 'phone': '81234567', 'age': 31, 'projects': ['onboarding', 'recruitment']}\n"
     ]
    }
   ],
   "source": [
    "del employee['status'] #delete key-value pair\n",
    "print employee"
   ]
  },
  {
   "cell_type": "code",
   "execution_count": 61,
   "metadata": {
    "collapsed": false
   },
   "outputs": [
    {
     "name": "stdout",
     "output_type": "stream",
     "text": [
      "HR\n"
     ]
    }
   ],
   "source": [
    "dept = employee.pop('dept')\n",
    "print dept"
   ]
  },
  {
   "cell_type": "code",
   "execution_count": 62,
   "metadata": {
    "collapsed": false
   },
   "outputs": [
    {
     "name": "stdout",
     "output_type": "stream",
     "text": [
      "{'name': 'Paul Smith', 'phone': '81234567', 'age': 31, 'projects': ['onboarding', 'recruitment']}\n"
     ]
    }
   ],
   "source": [
    "print employee\n"
   ]
  },
  {
   "cell_type": "code",
   "execution_count": 63,
   "metadata": {
    "collapsed": false
   },
   "outputs": [
    {
     "name": "stdout",
     "output_type": "stream",
     "text": [
      "4\n"
     ]
    }
   ],
   "source": [
    "print len(employee)\n"
   ]
  },
  {
   "cell_type": "code",
   "execution_count": 64,
   "metadata": {
    "collapsed": false
   },
   "outputs": [
    {
     "name": "stdout",
     "output_type": "stream",
     "text": [
      "['name', 'phone', 'age', 'projects']\n"
     ]
    }
   ],
   "source": [
    "print employee.keys()\n"
   ]
  },
  {
   "cell_type": "code",
   "execution_count": 65,
   "metadata": {
    "collapsed": false
   },
   "outputs": [
    {
     "name": "stdout",
     "output_type": "stream",
     "text": [
      "['Paul Smith', '81234567', 31, ['onboarding', 'recruitment']]\n"
     ]
    }
   ],
   "source": [
    "print employee.values()"
   ]
  },
  {
   "cell_type": "code",
   "execution_count": 66,
   "metadata": {
    "collapsed": false
   },
   "outputs": [
    {
     "name": "stdout",
     "output_type": "stream",
     "text": [
      "[('name', 'Paul Smith'), ('phone', '81234567'), ('age', 31), ('projects', ['onboarding', 'recruitment'])]\n"
     ]
    }
   ],
   "source": [
    "print employee.items()"
   ]
  },
  {
   "cell_type": "code",
   "execution_count": 67,
   "metadata": {
    "collapsed": false
   },
   "outputs": [
    {
     "name": "stdout",
     "output_type": "stream",
     "text": [
      "name\n",
      "phone\n",
      "age\n",
      "projects\n"
     ]
    }
   ],
   "source": [
    "for key in employee:\n",
    "    print key"
   ]
  },
  {
   "cell_type": "code",
   "execution_count": 68,
   "metadata": {
    "collapsed": false
   },
   "outputs": [
    {
     "name": "stdout",
     "output_type": "stream",
     "text": [
      "name Paul Smith\n",
      "phone 81234567\n",
      "age 31\n",
      "projects ['onboarding', 'recruitment']\n"
     ]
    }
   ],
   "source": [
    "for key,value in employee.items():\n",
    "    print key,value"
   ]
  },
  {
   "cell_type": "code",
   "execution_count": 69,
   "metadata": {
    "collapsed": false
   },
   "outputs": [
    {
     "name": "stdout",
     "output_type": "stream",
     "text": [
      "['age', 'name', 'phone', 'projects']\n"
     ]
    }
   ],
   "source": [
    "sorted_dict1 = sorted(employee)\n",
    "print sorted_dict1"
   ]
  },
  {
   "cell_type": "code",
   "execution_count": 70,
   "metadata": {
    "collapsed": false
   },
   "outputs": [
    {
     "name": "stdout",
     "output_type": "stream",
     "text": [
      "[('age', 31), ('name', 'Paul Smith'), ('phone', '81234567'), ('projects', ['onboarding', 'recruitment'])]\n"
     ]
    }
   ],
   "source": [
    "sorted_dict2 = sorted(employee.items())\n",
    "print sorted_dict2"
   ]
  },
  {
   "cell_type": "code",
   "execution_count": null,
   "metadata": {
    "collapsed": true
   },
   "outputs": [],
   "source": []
  }
 ],
 "metadata": {
  "kernelspec": {
   "display_name": "Python 2",
   "language": "python",
   "name": "python2"
  },
  "language_info": {
   "codemirror_mode": {
    "name": "ipython",
    "version": 2
   },
   "file_extension": ".py",
   "mimetype": "text/x-python",
   "name": "python",
   "nbconvert_exporter": "python",
   "pygments_lexer": "ipython2",
   "version": "2.7.12"
  }
 },
 "nbformat": 4,
 "nbformat_minor": 0
}
