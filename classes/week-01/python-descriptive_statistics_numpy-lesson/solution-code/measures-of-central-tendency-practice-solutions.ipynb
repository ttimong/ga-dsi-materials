{
 "cells": [
  {
   "cell_type": "markdown",
   "metadata": {},
   "source": [
    "<img src=\"http://imgur.com/1ZcRyrc.png\" style=\"float: left; margin: 20px; height: 55px\">\n",
    "\n",
    "## Measures of Central Tendency: Independent Practice\n",
    "\n",
    "_Author: Kiefer Katovich (SF)_\n",
    "\n",
    "---\n",
    "\n",
    "Complete the questions using the distribution defined with the **`dist`** variable in the next cell."
   ]
  },
  {
   "cell_type": "code",
   "execution_count": 1,
   "metadata": {
    "collapsed": true
   },
   "outputs": [],
   "source": [
    "import numpy as np\n",
    "from scipy.stats import mode\n",
    "\n",
    "dist = [33.3, 8.0, 2.7, 7.0, 11.3, 10.2, 38.4, 14.7, 46.9, 6.6, 38.6, 41.1, 20.4, 19.5,\n",
    "        102.6, 111.5, 21.8, 27.0, 30.3, 9.3, 19.6, 31.1, 48.8, 8.9, 11.4, 0.6, 23.5,\n",
    "        8.0, 27.5, 69.7, 11.5, 15.5, 1.4, 7.0, 4.6, 6.0, 16.0, 17.2, 6.3, 26.2, 23.9,\n",
    "        45.9, 55.4, 100.8, 22.9, 75.5, 115.5, 58.9, 10.5, 92.6, 12.4, 102.7, 10.2, 167.6,\n",
    "        143.6, 132.3, 134.2, 39.4, 49.7, 12.0, 27.0, 1.3, 4.7, 5.0, 24.1, 21.5, 33.1,\n",
    "        45.6, 46.3, 15.8, 30.7, 15.7, 6.8, 64.6, 39.1, 2.9, 8.0, 5.4, 33.4, 40.0, 22.7,\n",
    "        24.2, 25.7, 85.0, 26.2, 3.3, 20.7, 117.4, 66.8, 44.3, 37.9, 71.8, 161.4, 45.9,\n",
    "        4.6, 6.6, 12.6, 24.4, 21.4, 33.6, 33.7, 18.8, 7.6, 36.3, 1.8, 83.2, 75.1, 71.3,\n",
    "        32.9, 30.6, 16.0, 6.9, 11.0, 9.4, 11.7, 13.8, 39.4, 4.3, 38.1, 60.1, 78.2, 49.6,\n",
    "        14.3, 8.0, 19.3, 30.8, 32.5, 29.6, 28.3, 32.4, 35.7, 36.7, 10.0, 8.5, 12.2, 22.6,\n",
    "        32.1, 25.7, 14.1, 20.9, 23.8, 29.5, 2.9, 42.3, 19.9, 47.5, 15.9, 6.0, 19.3, 38.2,\n",
    "        23.5, 2.7, 27.0, 49.9, 43.5, 31.7, 39.1, 15.1, 18.0, 33.8, 32.1, 50.7, 28.8, 11.6,\n",
    "        74.8, 16.2, 8.3, 36.3, 44.0, 15.6, 48.9, 7.3, 8.2, 29.8, 38.7, 3.9, 7.2, 5.1, 23.7,\n",
    "        48.4, 92.0, 64.3, 97.4, 99.1, 18.0, 7.1, 14.7, 47.1, 41.3, 44.2, 6.5, 44.4, 9.7,\n",
    "        15.5, 23.7, 34.5, 19.9, 58.6, 35.0, 66.1, 74.5, 45.2]"
   ]
  },
  {
   "cell_type": "markdown",
   "metadata": {},
   "source": [
    "##### Q1: Calculate the mean of `dist`."
   ]
  },
  {
   "cell_type": "code",
   "execution_count": 2,
   "metadata": {
    "collapsed": false
   },
   "outputs": [
    {
     "name": "stdout",
     "output_type": "stream",
     "text": [
      "33.995049505\n"
     ]
    }
   ],
   "source": [
    "dmean = np.mean(dist)\n",
    "print(dmean)"
   ]
  },
  {
   "cell_type": "markdown",
   "metadata": {},
   "source": [
    "##### Q2: Calculate the median of `dist`."
   ]
  },
  {
   "cell_type": "code",
   "execution_count": 8,
   "metadata": {
    "collapsed": false
   },
   "outputs": [
    {
     "name": "stdout",
     "output_type": "stream",
     "text": [
      "25.95\n"
     ]
    }
   ],
   "source": [
    "dmedian = np.median(dist)\n",
    "print(dmedian)"
   ]
  },
  {
   "cell_type": "markdown",
   "metadata": {},
   "source": [
    "##### Q3: Round the numbers of `dist`, then calculate the mode."
   ]
  },
  {
   "cell_type": "code",
   "execution_count": 8,
   "metadata": {
    "collapsed": false
   },
   "outputs": [
    {
     "name": "stdout",
     "output_type": "stream",
     "text": [
      "[33, 8, 3, 7, 11, 10, 38, 15, 47, 7, 39, 41, 20, 20, 103, 112, 22, 27, 30, 9, 20, 31, 49, 9, 11, 1, 24, 8, 28, 70, 12, 16, 1, 7, 5, 6, 16, 17, 6, 26, 24, 46, 55, 101, 23, 76, 116, 59, 11, 93, 12, 103, 10, 168, 144, 132, 134, 39, 50, 12, 27, 1, 5, 5, 24, 22, 33, 46, 46, 16, 31, 16, 7, 65, 39, 3, 8, 5, 33, 40, 23, 24, 26, 85, 26, 3, 21, 117, 67, 44, 38, 72, 161, 46, 5, 7, 13, 24, 21, 34, 34, 19, 8, 36, 2, 83, 75, 71, 33, 31, 16, 7, 11, 9, 12, 14, 39, 4, 38, 60, 78, 50, 14, 8, 19, 31, 33, 30, 28, 32, 36, 37, 10, 9, 12, 23, 32, 26, 14, 21, 24, 30, 3, 42, 20, 48, 16, 6, 19, 38, 24, 3, 27, 50, 44, 32, 39, 15, 18, 34, 32, 51, 29, 12, 75, 16, 8, 36, 44, 16, 49, 7, 8, 30, 39, 4, 7, 5, 24, 48, 92, 64, 97, 99, 18, 7, 15, 47, 41, 44, 7, 44, 10, 16, 24, 35, 20, 59, 35, 66, 75, 45]\n"
     ]
    }
   ],
   "source": [
    "dist_rounded = [int(round(n)) for n in dist]\n",
    "print dist_rounded"
   ]
  },
  {
   "cell_type": "code",
   "execution_count": 11,
   "metadata": {
    "collapsed": false
   },
   "outputs": [
    {
     "name": "stdout",
     "output_type": "stream",
     "text": [
      "[33, 8, 3, 7, 11, 10, 38, 15, 47, 7, 39, 41, 20, 20, 103, 112, 22, 27, 30, 9, 20, 31, 49, 9, 11, 1, 24, 8, 28, 70, 12, 16, 1, 7, 5, 6, 16, 17, 6, 26, 24, 46, 55, 101, 23, 76, 116, 59, 10, 93, 12, 103, 10, 168, 144, 132, 134, 39, 50, 12, 27, 1, 5, 5, 24, 22, 33, 46, 46, 16, 31, 16, 7, 65, 39, 3, 8, 5, 33, 40, 23, 24, 26, 85, 26, 3, 21, 117, 67, 44, 38, 72, 161, 46, 5, 7, 13, 24, 21, 34, 34, 19, 8, 36, 2, 83, 75, 71, 33, 31, 16, 7, 11, 9, 12, 14, 39, 4, 38, 60, 78, 50, 14, 8, 19, 31, 32, 30, 28, 32, 36, 37, 10, 8, 12, 23, 32, 26, 14, 21, 24, 30, 3, 42, 20, 48, 16, 6, 19, 38, 24, 3, 27, 50, 44, 32, 39, 15, 18, 34, 32, 51, 29, 12, 75, 16, 8, 36, 44, 16, 49, 7, 8, 30, 39, 4, 7, 5, 24, 48, 92, 64, 97, 99, 18, 7, 15, 47, 41, 44, 6, 44, 10, 16, 24, 34, 20, 59, 35, 66, 74, 45]\n"
     ]
    }
   ],
   "source": [
    "dist_rounded_np = [int(np.round(n)) for n in dist]\n",
    "print dist_rounded_np"
   ]
  },
  {
   "cell_type": "code",
   "execution_count": 13,
   "metadata": {
    "collapsed": false
   },
   "outputs": [
    {
     "name": "stdout",
     "output_type": "stream",
     "text": [
      "ModeResult(mode=array([7]), count=array([10]))\n"
     ]
    }
   ],
   "source": [
    "dmode = mode(dist_rounded)\n",
    "print(dmode)"
   ]
  },
  {
   "cell_type": "code",
   "execution_count": 12,
   "metadata": {
    "collapsed": false
   },
   "outputs": [
    {
     "name": "stdout",
     "output_type": "stream",
     "text": [
      "ModeResult(mode=array([7]), count=array([9]))\n"
     ]
    }
   ],
   "source": [
    "dmode_np = mode(dist_rounded_np) #there should be 2 more, total 3 modes, i.e. 16 and 24.\n",
    "print(dmode_np)"
   ]
  },
  {
   "cell_type": "markdown",
   "metadata": {},
   "source": [
    "##### Q4: Determine if `dist` is skewed. If so, which way? How can you tell?"
   ]
  },
  {
   "cell_type": "code",
   "execution_count": 19,
   "metadata": {
    "collapsed": false
   },
   "outputs": [
    {
     "name": "stdout",
     "output_type": "stream",
     "text": [
      "positive skewed\n"
     ]
    }
   ],
   "source": [
    "if (dmean == dmedian) and (dmedian == dmode):\n",
    "    print('symmetrical')\n",
    "\n",
    "if (dmean < dmedian) and (dmedian < dmode):\n",
    "    print('negative skewed')\n",
    "\n",
    "if (dmean > dmedian) and (dmedian > dmode):\n",
    "    print('positive skewed')"
   ]
  },
  {
   "cell_type": "markdown",
   "metadata": {},
   "source": [
    "##### Q5: Calculate the range of `dist`."
   ]
  },
  {
   "cell_type": "code",
   "execution_count": 21,
   "metadata": {
    "collapsed": false
   },
   "outputs": [
    {
     "name": "stdout",
     "output_type": "stream",
     "text": [
      "167.0\n"
     ]
    }
   ],
   "source": [
    "dist_sorted = sorted(dist)\n",
    "print(dist_sorted[len(dist)-1] - dist_sorted[0])"
   ]
  },
  {
   "cell_type": "markdown",
   "metadata": {},
   "source": [
    "##### Q6: Calculate the variance of `dist`."
   ]
  },
  {
   "cell_type": "code",
   "execution_count": 22,
   "metadata": {
    "collapsed": false
   },
   "outputs": [
    {
     "name": "stdout",
     "output_type": "stream",
     "text": [
      "957.827698265\n"
     ]
    }
   ],
   "source": [
    "var = np.var(dist)\n",
    "print(var)"
   ]
  },
  {
   "cell_type": "markdown",
   "metadata": {},
   "source": [
    "##### Q7: Calculate the standard deviation of `dist`. What does this tell you about the distribution of numbers?"
   ]
  },
  {
   "cell_type": "code",
   "execution_count": 23,
   "metadata": {
    "collapsed": false
   },
   "outputs": [
    {
     "name": "stdout",
     "output_type": "stream",
     "text": [
      "30.9487915477\n"
     ]
    }
   ],
   "source": [
    "std = np.std(dist)\n",
    "print(std)\n",
    "\n",
    "# The standard deviation is approximately how far, on average, numbers lie from the mean."
   ]
  },
  {
   "cell_type": "markdown",
   "metadata": {},
   "source": [
    "##### Challenge: Round the numbers of `dist`, and then calculate the mode of dist without using `scipy`!"
   ]
  },
  {
   "cell_type": "code",
   "execution_count": 5,
   "metadata": {
    "collapsed": true
   },
   "outputs": [],
   "source": [
    "# There are, as you might imagine, many ways to do this. One way to do this with the tools\n",
    "# we have learned so far is with dictionaries.\n",
    "\n",
    "# [Note: This only works for unimodal distributions!]"
   ]
  },
  {
   "cell_type": "code",
   "execution_count": 14,
   "metadata": {
    "collapsed": false
   },
   "outputs": [
    {
     "name": "stdout",
     "output_type": "stream",
     "text": [
      "{1: 3, 2: 1, 3: 5, 132: 1, 5: 6, 6: 4, 7: 9, 8: 8, 9: 3, 10: 5, 11: 3, 12: 6, 13: 1, 14: 3, 15: 3, 16: 9, 17: 1, 18: 2, 19: 3, 20: 5, 21: 3, 22: 2, 23: 3, 24: 9, 4: 2, 26: 4, 27: 3, 28: 2, 29: 1, 30: 4, 31: 4, 32: 5, 33: 4, 34: 4, 35: 1, 36: 3, 134: 1, 38: 4, 39: 6, 168: 1, 41: 2, 42: 1, 71: 1, 44: 5, 45: 1, 46: 4, 47: 2, 48: 2, 49: 2, 50: 3, 51: 1, 55: 1, 59: 2, 60: 1, 64: 1, 65: 1, 66: 1, 67: 1, 70: 1, 161: 1, 72: 1, 74: 1, 75: 2, 76: 1, 78: 1, 83: 1, 85: 1, 92: 1, 93: 1, 37: 1, 144: 1, 99: 1, 101: 1, 103: 2, 97: 1, 112: 1, 40: 1, 116: 1, 117: 1}\n",
      "('mode: ', 7)\n"
     ]
    }
   ],
   "source": [
    "counts = {}\n",
    "\n",
    "for n in dist_rounded_np:\n",
    "    if n in counts:\n",
    "        counts[n] = counts[n] + 1\n",
    "    else:\n",
    "        counts[n] = 1\n",
    "\n",
    "print(counts)\n",
    "\n",
    "max_key = None\n",
    "max_val = 0\n",
    "for k, v in counts.items():\n",
    "    if v > max_val:\n",
    "        max_key = k\n",
    "        max_val = v\n",
    "        \n",
    "print('mode: ', max_key)"
   ]
  },
  {
   "cell_type": "code",
   "execution_count": null,
   "metadata": {
    "collapsed": true
   },
   "outputs": [],
   "source": []
  }
 ],
 "metadata": {
  "kernelspec": {
   "display_name": "Python 2",
   "language": "python",
   "name": "python2"
  },
  "language_info": {
   "codemirror_mode": {
    "name": "ipython",
    "version": 2
   },
   "file_extension": ".py",
   "mimetype": "text/x-python",
   "name": "python",
   "nbconvert_exporter": "python",
   "pygments_lexer": "ipython2",
   "version": "2.7.12"
  }
 },
 "nbformat": 4,
 "nbformat_minor": 0
}
