{
 "cells": [
  {
   "cell_type": "markdown",
   "metadata": {},
   "source": [
    " <img src=\"http://imgur.com/1ZcRyrc.png\" style=\"float: left; margin: 20px; height: 55px\">\n",
    "\n",
    "# Beta distributions on election data\n",
    "\n",
    "_Authors: Joseph Nelson (DC)_\n",
    "\n",
    "---\n",
    "\n",
    "## Dataset\n",
    "\n",
    "In this lab you will be looking at [election data taken from Andrew Gelman's book on Bayesian statistics](http://www.stat.columbia.edu/~gelman/arm/examples/election88/) (highly recommended!).\n",
    "\n",
    "You are required to perform a bit of feature engineering.\n",
    "\n",
    "The data contains polling information for George H.W. Bush as well as election information. \n",
    "\n",
    "The polling information indicates samples by state of who intends to vote for Bush or not. The voting information is a sample after the election asking who actually voted for bush or not.\n"
   ]
  },
  {
   "cell_type": "markdown",
   "metadata": {},
   "source": [
    "### 1. Import and parse the data\n",
    "\n",
    "There are two datasets:\n",
    "\n",
    "    election88  :  this contains the election voting poll information\n",
    "    pre_poll    :  this contains the pre-election voting poll information\n",
    "    \n",
    "Remove DC, AK, and HI from the election datasets."
   ]
  },
  {
   "cell_type": "code",
   "execution_count": 7,
   "metadata": {
    "collapsed": true
   },
   "outputs": [],
   "source": [
    "import pandas as pd\n",
    "import numpy as np"
   ]
  },
  {
   "cell_type": "code",
   "execution_count": 8,
   "metadata": {
    "collapsed": false,
    "scrolled": true
   },
   "outputs": [
    {
     "name": "stdout",
     "output_type": "stream",
     "text": [
      "   Unnamed: 0  state_id  st  electionresult  vote_total    raking  _merge\n",
      "0           1         1  AL            0.59         203  0.673067       3\n",
      "2           3         3  AZ            0.60         194  0.568980       3\n",
      "3           4         4  AR            0.56         121  0.563672       3\n"
     ]
    }
   ],
   "source": [
    "election88 = pd.read_csv('./datasets/election88.csv')\n",
    "\n",
    "election88.rename(columns={'stnum':'state_id','samplesize':'vote_total'}, inplace=True)\n",
    "\n",
    "election88 = election88[~election88.st.isin(['DC','AK','HI'])]\n",
    "\n",
    "print election88.head(3)"
   ]
  },
  {
   "cell_type": "code",
   "execution_count": 9,
   "metadata": {
    "collapsed": false
   },
   "outputs": [
    {
     "name": "stdout",
     "output_type": "stream",
     "text": [
      "   Unnamed: 0  year survey  bush  state_id  edu  age  female  black  weight  \\\n",
      "0           1     1   9152   1.0         7    2    2       1      0    1403   \n",
      "1          30     1   9152   1.0         7    4    3       1      0     701   \n",
      "2         206     1   9152   0.0         7    2    1       0      0    4341   \n",
      "\n",
      "   st  \n",
      "0  CT  \n",
      "1  CT  \n",
      "2  CT  \n",
      "(13525, 11)\n"
     ]
    }
   ],
   "source": [
    "# Reading in the poll csv file\n",
    "pre_poll = pd.read_csv('./datasets/polls.csv')\n",
    "\n",
    "# remove unneccessary columns:\n",
    "del pre_poll['org']\n",
    "\n",
    "pre_poll.rename(columns={'state':'state_id'}, inplace=True)\n",
    "\n",
    "pre_poll = pre_poll.merge(election88[['state_id','st']], on='state_id')\n",
    "\n",
    "print pre_poll.head(3)\n",
    "print pre_poll.shape"
   ]
  },
  {
   "cell_type": "code",
   "execution_count": 10,
   "metadata": {
    "collapsed": false
   },
   "outputs": [
    {
     "name": "stdout",
     "output_type": "stream",
     "text": [
      "CA    1493\n",
      "NY     894\n",
      "TX     788\n",
      "FL     750\n",
      "PA     616\n",
      "OH     605\n",
      "IL     567\n",
      "MI     530\n",
      "NJ     428\n",
      "WA     393\n",
      "WI     389\n",
      "MA     373\n",
      "VA     354\n",
      "NC     346\n",
      "TN     329\n",
      "GA     316\n",
      "MO     309\n",
      "IN     291\n",
      "MN     289\n",
      "MD     284\n",
      "SC     223\n",
      "MS     220\n",
      "KY     210\n",
      "AL     203\n",
      "LA     196\n",
      "AZ     194\n",
      "CO     181\n",
      "CT     171\n",
      "OR     149\n",
      "IA     143\n",
      "KS     141\n",
      "OK     130\n",
      "NE     125\n",
      "AR     121\n",
      "WV     117\n",
      "NM     109\n",
      "RI      91\n",
      "UT      79\n",
      "SD      60\n",
      "ND      60\n",
      "ME      51\n",
      "ID      42\n",
      "MT      40\n",
      "DE      39\n",
      "NV      32\n",
      "NH      27\n",
      "WY      15\n",
      "VT      12\n",
      "Name: st, dtype: int64\n"
     ]
    }
   ],
   "source": [
    "# print state category counts\n",
    "print pre_poll['st'].value_counts()"
   ]
  },
  {
   "cell_type": "markdown",
   "metadata": {},
   "source": [
    "### 2. With the poll data, compute the number of people who did and didn't intend to vote for Bush by state."
   ]
  },
  {
   "cell_type": "code",
   "execution_count": 11,
   "metadata": {
    "collapsed": false
   },
   "outputs": [
    {
     "data": {
      "text/html": [
       "<div>\n",
       "<table border=\"1\" class=\"dataframe\">\n",
       "  <thead>\n",
       "    <tr style=\"text-align: right;\">\n",
       "      <th></th>\n",
       "      <th>poll_vote_bush</th>\n",
       "      <th>poll_vote_total</th>\n",
       "      <th>st</th>\n",
       "    </tr>\n",
       "  </thead>\n",
       "  <tbody>\n",
       "    <tr>\n",
       "      <th>0</th>\n",
       "      <td>113.0</td>\n",
       "      <td>159</td>\n",
       "      <td>AL</td>\n",
       "    </tr>\n",
       "    <tr>\n",
       "      <th>1</th>\n",
       "      <td>59.0</td>\n",
       "      <td>101</td>\n",
       "      <td>AR</td>\n",
       "    </tr>\n",
       "    <tr>\n",
       "      <th>2</th>\n",
       "      <td>99.0</td>\n",
       "      <td>168</td>\n",
       "      <td>AZ</td>\n",
       "    </tr>\n",
       "  </tbody>\n",
       "</table>\n",
       "</div>"
      ],
      "text/plain": [
       "   poll_vote_bush  poll_vote_total  st\n",
       "0           113.0              159  AL\n",
       "1            59.0              101  AR\n",
       "2            99.0              168  AZ"
      ]
     },
     "execution_count": 11,
     "metadata": {},
     "output_type": "execute_result"
    }
   ],
   "source": [
    "def percent_bush_state(df):\n",
    "    df = df[~df.bush.isnull()]\n",
    "    df['poll_vote_bush'] = np.sum(df.bush)\n",
    "    df['poll_vote_total'] = df.shape[0]\n",
    "    df = df[['poll_vote_bush','poll_vote_total','st']]\n",
    "    df.drop_duplicates(inplace=True)\n",
    "    return df\n",
    "\n",
    "state_bushpct_poll = pre_poll.groupby(['st']).apply(percent_bush_state).reset_index(drop=True)\n",
    "state_bushpct_poll.head(3)"
   ]
  },
  {
   "cell_type": "markdown",
   "metadata": {},
   "source": [
    "### 3. With the vote data, compute the number of people who did and didn't vote for Bush by state."
   ]
  },
  {
   "cell_type": "code",
   "execution_count": 13,
   "metadata": {
    "collapsed": false
   },
   "outputs": [
    {
     "data": {
      "text/html": [
       "<div>\n",
       "<table border=\"1\" class=\"dataframe\">\n",
       "  <thead>\n",
       "    <tr style=\"text-align: right;\">\n",
       "      <th></th>\n",
       "      <th>Unnamed: 0</th>\n",
       "      <th>state_id</th>\n",
       "      <th>st</th>\n",
       "      <th>electionresult</th>\n",
       "      <th>vote_total</th>\n",
       "      <th>raking</th>\n",
       "      <th>_merge</th>\n",
       "      <th>vote_bush</th>\n",
       "    </tr>\n",
       "  </thead>\n",
       "  <tbody>\n",
       "    <tr>\n",
       "      <th>0</th>\n",
       "      <td>1</td>\n",
       "      <td>1</td>\n",
       "      <td>AL</td>\n",
       "      <td>0.59</td>\n",
       "      <td>203</td>\n",
       "      <td>0.673067</td>\n",
       "      <td>3</td>\n",
       "      <td>120.0</td>\n",
       "    </tr>\n",
       "    <tr>\n",
       "      <th>2</th>\n",
       "      <td>3</td>\n",
       "      <td>3</td>\n",
       "      <td>AZ</td>\n",
       "      <td>0.60</td>\n",
       "      <td>194</td>\n",
       "      <td>0.568980</td>\n",
       "      <td>3</td>\n",
       "      <td>116.0</td>\n",
       "    </tr>\n",
       "    <tr>\n",
       "      <th>3</th>\n",
       "      <td>4</td>\n",
       "      <td>4</td>\n",
       "      <td>AR</td>\n",
       "      <td>0.56</td>\n",
       "      <td>121</td>\n",
       "      <td>0.563672</td>\n",
       "      <td>3</td>\n",
       "      <td>68.0</td>\n",
       "    </tr>\n",
       "    <tr>\n",
       "      <th>4</th>\n",
       "      <td>5</td>\n",
       "      <td>5</td>\n",
       "      <td>CA</td>\n",
       "      <td>0.51</td>\n",
       "      <td>1493</td>\n",
       "      <td>0.531725</td>\n",
       "      <td>3</td>\n",
       "      <td>761.0</td>\n",
       "    </tr>\n",
       "    <tr>\n",
       "      <th>5</th>\n",
       "      <td>6</td>\n",
       "      <td>6</td>\n",
       "      <td>CO</td>\n",
       "      <td>0.53</td>\n",
       "      <td>181</td>\n",
       "      <td>0.599325</td>\n",
       "      <td>3</td>\n",
       "      <td>96.0</td>\n",
       "    </tr>\n",
       "  </tbody>\n",
       "</table>\n",
       "</div>"
      ],
      "text/plain": [
       "   Unnamed: 0  state_id  st  electionresult  vote_total    raking  _merge  \\\n",
       "0           1         1  AL            0.59         203  0.673067       3   \n",
       "2           3         3  AZ            0.60         194  0.568980       3   \n",
       "3           4         4  AR            0.56         121  0.563672       3   \n",
       "4           5         5  CA            0.51        1493  0.531725       3   \n",
       "5           6         6  CO            0.53         181  0.599325       3   \n",
       "\n",
       "   vote_bush  \n",
       "0      120.0  \n",
       "2      116.0  \n",
       "3       68.0  \n",
       "4      761.0  \n",
       "5       96.0  "
      ]
     },
     "execution_count": 13,
     "metadata": {},
     "output_type": "execute_result"
    }
   ],
   "source": [
    "election88['vote_bush'] = np.around((election88.electionresult*election88.vote_total).values)\n",
    "election88.head(5)"
   ]
  },
  {
   "cell_type": "markdown",
   "metadata": {},
   "source": [
    "### 4. Merge the poll and vote data together by state"
   ]
  },
  {
   "cell_type": "code",
   "execution_count": 14,
   "metadata": {
    "collapsed": false
   },
   "outputs": [
    {
     "data": {
      "text/html": [
       "<div>\n",
       "<table border=\"1\" class=\"dataframe\">\n",
       "  <thead>\n",
       "    <tr style=\"text-align: right;\">\n",
       "      <th></th>\n",
       "      <th>poll_vote_bush</th>\n",
       "      <th>poll_vote_total</th>\n",
       "      <th>st</th>\n",
       "      <th>vote_bush</th>\n",
       "      <th>vote_total</th>\n",
       "    </tr>\n",
       "  </thead>\n",
       "  <tbody>\n",
       "    <tr>\n",
       "      <th>0</th>\n",
       "      <td>113.0</td>\n",
       "      <td>159</td>\n",
       "      <td>AL</td>\n",
       "      <td>120.0</td>\n",
       "      <td>203</td>\n",
       "    </tr>\n",
       "    <tr>\n",
       "      <th>1</th>\n",
       "      <td>59.0</td>\n",
       "      <td>101</td>\n",
       "      <td>AR</td>\n",
       "      <td>68.0</td>\n",
       "      <td>121</td>\n",
       "    </tr>\n",
       "    <tr>\n",
       "      <th>2</th>\n",
       "      <td>99.0</td>\n",
       "      <td>168</td>\n",
       "      <td>AZ</td>\n",
       "      <td>116.0</td>\n",
       "      <td>194</td>\n",
       "    </tr>\n",
       "  </tbody>\n",
       "</table>\n",
       "</div>"
      ],
      "text/plain": [
       "   poll_vote_bush  poll_vote_total  st  vote_bush  vote_total\n",
       "0           113.0              159  AL      120.0         203\n",
       "1            59.0              101  AR       68.0         121\n",
       "2            99.0              168  AZ      116.0         194"
      ]
     },
     "execution_count": 14,
     "metadata": {},
     "output_type": "execute_result"
    }
   ],
   "source": [
    "state_poll_vs_result = state_bushpct_poll.merge(election88[['st','vote_bush','vote_total']], on='st')\n",
    "state_poll_vs_result.head(3)"
   ]
  },
  {
   "cell_type": "markdown",
   "metadata": {},
   "source": [
    "### 5. Write a function to plot Beta probability distributions based on poll and vote counts.\n",
    "\n",
    "The distributions should be on the same chart."
   ]
  },
  {
   "cell_type": "code",
   "execution_count": 15,
   "metadata": {
    "collapsed": false
   },
   "outputs": [],
   "source": [
    "from scipy.stats import beta\n",
    "import matplotlib.pyplot as plt\n",
    "import seaborn as sns\n",
    "\n",
    "sns.set_style('white')\n",
    "%matplotlib inline"
   ]
  },
  {
   "cell_type": "code",
   "execution_count": 16,
   "metadata": {
    "collapsed": true
   },
   "outputs": [],
   "source": [
    "def poll_vote_betas(vote_a, vote_b, poll_a, poll_b, state):\n",
    "\n",
    "    plt.figure(figsize=(6,5))\n",
    "    pr = np.linspace(0.001, 0.999, 1000)\n",
    "    \n",
    "    # vote beta:\n",
    "    plt.plot(pr, beta.pdf(pr, vote_a, vote_b), lw=3, c='darkred', label='vote')\n",
    "    \n",
    "    # poll beta:\n",
    "    plt.plot(pr, beta.pdf(pr, poll_a, poll_b), lw=3, c='steelblue', label='poll')\n",
    "    \n",
    "    # poll beta:\n",
    "    plt.title(state+' poll vs. vote beta distributions', fontsize=20)\n",
    "    plt.xlabel('probability density', fontsize=16)\n",
    "    plt.ylabel('P(bush)', fontsize=16)\n",
    "    \n",
    "    plt.legend(loc='upper left', fontsize=14)\n",
    "\n",
    "    plt.show()"
   ]
  },
  {
   "cell_type": "markdown",
   "metadata": {},
   "source": [
    "### 6. Select 4 states of your choice and plot the beta distributions.\n"
   ]
  },
  {
   "cell_type": "code",
   "execution_count": 17,
   "metadata": {
    "collapsed": false
   },
   "outputs": [
    {
     "data": {
      "image/png": "[encoded data removed]",
      "text/plain": [
       "<matplotlib.figure.Figure at 0x11595a210>"
      ]
     },
     "metadata": {},
     "output_type": "display_data"
    }
   ],
   "source": [
    "poll_vote_betas(113, 159-113, 120, 203-120, 'AL')"
   ]
  },
  {
   "cell_type": "markdown",
   "metadata": {},
   "source": [
    "### 7. [Bonus] Use bootstrapping to estimate the percent of the voting distribution greater than the polling distribution\n",
    "\n",
    "Selecting random samples from a Beta distribution can be done with:\n",
    "\n",
    "```python\n",
    "from numpy.random import beta as random_beta\n",
    "```\n",
    "\n",
    "> **Hint**: You will want to calculate the percentage of random draws from the voting distribution that are greater than all of the draws from the poll distribution."
   ]
  },
  {
   "cell_type": "code",
   "execution_count": 18,
   "metadata": {
    "collapsed": false
   },
   "outputs": [],
   "source": [
    "from numpy.random import beta as random_beta"
   ]
  },
  {
   "cell_type": "code",
   "execution_count": 19,
   "metadata": {
    "collapsed": true
   },
   "outputs": [],
   "source": [
    "def bootstrap_beta_stats(vote_a, vote_b, poll_a, poll_b, boot_iterations=10000):\n",
    "    a_draws = []\n",
    "    b_draws = []\n",
    "    \n",
    "    for i in range(boot_iterations):\n",
    "        bootstrap_a = random_beta(vote_a, vote_b)\n",
    "        bootstrap_b = random_beta(poll_a, poll_b)\n",
    "        \n",
    "        a_draws.append(bootstrap_a)\n",
    "        b_draws.append(bootstrap_b)\n",
    "    \n",
    "    a_draws = np.array(a_draws)\n",
    "    b_draws = np.array(b_draws)\n",
    "    \n",
    "    a_ascending = np.sort(a_draws)\n",
    "    \n",
    "    # syntax for reverse sorting a numpy array\n",
    "    b_descending = np.sort(b_draws)[::-1]\n",
    "    \n",
    "    print(a_ascending[0:10])\n",
    "    print(b_descending[0:10])\n",
    "    \n",
    "    return np.sum(a_ascending > b_descending)/float(boot_iterations)"
   ]
  },
  {
   "cell_type": "code",
   "execution_count": 20,
   "metadata": {
    "collapsed": false
   },
   "outputs": [
    {
     "name": "stdout",
     "output_type": "stream",
     "text": [
      "[ 0.54679927  0.57292371  0.57835076  0.58440652  0.58871037  0.59024504\n",
      "  0.59126227  0.59528135  0.59594814  0.59671343]\n",
      "[ 0.7165613   0.7119798   0.71169208  0.70868549  0.70298623  0.70015543\n",
      "  0.69745714  0.69622878  0.69550439  0.69505276]\n"
     ]
    },
    {
     "data": {
      "text/plain": [
       "0.95240000000000002"
      ]
     },
     "execution_count": 20,
     "metadata": {},
     "output_type": "execute_result"
    }
   ],
   "source": [
    "bootstrap_beta_stats(113, 159-113, 120, 203-120)"
   ]
  }
 ],
 "metadata": {
  "kernelspec": {
   "display_name": "Python 2",
   "language": "python",
   "name": "python2"
  },
  "language_info": {
   "codemirror_mode": {
    "name": "ipython",
    "version": 2
   },
   "file_extension": ".py",
   "mimetype": "text/x-python",
   "name": "python",
   "nbconvert_exporter": "python",
   "pygments_lexer": "ipython2",
   "version": "2.7.12"
  }
 },
 "nbformat": 4,
 "nbformat_minor": 0
}
