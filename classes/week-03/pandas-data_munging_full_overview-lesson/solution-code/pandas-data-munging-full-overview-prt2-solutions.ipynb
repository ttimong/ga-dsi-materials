{
 "cells": [
  {
   "cell_type": "markdown",
   "metadata": {},
   "source": [
    "<img src=\"http://imgur.com/1ZcRyrc.png\" style=\"float: left; margin: 20px; height: 55px\">\n",
    "\n",
    "# `pandas` Data Munging Overview: Part 2\n",
    "\n",
    "_Authors: Joseph Nelson (DC)_\n",
    "\n",
    "---\n",
    "\n",
    "**Warning: This is a resource-heavy notebook that can consume a lot of RAM, especially when it's run in Chrome. For this lesson, you may want to close idle applications and/or open this notebook with Safari.**\n",
    "\n",
    "### Lesson Guide\n",
    "- [Exercise #3](#exercise-3)\n",
    "- [Split-Apply-Combine](#split-apply-combine)\n",
    "    - [`.groupby()`](#groupby)\n",
    "    - [Apply Functions to Groups and Combine](#apply-combine)\n",
    "- [Exercise #4](#exercise-4)\n",
    "- [Indexing](#indexing)\n",
    "    - [Location Indexing With `.loc()`](#loc)\n",
    "    - [Position Indexing With `.iloc()`](#iloc)\n",
    "- [Other Frequently Used Features](#frequent)\n",
    "    - [Using Map Functions With Replacement Dictionaries](#map-dict)\n",
    "    - [Encoding Strings as Integers With `.factorize()`](#factorize)\n",
    "    - [Determining Unique Values](#unique)\n",
    "    - [Replacing Values With `.replace()`](#replace)\n",
    "    - [Series String Methods With `.str`](#series-str)\n",
    "    - [Datetime Conversion and Arithmetic](#datetime)\n",
    "    - [Setting and Resetting the Index](#set-reset-index)\n",
    "    - [Sorting by Index](#sort-by-index)\n",
    "    - [Changing the Data Type of a Column](#change-dtype)\n",
    "    - [Creating Dummy-Coded Columns](#dummy)\n",
    "    - [Concatenating DataFrames](#concatenate)\n",
    "    - [Detecting and Dropping Duplicate Rows](#duplicate-rows)\n",
    "    - [Writing a DataFrame to a `.csv`](#write-csv)\n",
    "    - [Pickling a DataFrame](#pickle)\n",
    "    - [Randomly Sampling a DataFrame](#sample)\n",
    "- [Infrequently Used Features](#infrequent)\n",
    "    - [Creating DataFrames From Dictionaries and Lists of Lists](#toy-dataframes)\n",
    "    - [Performing Cross-Tabulations](#crosstab)\n",
    "    - [Query-Filtering Syntax](#query)\n",
    "    - [Calculating Memory Usage](#memory-usage)\n",
    "    - [Converting Column to Category Type](#category-type)\n",
    "    - [Creating Columns With `.assign()`](#assign)\n",
    "    - [Limiting the Number of Rows to Load in a File Read](#limit-rows-read)\n",
    "    - [Manually Setting the Number of Rows and Columns to Print](#manual-print)"
   ]
  },
  {
   "cell_type": "code",
   "execution_count": null,
   "metadata": {
    "collapsed": true
   },
   "outputs": [],
   "source": [
    "import pandas as pd"
   ]
  },
  {
   "cell_type": "markdown",
   "metadata": {},
   "source": [
    "<a id='exercise-3'></a>\n",
    "## Exercise #3\n",
    "\n",
    "---\n",
    "\n",
    "**Using the UFO data provided below:**\n",
    "1. Read in the data.\n",
    "2. Check the shape and describe the columns.\n",
    "3. Find the four most frequently reported colors.\n",
    "4. Find the most frequent city for reports in state `VA`.\n",
    "5. Find only UFO reports from Arlington, VA.\n",
    "6. Find the number of missing values in each column.\n",
    "7. Show only UFO reports where `city` is missing.\n",
    "8. Count the number of rows with no null values.\n",
    "9. Amend column names with spaces to have underscores.\n",
    "10. Make a new column that is a combination of `city` and `state`."
   ]
  },
  {
   "cell_type": "code",
   "execution_count": null,
   "metadata": {
    "collapsed": true
   },
   "outputs": [],
   "source": [
    "ufo_csv = 'https://git.generalassemb.ly/dsi-unit-2/pandas-data_munging_full_overview-lesson/tree/master/datasets/ufo.csv'\n",
    "ufo_csv = '../datasets/ufo.csv'"
   ]
  },
  {
   "cell_type": "code",
   "execution_count": null,
   "metadata": {
    "collapsed": false
   },
   "outputs": [],
   "source": [
    "# Read `ufo.csv` into a DataFrame called `ufo`.\n",
    "ufo = pd.read_table(ufo_csv, sep=',')\n",
    "ufo = pd.read_csv(ufo_csv)"
   ]
  },
  {
   "cell_type": "code",
   "execution_count": null,
   "metadata": {
    "collapsed": false
   },
   "outputs": [],
   "source": [
    "# Check the shape of the DataFrame.\n",
    "ufo.shape"
   ]
  },
  {
   "cell_type": "code",
   "execution_count": null,
   "metadata": {
    "collapsed": false
   },
   "outputs": [],
   "source": [
    "# Calculate the most frequent value for each of the columns in a single command.\n",
    "ufo.describe()"
   ]
  },
  {
   "cell_type": "code",
   "execution_count": null,
   "metadata": {
    "collapsed": false
   },
   "outputs": [],
   "source": [
    "# What are the four most frequently reported colors?\n",
    "ufo['Colors Reported'].value_counts().head(4)"
   ]
  },
  {
   "cell_type": "code",
   "execution_count": null,
   "metadata": {
    "collapsed": false
   },
   "outputs": [],
   "source": [
    "# For reports in `VA`, what's the most frequently listed city?\n",
    "ufo[ufo.State=='VA'].City.value_counts().head(1)"
   ]
  },
  {
   "cell_type": "code",
   "execution_count": null,
   "metadata": {
    "collapsed": false
   },
   "outputs": [],
   "source": [
    "# Show only the UFO reports from Arlington, VA.\n",
    "ufo[(ufo.City=='Arlington') & (ufo.State=='VA')]"
   ]
  },
  {
   "cell_type": "code",
   "execution_count": null,
   "metadata": {
    "collapsed": false
   },
   "outputs": [],
   "source": [
    "# Count the number of missing values in each column.\n",
    "ufo.isnull().sum()"
   ]
  },
  {
   "cell_type": "code",
   "execution_count": null,
   "metadata": {
    "collapsed": false
   },
   "outputs": [],
   "source": [
    "# Show only the UFO reports in which the `city` is missing.\n",
    "ufo[ufo.City.isnull()]"
   ]
  },
  {
   "cell_type": "code",
   "execution_count": null,
   "metadata": {
    "collapsed": false
   },
   "outputs": [],
   "source": [
    "# How many rows remain if you drop all rows with any missing values?\n",
    "ufo.dropna().shape[0]"
   ]
  },
  {
   "cell_type": "code",
   "execution_count": null,
   "metadata": {
    "collapsed": true
   },
   "outputs": [],
   "source": [
    "# Replace any spaces in the column names with underscores.\n",
    "ufo.rename(columns={'Colors Reported':'Colors_Reported', 'Shape Reported':'Shape_Reported'}, inplace=True)\n"
   ]
  },
  {
   "cell_type": "code",
   "execution_count": null,
   "metadata": {
    "collapsed": true
   },
   "outputs": [],
   "source": [
    "# BONUS: Redo the task above, writing generic code to replace spaces with underscores.\n",
    "# In other words, your code should not reference the specific column names.\n",
    "ufo.columns = [col.replace(' ', '_') for col in ufo.columns]\n",
    "ufo.columns = ufo.columns.str.replace(' ', '_')"
   ]
  },
  {
   "cell_type": "code",
   "execution_count": null,
   "metadata": {
    "collapsed": true
   },
   "outputs": [],
   "source": [
    "# Create a new column called `location` that includes both `city` and `state`.\n",
    "# For example, the `location` for the first row would be `Ithaca, NY`.\n",
    "ufo['Location'] = ufo.City + ', ' + ufo.State"
   ]
  },
  {
   "cell_type": "markdown",
   "metadata": {},
   "source": [
    "<a id='split-apply-combine'></a>\n",
    "## Split-Apply-Combine\n",
    "\n",
    "---\n",
    "\n",
    "![](../assets/split_apply_combine.png)"
   ]
  },
  {
   "cell_type": "markdown",
   "metadata": {},
   "source": [
    "<a id='groupby'></a>\n",
    "### `.groupby()`\n",
    "\n",
    "**Q.1** Using the `drinks` DataFrame, calculate the mean `beer` servings by continent."
   ]
  },
  {
   "cell_type": "code",
   "execution_count": null,
   "metadata": {
    "collapsed": false
   },
   "outputs": [],
   "source": [
    "drinks =pd.read_csv('../datasets/drinks_updated.csv')"
   ]
  },
  {
   "cell_type": "code",
   "execution_count": null,
   "metadata": {
    "collapsed": false
   },
   "outputs": [],
   "source": [
    "# For each continent, calculate the mean `beer` servings.\n",
    "drinks.groupby('continent').beer.mean()"
   ]
  },
  {
   "cell_type": "markdown",
   "metadata": {},
   "source": [
    "**Q.2** Describe the `beer` column by continent."
   ]
  },
  {
   "cell_type": "code",
   "execution_count": null,
   "metadata": {
    "collapsed": false
   },
   "outputs": [],
   "source": [
    "# For each continent, describe `beer` servings.\n",
    "drinks.groupby('continent').beer.describe()"
   ]
  },
  {
   "cell_type": "markdown",
   "metadata": {},
   "source": [
    "<a id='apply-combine'></a>\n",
    "### Apply Functions to Groups and Combine\n",
    "\n",
    "**Q.1** Find the `count`, `mean`, `minimum`, and `maximum `of the `beer` column by continent."
   ]
  },
  {
   "cell_type": "code",
   "execution_count": null,
   "metadata": {
    "collapsed": false
   },
   "outputs": [],
   "source": [
    "# Similar, this but outputs a DataFrame and can be customized.\n",
    "drinks.groupby('continent').beer.agg(['count', 'mean', 'min', 'max'])"
   ]
  },
  {
   "cell_type": "markdown",
   "metadata": {},
   "source": [
    "**Q.2** Perform the same task as in Q.1, but now sort the output by the `mean` column."
   ]
  },
  {
   "cell_type": "code",
   "execution_count": null,
   "metadata": {
    "collapsed": false
   },
   "outputs": [],
   "source": [
    "drinks.groupby('continent').beer.agg(['count', 'mean', 'min', 'max']).sort_values('mean')\n"
   ]
  },
  {
   "cell_type": "markdown",
   "metadata": {},
   "source": [
    "**Q.3** Apply a custom function to all columns of the `drinks` DataFrame, grouping by continent."
   ]
  },
  {
   "cell_type": "code",
   "execution_count": null,
   "metadata": {
    "collapsed": false
   },
   "outputs": [],
   "source": [
    "# Find the first value of each column by continent:\n",
    "drinks.groupby('continent').apply(lambda x: x.iloc[0,:])"
   ]
  },
  {
   "cell_type": "markdown",
   "metadata": {},
   "source": [
    "**Q.4** **Note:** If you don't specify a column for the aggregation function, it will be applied to all numeric columns."
   ]
  },
  {
   "cell_type": "code",
   "execution_count": null,
   "metadata": {
    "collapsed": false
   },
   "outputs": [],
   "source": [
    "drinks.groupby('continent').mean()\n",
    "drinks.groupby('continent').describe()"
   ]
  },
  {
   "cell_type": "markdown",
   "metadata": {},
   "source": [
    "<a id='exercise-4'></a>\n",
    "\n",
    "## Exercise #4\n",
    "\n",
    "---\n",
    "\n",
    "**Using the `users` DataFrame**:\n",
    "1. Count the number of distinct occupations in `users`.\n",
    "2. Calculate the mean age by occupation.\n",
    "3. Calculate the minimum and maximum age by occupation.\n",
    "4. Calculate the mean age by cross-sections of `occupation` and `gender`.\n",
    "\n",
    "> **Tip**: Multiple columns can be passed to the `.groupby()` function for more granular cross-sections."
   ]
  },
  {
   "cell_type": "code",
   "execution_count": null,
   "metadata": {
    "collapsed": false
   },
   "outputs": [],
   "source": [
    "users=pd.read_table('../datasets/users.txt', sep='|')"
   ]
  },
  {
   "cell_type": "code",
   "execution_count": null,
   "metadata": {
    "collapsed": false
   },
   "outputs": [],
   "source": [
    "# For each occupation in `users`, count the number of occurrences.\n",
    "users.occupation.value_counts()"
   ]
  },
  {
   "cell_type": "code",
   "execution_count": null,
   "metadata": {
    "collapsed": false
   },
   "outputs": [],
   "source": [
    "# For each occupation, calculate the mean age.\n",
    "users.groupby('occupation').age.mean()"
   ]
  },
  {
   "cell_type": "code",
   "execution_count": null,
   "metadata": {
    "collapsed": false
   },
   "outputs": [],
   "source": [
    "# For each occupation, calculate the minimum and maximum ages.\n",
    "users.groupby('occupation').age.agg(['min', 'max'])"
   ]
  },
  {
   "cell_type": "code",
   "execution_count": null,
   "metadata": {
    "collapsed": false
   },
   "outputs": [],
   "source": [
    "# For each combination of `occupation` and `gender`, calculate the mean age.\n",
    "users.groupby(['occupation', 'gender']).age.mean()"
   ]
  },
  {
   "cell_type": "markdown",
   "metadata": {},
   "source": [
    "<a id='indexing'></a>\n",
    "## Indexing\n",
    "\n",
    "---\n",
    "<a id='loc'></a>\n",
    "### Location Indexing With `.loc()`\n",
    "\n",
    "**Q.1** Select all rows and the `city` column from the UFO data set using `.loc()`."
   ]
  },
  {
   "cell_type": "code",
   "execution_count": null,
   "metadata": {
    "collapsed": false
   },
   "outputs": [],
   "source": [
    "d = ufo.loc[:, 'City'] # Colon means \"all rows;\" then, select one column\n",
    "d"
   ]
  },
  {
   "cell_type": "markdown",
   "metadata": {},
   "source": [
    "**Q.2** Select all rows and columns in `city` and `state`."
   ]
  },
  {
   "cell_type": "code",
   "execution_count": null,
   "metadata": {
    "collapsed": false
   },
   "outputs": [],
   "source": [
    "d = ufo.loc[:, ['City', 'State']]   # Select two columns\n",
    "d"
   ]
  },
  {
   "cell_type": "markdown",
   "metadata": {},
   "source": [
    "**Q.3** Select all rows and columns from `city` *through* `state`."
   ]
  },
  {
   "cell_type": "code",
   "execution_count": null,
   "metadata": {
    "collapsed": false
   },
   "outputs": [],
   "source": [
    "d = ufo.loc[:, 'City':'State'] # Select a range of columns.\n",
    "d.columns"
   ]
  },
  {
   "cell_type": "markdown",
   "metadata": {},
   "source": [
    "**Q.4** Select:\n",
    "- All columns at row 0.\n",
    "- All columns at rows 0:2.\n",
    "- Columns `city` through `state` at rows 0:2."
   ]
  },
  {
   "cell_type": "code",
   "execution_count": null,
   "metadata": {
    "collapsed": true
   },
   "outputs": [],
   "source": [
    "# `.loc()` can also filter rows by \"name\" (the index).\n",
    "d = ufo.loc[0, :]                   # Row 0, all columns\n",
    "d = ufo.loc[0:2, :]                 # Rows 0/1/2, all columns\n",
    "d = ufo.loc[0:2, 'City':'State']    # Rows 0/1/2, range of columns"
   ]
  },
  {
   "cell_type": "markdown",
   "metadata": {},
   "source": [
    "<a id='iloc'></a>\n",
    "### Position indexing with `.iloc`\n",
    "\n",
    "**Q.1** Select all rows and columns in position 0 and 3."
   ]
  },
  {
   "cell_type": "code",
   "execution_count": null,
   "metadata": {
    "collapsed": false
   },
   "outputs": [],
   "source": [
    "d = ufo.iloc[:, [0, 3]] # All rows, columns in position 0/3\n",
    "d"
   ]
  },
  {
   "cell_type": "markdown",
   "metadata": {},
   "source": [
    "**Q.2** Select all rows and columns in positions 0 through 4."
   ]
  },
  {
   "cell_type": "code",
   "execution_count": null,
   "metadata": {
    "collapsed": false
   },
   "outputs": [],
   "source": [
    "d = ufo.iloc[:, 0:4] # All rows, columns in position 0/1/2/3\n",
    "d"
   ]
  },
  {
   "cell_type": "markdown",
   "metadata": {},
   "source": [
    "**Q.3** Select rows in positions 0:3, along with all columns."
   ]
  },
  {
   "cell_type": "code",
   "execution_count": null,
   "metadata": {
    "collapsed": false
   },
   "outputs": [],
   "source": [
    "d = ufo.iloc[0:3, :] # rows in position 0/1/2, all columns\n",
    "d"
   ]
  },
  {
   "cell_type": "markdown",
   "metadata": {},
   "source": [
    "<a id='frequent'></a>\n",
    "## Frequently Used Features\n",
    "\n",
    "---\n",
    "<a id='map-dict'></a>\n",
    "### Using Map Functions With Replacement Dictionaries"
   ]
  },
  {
   "cell_type": "code",
   "execution_count": null,
   "metadata": {
    "collapsed": true
   },
   "outputs": [],
   "source": [
    "# Map existing values to a different set of values.\n",
    "users['is_male'] = users.gender.map({'F':0, 'M':1})"
   ]
  },
  {
   "cell_type": "markdown",
   "metadata": {},
   "source": [
    "<a id='factorize'></a>\n",
    "### Encoding Strings as Integers With `.factorize()`"
   ]
  },
  {
   "cell_type": "code",
   "execution_count": null,
   "metadata": {
    "collapsed": false
   },
   "outputs": [],
   "source": [
    "# Encode strings as integer values. (This function automatically starts at 0).\n",
    "users['occupation_num'] = users.occupation.factorize()[0]\n",
    "\n",
    "users.head()"
   ]
  },
  {
   "cell_type": "markdown",
   "metadata": {},
   "source": [
    "<a id='unique'></a>\n",
    "### Determining Unique Values"
   ]
  },
  {
   "cell_type": "code",
   "execution_count": null,
   "metadata": {
    "collapsed": false
   },
   "outputs": [],
   "source": [
    "# Determine unique values in a column.\n",
    "users.occupation.nunique()      # Count the number of unique values."
   ]
  },
  {
   "cell_type": "code",
   "execution_count": null,
   "metadata": {
    "collapsed": false
   },
   "outputs": [],
   "source": [
    "users.occupation.unique()       # Return the unique values."
   ]
  },
  {
   "cell_type": "markdown",
   "metadata": {},
   "source": [
    "<a id='replace'></a>\n",
    "### Replacing Values With `.replace()`"
   ]
  },
  {
   "cell_type": "code",
   "execution_count": null,
   "metadata": {
    "collapsed": true
   },
   "outputs": [],
   "source": [
    "# Replace all instances of a value in a column (must match the entire value).\n",
    "ufo.State.replace('Fl', 'FL', inplace=True)"
   ]
  },
  {
   "cell_type": "markdown",
   "metadata": {},
   "source": [
    "<a id='series-str'></a>\n",
    "### Series String Methods With `.str`"
   ]
  },
  {
   "cell_type": "code",
   "execution_count": null,
   "metadata": {
    "collapsed": false
   },
   "outputs": [],
   "source": [
    "# String methods are accessed via `.str`.\n",
    "ufo.State.str.upper()                               # Converts to uppercase\n",
    "ufo.Colors_Reported.str.contains('RED', na='False').head(2) # Checks for a substring"
   ]
  },
  {
   "cell_type": "markdown",
   "metadata": {},
   "source": [
    "<a id='datetime'></a>\n",
    "### Datetime Conversion and Arithmetic"
   ]
  },
  {
   "cell_type": "code",
   "execution_count": null,
   "metadata": {
    "collapsed": false
   },
   "outputs": [],
   "source": [
    "# Convert a string to the datetime format.\n",
    "ufo['Time'] = pd.to_datetime(ufo.Time)\n",
    "ufo.Time.dt.hour                        # Datetime format exposes convenient attributes.\n",
    "(ufo.Time.max() - ufo.Time.min()).days  # It also allows you to do datetime \"math.\"\n",
    "ufo[ufo.Time > pd.datetime(2014, 1, 1)].head(2) # Boolean filtering with the datetime format"
   ]
  },
  {
   "cell_type": "markdown",
   "metadata": {},
   "source": [
    "<a id='set-reset-index'></a>\n",
    "### Setting and Resetting the Index"
   ]
  },
  {
   "cell_type": "code",
   "execution_count": null,
   "metadata": {
    "collapsed": true
   },
   "outputs": [],
   "source": [
    "# Setting and then removing an index\n",
    "ufo.set_index('Time', inplace=True)\n",
    "ufo.reset_index(inplace=True)"
   ]
  },
  {
   "cell_type": "markdown",
   "metadata": {},
   "source": [
    "<a id='sort-by-index'></a>\n",
    "### Sorting by Index"
   ]
  },
  {
   "cell_type": "code",
   "execution_count": null,
   "metadata": {
    "collapsed": false
   },
   "outputs": [],
   "source": [
    "# Sort a column by its index.\n",
    "ufo.State.value_counts().sort_index()[0:3]"
   ]
  },
  {
   "cell_type": "markdown",
   "metadata": {},
   "source": [
    "<a id='change-dtype'></a>\n",
    "### Changing the Data Type of a Column"
   ]
  },
  {
   "cell_type": "code",
   "execution_count": null,
   "metadata": {
    "collapsed": false
   },
   "outputs": [],
   "source": [
    "# Change the data type of a column.\n",
    "drinks['beer'] = drinks.beer.astype('float')\n",
    "\n",
    "# Change the data type of a column when reading in a file.\n",
    "d = pd.read_csv('../datasets/drinks.csv', dtype={'beer_servings':float})"
   ]
  },
  {
   "cell_type": "markdown",
   "metadata": {},
   "source": [
    "<a id='dummy'></a>\n",
    "### Creating Dummy-Coded Columns"
   ]
  },
  {
   "cell_type": "code",
   "execution_count": null,
   "metadata": {
    "collapsed": false
   },
   "outputs": [],
   "source": [
    "# Create dummy variables for `continent` and exclude the first dummy column.\n",
    "continent_dummies = pd.get_dummies(drinks.continent, prefix='cont').iloc[:, 1:]\n",
    "continent_dummies.head(3)"
   ]
  },
  {
   "cell_type": "markdown",
   "metadata": {},
   "source": [
    "<a id='concatenate'></a>\n",
    "### Concatenating DataFrames"
   ]
  },
  {
   "cell_type": "code",
   "execution_count": null,
   "metadata": {
    "collapsed": true
   },
   "outputs": [],
   "source": [
    "# Concatenate two DataFrames (axis=0 for rows, axis=1 for columns).\n",
    "drinks = pd.concat([drinks, continent_dummies], axis=1)"
   ]
  },
  {
   "cell_type": "code",
   "execution_count": null,
   "metadata": {
    "collapsed": false
   },
   "outputs": [],
   "source": [
    "drinks.head(2)"
   ]
  },
  {
   "cell_type": "markdown",
   "metadata": {},
   "source": [
    "<a id='duplicate-rows'></a>\n",
    "### Detecting and Dropping Duplicate Rows"
   ]
  },
  {
   "cell_type": "code",
   "execution_count": null,
   "metadata": {
    "collapsed": true
   },
   "outputs": [],
   "source": [
    "# Detecting duplicate rows:\n",
    "d = users.duplicated()          # True if a row is identical to a previous row.\n",
    "d = users.duplicated().sum()    # Count of duplicates.\n",
    "d = users[users.duplicated()]   # Only shows duplicates.\n",
    "d = users.drop_duplicates()     # Drops duplicate rows.\n",
    "d = users.age.duplicated()      # Checks a single column for duplicates.\n",
    "d = users.duplicated(['age', 'gender', 'zip_code']).sum()   # Specifies columns for finding duplicates."
   ]
  },
  {
   "cell_type": "markdown",
   "metadata": {},
   "source": [
    "<a id='write-csv'></a>\n",
    "### Writing a DataFrame to a `.csv`\n",
    "```python\n",
    "# Write a DataFrame out to a `.csv`.\n",
    "drinks.to_csv('drinks_updated.csv')  # Index is used as the first column\n",
    "drinks.to_csv('drinks_updated.csv', index=False) # Ignore index\n",
    "```"
   ]
  },
  {
   "cell_type": "markdown",
   "metadata": {},
   "source": [
    "<a id='pickle'></a>\n",
    "### Pickling a DataFrame\n",
    "```python\n",
    "# Save a DataFrame to disk (a.k.a., \"pickle\") and read it from disk (a.k.a., \"unpickle\").\n",
    "drinks.to_pickle('drinks_pickle')\n",
    "pd.read_pickle('drinks_pickle')\n",
    "```"
   ]
  },
  {
   "cell_type": "markdown",
   "metadata": {},
   "source": [
    "<a id='sample'></a>\n",
    "### Randomly Sampling a DataFrame"
   ]
  },
  {
   "cell_type": "code",
   "execution_count": null,
   "metadata": {
    "collapsed": true
   },
   "outputs": [],
   "source": [
    "# Randomly sample a DataFrame.\n",
    "train = drinks.sample(frac=0.75, random_state=1)    # Will contain 75% of the rows\n",
    "test = drinks[~drinks.index.isin(train.index)]      # Will contain the other 25%"
   ]
  },
  {
   "cell_type": "markdown",
   "metadata": {},
   "source": [
    "<a id='infrequent'></a>\n",
    "## Infrequently Used Features\n",
    "\n",
    "---\n",
    "\n",
    "<a id='toy-dataframes'></a>\n",
    "### Creating DataFrames From Dictionaries and Lists of Lists"
   ]
  },
  {
   "cell_type": "code",
   "execution_count": null,
   "metadata": {
    "collapsed": false
   },
   "outputs": [],
   "source": [
    "# Create a DataFrame from a dictionary.\n",
    "d = pd.DataFrame({'capital':['Montgomery', 'Juneau', 'Phoenix'], 'state':['AL', 'AK', 'AZ']})\n",
    "d.head(2)"
   ]
  },
  {
   "cell_type": "code",
   "execution_count": null,
   "metadata": {
    "collapsed": false
   },
   "outputs": [],
   "source": [
    "# Create a DataFrame from a list of lists.\n",
    "d = pd.DataFrame([['Montgomery', 'AL'], ['Juneau', 'AK'], ['Phoenix', 'AZ']], columns=['capital', 'state'])\n",
    "d.head(2)"
   ]
  },
  {
   "cell_type": "markdown",
   "metadata": {},
   "source": [
    "<a id='crosstab'></a>\n",
    "### Performing Cross-Tabulations"
   ]
  },
  {
   "cell_type": "code",
   "execution_count": null,
   "metadata": {
    "collapsed": false
   },
   "outputs": [],
   "source": [
    "# Display a cross-tabulation of two Series.\n",
    "pd.crosstab(users.occupation, users.gender)"
   ]
  },
  {
   "cell_type": "markdown",
   "metadata": {},
   "source": [
    "<a id='query'></a>\n",
    "### Query-Filtering Syntax"
   ]
  },
  {
   "cell_type": "code",
   "execution_count": null,
   "metadata": {
    "collapsed": true
   },
   "outputs": [],
   "source": [
    "# Alternative syntax for Boolean filtering (noted as \"experimental\" in the documentation):\n",
    "d = users.query('age < 20')                 # users[users.age < 20]\n",
    "d = users.query(\"age < 20 and gender=='M'\") # users[(users.age < 20) & (users.gender=='M')]\n",
    "d = users.query('age < 20 or age > 60')     # users[(users.age < 20) | (users.age > 60)]"
   ]
  },
  {
   "cell_type": "markdown",
   "metadata": {},
   "source": [
    "<a id='memory-usage'></a>\n",
    "### Calculating Memory Usage"
   ]
  },
  {
   "cell_type": "code",
   "execution_count": null,
   "metadata": {
    "collapsed": false
   },
   "outputs": [],
   "source": [
    "# Display the memory usage of a DataFrame.\n",
    "d = ufo.info()          # Total usage\n",
    "ufo.memory_usage()  # Usage by column"
   ]
  },
  {
   "cell_type": "markdown",
   "metadata": {},
   "source": [
    "<a id='category-type'></a>\n",
    "### Converting Column to Category Type"
   ]
  },
  {
   "cell_type": "code",
   "execution_count": null,
   "metadata": {
    "collapsed": true
   },
   "outputs": [],
   "source": [
    "# Change a Series to the `category` data type. (This reduces memory usage and increases performance).\n",
    "ufo['State'] = ufo.State.astype('category')"
   ]
  },
  {
   "cell_type": "markdown",
   "metadata": {},
   "source": [
    "<a id='assign'></a>\n",
    "### Creating Columns With `.assign()`"
   ]
  },
  {
   "cell_type": "code",
   "execution_count": null,
   "metadata": {
    "collapsed": false
   },
   "outputs": [],
   "source": [
    "# Temporarily define a new column as a function of the existing columns.\n",
    "drinks.assign(servings = drinks.beer + drinks.spirit + drinks.wine).head(2)"
   ]
  },
  {
   "cell_type": "markdown",
   "metadata": {},
   "source": [
    "<a id='limit-rows-read'></a>\n",
    "### Limiting the Number of Rows to Load in a File Read"
   ]
  },
  {
   "cell_type": "code",
   "execution_count": null,
   "metadata": {
    "collapsed": false
   },
   "outputs": [],
   "source": [
    "# Limit which rows are included when reading in a file.\n",
    "d = pd.read_csv('../datasets/drinks.csv', nrows=10)           # Only read the first 10 rows.\n",
    "d = pd.read_csv('../datasets/drinks.csv', skiprows=[1, 2])    # Skip the first two rows of data."
   ]
  },
  {
   "cell_type": "markdown",
   "metadata": {},
   "source": [
    "<a id='manual-print'></a>\n",
    "### Manually Setting the Number of Rows and Columns to Print"
   ]
  },
  {
   "cell_type": "code",
   "execution_count": null,
   "metadata": {
    "collapsed": false
   },
   "outputs": [],
   "source": [
    "# Change the maximum number of rows and columns printed. (`None` means unlimited).\n",
    "pd.set_option('max_rows', 2)     # Default is 60 rows\n",
    "pd.set_option('max_columns', 2)  # Default is 20 columns\n",
    "print drinks"
   ]
  },
  {
   "cell_type": "code",
   "execution_count": null,
   "metadata": {
    "collapsed": true
   },
   "outputs": [],
   "source": [
    "# Reset the options to defaults.\n",
    "pd.reset_option('max_rows')\n",
    "pd.reset_option('max_columns')"
   ]
  },
  {
   "cell_type": "code",
   "execution_count": null,
   "metadata": {
    "collapsed": false
   },
   "outputs": [],
   "source": [
    "# Change the options temporarily. (Settings are restored when you exit the `with` block).\n",
    "with pd.option_context('max_rows', None, 'max_columns', None):\n",
    "    print drinks"
   ]
  },
  {
   "cell_type": "code",
   "execution_count": null,
   "metadata": {
    "collapsed": true
   },
   "outputs": [],
   "source": []
  }
 ],
 "metadata": {
  "kernelspec": {
   "display_name": "Python 2",
   "language": "python",
   "name": "python2"
  },
  "language_info": {
   "codemirror_mode": {
    "name": "ipython",
    "version": 2
   },
   "file_extension": ".py",
   "mimetype": "text/x-python",
   "name": "python",
   "nbconvert_exporter": "python",
   "pygments_lexer": "ipython2",
   "version": "2.7.13"
  }
 },
 "nbformat": 4,
 "nbformat_minor": 2
}
