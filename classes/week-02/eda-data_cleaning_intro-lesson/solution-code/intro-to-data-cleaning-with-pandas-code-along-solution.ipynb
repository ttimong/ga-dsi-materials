{
 "cells": [
  {
   "cell_type": "markdown",
   "metadata": {},
   "source": [
    "<img src=\"http://imgur.com/1ZcRyrc.png\" style=\"float: left; margin: 20px; height: 55px\">\n",
    "\n",
    "## Guided Practice: Inspecting Data Types and Applying Functions\n",
    "\n",
    "_Authors: Dave Yerrington (SF)_\n",
    "\n",
    "---"
   ]
  },
  {
   "cell_type": "code",
   "execution_count": 1,
   "metadata": {
    "collapsed": true
   },
   "outputs": [],
   "source": [
    "import pandas as pd\n",
    "import numpy as np"
   ]
  },
  {
   "cell_type": "markdown",
   "metadata": {},
   "source": [
    "**1. Create a small DataFrame with different data types (provided).**"
   ]
  },
  {
   "cell_type": "code",
   "execution_count": 3,
   "metadata": {
    "collapsed": false
   },
   "outputs": [
    {
     "data": {
      "text/html": [
       "<div>\n",
       "<table border=\"1\" class=\"dataframe\">\n",
       "  <thead>\n",
       "    <tr style=\"text-align: right;\">\n",
       "      <th></th>\n",
       "      <th>A</th>\n",
       "      <th>B</th>\n",
       "      <th>C</th>\n",
       "      <th>D</th>\n",
       "      <th>E</th>\n",
       "      <th>F</th>\n",
       "      <th>G</th>\n",
       "    </tr>\n",
       "  </thead>\n",
       "  <tbody>\n",
       "    <tr>\n",
       "      <th>0</th>\n",
       "      <td>0.159207</td>\n",
       "      <td>1</td>\n",
       "      <td>foo</td>\n",
       "      <td>2001-01-02</td>\n",
       "      <td>1.0</td>\n",
       "      <td>False</td>\n",
       "      <td>1</td>\n",
       "    </tr>\n",
       "    <tr>\n",
       "      <th>1</th>\n",
       "      <td>0.385402</td>\n",
       "      <td>1</td>\n",
       "      <td>foo</td>\n",
       "      <td>2001-01-02</td>\n",
       "      <td>1.0</td>\n",
       "      <td>False</td>\n",
       "      <td>1</td>\n",
       "    </tr>\n",
       "    <tr>\n",
       "      <th>2</th>\n",
       "      <td>0.550123</td>\n",
       "      <td>1</td>\n",
       "      <td>foo</td>\n",
       "      <td>2001-01-02</td>\n",
       "      <td>1.0</td>\n",
       "      <td>False</td>\n",
       "      <td>1</td>\n",
       "    </tr>\n",
       "  </tbody>\n",
       "</table>\n",
       "</div>"
      ],
      "text/plain": [
       "          A  B    C          D    E      F  G\n",
       "0  0.159207  1  foo 2001-01-02  1.0  False  1\n",
       "1  0.385402  1  foo 2001-01-02  1.0  False  1\n",
       "2  0.550123  1  foo 2001-01-02  1.0  False  1"
      ]
     },
     "execution_count": 3,
     "metadata": {},
     "output_type": "execute_result"
    }
   ],
   "source": [
    "# create a small dictionary with different data types\n",
    "\n",
    "dft = pd.DataFrame(dict(A = np.random.rand(3),\n",
    "                        B = 1,\n",
    "                        C = 'foo',\n",
    "                        D = pd.Timestamp('20010102'),\n",
    "                        E = pd.Series([1.0]*3).astype('float32'),\n",
    "                                F = False,\n",
    "                                G = pd.Series([1]*3,dtype='int8')))\n",
    "\n",
    "dft"
   ]
  },
  {
   "cell_type": "markdown",
   "metadata": {},
   "source": [
    "**2. Examine the data types of the columns.**"
   ]
  },
  {
   "cell_type": "code",
   "execution_count": 4,
   "metadata": {
    "collapsed": false
   },
   "outputs": [
    {
     "data": {
      "text/plain": [
       "A           float64\n",
       "B             int64\n",
       "C            object\n",
       "D    datetime64[ns]\n",
       "E           float32\n",
       "F              bool\n",
       "G              int8\n",
       "dtype: object"
      ]
     },
     "execution_count": 4,
     "metadata": {},
     "output_type": "execute_result"
    }
   ],
   "source": [
    "# .dtypes is a really easy way to see what kind of dtypes \n",
    "# are in each column. \n",
    "dft.dtypes"
   ]
  },
  {
   "cell_type": "markdown",
   "metadata": {},
   "source": [
    "**3. Create a Series object with the integers 1-5 and float 6.0. What data type is the Series?**"
   ]
  },
  {
   "cell_type": "code",
   "execution_count": 5,
   "metadata": {
    "collapsed": false
   },
   "outputs": [
    {
     "data": {
      "text/plain": [
       "0    1.0\n",
       "1    2.0\n",
       "2    3.0\n",
       "3    4.0\n",
       "4    5.0\n",
       "5    6.0\n",
       "dtype: float64"
      ]
     },
     "execution_count": 5,
     "metadata": {},
     "output_type": "execute_result"
    }
   ],
   "source": [
    "# If a pandas object contains data multiple dtypes IN A \n",
    "# SINGLE COLUMN, the dtype of the column will be chosen \n",
    "# to accommodate all of the data types (object is the \n",
    "# most general).\n",
    "# these ints are coerced to floats\n",
    "\n",
    "pd.Series([1, 2, 3, 4, 5, 6.])"
   ]
  },
  {
   "cell_type": "markdown",
   "metadata": {},
   "source": [
    "**4. Create a Series with data: `[1, 2, 3, 6., 'foo']`. What data type is the series?**"
   ]
  },
  {
   "cell_type": "code",
   "execution_count": 6,
   "metadata": {
    "collapsed": false
   },
   "outputs": [
    {
     "data": {
      "text/plain": [
       "0      1\n",
       "1      2\n",
       "2      3\n",
       "3      6\n",
       "4    foo\n",
       "dtype: object"
      ]
     },
     "execution_count": 6,
     "metadata": {},
     "output_type": "execute_result"
    }
   ],
   "source": [
    "# string data forces an ``object`` dtype\n",
    "\n",
    "pd.Series([1, 2, 3, 6., 'foo'])"
   ]
  },
  {
   "cell_type": "markdown",
   "metadata": {},
   "source": [
    "**5. Find how many columns of each type there are with the `.get_dtype_counts()` function.**"
   ]
  },
  {
   "cell_type": "code",
   "execution_count": 7,
   "metadata": {
    "collapsed": false
   },
   "outputs": [
    {
     "data": {
      "text/plain": [
       "bool              1\n",
       "datetime64[ns]    1\n",
       "float32           1\n",
       "float64           1\n",
       "int64             1\n",
       "int8              1\n",
       "object            1\n",
       "dtype: int64"
      ]
     },
     "execution_count": 7,
     "metadata": {},
     "output_type": "execute_result"
    }
   ],
   "source": [
    "# The method get_dtype_counts() will return the number \n",
    "# of columns of each type in a DataFrame:\n",
    "\n",
    "dft.get_dtype_counts()"
   ]
  },
  {
   "cell_type": "markdown",
   "metadata": {},
   "source": [
    "**6. Create another small DataFrame (provided).**"
   ]
  },
  {
   "cell_type": "code",
   "execution_count": 8,
   "metadata": {
    "collapsed": false
   },
   "outputs": [
    {
     "data": {
      "text/html": [
       "<div>\n",
       "<table border=\"1\" class=\"dataframe\">\n",
       "  <thead>\n",
       "    <tr style=\"text-align: right;\">\n",
       "      <th></th>\n",
       "      <th>a</th>\n",
       "      <th>b</th>\n",
       "      <th>c</th>\n",
       "      <th>d</th>\n",
       "    </tr>\n",
       "  </thead>\n",
       "  <tbody>\n",
       "    <tr>\n",
       "      <th>0</th>\n",
       "      <td>-0.986421</td>\n",
       "      <td>1.278467</td>\n",
       "      <td>-1.325367</td>\n",
       "      <td>0.380944</td>\n",
       "    </tr>\n",
       "    <tr>\n",
       "      <th>1</th>\n",
       "      <td>1.172461</td>\n",
       "      <td>0.435899</td>\n",
       "      <td>0.096410</td>\n",
       "      <td>0.400349</td>\n",
       "    </tr>\n",
       "    <tr>\n",
       "      <th>2</th>\n",
       "      <td>0.100090</td>\n",
       "      <td>0.261444</td>\n",
       "      <td>-0.174855</td>\n",
       "      <td>-0.008861</td>\n",
       "    </tr>\n",
       "    <tr>\n",
       "      <th>3</th>\n",
       "      <td>3.296258</td>\n",
       "      <td>-0.444708</td>\n",
       "      <td>0.071411</td>\n",
       "      <td>0.298726</td>\n",
       "    </tr>\n",
       "    <tr>\n",
       "      <th>4</th>\n",
       "      <td>-0.021810</td>\n",
       "      <td>1.146638</td>\n",
       "      <td>1.090202</td>\n",
       "      <td>-0.139361</td>\n",
       "    </tr>\n",
       "  </tbody>\n",
       "</table>\n",
       "</div>"
      ],
      "text/plain": [
       "          a         b         c         d\n",
       "0 -0.986421  1.278467 -1.325367  0.380944\n",
       "1  1.172461  0.435899  0.096410  0.400349\n",
       "2  0.100090  0.261444 -0.174855 -0.008861\n",
       "3  3.296258 -0.444708  0.071411  0.298726\n",
       "4 -0.021810  1.146638  1.090202 -0.139361"
      ]
     },
     "execution_count": 8,
     "metadata": {},
     "output_type": "execute_result"
    }
   ],
   "source": [
    "# create a small data frame. \n",
    "\n",
    "df = pd.DataFrame(np.random.randn(5, 4), columns=['a', 'b', 'c', 'd'])\n",
    "df"
   ]
  },
  {
   "cell_type": "markdown",
   "metadata": {},
   "source": [
    "**7. Use the `.apply()` function to find the square root of all the cells.**"
   ]
  },
  {
   "cell_type": "code",
   "execution_count": 9,
   "metadata": {
    "collapsed": false
   },
   "outputs": [
    {
     "data": {
      "text/html": [
       "<div>\n",
       "<table border=\"1\" class=\"dataframe\">\n",
       "  <thead>\n",
       "    <tr style=\"text-align: right;\">\n",
       "      <th></th>\n",
       "      <th>a</th>\n",
       "      <th>b</th>\n",
       "      <th>c</th>\n",
       "      <th>d</th>\n",
       "    </tr>\n",
       "  </thead>\n",
       "  <tbody>\n",
       "    <tr>\n",
       "      <th>0</th>\n",
       "      <td>NaN</td>\n",
       "      <td>1.130693</td>\n",
       "      <td>NaN</td>\n",
       "      <td>0.617206</td>\n",
       "    </tr>\n",
       "    <tr>\n",
       "      <th>1</th>\n",
       "      <td>1.082803</td>\n",
       "      <td>0.660227</td>\n",
       "      <td>0.310500</td>\n",
       "      <td>0.632731</td>\n",
       "    </tr>\n",
       "    <tr>\n",
       "      <th>2</th>\n",
       "      <td>0.316370</td>\n",
       "      <td>0.511316</td>\n",
       "      <td>NaN</td>\n",
       "      <td>NaN</td>\n",
       "    </tr>\n",
       "    <tr>\n",
       "      <th>3</th>\n",
       "      <td>1.815560</td>\n",
       "      <td>NaN</td>\n",
       "      <td>0.267228</td>\n",
       "      <td>0.546558</td>\n",
       "    </tr>\n",
       "    <tr>\n",
       "      <th>4</th>\n",
       "      <td>NaN</td>\n",
       "      <td>1.070812</td>\n",
       "      <td>1.044128</td>\n",
       "      <td>NaN</td>\n",
       "    </tr>\n",
       "  </tbody>\n",
       "</table>\n",
       "</div>"
      ],
      "text/plain": [
       "          a         b         c         d\n",
       "0       NaN  1.130693       NaN  0.617206\n",
       "1  1.082803  0.660227  0.310500  0.632731\n",
       "2  0.316370  0.511316       NaN       NaN\n",
       "3  1.815560       NaN  0.267228  0.546558\n",
       "4       NaN  1.070812  1.044128       NaN"
      ]
     },
     "execution_count": 9,
     "metadata": {},
     "output_type": "execute_result"
    }
   ],
   "source": [
    "# Use df.apply to find the square root of all the values. \n",
    "# NaN means not a number\n",
    "\n",
    "df.apply(np.sqrt)"
   ]
  },
  {
   "cell_type": "markdown",
   "metadata": {},
   "source": [
    "**8. Use `.apply()` to find the mean of the columns.**"
   ]
  },
  {
   "cell_type": "code",
   "execution_count": 10,
   "metadata": {
    "collapsed": false
   },
   "outputs": [
    {
     "data": {
      "text/plain": [
       "a    0.712116\n",
       "b    0.535548\n",
       "c   -0.048440\n",
       "d    0.186359\n",
       "dtype: float64"
      ]
     },
     "execution_count": 10,
     "metadata": {},
     "output_type": "execute_result"
    }
   ],
   "source": [
    "# find the mean of all of the columns\n",
    "\n",
    "df.apply(np.mean, axis=0)"
   ]
  },
  {
   "cell_type": "markdown",
   "metadata": {},
   "source": [
    "**9. Find the mean of the rows.**"
   ]
  },
  {
   "cell_type": "code",
   "execution_count": 11,
   "metadata": {
    "collapsed": false
   },
   "outputs": [
    {
     "data": {
      "text/plain": [
       "0   -0.163095\n",
       "1    0.526280\n",
       "2    0.044454\n",
       "3    0.805422\n",
       "4    0.518917\n",
       "dtype: float64"
      ]
     },
     "execution_count": 11,
     "metadata": {},
     "output_type": "execute_result"
    }
   ],
   "source": [
    "# find the mean of all of the rows\n",
    "\n",
    "df.apply(np.mean, axis=1)"
   ]
  },
  {
   "cell_type": "markdown",
   "metadata": {},
   "source": [
    "**10. Use numpy to create a random vector of 50 numbers ranging from 0 to 6.**\n",
    "\n",
    "*Hint: This can be done with `np.random.randint()`."
   ]
  },
  {
   "cell_type": "code",
   "execution_count": 12,
   "metadata": {
    "collapsed": false
   },
   "outputs": [
    {
     "data": {
      "text/plain": [
       "array([6, 4, 3, 6, 5, 5, 5, 0, 5, 0, 0, 1, 1, 6, 4, 3, 6, 2, 4, 0, 4, 4, 4,\n",
       "       1, 4, 1, 6, 6, 0, 0, 0, 4, 1, 4, 4, 4, 6, 4, 1, 3, 4, 2, 5, 2, 6, 0,\n",
       "       1, 4, 2, 4])"
      ]
     },
     "execution_count": 12,
     "metadata": {},
     "output_type": "execute_result"
    }
   ],
   "source": [
    "# Let's create a random array with 50 numbers, ranging \n",
    "# from 0 to 6.\n",
    "\n",
    "data = np.random.randint(0, 7, size = 50)\n",
    "data"
   ]
  },
  {
   "cell_type": "markdown",
   "metadata": {},
   "source": [
    "**11. Convert the vector to a Series and count the occurrences of each number.**"
   ]
  },
  {
   "cell_type": "code",
   "execution_count": 13,
   "metadata": {
    "collapsed": true
   },
   "outputs": [],
   "source": [
    "# convert the array into a series\n",
    "\n",
    "s = pd.Series(data)"
   ]
  },
  {
   "cell_type": "code",
   "execution_count": 14,
   "metadata": {
    "collapsed": false
   },
   "outputs": [
    {
     "data": {
      "text/plain": [
       "4    15\n",
       "6     8\n",
       "0     8\n",
       "1     7\n",
       "5     5\n",
       "2     4\n",
       "3     3\n",
       "dtype: int64"
      ]
     },
     "execution_count": 14,
     "metadata": {},
     "output_type": "execute_result"
    }
   ],
   "source": [
    "# How many of each number is there in the series? Enter \n",
    "# value_counts()\n",
    "\n",
    "pd.value_counts(s)"
   ]
  },
  {
   "cell_type": "markdown",
   "metadata": {},
   "source": [
    "---\n",
    "\n",
    "# Independent practice: sales data\n",
    "\n",
    "---\n",
    "**1. Load the `sales.csv` data set from the datasets directory.**"
   ]
  },
  {
   "cell_type": "code",
   "execution_count": 22,
   "metadata": {
    "collapsed": false
   },
   "outputs": [
    {
     "data": {
      "text/html": [
       "<div>\n",
       "<table border=\"1\" class=\"dataframe\">\n",
       "  <thead>\n",
       "    <tr style=\"text-align: right;\">\n",
       "      <th></th>\n",
       "      <th>volume_sold</th>\n",
       "      <th>2015_margin</th>\n",
       "      <th>2015_q1_sales</th>\n",
       "      <th>2016_q1_sales</th>\n",
       "    </tr>\n",
       "  </thead>\n",
       "  <tbody>\n",
       "    <tr>\n",
       "      <th>0</th>\n",
       "      <td>18.420760</td>\n",
       "      <td>93.802281</td>\n",
       "      <td>337166.53</td>\n",
       "      <td>337804.05</td>\n",
       "    </tr>\n",
       "    <tr>\n",
       "      <th>1</th>\n",
       "      <td>4.776510</td>\n",
       "      <td>21.082425</td>\n",
       "      <td>22351.86</td>\n",
       "      <td>21736.63</td>\n",
       "    </tr>\n",
       "    <tr>\n",
       "      <th>2</th>\n",
       "      <td>16.602401</td>\n",
       "      <td>93.612494</td>\n",
       "      <td>277764.46</td>\n",
       "      <td>306942.27</td>\n",
       "    </tr>\n",
       "    <tr>\n",
       "      <th>3</th>\n",
       "      <td>4.296111</td>\n",
       "      <td>16.824704</td>\n",
       "      <td>16805.11</td>\n",
       "      <td>9307.75</td>\n",
       "    </tr>\n",
       "    <tr>\n",
       "      <th>4</th>\n",
       "      <td>8.156023</td>\n",
       "      <td>35.011457</td>\n",
       "      <td>54411.42</td>\n",
       "      <td>58939.90</td>\n",
       "    </tr>\n",
       "  </tbody>\n",
       "</table>\n",
       "</div>"
      ],
      "text/plain": [
       "   volume_sold  2015_margin  2015_q1_sales  2016_q1_sales\n",
       "0    18.420760    93.802281      337166.53      337804.05\n",
       "1     4.776510    21.082425       22351.86       21736.63\n",
       "2    16.602401    93.612494      277764.46      306942.27\n",
       "3     4.296111    16.824704       16805.11        9307.75\n",
       "4     8.156023    35.011457       54411.42       58939.90"
      ]
     },
     "execution_count": 22,
     "metadata": {},
     "output_type": "execute_result"
    }
   ],
   "source": [
    "sales = pd.read_csv('../datasets/sales.csv')\n",
    "sales.head()"
   ]
  },
  {
   "cell_type": "markdown",
   "metadata": {},
   "source": [
    "**2. Inspect the data types.**"
   ]
  },
  {
   "cell_type": "code",
   "execution_count": 7,
   "metadata": {
    "collapsed": false
   },
   "outputs": [
    {
     "data": {
      "text/plain": [
       "volume_sold      float64\n",
       "2015_margin      float64\n",
       "2015_q1_sales    float64\n",
       "2016_q1_sales    float64\n",
       "dtype: object"
      ]
     },
     "execution_count": 7,
     "metadata": {},
     "output_type": "execute_result"
    }
   ],
   "source": [
    "sales.dtypes"
   ]
  },
  {
   "cell_type": "markdown",
   "metadata": {},
   "source": [
    "**3. Imagine you've found out that all your values in the first column are off by 1. Use `.apply()` or `.map()` to add 1 to the first column of the dataset.**"
   ]
  },
  {
   "cell_type": "code",
   "execution_count": 26,
   "metadata": {
    "collapsed": false
   },
   "outputs": [
    {
     "data": {
      "text/html": [
       "<div>\n",
       "<table border=\"1\" class=\"dataframe\">\n",
       "  <thead>\n",
       "    <tr style=\"text-align: right;\">\n",
       "      <th></th>\n",
       "      <th>volume_sold</th>\n",
       "      <th>2015_margin</th>\n",
       "      <th>2015_q1_sales</th>\n",
       "      <th>2016_q1_sales</th>\n",
       "    </tr>\n",
       "  </thead>\n",
       "  <tbody>\n",
       "    <tr>\n",
       "      <th>0</th>\n",
       "      <td>19.420760</td>\n",
       "      <td>93.802281</td>\n",
       "      <td>337166.53</td>\n",
       "      <td>337804.05</td>\n",
       "    </tr>\n",
       "    <tr>\n",
       "      <th>1</th>\n",
       "      <td>5.776510</td>\n",
       "      <td>21.082425</td>\n",
       "      <td>22351.86</td>\n",
       "      <td>21736.63</td>\n",
       "    </tr>\n",
       "    <tr>\n",
       "      <th>2</th>\n",
       "      <td>17.602401</td>\n",
       "      <td>93.612494</td>\n",
       "      <td>277764.46</td>\n",
       "      <td>306942.27</td>\n",
       "    </tr>\n",
       "    <tr>\n",
       "      <th>3</th>\n",
       "      <td>5.296111</td>\n",
       "      <td>16.824704</td>\n",
       "      <td>16805.11</td>\n",
       "      <td>9307.75</td>\n",
       "    </tr>\n",
       "    <tr>\n",
       "      <th>4</th>\n",
       "      <td>9.156023</td>\n",
       "      <td>35.011457</td>\n",
       "      <td>54411.42</td>\n",
       "      <td>58939.90</td>\n",
       "    </tr>\n",
       "  </tbody>\n",
       "</table>\n",
       "</div>"
      ],
      "text/plain": [
       "   volume_sold  2015_margin  2015_q1_sales  2016_q1_sales\n",
       "0    19.420760    93.802281      337166.53      337804.05\n",
       "1     5.776510    21.082425       22351.86       21736.63\n",
       "2    17.602401    93.612494      277764.46      306942.27\n",
       "3     5.296111    16.824704       16805.11        9307.75\n",
       "4     9.156023    35.011457       54411.42       58939.90"
      ]
     },
     "execution_count": 26,
     "metadata": {},
     "output_type": "execute_result"
    }
   ],
   "source": [
    "# pretty simple function to add 1 to a value.\n",
    "def one_up(value):\n",
    "    value += 1\n",
    "    return value\n",
    "\n",
    "\n",
    "# Using df.map ()\n",
    "sales['volume_sold'] = sales['volume_sold'].map(one_up)\n",
    "sales.head()"
   ]
  },
  {
   "cell_type": "code",
   "execution_count": 27,
   "metadata": {
    "collapsed": false
   },
   "outputs": [
    {
     "data": {
      "text/html": [
       "<div>\n",
       "<table border=\"1\" class=\"dataframe\">\n",
       "  <thead>\n",
       "    <tr style=\"text-align: right;\">\n",
       "      <th></th>\n",
       "      <th>volume_sold</th>\n",
       "      <th>2015_margin</th>\n",
       "      <th>2015_q1_sales</th>\n",
       "      <th>2016_q1_sales</th>\n",
       "    </tr>\n",
       "  </thead>\n",
       "  <tbody>\n",
       "    <tr>\n",
       "      <th>0</th>\n",
       "      <td>20.420760</td>\n",
       "      <td>93.802281</td>\n",
       "      <td>337166.53</td>\n",
       "      <td>337804.05</td>\n",
       "    </tr>\n",
       "    <tr>\n",
       "      <th>1</th>\n",
       "      <td>6.776510</td>\n",
       "      <td>21.082425</td>\n",
       "      <td>22351.86</td>\n",
       "      <td>21736.63</td>\n",
       "    </tr>\n",
       "    <tr>\n",
       "      <th>2</th>\n",
       "      <td>18.602401</td>\n",
       "      <td>93.612494</td>\n",
       "      <td>277764.46</td>\n",
       "      <td>306942.27</td>\n",
       "    </tr>\n",
       "    <tr>\n",
       "      <th>3</th>\n",
       "      <td>6.296111</td>\n",
       "      <td>16.824704</td>\n",
       "      <td>16805.11</td>\n",
       "      <td>9307.75</td>\n",
       "    </tr>\n",
       "    <tr>\n",
       "      <th>4</th>\n",
       "      <td>10.156023</td>\n",
       "      <td>35.011457</td>\n",
       "      <td>54411.42</td>\n",
       "      <td>58939.90</td>\n",
       "    </tr>\n",
       "  </tbody>\n",
       "</table>\n",
       "</div>"
      ],
      "text/plain": [
       "   volume_sold  2015_margin  2015_q1_sales  2016_q1_sales\n",
       "0    20.420760    93.802281      337166.53      337804.05\n",
       "1     6.776510    21.082425       22351.86       21736.63\n",
       "2    18.602401    93.612494      277764.46      306942.27\n",
       "3     6.296111    16.824704       16805.11        9307.75\n",
       "4    10.156023    35.011457       54411.42       58939.90"
      ]
     },
     "execution_count": 27,
     "metadata": {},
     "output_type": "execute_result"
    }
   ],
   "source": [
    "# with df.apply\n",
    "sales['volume_sold'] = sales['volume_sold'].apply(one_up)\n",
    "sales.head()"
   ]
  },
  {
   "cell_type": "code",
   "execution_count": 29,
   "metadata": {
    "collapsed": false
   },
   "outputs": [
    {
     "data": {
      "text/html": [
       "<div>\n",
       "<table border=\"1\" class=\"dataframe\">\n",
       "  <thead>\n",
       "    <tr style=\"text-align: right;\">\n",
       "      <th></th>\n",
       "      <th>volume_sold</th>\n",
       "      <th>2015_margin</th>\n",
       "      <th>2015_q1_sales</th>\n",
       "      <th>2016_q1_sales</th>\n",
       "    </tr>\n",
       "  </thead>\n",
       "  <tbody>\n",
       "    <tr>\n",
       "      <th>0</th>\n",
       "      <td>20.420760</td>\n",
       "      <td>94.802281</td>\n",
       "      <td>337166.53</td>\n",
       "      <td>337804.05</td>\n",
       "    </tr>\n",
       "    <tr>\n",
       "      <th>1</th>\n",
       "      <td>6.776510</td>\n",
       "      <td>22.082425</td>\n",
       "      <td>22351.86</td>\n",
       "      <td>21736.63</td>\n",
       "    </tr>\n",
       "    <tr>\n",
       "      <th>2</th>\n",
       "      <td>18.602401</td>\n",
       "      <td>94.612494</td>\n",
       "      <td>277764.46</td>\n",
       "      <td>306942.27</td>\n",
       "    </tr>\n",
       "    <tr>\n",
       "      <th>3</th>\n",
       "      <td>6.296111</td>\n",
       "      <td>17.824704</td>\n",
       "      <td>16805.11</td>\n",
       "      <td>9307.75</td>\n",
       "    </tr>\n",
       "    <tr>\n",
       "      <th>4</th>\n",
       "      <td>10.156023</td>\n",
       "      <td>36.011457</td>\n",
       "      <td>54411.42</td>\n",
       "      <td>58939.90</td>\n",
       "    </tr>\n",
       "  </tbody>\n",
       "</table>\n",
       "</div>"
      ],
      "text/plain": [
       "   volume_sold  2015_margin  2015_q1_sales  2016_q1_sales\n",
       "0    20.420760    94.802281      337166.53      337804.05\n",
       "1     6.776510    22.082425       22351.86       21736.63\n",
       "2    18.602401    94.612494      277764.46      306942.27\n",
       "3     6.296111    17.824704       16805.11        9307.75\n",
       "4    10.156023    36.011457       54411.42       58939.90"
      ]
     },
     "execution_count": 29,
     "metadata": {},
     "output_type": "execute_result"
    }
   ],
   "source": [
    "# This can also be done without df.map or df.apply.\n",
    "sales['2015_margin'] = sales['2015_margin']+1\n",
    "sales.head()"
   ]
  },
  {
   "cell_type": "markdown",
   "metadata": {},
   "source": [
    "**4. Use `.value_counts` to count the values of the first column of the dataset.**"
   ]
  },
  {
   "cell_type": "code",
   "execution_count": 31,
   "metadata": {
    "collapsed": false
   },
   "outputs": [
    {
     "data": {
      "text/plain": [
       "18.059971    1\n",
       "9.200364     1\n",
       "7.531061     1\n",
       "12.800347    1\n",
       "10.156023    1\n",
       "15.635150    1\n",
       "7.047530     1\n",
       "7.906274     1\n",
       "11.292241    1\n",
       "6.200122     1\n",
       "5.210727     1\n",
       "13.997117    1\n",
       "13.232324    1\n",
       "7.778097     1\n",
       "47.556096    1\n",
       "6.385455     1\n",
       "10.017945    1\n",
       "8.630904     1\n",
       "17.697651    1\n",
       "10.300180    1\n",
       "6.776510     1\n",
       "12.186622    1\n",
       "8.255355     1\n",
       "13.975769    1\n",
       "7.294400     1\n",
       "13.697456    1\n",
       "9.930415     1\n",
       "11.697422    1\n",
       "11.014870    1\n",
       "13.129382    1\n",
       "            ..\n",
       "11.313785    1\n",
       "8.048228     1\n",
       "11.347349    1\n",
       "9.682494     1\n",
       "11.348477    1\n",
       "6.456466     1\n",
       "13.505838    1\n",
       "9.437252     1\n",
       "53.800686    1\n",
       "13.625606    1\n",
       "12.677295    1\n",
       "12.252870    1\n",
       "13.840780    1\n",
       "6.941294     1\n",
       "4.794631     1\n",
       "31.878030    1\n",
       "12.331430    1\n",
       "9.434821     1\n",
       "8.447040     1\n",
       "9.196779     1\n",
       "9.785867     1\n",
       "13.091709    1\n",
       "14.509967    1\n",
       "7.147729     1\n",
       "14.350027    1\n",
       "7.388070     1\n",
       "10.555078    1\n",
       "8.618174     1\n",
       "7.723896     1\n",
       "12.705327    1\n",
       "Name: volume_sold, dtype: int64"
      ]
     },
     "execution_count": 31,
     "metadata": {},
     "output_type": "execute_result"
    }
   ],
   "source": [
    "sales['volume_sold'].value_counts()"
   ]
  },
  {
   "cell_type": "markdown",
   "metadata": {},
   "source": [
    "**BONUS: The `.value_counts()` output in question four isn't very insightful.  Use [Pandas.DataFrame.round](http://pandas.pydata.org/pandas-docs/stable/generated/pandas.DataFrame.round.html) to round the column to the nearest tenth before runing `.value_counts()`.**"
   ]
  },
  {
   "cell_type": "code",
   "execution_count": 38,
   "metadata": {
    "collapsed": false
   },
   "outputs": [
    {
     "data": {
      "text/plain": [
       "8.3     7\n",
       "10.6    6\n",
       "9.8     6\n",
       "12.3    6\n",
       "11.3    5\n",
       "9.4     5\n",
       "6.8     4\n",
       "12.1    4\n",
       "7.2     4\n",
       "7.8     3\n",
       "12.7    3\n",
       "7.9     3\n",
       "9.6     3\n",
       "10.2    3\n",
       "8.7     3\n",
       "10.8    3\n",
       "10.5    3\n",
       "14.5    3\n",
       "8.0     3\n",
       "12.6    3\n",
       "9.2     3\n",
       "7.0     3\n",
       "6.9     3\n",
       "13.1    3\n",
       "10.1    3\n",
       "6.4     3\n",
       "10.4    3\n",
       "10.0    2\n",
       "7.3     2\n",
       "7.1     2\n",
       "       ..\n",
       "10.7    1\n",
       "8.9     1\n",
       "13.5    1\n",
       "20.7    1\n",
       "15.0    1\n",
       "6.5     1\n",
       "8.1     1\n",
       "5.7     1\n",
       "52.3    1\n",
       "4.8     1\n",
       "11.7    1\n",
       "5.6     1\n",
       "7.4     1\n",
       "18.1    1\n",
       "53.7    1\n",
       "8.2     1\n",
       "6.6     1\n",
       "5.2     1\n",
       "15.8    1\n",
       "18.6    1\n",
       "20.4    1\n",
       "13.6    1\n",
       "5.1     1\n",
       "11.9    1\n",
       "15.6    1\n",
       "53.8    1\n",
       "78.2    1\n",
       "7.7     1\n",
       "13.2    1\n",
       "17.7    1\n",
       "Name: volume_sold, dtype: int64"
      ]
     },
     "execution_count": 38,
     "metadata": {},
     "output_type": "execute_result"
    }
   ],
   "source": [
    "sales['volume_sold'].round(decimals=1).value_counts()"
   ]
  },
  {
   "cell_type": "code",
   "execution_count": null,
   "metadata": {
    "collapsed": true
   },
   "outputs": [],
   "source": []
  }
 ],
 "metadata": {
  "anaconda-cloud": {},
  "kernelspec": {
   "display_name": "Python 2",
   "language": "python",
   "name": "python2"
  },
  "language_info": {
   "codemirror_mode": {
    "name": "ipython",
    "version": 2
   },
   "file_extension": ".py",
   "mimetype": "text/x-python",
   "name": "python",
   "nbconvert_exporter": "python",
   "pygments_lexer": "ipython2",
   "version": "2.7.12"
  }
 },
 "nbformat": 4,
 "nbformat_minor": 0
}
