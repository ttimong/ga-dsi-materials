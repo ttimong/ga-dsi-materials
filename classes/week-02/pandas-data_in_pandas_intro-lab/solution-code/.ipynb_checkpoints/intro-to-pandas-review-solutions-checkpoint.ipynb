{
 "cells": [
  {
   "cell_type": "markdown",
   "metadata": {},
   "source": [
    "<img src=\"http://imgur.com/1ZcRyrc.png\" style=\"float: left; margin: 20px; height: 55px\">\n",
    "\n",
    "## Intro to `pandas` Review\n",
    "\n",
    "_Authors: Dave Yerrington (SF), Kiefer Katovich (SF)_\n",
    "\n",
    "---"
   ]
  },
  {
   "cell_type": "code",
   "execution_count": 1,
   "metadata": {
    "collapsed": true
   },
   "outputs": [],
   "source": [
    "import antigravity"
   ]
  },
  {
   "cell_type": "code",
   "execution_count": 27,
   "metadata": {},
   "outputs": [],
   "source": [
    "import pandas as pd\n",
    "import numpy as np\n",
    "import matplotlib.pyplot as plt\n",
    "%matplotlib inline"
   ]
  },
  {
   "cell_type": "markdown",
   "metadata": {},
   "source": [
    "### A. Explore _Mad Men_ Cast Data\n",
    "\n",
    "---\n",
    "\n",
    "#### 1. Load the _Mad Men_ cast data into a `pandas` DataFrame."
   ]
  },
  {
   "cell_type": "code",
   "execution_count": 2,
   "metadata": {
    "collapsed": true
   },
   "outputs": [],
   "source": [
    "cast_data_csv = '../datasets/mad-men-cast-show-data.csv'"
   ]
  },
  {
   "cell_type": "code",
   "execution_count": 3,
   "metadata": {},
   "outputs": [],
   "source": [
    "cast = pd.read_csv(cast_data_csv)"
   ]
  },
  {
   "cell_type": "markdown",
   "metadata": {},
   "source": [
    "#### 2. Print the head and tail of the data."
   ]
  },
  {
   "cell_type": "code",
   "execution_count": 4,
   "metadata": {},
   "outputs": [
    {
     "data": {
      "text/html": [
       "<div>\n",
       "<table border=\"1\" class=\"dataframe\">\n",
       "  <thead>\n",
       "    <tr style=\"text-align: right;\">\n",
       "      <th></th>\n",
       "      <th>Performer</th>\n",
       "      <th>Show</th>\n",
       "      <th>Show Start</th>\n",
       "      <th>Show End</th>\n",
       "      <th>Status?</th>\n",
       "      <th>CharEnd</th>\n",
       "      <th>Years Since</th>\n",
       "      <th>#LEAD</th>\n",
       "      <th>#SUPPORT</th>\n",
       "      <th>#Shows</th>\n",
       "      <th>Score</th>\n",
       "      <th>Score/Y</th>\n",
       "      <th>lead_notes</th>\n",
       "      <th>support_notes</th>\n",
       "      <th>show_notes</th>\n",
       "    </tr>\n",
       "  </thead>\n",
       "  <tbody>\n",
       "    <tr>\n",
       "      <th>0</th>\n",
       "      <td>Steven Hill</td>\n",
       "      <td>Law &amp; Order</td>\n",
       "      <td>1990</td>\n",
       "      <td>2010</td>\n",
       "      <td>END</td>\n",
       "      <td>2000</td>\n",
       "      <td>15</td>\n",
       "      <td>0</td>\n",
       "      <td>0</td>\n",
       "      <td>0</td>\n",
       "      <td>0.00</td>\n",
       "      <td>0</td>\n",
       "      <td>NaN</td>\n",
       "      <td>NaN</td>\n",
       "      <td>NaN</td>\n",
       "    </tr>\n",
       "    <tr>\n",
       "      <th>1</th>\n",
       "      <td>Kelli Williams</td>\n",
       "      <td>The Practice</td>\n",
       "      <td>1997</td>\n",
       "      <td>2014</td>\n",
       "      <td>END</td>\n",
       "      <td>2003</td>\n",
       "      <td>12</td>\n",
       "      <td>0</td>\n",
       "      <td>1</td>\n",
       "      <td>6</td>\n",
       "      <td>6.25</td>\n",
       "      <td>0.520833333</td>\n",
       "      <td>NaN</td>\n",
       "      <td>Any Day Now (2012)</td>\n",
       "      <td>Medical Investigation, Season 1; Lie To Me, Se...</td>\n",
       "    </tr>\n",
       "    <tr>\n",
       "      <th>2</th>\n",
       "      <td>LisaGay Hamilton</td>\n",
       "      <td>The Practice</td>\n",
       "      <td>1997</td>\n",
       "      <td>2014</td>\n",
       "      <td>END</td>\n",
       "      <td>2003</td>\n",
       "      <td>12</td>\n",
       "      <td>2</td>\n",
       "      <td>0</td>\n",
       "      <td>2</td>\n",
       "      <td>4.00</td>\n",
       "      <td>0.333333333</td>\n",
       "      <td>Life of a King, 2014; Go For Sisters, 2013</td>\n",
       "      <td>NaN</td>\n",
       "      <td>Men of a Certain Age, Season 1-2</td>\n",
       "    </tr>\n",
       "    <tr>\n",
       "      <th>3</th>\n",
       "      <td>Lara Flynn Boyle</td>\n",
       "      <td>The Practice</td>\n",
       "      <td>1997</td>\n",
       "      <td>2014</td>\n",
       "      <td>END</td>\n",
       "      <td>2003</td>\n",
       "      <td>12</td>\n",
       "      <td>0</td>\n",
       "      <td>0</td>\n",
       "      <td>0</td>\n",
       "      <td>0.00</td>\n",
       "      <td>0</td>\n",
       "      <td>NaN</td>\n",
       "      <td>NaN</td>\n",
       "      <td>NaN</td>\n",
       "    </tr>\n",
       "    <tr>\n",
       "      <th>4</th>\n",
       "      <td>Dylan McDermott</td>\n",
       "      <td>The Practice</td>\n",
       "      <td>1997</td>\n",
       "      <td>2014</td>\n",
       "      <td>END</td>\n",
       "      <td>2004</td>\n",
       "      <td>11</td>\n",
       "      <td>2</td>\n",
       "      <td>7</td>\n",
       "      <td>6</td>\n",
       "      <td>9.75</td>\n",
       "      <td>0.886363636</td>\n",
       "      <td>Olympus Has Fallen, 2013; Freezer, 2014</td>\n",
       "      <td>The Messengers, 2007; Unbeatable Harold, 2009;...</td>\n",
       "      <td>Big Shots, Season 1; Dark Blue, Season 1-2; Am...</td>\n",
       "    </tr>\n",
       "  </tbody>\n",
       "</table>\n",
       "</div>"
      ],
      "text/plain": [
       "          Performer          Show  Show Start Show End Status?  CharEnd  \\\n",
       "0       Steven Hill   Law & Order        1990     2010     END     2000   \n",
       "1    Kelli Williams  The Practice        1997     2014     END     2003   \n",
       "2  LisaGay Hamilton  The Practice        1997     2014     END     2003   \n",
       "3  Lara Flynn Boyle  The Practice        1997     2014     END     2003   \n",
       "4   Dylan McDermott  The Practice        1997     2014     END     2004   \n",
       "\n",
       "   Years Since  #LEAD  #SUPPORT  #Shows  Score      Score/Y  \\\n",
       "0           15      0         0       0   0.00            0   \n",
       "1           12      0         1       6   6.25  0.520833333   \n",
       "2           12      2         0       2   4.00  0.333333333   \n",
       "3           12      0         0       0   0.00            0   \n",
       "4           11      2         7       6   9.75  0.886363636   \n",
       "\n",
       "                                   lead_notes  \\\n",
       "0                                         NaN   \n",
       "1                                         NaN   \n",
       "2  Life of a King, 2014; Go For Sisters, 2013   \n",
       "3                                         NaN   \n",
       "4     Olympus Has Fallen, 2013; Freezer, 2014   \n",
       "\n",
       "                                       support_notes  \\\n",
       "0                                                NaN   \n",
       "1                                 Any Day Now (2012)   \n",
       "2                                                NaN   \n",
       "3                                                NaN   \n",
       "4  The Messengers, 2007; Unbeatable Harold, 2009;...   \n",
       "\n",
       "                                          show_notes  \n",
       "0                                                NaN  \n",
       "1  Medical Investigation, Season 1; Lie To Me, Se...  \n",
       "2                   Men of a Certain Age, Season 1-2  \n",
       "3                                                NaN  \n",
       "4  Big Shots, Season 1; Dark Blue, Season 1-2; Am...  "
      ]
     },
     "execution_count": 4,
     "metadata": {},
     "output_type": "execute_result"
    }
   ],
   "source": [
    "cast.head()"
   ]
  },
  {
   "cell_type": "code",
   "execution_count": 5,
   "metadata": {},
   "outputs": [
    {
     "data": {
      "text/html": [
       "<div>\n",
       "<table border=\"1\" class=\"dataframe\">\n",
       "  <thead>\n",
       "    <tr style=\"text-align: right;\">\n",
       "      <th></th>\n",
       "      <th>Performer</th>\n",
       "      <th>Show</th>\n",
       "      <th>Show Start</th>\n",
       "      <th>Show End</th>\n",
       "      <th>Status?</th>\n",
       "      <th>CharEnd</th>\n",
       "      <th>Years Since</th>\n",
       "      <th>#LEAD</th>\n",
       "      <th>#SUPPORT</th>\n",
       "      <th>#Shows</th>\n",
       "      <th>Score</th>\n",
       "      <th>Score/Y</th>\n",
       "      <th>lead_notes</th>\n",
       "      <th>support_notes</th>\n",
       "      <th>show_notes</th>\n",
       "    </tr>\n",
       "  </thead>\n",
       "  <tbody>\n",
       "    <tr>\n",
       "      <th>243</th>\n",
       "      <td>Meghan Wolfe</td>\n",
       "      <td>True Detective</td>\n",
       "      <td>2014</td>\n",
       "      <td>PRESENT</td>\n",
       "      <td>LEFT</td>\n",
       "      <td>2014</td>\n",
       "      <td>1</td>\n",
       "      <td>0</td>\n",
       "      <td>0</td>\n",
       "      <td>0</td>\n",
       "      <td>0.00</td>\n",
       "      <td>0</td>\n",
       "      <td>NaN</td>\n",
       "      <td>NaN</td>\n",
       "      <td>NaN</td>\n",
       "    </tr>\n",
       "    <tr>\n",
       "      <th>244</th>\n",
       "      <td>Kevin Dunn</td>\n",
       "      <td>True Detective</td>\n",
       "      <td>2014</td>\n",
       "      <td>PRESENT</td>\n",
       "      <td>LEFT</td>\n",
       "      <td>2014</td>\n",
       "      <td>1</td>\n",
       "      <td>0</td>\n",
       "      <td>1</td>\n",
       "      <td>2</td>\n",
       "      <td>2.25</td>\n",
       "      <td>2.25</td>\n",
       "      <td>NaN</td>\n",
       "      <td>Draft Day, 2014</td>\n",
       "      <td>Veep, Season 3-4</td>\n",
       "    </tr>\n",
       "    <tr>\n",
       "      <th>245</th>\n",
       "      <td>Charles Dance</td>\n",
       "      <td>Game of Thrones</td>\n",
       "      <td>2011</td>\n",
       "      <td>PRESENT</td>\n",
       "      <td>LEFT</td>\n",
       "      <td>2015</td>\n",
       "      <td>0</td>\n",
       "      <td>0</td>\n",
       "      <td>2</td>\n",
       "      <td>1</td>\n",
       "      <td>1.50</td>\n",
       "      <td>#DIV/0!</td>\n",
       "      <td>NaN</td>\n",
       "      <td>Woman in Gold, 2015; Child 44, 2015</td>\n",
       "      <td>Deadline Gallipoli, Season 1</td>\n",
       "    </tr>\n",
       "    <tr>\n",
       "      <th>246</th>\n",
       "      <td>Patrick Dempsey</td>\n",
       "      <td>Grey's Anatomy</td>\n",
       "      <td>2005</td>\n",
       "      <td>PRESENT</td>\n",
       "      <td>LEFT</td>\n",
       "      <td>2015</td>\n",
       "      <td>0</td>\n",
       "      <td>0</td>\n",
       "      <td>0</td>\n",
       "      <td>0</td>\n",
       "      <td>0.00</td>\n",
       "      <td>#DIV/0!</td>\n",
       "      <td>NaN</td>\n",
       "      <td>NaN</td>\n",
       "      <td>NaN</td>\n",
       "    </tr>\n",
       "    <tr>\n",
       "      <th>247</th>\n",
       "      <td>Ian McElhinney</td>\n",
       "      <td>Game of Thrones</td>\n",
       "      <td>2011</td>\n",
       "      <td>PRESENT</td>\n",
       "      <td>LEFT</td>\n",
       "      <td>2015</td>\n",
       "      <td>0</td>\n",
       "      <td>0</td>\n",
       "      <td>0</td>\n",
       "      <td>0</td>\n",
       "      <td>0.00</td>\n",
       "      <td>#DIV/0!</td>\n",
       "      <td>NaN</td>\n",
       "      <td>NaN</td>\n",
       "      <td>NaN</td>\n",
       "    </tr>\n",
       "  </tbody>\n",
       "</table>\n",
       "</div>"
      ],
      "text/plain": [
       "           Performer             Show  Show Start Show End Status?  CharEnd  \\\n",
       "243     Meghan Wolfe   True Detective        2014  PRESENT    LEFT     2014   \n",
       "244       Kevin Dunn   True Detective        2014  PRESENT    LEFT     2014   \n",
       "245    Charles Dance  Game of Thrones        2011  PRESENT    LEFT     2015   \n",
       "246  Patrick Dempsey   Grey's Anatomy        2005  PRESENT    LEFT     2015   \n",
       "247   Ian McElhinney  Game of Thrones        2011  PRESENT    LEFT     2015   \n",
       "\n",
       "     Years Since  #LEAD  #SUPPORT  #Shows  Score  Score/Y lead_notes  \\\n",
       "243            1      0         0       0   0.00        0        NaN   \n",
       "244            1      0         1       2   2.25     2.25        NaN   \n",
       "245            0      0         2       1   1.50  #DIV/0!        NaN   \n",
       "246            0      0         0       0   0.00  #DIV/0!        NaN   \n",
       "247            0      0         0       0   0.00  #DIV/0!        NaN   \n",
       "\n",
       "                           support_notes                    show_notes  \n",
       "243                                  NaN                           NaN  \n",
       "244                      Draft Day, 2014              Veep, Season 3-4  \n",
       "245  Woman in Gold, 2015; Child 44, 2015  Deadline Gallipoli, Season 1  \n",
       "246                                  NaN                           NaN  \n",
       "247                                  NaN                           NaN  "
      ]
     },
     "execution_count": 5,
     "metadata": {},
     "output_type": "execute_result"
    }
   ],
   "source": [
    "cast.tail()"
   ]
  },
  {
   "cell_type": "markdown",
   "metadata": {},
   "source": [
    "#### 3. Print the columns of the data."
   ]
  },
  {
   "cell_type": "code",
   "execution_count": 6,
   "metadata": {},
   "outputs": [
    {
     "data": {
      "text/plain": [
       "Index([u'Performer', u'Show', u'Show Start', u'Show End', u'Status?',\n",
       "       u'CharEnd', u'Years Since', u'#LEAD', u'#SUPPORT', u'#Shows', u'Score',\n",
       "       u'Score/Y', u'lead_notes', u'support_notes', u'show_notes'],\n",
       "      dtype='object')"
      ]
     },
     "execution_count": 6,
     "metadata": {},
     "output_type": "execute_result"
    }
   ],
   "source": [
    "cast.columns"
   ]
  },
  {
   "cell_type": "markdown",
   "metadata": {},
   "source": [
    "#### 4. Rename any columns with spaces or special characters to not contain any."
   ]
  },
  {
   "cell_type": "code",
   "execution_count": 7,
   "metadata": {},
   "outputs": [
    {
     "name": "stdout",
     "output_type": "stream",
     "text": [
      "Index([u'Performer', u'Show', u'Show_Start', u'Show_End', u'Status',\n",
      "       u'CharEnd', u'Years_Since', u'LEAD', u'SUPPORT', u'Shows', u'Score',\n",
      "       u'ScoreY', u'lead_notes', u'support_notes', u'show_notes'],\n",
      "      dtype='object')\n"
     ]
    }
   ],
   "source": [
    "import string\n",
    "# the string library has default strings that contain all letters or numbers\n",
    "uppercase = string.ascii_uppercase\n",
    "lowercase = string.ascii_lowercase\n",
    "\n",
    "cast.columns = [''.join([ch for ch in col if ch in uppercase+lowercase+' _']) for col in cast.columns]\n",
    "# for each character in each column name join characters together \n",
    "# if they are in the string \"uppercase+lowercase+' _'\"\n",
    "# basically removes anything that is not a letter, space or underscore.\n",
    "\n",
    "cast.columns = map(lambda x: x.replace(' ', '_'), cast.columns)\n",
    "# replaces spaces with underscores.\n",
    "\n",
    "print cast.columns"
   ]
  },
  {
   "cell_type": "markdown",
   "metadata": {},
   "source": [
    "#### 5. Subset the data where the status of the show is not \"END\" or \"End.\""
   ]
  },
  {
   "cell_type": "code",
   "execution_count": 8,
   "metadata": {
    "scrolled": true
   },
   "outputs": [
    {
     "name": "stdout",
     "output_type": "stream",
     "text": [
      "(248, 15)\n"
     ]
    },
    {
     "data": {
      "text/plain": [
       "(29, 15)"
      ]
     },
     "execution_count": 8,
     "metadata": {},
     "output_type": "execute_result"
    }
   ],
   "source": [
    "print cast.shape\n",
    "subset = cast[(cast['Status'] != 'END') & (cast['Status'] != 'End')]\n",
    "subset.shape"
   ]
  },
  {
   "cell_type": "markdown",
   "metadata": {},
   "source": [
    "#### 6. Print out the performers where the show start is greater than 2005 and the score is greater than 7."
   ]
  },
  {
   "cell_type": "code",
   "execution_count": 9,
   "metadata": {},
   "outputs": [
    {
     "data": {
      "text/plain": [
       "Performer         object\n",
       "Show              object\n",
       "Show_Start         int64\n",
       "Show_End          object\n",
       "Status            object\n",
       "CharEnd            int64\n",
       "Years_Since        int64\n",
       "LEAD               int64\n",
       "SUPPORT            int64\n",
       "Shows              int64\n",
       "Score            float64\n",
       "ScoreY            object\n",
       "lead_notes        object\n",
       "support_notes     object\n",
       "show_notes        object\n",
       "dtype: object"
      ]
     },
     "execution_count": 9,
     "metadata": {},
     "output_type": "execute_result"
    }
   ],
   "source": [
    "# double checking out dtypes to make sure they are correct.\n",
    "cast.dtypes"
   ]
  },
  {
   "cell_type": "code",
   "execution_count": 10,
   "metadata": {},
   "outputs": [
    {
     "data": {
      "text/plain": [
       "array(['Scott Porter', 'Connie Britton', 'Amanda Seyfried',\n",
       "       'Siobhan Finneran'], dtype=object)"
      ]
     },
     "execution_count": 10,
     "metadata": {},
     "output_type": "execute_result"
    }
   ],
   "source": [
    "cast[(cast['Show_Start'] > 2005) & (cast['Score'] > 7)].Performer.unique()"
   ]
  },
  {
   "cell_type": "markdown",
   "metadata": {},
   "source": [
    "#### 7. Select the performer and show column for the 20th-25th LABELED rows."
   ]
  },
  {
   "cell_type": "code",
   "execution_count": 11,
   "metadata": {
    "scrolled": true
   },
   "outputs": [
    {
     "data": {
      "text/html": [
       "<div>\n",
       "<table border=\"1\" class=\"dataframe\">\n",
       "  <thead>\n",
       "    <tr style=\"text-align: right;\">\n",
       "      <th></th>\n",
       "      <th>Show</th>\n",
       "      <th>Performer</th>\n",
       "    </tr>\n",
       "  </thead>\n",
       "  <tbody>\n",
       "    <tr>\n",
       "      <th>20</th>\n",
       "      <td>Joan of Arcadia</td>\n",
       "      <td>Mary Steenburgen</td>\n",
       "    </tr>\n",
       "    <tr>\n",
       "      <th>21</th>\n",
       "      <td>Six Feet Under</td>\n",
       "      <td>Mathew St. Patrick</td>\n",
       "    </tr>\n",
       "    <tr>\n",
       "      <th>22</th>\n",
       "      <td>Joan of Arcadia</td>\n",
       "      <td>Michael Welch</td>\n",
       "    </tr>\n",
       "    <tr>\n",
       "      <th>23</th>\n",
       "      <td>Joan of Arcadia</td>\n",
       "      <td>Aaron Himelstein</td>\n",
       "    </tr>\n",
       "    <tr>\n",
       "      <th>24</th>\n",
       "      <td>Joan of Arcadia</td>\n",
       "      <td>Becky Wahlstrom</td>\n",
       "    </tr>\n",
       "    <tr>\n",
       "      <th>25</th>\n",
       "      <td>Joan of Arcadia</td>\n",
       "      <td>Chris Marquette</td>\n",
       "    </tr>\n",
       "  </tbody>\n",
       "</table>\n",
       "</div>"
      ],
      "text/plain": [
       "               Show           Performer\n",
       "20  Joan of Arcadia    Mary Steenburgen\n",
       "21   Six Feet Under  Mathew St. Patrick\n",
       "22  Joan of Arcadia       Michael Welch\n",
       "23  Joan of Arcadia    Aaron Himelstein\n",
       "24  Joan of Arcadia     Becky Wahlstrom\n",
       "25  Joan of Arcadia     Chris Marquette"
      ]
     },
     "execution_count": 11,
     "metadata": {},
     "output_type": "execute_result"
    }
   ],
   "source": [
    "cast.loc[20:25, ['Show','Performer']]\n",
    "cast.ix[20:25, ['Show','Performer']]"
   ]
  },
  {
   "cell_type": "code",
   "execution_count": 12,
   "metadata": {
    "scrolled": true
   },
   "outputs": [
    {
     "data": {
      "text/html": [
       "<div>\n",
       "<table border=\"1\" class=\"dataframe\">\n",
       "  <thead>\n",
       "    <tr style=\"text-align: right;\">\n",
       "      <th></th>\n",
       "      <th>Show</th>\n",
       "      <th>Performer</th>\n",
       "    </tr>\n",
       "  </thead>\n",
       "  <tbody>\n",
       "    <tr>\n",
       "      <th>20</th>\n",
       "      <td>Joan of Arcadia</td>\n",
       "      <td>Mary Steenburgen</td>\n",
       "    </tr>\n",
       "    <tr>\n",
       "      <th>21</th>\n",
       "      <td>Six Feet Under</td>\n",
       "      <td>Mathew St. Patrick</td>\n",
       "    </tr>\n",
       "    <tr>\n",
       "      <th>22</th>\n",
       "      <td>Joan of Arcadia</td>\n",
       "      <td>Michael Welch</td>\n",
       "    </tr>\n",
       "    <tr>\n",
       "      <th>23</th>\n",
       "      <td>Joan of Arcadia</td>\n",
       "      <td>Aaron Himelstein</td>\n",
       "    </tr>\n",
       "    <tr>\n",
       "      <th>24</th>\n",
       "      <td>Joan of Arcadia</td>\n",
       "      <td>Becky Wahlstrom</td>\n",
       "    </tr>\n",
       "  </tbody>\n",
       "</table>\n",
       "</div>"
      ],
      "text/plain": [
       "               Show           Performer\n",
       "20  Joan of Arcadia    Mary Steenburgen\n",
       "21   Six Feet Under  Mathew St. Patrick\n",
       "22  Joan of Arcadia       Michael Welch\n",
       "23  Joan of Arcadia    Aaron Himelstein\n",
       "24  Joan of Arcadia     Becky Wahlstrom"
      ]
     },
     "execution_count": 12,
     "metadata": {},
     "output_type": "execute_result"
    }
   ],
   "source": [
    "cast.iloc[20:25,[1,0]]"
   ]
  },
  {
   "cell_type": "markdown",
   "metadata": {},
   "source": [
    "#### 8. Plot a histogram of score."
   ]
  },
  {
   "cell_type": "code",
   "execution_count": 13,
   "metadata": {},
   "outputs": [
    {
     "data": {
      "text/plain": [
       "<matplotlib.axes._subplots.AxesSubplot at 0x10ef73c10>"
      ]
     },
     "execution_count": 13,
     "metadata": {},
     "output_type": "execute_result"
    },
    {
     "data": {
      "image/png": "[encoded data removed]",
      "text/plain": [
       "<matplotlib.figure.Figure at 0x10ef93c10>"
      ]
     },
     "metadata": {},
     "output_type": "display_data"
    }
   ],
   "source": [
    "cast['Score'].hist()"
   ]
  },
  {
   "cell_type": "markdown",
   "metadata": {},
   "source": [
    "### B. Explore San Francisco Crime Data\n",
    "\n",
    "--- \n",
    "\n",
    "**9. Load the San Francisco crime data set into a DataFrame.**"
   ]
  },
  {
   "cell_type": "code",
   "execution_count": 14,
   "metadata": {
    "collapsed": true
   },
   "outputs": [],
   "source": [
    "crime_csv = '../datasets/sf_crime.csv'"
   ]
  },
  {
   "cell_type": "code",
   "execution_count": 15,
   "metadata": {},
   "outputs": [],
   "source": [
    "crime = pd.read_csv(crime_csv)"
   ]
  },
  {
   "cell_type": "markdown",
   "metadata": {},
   "source": [
    "**10. Look at the dimensions of the crime data.**"
   ]
  },
  {
   "cell_type": "code",
   "execution_count": 16,
   "metadata": {},
   "outputs": [
    {
     "data": {
      "text/plain": [
       "(25000, 9)"
      ]
     },
     "execution_count": 16,
     "metadata": {},
     "output_type": "execute_result"
    }
   ],
   "source": [
    "crime.shape"
   ]
  },
  {
   "cell_type": "markdown",
   "metadata": {},
   "source": [
    "**11. Look at the data types of the columns and print out the column names.**"
   ]
  },
  {
   "cell_type": "code",
   "execution_count": 17,
   "metadata": {},
   "outputs": [
    {
     "data": {
      "text/plain": [
       "Dates          object\n",
       "Category       object\n",
       "Descript       object\n",
       "DayOfWeek      object\n",
       "PdDistrict     object\n",
       "Resolution     object\n",
       "Address        object\n",
       "X             float64\n",
       "Y             float64\n",
       "dtype: object"
      ]
     },
     "execution_count": 17,
     "metadata": {},
     "output_type": "execute_result"
    }
   ],
   "source": [
    "crime.dtypes"
   ]
  },
  {
   "cell_type": "code",
   "execution_count": 18,
   "metadata": {},
   "outputs": [
    {
     "data": {
      "text/plain": [
       "Index([u'Dates', u'Category', u'Descript', u'DayOfWeek', u'PdDistrict',\n",
       "       u'Resolution', u'Address', u'X', u'Y'],\n",
       "      dtype='object')"
      ]
     },
     "execution_count": 18,
     "metadata": {},
     "output_type": "execute_result"
    }
   ],
   "source": [
    "crime.columns"
   ]
  },
  {
   "cell_type": "markdown",
   "metadata": {},
   "source": [
    "**12. How many distinct districts are there?**"
   ]
  },
  {
   "cell_type": "code",
   "execution_count": 19,
   "metadata": {},
   "outputs": [
    {
     "name": "stdout",
     "output_type": "stream",
     "text": [
      "['BAYVIEW' 'NORTHERN' 'SOUTHERN' 'TARAVAL' 'MISSION' 'INGLESIDE' 'CENTRAL'\n",
      " 'TENDERLOIN' 'RICHMOND' 'PARK']\n",
      "10\n"
     ]
    }
   ],
   "source": [
    "print crime.PdDistrict.unique()\n",
    "print len(crime.PdDistrict.unique())"
   ]
  },
  {
   "cell_type": "markdown",
   "metadata": {},
   "source": [
    "**13. Which day of the week has the most crime?**"
   ]
  },
  {
   "cell_type": "code",
   "execution_count": 20,
   "metadata": {},
   "outputs": [
    {
     "name": "stdout",
     "output_type": "stream",
     "text": [
      "Sunday (3313, 9)\n",
      "Tuesday (3548, 9)\n",
      "Saturday (3496, 9)\n",
      "Friday (3883, 9)\n",
      "Monday (3524, 9)\n",
      "Wednesday (3657, 9)\n",
      "Thursday (3579, 9)\n"
     ]
    }
   ],
   "source": [
    "for day in crime.DayOfWeek.unique():\n",
    "    print day, crime[crime.DayOfWeek == day].shape"
   ]
  },
  {
   "cell_type": "code",
   "execution_count": 21,
   "metadata": {
    "collapsed": true
   },
   "outputs": [],
   "source": [
    "# Friday has the most crime."
   ]
  },
  {
   "cell_type": "markdown",
   "metadata": {},
   "source": [
    "#### 14. Make a new DataFrame featuring the crime categories and the number of crimes per category."
   ]
  },
  {
   "cell_type": "code",
   "execution_count": 22,
   "metadata": {},
   "outputs": [
    {
     "name": "stdout",
     "output_type": "stream",
     "text": [
      "  crime_category  crimes\n",
      "0          ARSON      52\n",
      "1        ASSAULT    2164\n",
      "2     BAD CHECKS      14\n",
      "3        BRIBERY       8\n",
      "4       BURGLARY    1023\n"
     ]
    }
   ],
   "source": [
    "categories = np.unique(crime.Category.values)\n",
    "counts = [crime[crime['Category'] == x].shape[0] for x in categories]\n",
    "categories = pd.DataFrame({'crime_category':categories, 'crimes':counts})\n",
    "print categories.head()"
   ]
  },
  {
   "cell_type": "markdown",
   "metadata": {},
   "source": [
    "**15. Make a DataFrame that includes the districts and crime counts per district. Which district has the most crime?**\n",
    "\n",
    "*Hint: You can use the `.sort_values()` function to sort your DataFrame by column.*"
   ]
  },
  {
   "cell_type": "code",
   "execution_count": 23,
   "metadata": {},
   "outputs": [
    {
     "name": "stdout",
     "output_type": "stream",
     "text": [
      "   crimes   district\n",
      "0    2555    BAYVIEW\n",
      "1    2424    CENTRAL\n",
      "2    2256  INGLESIDE\n",
      "3    3416    MISSION\n",
      "4    3076   NORTHERN\n"
     ]
    }
   ],
   "source": [
    "districts = np.unique(crime.PdDistrict.values)\n",
    "counts = [crime[crime['PdDistrict'] == x].shape[0] for x in districts]\n",
    "districts = pd.DataFrame({'district':districts, 'crimes':counts})\n",
    "print districts.head() "
   ]
  },
  {
   "cell_type": "code",
   "execution_count": 24,
   "metadata": {},
   "outputs": [
    {
     "data": {
      "text/html": [
       "<div>\n",
       "<table border=\"1\" class=\"dataframe\">\n",
       "  <thead>\n",
       "    <tr style=\"text-align: right;\">\n",
       "      <th></th>\n",
       "      <th>crimes</th>\n",
       "      <th>district</th>\n",
       "    </tr>\n",
       "  </thead>\n",
       "  <tbody>\n",
       "    <tr>\n",
       "      <th>7</th>\n",
       "      <td>4413</td>\n",
       "      <td>SOUTHERN</td>\n",
       "    </tr>\n",
       "    <tr>\n",
       "      <th>3</th>\n",
       "      <td>3416</td>\n",
       "      <td>MISSION</td>\n",
       "    </tr>\n",
       "    <tr>\n",
       "      <th>4</th>\n",
       "      <td>3076</td>\n",
       "      <td>NORTHERN</td>\n",
       "    </tr>\n",
       "    <tr>\n",
       "      <th>0</th>\n",
       "      <td>2555</td>\n",
       "      <td>BAYVIEW</td>\n",
       "    </tr>\n",
       "    <tr>\n",
       "      <th>1</th>\n",
       "      <td>2424</td>\n",
       "      <td>CENTRAL</td>\n",
       "    </tr>\n",
       "  </tbody>\n",
       "</table>\n",
       "</div>"
      ],
      "text/plain": [
       "   crimes  district\n",
       "7    4413  SOUTHERN\n",
       "3    3416   MISSION\n",
       "4    3076  NORTHERN\n",
       "0    2555   BAYVIEW\n",
       "1    2424   CENTRAL"
      ]
     },
     "execution_count": 24,
     "metadata": {},
     "output_type": "execute_result"
    }
   ],
   "source": [
    "districts.sort_values('crimes', ascending=False).head()"
   ]
  }
 ],
 "metadata": {
  "anaconda-cloud": {},
  "kernelspec": {
   "display_name": "Python 2",
   "language": "python",
   "name": "python2"
  },
  "language_info": {
   "codemirror_mode": {
    "name": "ipython",
    "version": 2
   },
   "file_extension": ".py",
   "mimetype": "text/x-python",
   "name": "python",
   "nbconvert_exporter": "python",
   "pygments_lexer": "ipython2",
   "version": "2.7.13"
  }
 },
 "nbformat": 4,
 "nbformat_minor": 1
}
