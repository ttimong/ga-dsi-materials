{
 "cells": [
  {
   "cell_type": "markdown",
   "metadata": {},
   "source": [
    "# Team Popcorn\n",
    "\n",
    "---\n",
    "\n",
    "You're a force to be reckoned with. You are team \"Popcorn\". Working for a big movie studio, you need to report on metrics that will help: **A)** sell movie ideas to potential investors, and **B)** maximize product placement and / or sponsorships.\n",
    "\n",
    "**Your studios lead data scientist has given you some direction / starting points:**\n",
    " - Which movies remained in the top 10 the longest?\n",
    " - Which movies were good investments?\n",
    " - Are there any interesting trends throughout the year?\n",
    " - Google anything interesting about flagship movies in terms of partnerships and how those deals could be relevant to consider in our own research.\n",
    " \n",
    "**Bonus:**\n",
    " - Do any holidays impact sales performance or position?  How could we leverage this?\n",
    " - What could we look at outside our dataset that may help project good investments?\n",
    "\n",
    "\n",
    "#### End with some kind of recommendation for new partnership engagements, tied to your opening goals / metrics.\n",
    "\n",
    "How reliable can your reocmmendation(s) be?  Back up your assumptions with facts and data.\n",
    "\n",
    "_[There's a data dictionary available!](http://www.amstat.org/publications/jse/v17n1/datasets.mclaren.html)_\n",
    "\n",
    "Keep in mind the main points when presenting your findings!  It's interesting to share details and sidepoints, but make sure they're supporting and relating to pitching movies to investment, and helping maximize our partnership goals.\n"
   ]
  },
  {
   "cell_type": "code",
   "execution_count": 1,
   "metadata": {
    "collapsed": true
   },
   "outputs": [],
   "source": [
    "import pandas as pd\n",
    "import numpy as np\n",
    "\n",
    "movies = pd.read_csv(\"./datasets/movie_weekend.csv\")\n"
   ]
  },
  {
   "cell_type": "code",
   "execution_count": 7,
   "metadata": {},
   "outputs": [
    {
     "data": {
      "text/html": [
       "<div>\n",
       "<style>\n",
       "    .dataframe thead tr:only-child th {\n",
       "        text-align: right;\n",
       "    }\n",
       "\n",
       "    .dataframe thead th {\n",
       "        text-align: left;\n",
       "    }\n",
       "\n",
       "    .dataframe tbody tr th {\n",
       "        vertical-align: top;\n",
       "    }\n",
       "</style>\n",
       "<table border=\"1\" class=\"dataframe\">\n",
       "  <thead>\n",
       "    <tr style=\"text-align: right;\">\n",
       "      <th></th>\n",
       "      <th>NUMBER</th>\n",
       "      <th>MOVIE</th>\n",
       "      <th>WEEK_NUM</th>\n",
       "      <th>WEEKEND_PER_THEATER</th>\n",
       "      <th>WEEKEND_DATE</th>\n",
       "    </tr>\n",
       "  </thead>\n",
       "  <tbody>\n",
       "    <tr>\n",
       "      <th>0</th>\n",
       "      <td>1.0</td>\n",
       "      <td>A Beautiful Mind</td>\n",
       "      <td>1.0</td>\n",
       "      <td>701.0</td>\n",
       "      <td>12/21/01</td>\n",
       "    </tr>\n",
       "    <tr>\n",
       "      <th>1</th>\n",
       "      <td>1.0</td>\n",
       "      <td>A Beautiful Mind</td>\n",
       "      <td>2.0</td>\n",
       "      <td>14820.0</td>\n",
       "      <td>12/28/01</td>\n",
       "    </tr>\n",
       "    <tr>\n",
       "      <th>2</th>\n",
       "      <td>1.0</td>\n",
       "      <td>A Beautiful Mind</td>\n",
       "      <td>3.0</td>\n",
       "      <td>8940.0</td>\n",
       "      <td>1/4/02</td>\n",
       "    </tr>\n",
       "    <tr>\n",
       "      <th>3</th>\n",
       "      <td>1.0</td>\n",
       "      <td>A Beautiful Mind</td>\n",
       "      <td>4.0</td>\n",
       "      <td>6850.0</td>\n",
       "      <td>1/11/02</td>\n",
       "    </tr>\n",
       "    <tr>\n",
       "      <th>4</th>\n",
       "      <td>1.0</td>\n",
       "      <td>A Beautiful Mind</td>\n",
       "      <td>5.0</td>\n",
       "      <td>5280.0</td>\n",
       "      <td>1/18/02</td>\n",
       "    </tr>\n",
       "    <tr>\n",
       "      <th>5</th>\n",
       "      <td>1.0</td>\n",
       "      <td>A Beautiful Mind</td>\n",
       "      <td>6.0</td>\n",
       "      <td>5155.0</td>\n",
       "      <td>1/25/02</td>\n",
       "    </tr>\n",
       "    <tr>\n",
       "      <th>6</th>\n",
       "      <td>1.0</td>\n",
       "      <td>A Beautiful Mind</td>\n",
       "      <td>7.0</td>\n",
       "      <td>3735.0</td>\n",
       "      <td>2/1/02</td>\n",
       "    </tr>\n",
       "    <tr>\n",
       "      <th>7</th>\n",
       "      <td>1.0</td>\n",
       "      <td>A Beautiful Mind</td>\n",
       "      <td>8.0</td>\n",
       "      <td>2840.0</td>\n",
       "      <td>2/8/02</td>\n",
       "    </tr>\n",
       "    <tr>\n",
       "      <th>8</th>\n",
       "      <td>1.0</td>\n",
       "      <td>A Beautiful Mind</td>\n",
       "      <td>9.0</td>\n",
       "      <td>3890.0</td>\n",
       "      <td>2/15/02</td>\n",
       "    </tr>\n",
       "    <tr>\n",
       "      <th>9</th>\n",
       "      <td>1.0</td>\n",
       "      <td>A Beautiful Mind</td>\n",
       "      <td>10.0</td>\n",
       "      <td>2565.0</td>\n",
       "      <td>2/22/02</td>\n",
       "    </tr>\n",
       "  </tbody>\n",
       "</table>\n",
       "</div>"
      ],
      "text/plain": [
       "   NUMBER             MOVIE  WEEK_NUM  WEEKEND_PER_THEATER WEEKEND_DATE\n",
       "0     1.0  A Beautiful Mind       1.0                701.0     12/21/01\n",
       "1     1.0  A Beautiful Mind       2.0              14820.0     12/28/01\n",
       "2     1.0  A Beautiful Mind       3.0               8940.0       1/4/02\n",
       "3     1.0  A Beautiful Mind       4.0               6850.0      1/11/02\n",
       "4     1.0  A Beautiful Mind       5.0               5280.0      1/18/02\n",
       "5     1.0  A Beautiful Mind       6.0               5155.0      1/25/02\n",
       "6     1.0  A Beautiful Mind       7.0               3735.0       2/1/02\n",
       "7     1.0  A Beautiful Mind       8.0               2840.0       2/8/02\n",
       "8     1.0  A Beautiful Mind       9.0               3890.0      2/15/02\n",
       "9     1.0  A Beautiful Mind      10.0               2565.0      2/22/02"
      ]
     },
     "execution_count": 7,
     "metadata": {},
     "output_type": "execute_result"
    }
   ],
   "source": [
    "movies.head(10)"
   ]
  },
  {
   "cell_type": "code",
   "execution_count": 3,
   "metadata": {},
   "outputs": [
    {
     "data": {
      "text/plain": [
       "NUMBER                 float64\n",
       "MOVIE                   object\n",
       "WEEK_NUM               float64\n",
       "WEEKEND_PER_THEATER    float64\n",
       "WEEKEND_DATE            object\n",
       "dtype: object"
      ]
     },
     "execution_count": 3,
     "metadata": {},
     "output_type": "execute_result"
    }
   ],
   "source": [
    "movies.dtypes"
   ]
  },
  {
   "cell_type": "code",
   "execution_count": null,
   "metadata": {
    "collapsed": true
   },
   "outputs": [],
   "source": []
  }
 ],
 "metadata": {
  "kernelspec": {
   "display_name": "Python 2",
   "language": "python",
   "name": "python2"
  },
  "language_info": {
   "codemirror_mode": {
    "name": "ipython",
    "version": 2
   },
   "file_extension": ".py",
   "mimetype": "text/x-python",
   "name": "python",
   "nbconvert_exporter": "python",
   "pygments_lexer": "ipython2",
   "version": "2.7.13"
  }
 },
 "nbformat": 4,
 "nbformat_minor": 2
}
