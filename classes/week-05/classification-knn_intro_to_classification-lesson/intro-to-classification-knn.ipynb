{
 "cells": [
  {
   "cell_type": "markdown",
   "metadata": {},
   "source": [
    "<img src=\"http://imgur.com/1ZcRyrc.png\" style=\"float: left; margin: 20px; height: 55px\">\n",
    "\n",
    "# Introduction to Classification with K-Nearest Neighbors\n",
    "\n",
    "_Authors: Kiefer Katovich (SF), Alexander Barriga (SF), Joseph Nelson (DC)_\n",
    "\n",
    "---\n",
    "\n",
    "### Learning Objectives\n",
    "- Understand the difference between classification and regression models\n",
    "- Understand the K-Nearest Neighbors algorithm visually and in pseudocode\n",
    "- Explain the differences between distance metrics and explore the two most common\n",
    "- Apply KNN classification to the Wisconsin breast cancer dataset\n",
    "- Practice manually performing stratified cross-validation\n",
    "- Visually examine the effect of K neighbors on the decision boundary\n",
    "- Explain the effect of choosing K on the bias-variance tradeoff"
   ]
  },
  {
   "cell_type": "markdown",
   "metadata": {},
   "source": [
    "### Lesson Guide\n",
    "- [Introduction: classification vs. regression](#intro)\n",
    "- [K-Nearest Neighbors visually](#knn-visual-intro)\n",
    "- [The K-Nearest Neighbors (KNN) algorithm](#knn)\n",
    "    - [Note on parametric vs. nonparametric methods](#nonparametric)\n",
    "- [The KNN distance metric](#distance)\n",
    "    - [Euclidean distance](#euclidean)\n",
    "    - [Manhattan distance](#manhattan)\n",
    "- [Load the Wisconsin breast cancer dataset](#wisconsin)\n",
    "    - [Rename columns and subset the data](#rename-subset)\n",
    "    - [Encode the target as a binary class](#target)\n",
    "- [Examine the correlation structure of the dataset](#correlations)\n",
    "    - [Use a heatmap](#heatmap)\n",
    "    - [Use a pairplot](#pairplot)\n",
    "- [Using sklearn's `KNeighborsClassifier` and `StratifiedKFold`](#kneighborsclassifier)\n",
    "    - [Create the target and predictors](#target-predictors)\n",
    "    - [Standardize the predictor matrix](#standardize)\n",
    "    - [Write a function to manually perform the cross-validation procedure](#manual-cv)\n",
    "    - [Calculate the \"baseline\" accuracy](#baseline)\n",
    "    - [Cross-validate the mean accuracy with 5 neighbors](#cv-knn5)\n",
    "    - [Cross-validate the mean accuracy with 1 neighbor](#cv-knn5)\n",
    "- [Visualize the knn decision boundary](#visualize-knn)\n",
    "- [How is bias-variance affected by number of neighbors?](#bias-variance)\n",
    "- [Additional resources](#resources)"
   ]
  },
  {
   "cell_type": "code",
   "execution_count": 1,
   "metadata": {
    "collapsed": true
   },
   "outputs": [],
   "source": [
    "import matplotlib.pyplot as plt\n",
    "import numpy as np\n",
    "import pandas as pd\n",
    "import seaborn as sns\n",
    "\n",
    "%matplotlib inline\n",
    "%config InlineBackend.figure_format = 'retina'"
   ]
  },
  {
   "cell_type": "markdown",
   "metadata": {},
   "source": [
    "<a id='intro'></a>\n",
    "\n",
    "## Introduction: regression vs. classification\n",
    "\n",
    "We've discussed the difference between continuous and discrete numbers. We've predicted continuous numbers using regression. What about discrete?\n",
    "\n",
    "Think back to the wine quality dataset we used in the past. We used Linear Regression to predict the quality ranging from 0-10. What if we just wanted to predict whether wine was good or bad? Red or white? \n",
    "\n",
    "Classification algorithms do just that; they predict categories, or classes. Split the data into groups and place new data into those groups. \n",
    "\n",
    "![](http://ipython-books.github.io/images/ml.png \"Best Split vs Best Fit\")"
   ]
  },
  {
   "cell_type": "markdown",
   "metadata": {},
   "source": [
    "<a id='knn-visual-intro'></a>\n",
    "\n",
    "---\n",
    "\n",
    "### K-Nearest Neighbors (KNN) visually\n",
    "\n",
    "**KNN works similarly to how we humans might choose to classify things. Below we have some red and blue dots:**\n",
    "![Alt text](http://blog.yhat.com/static/img/knn_reds_and_blues.png \"Some Dots\")\n",
    "\n",
    "**A new dot appears without a color and we need to decide which color it is most likely going to be.**\n",
    "![Alt text](http://blog.yhat.com/static/img/knn_new_point.png \"A New Dot Appears\")\n",
    "\n",
    "**We compare it to its three nearest neighbors – its neighbors are more often red, so we label it red.**\n",
    "![Alt text](http://blog.yhat.com/static/img/knn_new_point_pred.png \"3 Nearest Neighbors\")\n",
    "\n",
    "**What if we increase the number of neighbors to consider to 5?**\n",
    "![Alt text](http://blog.yhat.com/static/img/knn_new_point_pred_blue.png \"5 Nearest Neighbors\")\n",
    "\n",
    "**This is in essence the K-Nearest Neighbors (KNN) algorithm. The K represents the number of \"neighbors\" you use.**\n",
    "\n",
    "> ***Images above credited to the yhat blog.***"
   ]
  },
  {
   "cell_type": "markdown",
   "metadata": {},
   "source": [
    "<a id='knn'></a>\n",
    "\n",
    "## The KNN algorithm\n",
    "\n",
    "---\n",
    "\n",
    "K-Nearest Neighbors takes a different approach to modeling than we have been practicing with linear models. In order to estimate a value (regression) or class membership (classification), the algorithm finds the observations in its training data that are \"nearest\" to the observation to predict. It then averages or takes a vote of those training observations' target values to estimate the value for the new data point.\n",
    "\n",
    "Distance is usually calculated using the euclidean distance. The \"K\" in KNN refers to the number of nearest neighbors that will be contributing to the prediction. \n",
    "\n",
    "Today we will be looking at KNN only in the context of classification.\n",
    "\n",
    "**The KNN can be concisely represented with pseudocode:**\n",
    "\n",
    "```\n",
    "for unclassified_point in sample:\n",
    "    for known_point in known_class_points:\n",
    "        calculate distances (euclidean or other) between known_point and unclassified_point\n",
    "    for k in range of specified_neighbors_number:\n",
    "        find k_nearest_points in known_class_points to unclassified_point\n",
    "    assign class to unclassified_point using \"votes\" from k_nearest_points\n",
    "```\n",
    "\n",
    "> **Note**: in the case of ties, sklearn's `KNeighborsClassifier()` will just choose the first class (when weights are uniform)! If this is unappealing to you you can change the weights keyword argument to 'distance'. More on this later.\n",
    "\n"
   ]
  },
  {
   "cell_type": "markdown",
   "metadata": {},
   "source": [
    "---\n",
    "\n",
    "<a id='nonparametric'></a>\n",
    "\n",
    "### Note on parametric vs. nonparametric methods\n",
    "\n",
    "Thus far, all of our tests and methods have been **parametric**. That is, we have assumed a certain distribution for our data. In linear regression our parameters are the coefficients in our model, and our estimate of the target is calculated from these parameters.\n",
    "\n",
    "There are alternatives in the case where we cannot assume a particular distribution for our data or choose not to. These methods are **nonparametric** When we make no assumptions about the distribution for our data, we call our data nonparametric. For nearly every parametric test, there is a nonparametric analog available. The KNN model is an example of a nonparametric model. You can see that there are no coefficients for the different predictors and our estimate is not represented by a formula of our predictor variables."
   ]
  },
  {
   "cell_type": "markdown",
   "metadata": {},
   "source": [
    "<a id='distance'></a>\n",
    "## The KNN distance metric\n",
    "\n",
    "---\n",
    "KNN typically uses one of two distance metrics: euclidean or manhattan. Other distance metrics are possible, but more rare (sometimes it makes sense to create your own distance function.\n",
    "\n",
    "<a id='euclidean'></a>\n",
    "### Euclidean distance\n",
    "\n",
    "Recal the famous Pythagorean Theorem\n",
    "![Alt text](http://ncalculators.com/images/pythagoras-theorem.gif)\n",
    "\n",
    "We can apply the theorem to calculate distance between points. This is called Euclidean distance. \n",
    "\n",
    "![Alt text](http://rosalind.info/media/Euclidean_distance.png)\n",
    "\n",
    "### $$\\text{Euclidean  distance}=\\sqrt{(x_1-x_2)^2+(y_1-y_1)^2}$$\n",
    "\n",
    "There are many different distance metrics, but Euclidean is the most common (and default in sklearn).\n"
   ]
  },
  {
   "cell_type": "markdown",
   "metadata": {},
   "source": [
    "---\n",
    "\n",
    "<a id='manhattan'></a>\n",
    "### Manhattan distance (A.K.A Taxicab Distance)\n",
    "\n",
    "Another way to measure distance between two points is to take the sum of the absolute value of their differences. \n",
    "\n",
    "### $$ D = \\sum_{i=1}^n | x_i - y_i | $$\n",
    "\n",
    "The name Manhattan distance comes from the fact that taxicabs in Manhattan must drive from point A to point B on streets that force traffic to flow forward or backwards and left or right -- but never diagonally. \n",
    "![](https://upload.wikimedia.org/wikipedia/commons/thumb/d/de/Manhattan_distance_bgiu.png/261px-Manhattan_distance_bgiu.png)\n",
    "![](https://pbs.twimg.com/media/CgIlqLTWEAAedKB.jpg)\n",
    "\n",
    "**Note that the Manhattan distance is a less common choice.**\n",
    "- Manhattan distance is more restrictive than Euclidean distance in how distance is measured\n",
    "- [Manhattan distance comes from $L_{p = 1}$ space and Euclidean distance comes from $L_{p = 2}$ space.](https://en.wikipedia.org/wiki/Lp_space)\n",
    "- In practice, we can cross-validate KNN using both types of distances to see which performs best. \n",
    "\n",
    "![](http://www.improvedoutcomes.com/docs/WebSiteDocs/image/diagram_euclidean_manhattan_distance_metrics.gif)"
   ]
  },
  {
   "cell_type": "markdown",
   "metadata": {},
   "source": [
    "<a id='wisconsin'></a>\n",
    "\n",
    "## Load the Wisconsin breast cancer dataset\n",
    "\n",
    "---\n",
    "\n",
    "Below we will be testing out the KNN classification algorithm on the classic [Wisconsin breast cancer dataset](https://www.kaggle.com/uciml/breast-cancer-wisconsin-data)\n",
    "\n",
    "> **Note:** (The file as suffix '.data' but is actually formatted as a .csv)"
   ]
  },
  {
   "cell_type": "code",
   "execution_count": 19,
   "metadata": {
    "collapsed": true
   },
   "outputs": [],
   "source": [
    "bcw = pd.read_csv('./datasets/wdbc.data', header=None, index_col=None)"
   ]
  },
  {
   "cell_type": "markdown",
   "metadata": {},
   "source": [
    "---\n",
    "\n",
    "<a id='rename-subset'></a>\n",
    "### Rename columns and subset the data\n",
    "\n",
    "The attributes below are the columns of the dataset.\n",
    "\n",
    "The column names are taken from the dataset info file. For more information check out the information file:\n",
    "\n",
    "`../assets/datasets/wdbc.names`\n",
    "\n",
    "You can open it with a text editor of your choice.\n",
    "\n",
    "      Attribute                     \n",
    "    --------------------------------------------\n",
    "    1. Sample code number [subject ID]\n",
    "    2. Class\n",
    "    3. Cell nucleus mean radius\n",
    "    4. Cell nucleus SE radius\n",
    "    5. Cell nucleus worst radius\n",
    "    6. Texture mean\n",
    "    7. Texture SE\n",
    "    8. Texture worst\n",
    "    9. Perimeter mean\n",
    "    10. Perimeter SE\n",
    "    11. Perimeter worst\n",
    "    12. Area mean\n",
    "    13. Area SE\n",
    "    14. Area worst\n",
    "    15. Smoothness mean\n",
    "    16. Smoothness SE\n",
    "    17. Smoothness worst\n",
    "    18. Compactness mean\n",
    "    19. Compactness SE\n",
    "    20. Compactness worst\n",
    "    21. Concavity mean\n",
    "    22. Concavity SE\n",
    "    23. Concavity worst\n",
    "    24. Concave points mean\n",
    "    25. Concave points SE\n",
    "    26. Concave points worst\n",
    "    27. Symmetry mean\n",
    "    28. Symmetry SE\n",
    "    29. Symmetry worst\n",
    "    30. Fractal dimension mean\n",
    "    31. Fractal dimension SE\n",
    "    32. Fractal dimension worst\n",
    "   \n",
    "**Using the provided list, reassign the column names in the dataset.**"
   ]
  },
  {
   "cell_type": "code",
   "execution_count": 20,
   "metadata": {
    "collapsed": true
   },
   "outputs": [],
   "source": [
    "column_names = ['id','malignant',\n",
    "                'nucleus_mean','nucleus_se','nucleus_worst',\n",
    "                'texture_mean','texture_se','texture_worst',\n",
    "                'perimeter_mean','perimeter_se','perimeter_worst',\n",
    "                'area_mean','area_se','area_worst',\n",
    "                'smoothness_mean','smoothness_se','smoothness_worst',\n",
    "                'compactness_mean','compactness_se','compactness_worst',\n",
    "                'concavity_mean','concavity_se','concavity_worst',\n",
    "                'concave_pts_mean','concave_pts_se','concave_pts_worst',\n",
    "                'symmetry_mean','symmetry_se','symmetry_worst',\n",
    "                'fractal_dim_mean','fractal_dim_se','fractal_dim_worst']\n",
    "bcw.columns = column_names"
   ]
  },
  {
   "cell_type": "markdown",
   "metadata": {},
   "source": [
    "**Remove the columns pertaining to the standard deviation and \"worst\" measurements, leaving only the mean measurement columns.**"
   ]
  },
  {
   "cell_type": "code",
   "execution_count": 21,
   "metadata": {},
   "outputs": [
    {
     "data": {
      "text/plain": [
       "Index([u'id', u'malignant', u'nucleus_mean', u'texture_mean',\n",
       "       u'perimeter_mean', u'area_mean', u'smoothness_mean',\n",
       "       u'compactness_mean', u'concavity_mean', u'concave_pts_mean',\n",
       "       u'symmetry_mean', u'fractal_dim_mean'],\n",
       "      dtype='object')"
      ]
     },
     "execution_count": 21,
     "metadata": {},
     "output_type": "execute_result"
    }
   ],
   "source": [
    "# A:\n",
    "bcw = bcw[[c for c in bcw.columns if '_worst' not in c and '_se' not in c]]\n",
    "bcw.columns"
   ]
  },
  {
   "cell_type": "markdown",
   "metadata": {},
   "source": [
    "---\n",
    "<a id='target'></a>\n",
    "### Encode the target class variable `malignant` to be a binary 0 vs. 1\n",
    "\n",
    "The `malignant` class target variable is coded as \"B\" for benign and \"M\" as malignant. \n",
    "\n",
    "We need to recode this to a binary integer for classification:\n",
    " - Encode malign as 1\n",
    " - Encode benign as 0\n",
    " \n",
    "Malign is assigned to 1 because our goal is to predict malign tumors with the data. In binary classification problems the category \"of interest\" to predict is typically encoded as 1."
   ]
  },
  {
   "cell_type": "code",
   "execution_count": 23,
   "metadata": {
    "collapsed": true
   },
   "outputs": [],
   "source": [
    "# A:\n",
    "bcw['malignant'] = [1 if i == 'M' else 0 for i in bcw['malignant']]"
   ]
  },
  {
   "cell_type": "code",
   "execution_count": 24,
   "metadata": {},
   "outputs": [
    {
     "data": {
      "text/plain": [
       "0    357\n",
       "1    212\n",
       "Name: malignant, dtype: int64"
      ]
     },
     "execution_count": 24,
     "metadata": {},
     "output_type": "execute_result"
    }
   ],
   "source": [
    "bcw.malignant.value_counts()"
   ]
  },
  {
   "cell_type": "markdown",
   "metadata": {},
   "source": [
    "<a id='correlations'></a>\n",
    "## Examine the correlation structure of the dataset\n",
    "\n",
    "---\n",
    "\n",
    "You should exclude the `id` column as this is just an indicator variable for the subject.\n",
    "\n",
    "<a id='heatmap'></a>\n",
    "### Method 1: plot a heatmap of the correlation matrix\n",
    "\n",
    "Plot a seaborn heatmap of the correlation matrix to visually examine which variables are correlated and anti-correlated, and to what degree."
   ]
  },
  {
   "cell_type": "code",
   "execution_count": 15,
   "metadata": {},
   "outputs": [
    {
     "data": {
      "text/plain": [
       "<matplotlib.axes._subplots.AxesSubplot at 0x1a1246f3d0>"
      ]
     },
     "execution_count": 15,
     "metadata": {},
     "output_type": "execute_result"
    },
    {
     "data": {
      "image/png": "[encoded data removed]",
      "text/plain": [
       "<matplotlib.figure.Figure at 0x1a12411410>"
      ]
     },
     "metadata": {
      "image/png": {
       "height": 342,
       "width": 454
      }
     },
     "output_type": "display_data"
    }
   ],
   "source": [
    "# A:\n",
    "sns.heatmap(bcw.corr())"
   ]
  },
  {
   "cell_type": "markdown",
   "metadata": {},
   "source": [
    "<a id='pairplot'></a>\n",
    "### Method 2: Use seaborn's pairplot to visualize relationships between variables\n",
    "\n",
    "When you have a small number of predictor variables, seaborn's `pairplot` function will give you a more detailed visual look at the relationships between variables. The pairplot is similar to a correlation matrix, but displays scatterplots of variable pairs. Along the diagonal line are histograms showing the distribution of each variable.\n",
    "\n",
    "One of the most appealing aspects of the pairplot function for classification tasks is that the scatterplots and histograms can be split along a hue variable. If we use the `malignant` target class as the hue we are able to see how the classes are distributed across these variables as well.\n",
    "\n",
    "Plot data using seaborn's `pairplot()` function. The hue will be the class variable \"malignant\". The variables will be the other columns excluding, of course, the subject ID column. This function can take some time to run.\n",
    "\n",
    "> **Note:** Most of these predictors are highly correlated with the \"class\" variable. This is already an indication that our classifier is very likely to perform well."
   ]
  },
  {
   "cell_type": "code",
   "execution_count": 8,
   "metadata": {
    "collapsed": true
   },
   "outputs": [],
   "source": [
    "# A:"
   ]
  },
  {
   "cell_type": "markdown",
   "metadata": {},
   "source": [
    "<a id='kneighborsclassifier'></a>\n",
    "\n",
    "## Using sklearn's `KNeighborsClassifier` and `StratifiedKFold`\n",
    "\n",
    "---\n",
    "\n",
    "Let's see how the sklearn KNN classifier performs on our dataset predicting the malignant target class using cross-validation.\n",
    "\n",
    "Load the KNN classifier like so:\n",
    "```python\n",
    "from sklearn.neighbors import KNeighborsClassifier\n",
    "```\n",
    "\n",
    "**We are going to set some arguments when instantiating the model:**\n",
    "1. **n_neighbors** specifies how many neighbors will vote on the class\n",
    "2. **weights** uniform weights indicate that all neighbors have the same weight\n",
    "3. **metric** and **p**: when distance is minkowski (the default) and p == 2 (the default), _this is equivalent to the euclidean distance metric_\n",
    "\n",
    "Also load sklearn's `StratifiedKFold` from the `model_selection` module:\n",
    "```python\n",
    "from sklearn.model_selection import StratifiedKFold\n",
    "```\n",
    "\n",
    "The `StratifiedKFold` object will return cross-validation _indices_ which you can use to subset your data (in a for loop, for example) that runs the model and tests it. \n",
    "\n",
    "This is the **stratified** version of the `KFold` class. Stratification ensures that there are equal proportions the predicted class in each train-test fold. This is a best practice in classification tasks.\n",
    "\n",
    "> **Note:** The `cross_val_score` can also stratify for you. However, you should get familiar with using indices for cross-validation on data. Being able do cross-validation at a more \"manual\" level allows for a lot more power and customization. It also reinforces what is happening in your head during cross-validation, since you have to divide up the data yourself with the indices!\n",
    "\n"
   ]
  },
  {
   "cell_type": "code",
   "execution_count": 9,
   "metadata": {
    "collapsed": true
   },
   "outputs": [],
   "source": [
    "# A:"
   ]
  },
  {
   "cell_type": "markdown",
   "metadata": {},
   "source": [
    "<a id='target-predictors'></a>\n",
    "### Create your target vector and predictor matrix\n",
    "\n",
    "The target should be the binary `malignant` column. The predictors are up to you."
   ]
  },
  {
   "cell_type": "code",
   "execution_count": 25,
   "metadata": {
    "collapsed": true
   },
   "outputs": [],
   "source": [
    "# A:\n",
    "y = bcw.malignant.values\n",
    "X = bcw.drop('malignant', axis = 1)"
   ]
  },
  {
   "cell_type": "markdown",
   "metadata": {},
   "source": [
    "<a id='standardize'></a>\n",
    "\n",
    "### Standardize the predictor matrix\n",
    "\n",
    "Standardization should be done for the predictors when using a KNN model. Why? \n",
    "\n",
    "Remember that KNN finds the nearest neighbors according to a distance metric. If the predictors are left unstandardized, then it is possible that some predictors will have an unfair impact on the distance measure simply because they are on a larger scale than the other variables."
   ]
  },
  {
   "cell_type": "code",
   "execution_count": 26,
   "metadata": {
    "collapsed": true
   },
   "outputs": [],
   "source": [
    "# A:\n",
    "from sklearn.preprocessing import StandardScaler\n",
    "\n",
    "ss = StandardScaler()\n",
    "Xs = ss.fit_transform(X)"
   ]
  },
  {
   "cell_type": "markdown",
   "metadata": {},
   "source": [
    "<a id='cv-inds'></a>\n",
    "### Create the cross-validation indices using `StratifiedKFold`\n",
    "\n",
    "`StratifiedKFold` takes is instantiated with `n_splits` number of train-test pairs desired.\n",
    "\n",
    "The built-in `.split()` function will take a predictor matrix and target array and return the training and testing indices.\n",
    "\n",
    "> **Note:** The `split` function will return a python *generator*. This can be iterated, but works differently from a list in that once iterated once it will be \"empty\". You can convert the output to a list using a list comprehension if you need to use the indices multiple times."
   ]
  },
  {
   "cell_type": "code",
   "execution_count": 32,
   "metadata": {},
   "outputs": [],
   "source": [
    "# A:\n",
    "from sklearn.model_selection import StratifiedKFold\n",
    "skf = StratifiedKFold(n_splits=5)\n",
    "cv_indices = skf.split(Xs, y)\n",
    "cv_indices = [[tr,te] for tr,te in cv_indices]"
   ]
  },
  {
   "cell_type": "code",
   "execution_count": 33,
   "metadata": {},
   "outputs": [
    {
     "data": {
      "text/plain": [
       "[[array([ 53,  54,  56,  57,  62,  64,  65,  70,  72,  73,  75,  77,  78,\n",
       "          82,  83,  85,  86,  87,  91,  94,  95,  99, 100, 105, 108, 117,\n",
       "         118, 119, 121, 122, 126, 127, 129, 131, 132, 134, 135, 138, 141,\n",
       "         146, 155, 156, 157, 158, 159, 160, 161, 162, 163, 164, 165, 166,\n",
       "         167, 168, 169, 170, 171, 172, 173, 174, 175, 176, 177, 178, 179,\n",
       "         180, 181, 182, 183, 184, 185, 186, 187, 188, 189, 190, 191, 192,\n",
       "         193, 194, 195, 196, 197, 198, 199, 200, 201, 202, 203, 204, 205,\n",
       "         206, 207, 208, 209, 210, 211, 212, 213, 214, 215, 216, 217, 218,\n",
       "         219, 220, 221, 222, 223, 224, 225, 226, 227, 228, 229, 230, 231,\n",
       "         232, 233, 234, 235, 236, 237, 238, 239, 240, 241, 242, 243, 244,\n",
       "         245, 246, 247, 248, 249, 250, 251, 252, 253, 254, 255, 256, 257,\n",
       "         258, 259, 260, 261, 262, 263, 264, 265, 266, 267, 268, 269, 270,\n",
       "         271, 272, 273, 274, 275, 276, 277, 278, 279, 280, 281, 282, 283,\n",
       "         284, 285, 286, 287, 288, 289, 290, 291, 292, 293, 294, 295, 296,\n",
       "         297, 298, 299, 300, 301, 302, 303, 304, 305, 306, 307, 308, 309,\n",
       "         310, 311, 312, 313, 314, 315, 316, 317, 318, 319, 320, 321, 322,\n",
       "         323, 324, 325, 326, 327, 328, 329, 330, 331, 332, 333, 334, 335,\n",
       "         336, 337, 338, 339, 340, 341, 342, 343, 344, 345, 346, 347, 348,\n",
       "         349, 350, 351, 352, 353, 354, 355, 356, 357, 358, 359, 360, 361,\n",
       "         362, 363, 364, 365, 366, 367, 368, 369, 370, 371, 372, 373, 374,\n",
       "         375, 376, 377, 378, 379, 380, 381, 382, 383, 384, 385, 386, 387,\n",
       "         388, 389, 390, 391, 392, 393, 394, 395, 396, 397, 398, 399, 400,\n",
       "         401, 402, 403, 404, 405, 406, 407, 408, 409, 410, 411, 412, 413,\n",
       "         414, 415, 416, 417, 418, 419, 420, 421, 422, 423, 424, 425, 426,\n",
       "         427, 428, 429, 430, 431, 432, 433, 434, 435, 436, 437, 438, 439,\n",
       "         440, 441, 442, 443, 444, 445, 446, 447, 448, 449, 450, 451, 452,\n",
       "         453, 454, 455, 456, 457, 458, 459, 460, 461, 462, 463, 464, 465,\n",
       "         466, 467, 468, 469, 470, 471, 472, 473, 474, 475, 476, 477, 478,\n",
       "         479, 480, 481, 482, 483, 484, 485, 486, 487, 488, 489, 490, 491,\n",
       "         492, 493, 494, 495, 496, 497, 498, 499, 500, 501, 502, 503, 504,\n",
       "         505, 506, 507, 508, 509, 510, 511, 512, 513, 514, 515, 516, 517,\n",
       "         518, 519, 520, 521, 522, 523, 524, 525, 526, 527, 528, 529, 530,\n",
       "         531, 532, 533, 534, 535, 536, 537, 538, 539, 540, 541, 542, 543,\n",
       "         544, 545, 546, 547, 548, 549, 550, 551, 552, 553, 554, 555, 556,\n",
       "         557, 558, 559, 560, 561, 562, 563, 564, 565, 566, 567, 568]),\n",
       "  array([  0,   1,   2,   3,   4,   5,   6,   7,   8,   9,  10,  11,  12,\n",
       "          13,  14,  15,  16,  17,  18,  19,  20,  21,  22,  23,  24,  25,\n",
       "          26,  27,  28,  29,  30,  31,  32,  33,  34,  35,  36,  37,  38,\n",
       "          39,  40,  41,  42,  43,  44,  45,  46,  47,  48,  49,  50,  51,\n",
       "          52,  55,  58,  59,  60,  61,  63,  66,  67,  68,  69,  71,  74,\n",
       "          76,  79,  80,  81,  84,  88,  89,  90,  92,  93,  96,  97,  98,\n",
       "         101, 102, 103, 104, 106, 107, 109, 110, 111, 112, 113, 114, 115,\n",
       "         116, 120, 123, 124, 125, 128, 130, 133, 136, 137, 139, 140, 142,\n",
       "         143, 144, 145, 147, 148, 149, 150, 151, 152, 153, 154])],\n",
       " [array([  0,   1,   2,   3,   4,   5,   6,   7,   8,   9,  10,  11,  12,\n",
       "          13,  14,  15,  16,  17,  18,  19,  20,  21,  22,  23,  24,  25,\n",
       "          26,  27,  28,  29,  30,  31,  32,  33,  34,  35,  36,  37,  38,\n",
       "          39,  40,  41,  42,  43,  44,  45,  46,  47,  48,  49,  50,  51,\n",
       "          52,  55,  58,  59,  60,  61,  63,  66,  67,  68,  69,  71,  74,\n",
       "          76,  79,  80,  81,  84,  88,  89,  90,  92,  93,  96,  97,  98,\n",
       "         101, 102, 103, 104, 106, 107, 109, 110, 111, 112, 113, 114, 115,\n",
       "         116, 120, 123, 124, 125, 128, 130, 133, 136, 137, 139, 140, 142,\n",
       "         143, 144, 145, 147, 148, 149, 150, 151, 152, 153, 154, 164, 167,\n",
       "         168, 171, 172, 177, 180, 181, 182, 184, 186, 190, 193, 194, 196,\n",
       "         197, 198, 199, 201, 202, 203, 205, 207, 210, 212, 213, 214, 215,\n",
       "         218, 219, 223, 229, 230, 233, 236, 237, 239, 244, 250, 252, 253,\n",
       "         254, 255, 256, 257, 258, 259, 260, 261, 262, 263, 264, 265, 272,\n",
       "         274, 277, 280, 282, 283, 289, 290, 291, 292, 293, 294, 295, 296,\n",
       "         297, 298, 299, 300, 301, 302, 303, 304, 305, 306, 307, 308, 309,\n",
       "         310, 311, 312, 313, 314, 315, 316, 317, 318, 319, 320, 321, 322,\n",
       "         323, 324, 325, 326, 327, 328, 329, 330, 331, 332, 333, 334, 335,\n",
       "         336, 337, 338, 339, 340, 341, 342, 343, 344, 345, 346, 347, 348,\n",
       "         349, 350, 351, 352, 353, 354, 355, 356, 357, 358, 359, 360, 361,\n",
       "         362, 363, 364, 365, 366, 367, 368, 369, 370, 371, 372, 373, 374,\n",
       "         375, 376, 377, 378, 379, 380, 381, 382, 383, 384, 385, 386, 387,\n",
       "         388, 389, 390, 391, 392, 393, 394, 395, 396, 397, 398, 399, 400,\n",
       "         401, 402, 403, 404, 405, 406, 407, 408, 409, 410, 411, 412, 413,\n",
       "         414, 415, 416, 417, 418, 419, 420, 421, 422, 423, 424, 425, 426,\n",
       "         427, 428, 429, 430, 431, 432, 433, 434, 435, 436, 437, 438, 439,\n",
       "         440, 441, 442, 443, 444, 445, 446, 447, 448, 449, 450, 451, 452,\n",
       "         453, 454, 455, 456, 457, 458, 459, 460, 461, 462, 463, 464, 465,\n",
       "         466, 467, 468, 469, 470, 471, 472, 473, 474, 475, 476, 477, 478,\n",
       "         479, 480, 481, 482, 483, 484, 485, 486, 487, 488, 489, 490, 491,\n",
       "         492, 493, 494, 495, 496, 497, 498, 499, 500, 501, 502, 503, 504,\n",
       "         505, 506, 507, 508, 509, 510, 511, 512, 513, 514, 515, 516, 517,\n",
       "         518, 519, 520, 521, 522, 523, 524, 525, 526, 527, 528, 529, 530,\n",
       "         531, 532, 533, 534, 535, 536, 537, 538, 539, 540, 541, 542, 543,\n",
       "         544, 545, 546, 547, 548, 549, 550, 551, 552, 553, 554, 555, 556,\n",
       "         557, 558, 559, 560, 561, 562, 563, 564, 565, 566, 567, 568]),\n",
       "  array([ 53,  54,  56,  57,  62,  64,  65,  70,  72,  73,  75,  77,  78,\n",
       "          82,  83,  85,  86,  87,  91,  94,  95,  99, 100, 105, 108, 117,\n",
       "         118, 119, 121, 122, 126, 127, 129, 131, 132, 134, 135, 138, 141,\n",
       "         146, 155, 156, 157, 158, 159, 160, 161, 162, 163, 165, 166, 169,\n",
       "         170, 173, 174, 175, 176, 178, 179, 183, 185, 187, 188, 189, 191,\n",
       "         192, 195, 200, 204, 206, 208, 209, 211, 216, 217, 220, 221, 222,\n",
       "         224, 225, 226, 227, 228, 231, 232, 234, 235, 238, 240, 241, 242,\n",
       "         243, 245, 246, 247, 248, 249, 251, 266, 267, 268, 269, 270, 271,\n",
       "         273, 275, 276, 278, 279, 281, 284, 285, 286, 287, 288])],\n",
       " [array([  0,   1,   2,   3,   4,   5,   6,   7,   8,   9,  10,  11,  12,\n",
       "          13,  14,  15,  16,  17,  18,  19,  20,  21,  22,  23,  24,  25,\n",
       "          26,  27,  28,  29,  30,  31,  32,  33,  34,  35,  36,  37,  38,\n",
       "          39,  40,  41,  42,  43,  44,  45,  46,  47,  48,  49,  50,  51,\n",
       "          52,  53,  54,  55,  56,  57,  58,  59,  60,  61,  62,  63,  64,\n",
       "          65,  66,  67,  68,  69,  70,  71,  72,  73,  74,  75,  76,  77,\n",
       "          78,  79,  80,  81,  82,  83,  84,  85,  86,  87,  88,  89,  90,\n",
       "          91,  92,  93,  94,  95,  96,  97,  98,  99, 100, 101, 102, 103,\n",
       "         104, 105, 106, 107, 108, 109, 110, 111, 112, 113, 114, 115, 116,\n",
       "         117, 118, 119, 120, 121, 122, 123, 124, 125, 126, 127, 128, 129,\n",
       "         130, 131, 132, 133, 134, 135, 136, 137, 138, 139, 140, 141, 142,\n",
       "         143, 144, 145, 146, 147, 148, 149, 150, 151, 152, 153, 154, 155,\n",
       "         156, 157, 158, 159, 160, 161, 162, 163, 165, 166, 169, 170, 173,\n",
       "         174, 175, 176, 178, 179, 183, 185, 187, 188, 189, 191, 192, 195,\n",
       "         200, 204, 206, 208, 209, 211, 216, 217, 220, 221, 222, 224, 225,\n",
       "         226, 227, 228, 231, 232, 234, 235, 238, 240, 241, 242, 243, 245,\n",
       "         246, 247, 248, 249, 251, 255, 256, 257, 258, 259, 260, 261, 262,\n",
       "         263, 264, 265, 266, 267, 268, 269, 270, 271, 272, 273, 274, 275,\n",
       "         276, 277, 278, 279, 280, 281, 282, 283, 284, 285, 286, 287, 288,\n",
       "         297, 300, 302, 317, 321, 323, 328, 329, 330, 335, 337, 339, 343,\n",
       "         351, 352, 353, 365, 366, 368, 369, 370, 372, 373, 379, 384, 385,\n",
       "         386, 387, 388, 389, 390, 391, 392, 393, 394, 395, 396, 397, 398,\n",
       "         399, 400, 401, 402, 403, 404, 405, 406, 407, 408, 409, 410, 411,\n",
       "         412, 413, 414, 415, 416, 417, 418, 419, 420, 421, 422, 423, 424,\n",
       "         425, 426, 427, 428, 429, 430, 431, 432, 433, 434, 435, 436, 437,\n",
       "         438, 439, 440, 441, 442, 443, 444, 445, 446, 447, 448, 449, 450,\n",
       "         451, 452, 453, 454, 455, 456, 457, 458, 459, 460, 461, 462, 463,\n",
       "         464, 465, 466, 467, 468, 469, 470, 471, 472, 473, 474, 475, 476,\n",
       "         477, 478, 479, 480, 481, 482, 483, 484, 485, 486, 487, 488, 489,\n",
       "         490, 491, 492, 493, 494, 495, 496, 497, 498, 499, 500, 501, 502,\n",
       "         503, 504, 505, 506, 507, 508, 509, 510, 511, 512, 513, 514, 515,\n",
       "         516, 517, 518, 519, 520, 521, 522, 523, 524, 525, 526, 527, 528,\n",
       "         529, 530, 531, 532, 533, 534, 535, 536, 537, 538, 539, 540, 541,\n",
       "         542, 543, 544, 545, 546, 547, 548, 549, 550, 551, 552, 553, 554,\n",
       "         555, 556, 557, 558, 559, 560, 561, 562, 563, 564, 565, 566, 567, 568]),\n",
       "  array([164, 167, 168, 171, 172, 177, 180, 181, 182, 184, 186, 190, 193,\n",
       "         194, 196, 197, 198, 199, 201, 202, 203, 205, 207, 210, 212, 213,\n",
       "         214, 215, 218, 219, 223, 229, 230, 233, 236, 237, 239, 244, 250,\n",
       "         252, 253, 254, 289, 290, 291, 292, 293, 294, 295, 296, 298, 299,\n",
       "         301, 303, 304, 305, 306, 307, 308, 309, 310, 311, 312, 313, 314,\n",
       "         315, 316, 318, 319, 320, 322, 324, 325, 326, 327, 331, 332, 333,\n",
       "         334, 336, 338, 340, 341, 342, 344, 345, 346, 347, 348, 349, 350,\n",
       "         354, 355, 356, 357, 358, 359, 360, 361, 362, 363, 364, 367, 371,\n",
       "         374, 375, 376, 377, 378, 380, 381, 382, 383])],\n",
       " [array([  0,   1,   2,   3,   4,   5,   6,   7,   8,   9,  10,  11,  12,\n",
       "          13,  14,  15,  16,  17,  18,  19,  20,  21,  22,  23,  24,  25,\n",
       "          26,  27,  28,  29,  30,  31,  32,  33,  34,  35,  36,  37,  38,\n",
       "          39,  40,  41,  42,  43,  44,  45,  46,  47,  48,  49,  50,  51,\n",
       "          52,  53,  54,  55,  56,  57,  58,  59,  60,  61,  62,  63,  64,\n",
       "          65,  66,  67,  68,  69,  70,  71,  72,  73,  74,  75,  76,  77,\n",
       "          78,  79,  80,  81,  82,  83,  84,  85,  86,  87,  88,  89,  90,\n",
       "          91,  92,  93,  94,  95,  96,  97,  98,  99, 100, 101, 102, 103,\n",
       "         104, 105, 106, 107, 108, 109, 110, 111, 112, 113, 114, 115, 116,\n",
       "         117, 118, 119, 120, 121, 122, 123, 124, 125, 126, 127, 128, 129,\n",
       "         130, 131, 132, 133, 134, 135, 136, 137, 138, 139, 140, 141, 142,\n",
       "         143, 144, 145, 146, 147, 148, 149, 150, 151, 152, 153, 154, 155,\n",
       "         156, 157, 158, 159, 160, 161, 162, 163, 164, 165, 166, 167, 168,\n",
       "         169, 170, 171, 172, 173, 174, 175, 176, 177, 178, 179, 180, 181,\n",
       "         182, 183, 184, 185, 186, 187, 188, 189, 190, 191, 192, 193, 194,\n",
       "         195, 196, 197, 198, 199, 200, 201, 202, 203, 204, 205, 206, 207,\n",
       "         208, 209, 210, 211, 212, 213, 214, 215, 216, 217, 218, 219, 220,\n",
       "         221, 222, 223, 224, 225, 226, 227, 228, 229, 230, 231, 232, 233,\n",
       "         234, 235, 236, 237, 238, 239, 240, 241, 242, 243, 244, 245, 246,\n",
       "         247, 248, 249, 250, 251, 252, 253, 254, 266, 267, 268, 269, 270,\n",
       "         271, 273, 275, 276, 278, 279, 281, 284, 285, 286, 287, 288, 289,\n",
       "         290, 291, 292, 293, 294, 295, 296, 298, 299, 301, 303, 304, 305,\n",
       "         306, 307, 308, 309, 310, 311, 312, 313, 314, 315, 316, 318, 319,\n",
       "         320, 322, 324, 325, 326, 327, 331, 332, 333, 334, 336, 338, 340,\n",
       "         341, 342, 344, 345, 346, 347, 348, 349, 350, 354, 355, 356, 357,\n",
       "         358, 359, 360, 361, 362, 363, 364, 367, 371, 374, 375, 376, 377,\n",
       "         378, 380, 381, 382, 383, 389, 392, 393, 400, 408, 414, 417, 430,\n",
       "         432, 433, 435, 441, 444, 446, 449, 451, 460, 461, 468, 475, 476,\n",
       "         477, 478, 479, 480, 481, 482, 483, 484, 485, 486, 487, 488, 489,\n",
       "         490, 491, 492, 493, 494, 495, 496, 497, 498, 499, 500, 501, 502,\n",
       "         503, 504, 505, 506, 507, 508, 509, 510, 511, 512, 513, 514, 515,\n",
       "         516, 517, 518, 519, 520, 521, 522, 523, 524, 525, 526, 527, 528,\n",
       "         529, 530, 531, 532, 533, 534, 535, 536, 537, 538, 539, 540, 541,\n",
       "         542, 543, 544, 545, 546, 547, 548, 549, 550, 551, 552, 553, 554,\n",
       "         555, 556, 557, 558, 559, 560, 561, 562, 563, 564, 565, 566, 567, 568]),\n",
       "  array([255, 256, 257, 258, 259, 260, 261, 262, 263, 264, 265, 272, 274,\n",
       "         277, 280, 282, 283, 297, 300, 302, 317, 321, 323, 328, 329, 330,\n",
       "         335, 337, 339, 343, 351, 352, 353, 365, 366, 368, 369, 370, 372,\n",
       "         373, 379, 384, 385, 386, 387, 388, 390, 391, 394, 395, 396, 397,\n",
       "         398, 399, 401, 402, 403, 404, 405, 406, 407, 409, 410, 411, 412,\n",
       "         413, 415, 416, 418, 419, 420, 421, 422, 423, 424, 425, 426, 427,\n",
       "         428, 429, 431, 434, 436, 437, 438, 439, 440, 442, 443, 445, 447,\n",
       "         448, 450, 452, 453, 454, 455, 456, 457, 458, 459, 462, 463, 464,\n",
       "         465, 466, 467, 469, 470, 471, 472, 473, 474])],\n",
       " [array([  0,   1,   2,   3,   4,   5,   6,   7,   8,   9,  10,  11,  12,\n",
       "          13,  14,  15,  16,  17,  18,  19,  20,  21,  22,  23,  24,  25,\n",
       "          26,  27,  28,  29,  30,  31,  32,  33,  34,  35,  36,  37,  38,\n",
       "          39,  40,  41,  42,  43,  44,  45,  46,  47,  48,  49,  50,  51,\n",
       "          52,  53,  54,  55,  56,  57,  58,  59,  60,  61,  62,  63,  64,\n",
       "          65,  66,  67,  68,  69,  70,  71,  72,  73,  74,  75,  76,  77,\n",
       "          78,  79,  80,  81,  82,  83,  84,  85,  86,  87,  88,  89,  90,\n",
       "          91,  92,  93,  94,  95,  96,  97,  98,  99, 100, 101, 102, 103,\n",
       "         104, 105, 106, 107, 108, 109, 110, 111, 112, 113, 114, 115, 116,\n",
       "         117, 118, 119, 120, 121, 122, 123, 124, 125, 126, 127, 128, 129,\n",
       "         130, 131, 132, 133, 134, 135, 136, 137, 138, 139, 140, 141, 142,\n",
       "         143, 144, 145, 146, 147, 148, 149, 150, 151, 152, 153, 154, 155,\n",
       "         156, 157, 158, 159, 160, 161, 162, 163, 164, 165, 166, 167, 168,\n",
       "         169, 170, 171, 172, 173, 174, 175, 176, 177, 178, 179, 180, 181,\n",
       "         182, 183, 184, 185, 186, 187, 188, 189, 190, 191, 192, 193, 194,\n",
       "         195, 196, 197, 198, 199, 200, 201, 202, 203, 204, 205, 206, 207,\n",
       "         208, 209, 210, 211, 212, 213, 214, 215, 216, 217, 218, 219, 220,\n",
       "         221, 222, 223, 224, 225, 226, 227, 228, 229, 230, 231, 232, 233,\n",
       "         234, 235, 236, 237, 238, 239, 240, 241, 242, 243, 244, 245, 246,\n",
       "         247, 248, 249, 250, 251, 252, 253, 254, 255, 256, 257, 258, 259,\n",
       "         260, 261, 262, 263, 264, 265, 266, 267, 268, 269, 270, 271, 272,\n",
       "         273, 274, 275, 276, 277, 278, 279, 280, 281, 282, 283, 284, 285,\n",
       "         286, 287, 288, 289, 290, 291, 292, 293, 294, 295, 296, 297, 298,\n",
       "         299, 300, 301, 302, 303, 304, 305, 306, 307, 308, 309, 310, 311,\n",
       "         312, 313, 314, 315, 316, 317, 318, 319, 320, 321, 322, 323, 324,\n",
       "         325, 326, 327, 328, 329, 330, 331, 332, 333, 334, 335, 336, 337,\n",
       "         338, 339, 340, 341, 342, 343, 344, 345, 346, 347, 348, 349, 350,\n",
       "         351, 352, 353, 354, 355, 356, 357, 358, 359, 360, 361, 362, 363,\n",
       "         364, 365, 366, 367, 368, 369, 370, 371, 372, 373, 374, 375, 376,\n",
       "         377, 378, 379, 380, 381, 382, 383, 384, 385, 386, 387, 388, 390,\n",
       "         391, 394, 395, 396, 397, 398, 399, 401, 402, 403, 404, 405, 406,\n",
       "         407, 409, 410, 411, 412, 413, 415, 416, 418, 419, 420, 421, 422,\n",
       "         423, 424, 425, 426, 427, 428, 429, 431, 434, 436, 437, 438, 439,\n",
       "         440, 442, 443, 445, 447, 448, 450, 452, 453, 454, 455, 456, 457,\n",
       "         458, 459, 462, 463, 464, 465, 466, 467, 469, 470, 471, 472, 473, 474]),\n",
       "  array([389, 392, 393, 400, 408, 414, 417, 430, 432, 433, 435, 441, 444,\n",
       "         446, 449, 451, 460, 461, 468, 475, 476, 477, 478, 479, 480, 481,\n",
       "         482, 483, 484, 485, 486, 487, 488, 489, 490, 491, 492, 493, 494,\n",
       "         495, 496, 497, 498, 499, 500, 501, 502, 503, 504, 505, 506, 507,\n",
       "         508, 509, 510, 511, 512, 513, 514, 515, 516, 517, 518, 519, 520,\n",
       "         521, 522, 523, 524, 525, 526, 527, 528, 529, 530, 531, 532, 533,\n",
       "         534, 535, 536, 537, 538, 539, 540, 541, 542, 543, 544, 545, 546,\n",
       "         547, 548, 549, 550, 551, 552, 553, 554, 555, 556, 557, 558, 559,\n",
       "         560, 561, 562, 563, 564, 565, 566, 567, 568])]]"
      ]
     },
     "execution_count": 33,
     "metadata": {},
     "output_type": "execute_result"
    }
   ],
   "source": [
    "cv_indices"
   ]
  },
  {
   "cell_type": "markdown",
   "metadata": {},
   "source": [
    "<a id='manual-cv'></a>\n",
    "### Write a function to manually perform cross-validation using your stratified indices\n",
    "\n",
    "Now that we have the indices (row indexes for our train-test splits), write a function that will:\n",
    "- Split the X and y into training and testing subsets\n",
    "- Fit a KNN classifier on the training set\n",
    "- Calculate the accuracy of the classifier on the test set\n",
    "- Store the accuracies for each fold and return them as a list"
   ]
  },
  {
   "cell_type": "code",
   "execution_count": 13,
   "metadata": {
    "collapsed": true
   },
   "outputs": [],
   "source": [
    "# A:"
   ]
  },
  {
   "cell_type": "markdown",
   "metadata": {},
   "source": [
    "<a id='baseline'></a>\n",
    "### Calculate the \"baseline\" accuracy\n",
    "\n",
    "Before we can evaluate whether our classifier's accuracy is good or bad, we need to know the baseline accuracy.\n",
    "\n",
    "**The baseline accuracy is the proportion of the majority class.**\n",
    "\n",
    "For a binary classification, this means that the baseline accuracy is the percent of the dataset that is labeled malignant or benign, depending on whichever of malignant or benign is greater. This can be calculated:\n",
    "\n",
    "```python\n",
    "baseline = np.mean(y)  # if np.mean(y) is >= 0.5\n",
    "baseline = 1. - np.mean(y) # if np.mean(y) is < 0.5\n",
    "```\n",
    "\n",
    "**It is critical that you know your baseline accuracy!**\n",
    "\n",
    "If your dataset for example had 95 1's and 5 0's, and you got a 95% accuracy using KNN, if you had not looked at your baseline accuracy you may conclude that your classifier is doing great. In fact, it's doing no better than chance! The classifier could have guessed only 1's and gotten a 95% accuracy."
   ]
  },
  {
   "cell_type": "code",
   "execution_count": 14,
   "metadata": {
    "collapsed": true
   },
   "outputs": [],
   "source": [
    "# A:"
   ]
  },
  {
   "cell_type": "markdown",
   "metadata": {},
   "source": [
    "<a id='cv-knn5'></a>\n",
    "### Cross-validate the mean accuracy for a KNN model with 5 neighbors"
   ]
  },
  {
   "cell_type": "code",
   "execution_count": 15,
   "metadata": {
    "collapsed": true
   },
   "outputs": [],
   "source": [
    "# A:"
   ]
  },
  {
   "cell_type": "markdown",
   "metadata": {},
   "source": [
    "<a id='cv-knn1'></a>\n",
    "### Cross-validate the mean accuracy for a KNN model with 1 neighbor\n",
    "\n",
    "As you can see the mean cross-validated accuracy is very high with 5 neighbors. \n",
    "\n",
    "Let's see what it's like when we use only 1 neighbor:"
   ]
  },
  {
   "cell_type": "code",
   "execution_count": 16,
   "metadata": {
    "collapsed": true
   },
   "outputs": [],
   "source": [
    "# A:"
   ]
  },
  {
   "cell_type": "markdown",
   "metadata": {},
   "source": [
    "<a id='visualize-knn'></a>\n",
    "\n",
    "## Visualize the KNN decision boundary\n",
    "\n",
    "---\n",
    "\n",
    "Even with 1 neighbor we can do quite well predicting the malignant observations.\n",
    "\n",
    "Below you can load an interactive KNN visualization that shows how the decision boundary of KNN changes as the number of neighbors changes.\n",
    "\n",
    "The `KNNBoundaryPlotter` class has 4 required arguments:\n",
    "\n",
    "    KNNBoundaryPlotter(data, predictor1, predictor2, class_target)\n",
    "    \n",
    "It will by default fit a visualization of the decision boundary across 1 to 100 nearest neighbors.\n",
    "\n",
    "The boundary is where the classifier will vote for malignant vs. benign classes. "
   ]
  },
  {
   "cell_type": "code",
   "execution_count": 17,
   "metadata": {
    "collapsed": true
   },
   "outputs": [],
   "source": [
    "# import imp\n",
    "# plotter = imp.load_source('plotter', './knn_plotter.py')\n",
    "# from plotter import KNNBoundaryPlotter\n",
    "\n",
    "# kbp = KNNBoundaryPlotter(bcw, 'area_mean', 'symmetry_mean', 'malignant', nn_range=range(1,101))\n",
    "\n",
    "# kbp.knn_mesh_runner()\n",
    "# kbp.knn_interact()"
   ]
  },
  {
   "cell_type": "markdown",
   "metadata": {},
   "source": [
    "<a id='bias-variance'></a>\n",
    "### How does increasing the number of neighbors impact the bias and variance of your model?"
   ]
  },
  {
   "cell_type": "code",
   "execution_count": 18,
   "metadata": {
    "collapsed": true
   },
   "outputs": [],
   "source": [
    "# A:"
   ]
  },
  {
   "cell_type": "markdown",
   "metadata": {},
   "source": [
    "<a id='resources'></a>\n",
    "\n",
    "## Additional resources\n",
    "\n",
    "---\n",
    "\n",
    "\n",
    "- Scott Foreman-Roe's [breakdown](http://scott.fortmann-roe.com/docs/BiasVariance.html) (required) of the bias-variance tradeoff featuring a discussion of KNN is an excellent read\n",
    "- A [detailed discussion](https://saravananthirumuruganathan.wordpress.com/2010/05/17/a-detailed-introduction-to-k-nearest-neighbor-knn-algorithm/) of KNN\n",
    "- A long, applied example of KNN applied to [image classification](http://cs231n.github.io/classification/ )\n",
    "- If academic breakdowns are your thing, be sure to visit [this](http://me.seekingqed.com/files/intro_KNN.pdf) resource\n",
    "- Read the SKLearn [documentation](http://scikit-learn.org/stable/modules/generated/sklearn.neighbors.KNeighborsClassifier.html) on implementing KNN\n",
    "- Choosing the right [algorithm from SKLearn](http://scikit-learn.org/stable/tutorial/machine_learning_map/)\n",
    "- A deeper dive into [Euclidian distance](http://www.econ.upf.edu/~michael/stanford/maeb4.pdf)\n",
    "- Classifier comparsion from [SKLearn](http://scikit-learn.org/stable/auto_examples/classification/plot_classifier_comparison.html) (this is also in our [repository](https://github.com/ga-students/DSI-DC-2/blob/master/curriculum/Week-04/4.01%20Intro%20to%20Classification/classification-methods.py))"
   ]
  }
 ],
 "metadata": {
  "kernelspec": {
   "display_name": "Python 2",
   "language": "python",
   "name": "python2"
  },
  "language_info": {
   "codemirror_mode": {
    "name": "ipython",
    "version": 2
   },
   "file_extension": ".py",
   "mimetype": "text/x-python",
   "name": "python",
   "nbconvert_exporter": "python",
   "pygments_lexer": "ipython2",
   "version": "2.7.13"
  }
 },
 "nbformat": 4,
 "nbformat_minor": 1
}
