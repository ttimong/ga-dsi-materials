{
 "cells": [
  {
   "cell_type": "markdown",
   "metadata": {
    "slideshow": {
     "slide_type": "notes"
    }
   },
   "source": [
    "> **Jupyter slideshow:** This notebook can be displayed as slides. To view it as a slideshow in your browser type in the console:\n",
    "\n",
    "\n",
    "> `> jupyter nbconvert [this_notebook.ipynb] --to slides --post serve`\n",
    "\n",
    "\n",
    "> To toggle off the slideshow cell formatting, click the `CellToolbar` button, then `View --> Cell Toolbar --> None`"
   ]
  },
  {
   "cell_type": "markdown",
   "metadata": {
    "slideshow": {
     "slide_type": "slide"
    }
   },
   "source": [
    "<img src=\"http://imgur.com/1ZcRyrc.png\" style=\"float: left; margin: 20px; height: 55px\">\n",
    "\n",
    "\n",
    "# Logging in Python\n",
    "\n",
    "_Author: Alex Combs (NYC) _\n",
    "\n",
    "---\n",
    "\n",
    "<a id=\"learning-objectives\"></a>\n",
    "### Learning Objectives\n",
    "\n",
    "*After this lesson, you will be able to:*\n",
    "- Explain the benefits of logging\n",
    "- Use the Python logger library\n",
    "- Configure Python logger"
   ]
  },
  {
   "cell_type": "markdown",
   "metadata": {},
   "source": [
    "### Lesson Guide\n",
    "\n",
    "- [Learning Objectives](#learning-objectives)\n",
    "- [Data Scientist vs. Machine Learning Engineer](#data-scientist-vs-machine-learning-engineer)\n",
    "- [Why log?](#why-log)\n",
    "\n",
    "\n",
    "- [Python's `logging` library](#pythons-logging-library)\n",
    "  - [Code-a-long: Flask app](#code-a-long-flask-app)\n",
    "  - [A better way: the `logging` module](#a-better-way-the-logging-module)\n",
    "  - [The logging hierarchy](#the-logging-hierarchy)\n",
    "\n",
    "\n",
    "- [Beyond the basics: Dealing with scale](#beyond-the-basics-dealing-with-scale)\n",
    "  - [Example: TimedRotatingFileHandler](#example-timedrotatingfilehandler)\n",
    "  - [Additional `FileHandlers`](#additional-filehandlers)\n",
    "\n",
    "\n",
    "- [Independent practice: logging](#independent-practice-logging)"
   ]
  },
  {
   "cell_type": "markdown",
   "metadata": {
    "slideshow": {
     "slide_type": "slide"
    }
   },
   "source": [
    "<a id=\"data-scientist-vs-machine-learning-engineer\"></a>\n",
    "## Data Scientist vs. Machine Learning Engineer\n",
    "\n",
    "---\n",
    "\n",
    "<img src=\"images/ds-jobs.png\" width=400>\n",
    "\n",
    "\n",
    "Both roles must understand the data science workflow and the ins and outs of the various machine learning algorithms. However, the machine learning engineer's final product is a working model in production code while the data scientist's is typically a number of visualizations and/or a prototype.\n",
    "\n",
    "Regardless of whether the code is for a prototype or for production, logging is an essential component."
   ]
  },
  {
   "cell_type": "markdown",
   "metadata": {
    "slideshow": {
     "slide_type": "slide"
    }
   },
   "source": [
    "<a id=\"why-log\"></a>\n",
    "## Why log?\n",
    "---\n",
    "\n",
    "Logging is most frequently used to help monitor code that runs unsupervised and/or to keep track of errors for later consumption. For example, web apps (e.g. using Flask) log errors. Logging is also useful when writing complicated programs with many failure states. "
   ]
  },
  {
   "cell_type": "markdown",
   "metadata": {
    "slideshow": {
     "slide_type": "fragment"
    }
   },
   "source": [
    "#### This is not ok\n",
    "\n",
    "```python\n",
    "print \"About to run this questionable function that keeps breaking\"\n",
    "\n",
    "do_someting_sketchy()\n",
    "\n",
    "print \"Yes, made it!!!\"\n",
    "\n",
    "```"
   ]
  },
  {
   "cell_type": "markdown",
   "metadata": {
    "slideshow": {
     "slide_type": "slide"
    }
   },
   "source": [
    "### Ad hoc `print` statements \n",
    "\n",
    "- Okay for debugging and simple personal scripts. Not sufficient for being your only method of recording errors.\n",
    "\n",
    "- Can we disable non-important `print`s without commenting each out individually? No.\n",
    "\n",
    "- Can we permanently record the `print` output in a way that can handle large Internet traffic? Not easily.\n",
    "\n",
    "- Can we auto-prefix important values such as the date and time? Not easily."
   ]
  },
  {
   "cell_type": "markdown",
   "metadata": {
    "slideshow": {
     "slide_type": "fragment"
    }
   },
   "source": [
    "### Grown-up coding\n",
    "\n",
    "- Writing to stderr or stdout doesn't cut it for long-running scripts.\n",
    "- For more mature projects, we need a more robust system of to diagnose issues and keep an audit trail of events."
   ]
  },
  {
   "cell_type": "markdown",
   "metadata": {
    "slideshow": {
     "slide_type": "slide"
    }
   },
   "source": [
    "<a id=\"pythons-logging-library\"></a>\n",
    "## Python's `logging` library\n",
    "---\n",
    "\n",
    "- Python's standard library includes ``logging``\n",
    "- It is a versatile library that includes a great deal of functionality"
   ]
  },
  {
   "cell_type": "markdown",
   "metadata": {
    "slideshow": {
     "slide_type": "slide"
    }
   },
   "source": [
    "<a id=\"code-a-long-flask-app\"></a>\n",
    "### Code-a-long: Flask app\n",
    "\n",
    "- Create a folder on your desktop called `my_flask_api`\n",
    "- Create a text file with the following content:\n",
    "    ```python\n",
    "    from flask import Flask\n",
    "    app = Flask(__name__)\n",
    "\n",
    "    @app.route('/')\n",
    "    def hello_world():\n",
    "        print 'about to print this!'\n",
    "        return 'Hello, World!'\n",
    "\n",
    "    if __name__ == '__main__':\n",
    "        print 'about to run this thing!'\n",
    "        app.run()\n",
    "    ```\n",
    "- Save the file as `test_flask.py`\n",
    "- On your terminal, cd into the `my_flask_api` directory and type: `python test_flask.py`\n",
    "- Pull up your browser and notice the output of the print statements"
   ]
  },
  {
   "cell_type": "markdown",
   "metadata": {
    "slideshow": {
     "slide_type": "fragment"
    }
   },
   "source": [
    "- Let's now improve it a bit; we'll write our output to a file. Better, right?\n",
    "- But this file would be locked while the application is running!\n",
    "- Also, imagine how this would this scale to dozens, hundreds, or thousands of users? How about as our code became increasingly complex?"
   ]
  },
  {
   "cell_type": "markdown",
   "metadata": {
    "slideshow": {
     "slide_type": "slide"
    }
   },
   "source": [
    "<a id=\"a-better-way-the-logging-module\"></a>\n",
    "### A better way: the `logging` module\n",
    "\n",
    "We'll now add logging statements that output a .log file. (control + c to kill your existing flask instance)\n",
    "\n",
    "```python\n",
    "from flask import Flask\n",
    "import logging\n",
    "logging.basicConfig(filename='test.log', level=logging.INFO)\n",
    "logger = logging.getLogger(__name__)\n",
    "app = Flask(__name__)\n",
    "\n",
    "@app.route('/')\n",
    "def hello_world():\n",
    "    logger.info('about to print this!')\n",
    "    return 'Hello, World!'\n",
    "\n",
    "if __name__ == '__main__':\n",
    "    logger.debug('about to run this thing!')\n",
    "    app.run()\n",
    "```\n",
    "\n",
    "This configures our logging system (specifically, the \"root logger\") by specifying an output file and a \"level\" (more on that in a moment).\n"
   ]
  },
  {
   "cell_type": "markdown",
   "metadata": {
    "slideshow": {
     "slide_type": "fragment"
    }
   },
   "source": [
    "- Run this code again with `python test_flask.py`\n",
    "- Refresh your browser and check the `test.log` output, is anything missing? Why might that be?"
   ]
  },
  {
   "cell_type": "markdown",
   "metadata": {
    "slideshow": {
     "slide_type": "slide"
    }
   },
   "source": [
    "<a id=\"the-logging-hierarchy\"></a>\n",
    "### The logging hierarchy\n",
    "\n",
    "In our code, notice this line:\n",
    "```python\n",
    "logging.basicConfig(filename='test.log', level=logging.INFO)\n",
    "```\n",
    "This line configured our output so that only things at the level of INFO or more critical are written to the log.\n",
    "Go ahead and rerun the process with `level=logging.DEBUG`. What do you see now?"
   ]
  },
  {
   "cell_type": "markdown",
   "metadata": {
    "slideshow": {
     "slide_type": "fragment"
    }
   },
   "source": [
    "There are five \"levels\" of logging. You  configure the system's threshold for logging via logging.basicConfig.\n",
    "\n",
    "```python\n",
    "logger.debug('Very granular logging message, useful for debugging.')\n",
    "logger.info('Simple update on normal execution, e.g. \"Processing record {} of {}\"'.format(10,100)\n",
    "logger.warning('You\\'ve seen these in sklearn, warning about methods being deprecated')\n",
    "logger.error('Logs an error message')\n",
    "logger.critical('Well this is an issue')\n",
    "```"
   ]
  },
  {
   "cell_type": "markdown",
   "metadata": {
    "slideshow": {
     "slide_type": "slide"
    }
   },
   "source": [
    "There are other useful configuration parameters, particularly format:\n",
    "\n",
    "```python\n",
    "logging.basicConfig(filename='test.log', format='%(levelname)s: %(asctime)s: %(message)s', level=logging.DEBUG)\n",
    "```\n",
    "\n",
    "You can also change it so that the log file will be over-written every time the program is run:\n",
    "\n",
    "```python\n",
    "logging.basicConfig(filename='test.log', filemode='w', level=logging.DEBUG)\n",
    "```\n",
    "\n",
    "Note you'll need to add this at the start of your file, as `basicConfig()` does nothing if it's run after your logging system is configured!"
   ]
  },
  {
   "cell_type": "markdown",
   "metadata": {
    "slideshow": {
     "slide_type": "slide"
    }
   },
   "source": [
    "<a id=\"beyond-the-basics-dealing-with-scale\"></a>\n",
    "## Beyond the basics: Dealing with scale\n",
    "---\n",
    "\n",
    "One thing you can imagine might happen is A LOT of text being written to the log files, especially as you scale up your application. How can you handle that?"
   ]
  },
  {
   "cell_type": "markdown",
   "metadata": {
    "slideshow": {
     "slide_type": "fragment"
    }
   },
   "source": [
    "- Rotating log files\n",
    "\n",
    "  - One way to deal with this issue is to write to a file until it reaches a certain max size. Once that happens, you begin writing to another file. Generally, you only want to save a certain number of files so that you don't clutter up your system.\n",
    "\n",
    "> [RotatingFileHandler](https://docs.python.org/3/library/logging.handlers.html#logging.handlers.RotatingFileHandler)"
   ]
  },
  {
   "cell_type": "markdown",
   "metadata": {
    "slideshow": {
     "slide_type": "fragment"
    }
   },
   "source": [
    "- Timed rotating log files\n",
    "\n",
    "  - Another way to handle log files is to rotate them on a given schedule. For example, you could write all the data for each hour into a log file and retain only the last 24 hours or the last 72 hours.\n",
    "\n",
    "> [TimedRotatingFileHandler](https://docs.python.org/3/library/logging.handlers.html#logging.handlers.TimedRotatingFileHandler)"
   ]
  },
  {
   "cell_type": "markdown",
   "metadata": {
    "slideshow": {
     "slide_type": "slide"
    }
   },
   "source": [
    "<a id=\"example-timedrotatingfilehandler\"></a>\n",
    "### Example: TimedRotatingFileHandler\n",
    "\n",
    "```python\n",
    "import flask\n",
    "import logging\n",
    "from logging.handlers import TimedRotatingFileHandler\n",
    "\n",
    "#------- CONFIG --------#\n",
    "\n",
    "logger = logging.getLogger()\n",
    "logger.setLevel(logging.DEBUG)\n",
    "\n",
    "formatter = logging.Formatter('%(asctime)s - %(levelname)s - %(message)s')\n",
    "fh = TimedRotatingFileHandler('test.log', when='s', interval=5, backupCount=5)\n",
    "fh.setLevel(logging.DEBUG)\n",
    "fh.setFormatter(formatter)\n",
    "logger.addHandler(fh)\n",
    "\n",
    "app = flask.Flask(__name__)\n",
    "\n",
    "\n",
    "\n",
    "#------- ROUTES --------#\n",
    "\n",
    "@app.route('/')\n",
    "def hello_world():\n",
    "    logger.info('about to print this!')\n",
    "    return 'Hello, World!'\n",
    "\n",
    "\n",
    "#------- MAIN SENTINEL --------#\n",
    "\n",
    "if __name__ == '__main__':\n",
    "    logger.debug('about to run this thing!')\n",
    "    app.run()\n",
    "```"
   ]
  },
  {
   "cell_type": "markdown",
   "metadata": {
    "slideshow": {
     "slide_type": "slide"
    }
   },
   "source": [
    "<a id=\"additional-filehandlers\"></a>\n",
    "### Additional `FileHandlers`\n",
    "\n",
    "This file handler can send email messages:\n",
    "[SMTPFileHandler](https://docs.python.org/3/library/logging.handlers.html#logging.handlers.SMTPHandler)<br>\n",
    "\n",
    "This one can send a http request:\n",
    "[HTTPFileHandler](https://docs.python.org/3/library/logging.handlers.html#logging.handlers.HTTPHandler)\n",
    "\n",
    "Note that you can have multiple handlers with different levels. For example, maybe INFO and WARNINGS go to a log file, but CRITICAL goes to your email."
   ]
  },
  {
   "cell_type": "markdown",
   "metadata": {
    "slideshow": {
     "slide_type": "slide"
    }
   },
   "source": [
    "<a id=\"independent-practice-logging\"></a>\n",
    "## Independent practice: logging\n",
    "---\n",
    "\n",
    "Using the following starter script, your new logging knowledge, and the Postman Chrome add in, continue developing a Flask API. Try using various handlers like SMTPFileHandler. Try using additional arguments, as well as using POST and GET.\n",
    "\n",
    "The following resources should help: <br>\n",
    "[Simple Flask API](http://blog.luisrei.com/articles/flaskrest.html) <br>\n",
    "[RESTful Flask API](https://blog.miguelgrinberg.com/post/designing-a-restful-api-with-python-and-flask) <br>\n",
    "[Logging Cookbook](https://docs.python.org/2/howto/logging-cookbook.html)<br>\n",
    "\n",
    "\n",
    "```python\n",
    "import flask\n",
    "import logging\n",
    "from logging.handlers import TimedRotatingFileHandler\n",
    "from flask import request\n",
    "\n",
    "\n",
    "#------- CONFIG --------#\n",
    "\n",
    "logger = logging.getLogger()\n",
    "logger.setLevel(logging.DEBUG)\n",
    "\n",
    "formatter = logging.Formatter('%(asctime)s - %(levelname)s - %(message)s')\n",
    "\n",
    "fh = TimedRotatingFileHandler('test.log', when='m', interval=5, backupCount=3)\n",
    "fh.setLevel(logging.DEBUG)\n",
    "fh.setFormatter(formatter)\n",
    "logger.addHandler(fh)\n",
    "\n",
    "app = flask.Flask(__name__)\n",
    "\n",
    "\n",
    "#------- ROUTES --------#\n",
    "\n",
    "@app.route('/')\n",
    "def hello_world():\n",
    "    logger.info('about to print this!')\n",
    "    return 'Hello, World!'\n",
    "\n",
    "@app.route('/hello')\n",
    "def say_hi():\n",
    "    if 'name' in request.args:\n",
    "\t    return 'Hello, ' + request.args['name']\n",
    "    else:\n",
    "\t    return 'Hello, John Doe'\n",
    "\n",
    "    \n",
    "#------- MAIN SENTINEL --------#\n",
    "    \n",
    "if __name__ == '__main__':\n",
    "    logger.debug('about to run this thing!')\n",
    "    app.run()\n",
    "```"
   ]
  },
  {
   "cell_type": "markdown",
   "metadata": {
    "slideshow": {
     "slide_type": "slide"
    }
   },
   "source": [
    "<a id=\"postman-app\"></a>\n",
    "## Postman app\n",
    "\n",
    "<img src=\"images/postman-logging.png\">"
   ]
  }
 ],
 "metadata": {
  "anaconda-cloud": {},
  "celltoolbar": "Slideshow",
  "kernelspec": {
   "display_name": "Python 2",
   "language": "python",
   "name": "python2"
  },
  "language_info": {
   "codemirror_mode": {
    "name": "ipython",
    "version": 2
   },
   "file_extension": ".py",
   "mimetype": "text/x-python",
   "name": "python",
   "nbconvert_exporter": "python",
   "pygments_lexer": "ipython2",
   "version": "2.7.11"
  }
 },
 "nbformat": 4,
 "nbformat_minor": 1
}
