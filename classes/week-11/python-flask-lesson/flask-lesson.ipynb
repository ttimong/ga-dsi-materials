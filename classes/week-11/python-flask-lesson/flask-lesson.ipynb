{
 "cells": [
  {
   "cell_type": "markdown",
   "metadata": {
    "slideshow": {
     "slide_type": "notes"
    }
   },
   "source": [
    "> **Jupyter slideshow:** This notebook can be displayed as slides. To view it as a slideshow in your browser type in the console:\n",
    "\n",
    "\n",
    "> `> jupyter nbconvert [this_notebook.ipynb] --to slides --post serve`\n",
    "\n",
    "\n",
    "> To toggle off the slideshow cell formatting, click the `CellToolbar` button, then `View --> Cell Toolbar --> None`"
   ]
  },
  {
   "cell_type": "markdown",
   "metadata": {
    "slideshow": {
     "slide_type": "slide"
    }
   },
   "source": [
    "<img src=\"http://imgur.com/1ZcRyrc.png\" style=\"float: left; margin: 20px; height: 55px\">\n",
    "\n",
    "\n",
    "# Flask\n",
    "\n",
    "_Author: Alex Combs (NYC) _\n",
    "\n",
    "---\n",
    "\n",
    "<a id=\"learning-objectives\"></a>\n",
    "### Learning Objectives\n",
    "\n",
    "- Understand what Flask is and what a web backend does.\n",
    "- Understand how values are passed between a website and the Flask backend.\n",
    "- Create a simple website locally that allows the user to interact with a model.\n",
    "- Practice adding new features to our website."
   ]
  },
  {
   "cell_type": "markdown",
   "metadata": {
    "slideshow": {
     "slide_type": "slide"
    }
   },
   "source": [
    "### Lesson Guide\n",
    "\n",
    "- [Learning Objectives](#learning-objectives)\n",
    "- [Introduction](#introduction)\n",
    "\n",
    "  - [Part 1 - Hello, world](#part----hello-world)\n",
    "  - [Part 2 - Arguments and styling](#part----arguments-and-styling)\n",
    "  - [Part 3 - Add in machine learning](#part----add-in-machine-learning)\n",
    "  - [Part 4 - Create and train a Model](#part----create-and-train-a-model)\n",
    "  - [Part 5 - Make a simple API](#part----make-a-simple-api)\n",
    "  - [Part 6 - Make a simple webform](#part----make-a-simple-webform)\n",
    "\n",
    "\n",
    "- [Independent Practice](#independent-practice)\n",
    "- [Examples](#examples)\n",
    "- [Additional Resources](#additional-resources)\n"
   ]
  },
  {
   "cell_type": "markdown",
   "metadata": {
    "slideshow": {
     "slide_type": "slide"
    }
   },
   "source": [
    "<a id=\"introduction\"></a>\n",
    "## Introduction\n",
    "---\n",
    "\n",
    "![flask logo](http://flask.pocoo.org/static/logo/flask.png)\n",
    "Flask is a fast, lightweight way to connect your Python scripts to a server. It's a simple and robust framework that can do small tasks (create a microblog, stand up a simple API) or complex ones (Pinterest's API, create a twitter clone).\n",
    "\n",
    "Flask is called a _microframework_ because it is minimalistic and does not impose an application structure on you. Flask allows you to \"plug in\" libraries of your choice to add additional functionality. \"Heavier\" frameworks such as Django typically come with their own libraries (e.g. for database access). This is often convenient, but it takes more time to learn and is not as flexible.\n",
    "\n",
    "Let's jump in with a simple example. Then, we'll expand it to show what it can do with your models. Flask comes preinstalled with Anaconda. However, if you don't have it you can install it:\n",
    "\n",
    "```bash\n",
    "$ pip install flask\n",
    "```"
   ]
  },
  {
   "cell_type": "markdown",
   "metadata": {
    "slideshow": {
     "slide_type": "slide"
    }
   },
   "source": [
    "Let's discuss how Flask is used to render a website:\n",
    "\n",
    "1. First, each URL is mapped to a function (called **routing**).\n",
    "\n",
    "2. When the user visits the URL, the associated function is called.\n",
    "\n",
    "3. The function returns a string of HTML, which is directly rendered by the browser.\n",
    "\n",
    "That's it! \n",
    "\n",
    "> Using this way of thinking, when visiting a URL you are actually making a function call to a remote computer.\n",
    "\n",
    "> The URL is the function signature (including parameters), and the function returns a value back to the browser -- in this case a string of HTML. In fact, this is why interfaces for retrieving data online are called \"Web APIs\" -- they are just function calls disguised as URLs!"
   ]
  },
  {
   "cell_type": "markdown",
   "metadata": {
    "slideshow": {
     "slide_type": "slide"
    }
   },
   "source": [
    "<a id=\"part----hello-world\"></a>\n",
    "### Part 1 - Hello, world\n",
    "\n",
    "Create a new file called `controller.py` in the `titanic_app` folder. Type in this code line by line. Make sure you understand what's going on!\n",
    "\n",
    "```Python\n",
    "import flask\n",
    "\n",
    "#----- CONFIG -----#\n",
    "app = flask.Flask(__name__) # initialise Flask app var\n",
    "app.config['DEBUG'] = True\n",
    "\n",
    "#----- ROUTES -----#\n",
    "@app.route(\"/\")\n",
    "def hello():\n",
    "    return \"Hello World!\"\n",
    "\n",
    "#----- MAIN SENTINEL -----#\n",
    "if __name__ == '__main__':\n",
    "    app.run()\n",
    "```\n",
    "\n",
    "Three things happen here:\n",
    "- initialize the app\n",
    "- use built-in decorators to define what happens on a page\n",
    "- launch the app\n",
    "\n",
    "Note that `app` must be defined prior to using the decorators! \n",
    "\n",
    "You can also choose to define your own `HOST` and `PORT` parameters for your Flask application.\n",
    "```Python\n",
    "\n",
    "#----- MAIN SENTINEL -----#\n",
    "if __name__ == '__main__':\n",
    "    '''Connects to the server'''\n",
    "\n",
    "    HOST = '127.0.0.1'\n",
    "    PORT = '5000'\n",
    "\n",
    "    app.run(HOST, PORT)\n",
    "```"
   ]
  },
  {
   "cell_type": "markdown",
   "metadata": {
    "slideshow": {
     "slide_type": "slide"
    }
   },
   "source": [
    "Now launch the file from your command line:\n",
    "\n",
    "```bash\n",
    "$ python controller.py\n",
    "* Running on http://127.0.0.1:5000/ (Press CTRL+C to quit)\n",
    "```\n",
    "Go to that URL to see your app running on your `localhost`.\n",
    "\n",
    "Typically, we develop apps locally using this development server. When working, we then upload the files to a web host such as EC2."
   ]
  },
  {
   "cell_type": "markdown",
   "metadata": {
    "slideshow": {
     "slide_type": "slide"
    }
   },
   "source": [
    "<a id=\"part----arguments-and-styling\"></a>\n",
    "### Part 2 - Arguments and styling\n",
    "\n",
    "Add the following route underneath the hello() function:\n",
    "\n",
    "```Python\n",
    "\n",
    "#-------- ROUTES -----------#\n",
    "\n",
    "@app.route('/greet/<name>')\n",
    "def greet(name):\n",
    "    '''Say hello to your first parameter'''\n",
    "    return \"Hello, %s!\" %name\n",
    "```\n",
    "Save and relaunch the app. Now navigate to `http://127.0.0.1:5000/greet/Roger`. Your function should respond to that input!"
   ]
  },
  {
   "cell_type": "markdown",
   "metadata": {
    "slideshow": {
     "slide_type": "fragment"
    }
   },
   "source": [
    "Since the `return` statement sends text to an HTML page, you can style our original `hello()` function with HTML tags:\n",
    "\n",
    "```Python\n",
    "#-------- ROUTES -----------#\n",
    "\n",
    "@app.route(\"/\")\n",
    "def hello():\n",
    "    return '''\n",
    "    <body>\n",
    "    <h2> Hello World! <h2>\n",
    "    </body>\n",
    "    '''\n",
    "```\n",
    "We can also call a function `flask.render_template(\"webpage.html\")` to serve a static page. More on this later."
   ]
  },
  {
   "cell_type": "markdown",
   "metadata": {
    "slideshow": {
     "slide_type": "slide"
    }
   },
   "source": [
    "<a id=\"step----set-up-a-webform\"></a>\n",
    "### Part 3 - Set up a webform\n",
    "\n",
    "Now that we have the basic Flask app deployed, let's now set up a page with a form that can accept user input.\n",
    "\n",
    "We'll first create the page. Create a new subfolder `templates` inside `titanic_app`. Then, create a file `input_page.html` in `templates`:\n",
    "\n",
    "\n",
    "Now, let's add a form\n",
    "```HTML\n",
    "<!DOCTYPE html>\n",
    "<html>\n",
    "<form action=\"make_it_happen\" method=\"post\">\n",
    "  First name: <input type=\"text\" name=\"myname\"><br><br>\n",
    "  Excitement Level: <input type=\"text\" name=\"mylevel\"><br>\n",
    "  <input type=\"submit\" value=\"Submit\">\n",
    "</form>\n",
    "</html>\n",
    "```\n"
   ]
  },
  {
   "cell_type": "markdown",
   "metadata": {
    "slideshow": {
     "slide_type": "slide"
    }
   },
   "source": [
    "That created our input page. We now need to modify Flask to accept the input from this page. We'll open the `controller.py` file and append the following under the ROUTES header:\n",
    "\n",
    "```python\n",
    "#-------- ROUTES -----------#\n",
    "\n",
    "@app.route('/input_page')\n",
    "def send_form():\n",
    "  return flask.render_template('input_page.html')\n",
    "\n",
    "\n",
    "@app.route('/make_it_happen', methods=['POST'])\n",
    "def say_hi():\n",
    "  name = flask.request.form['myname']\n",
    "  excitement_level = flask.request.form['mylevel']\n",
    "  return flask.render_template('stuff_you_know.html', name=name, lvl=excitement_level)\n",
    "\n",
    "```\n"
   ]
  },
  {
   "cell_type": "markdown",
   "metadata": {
    "slideshow": {
     "slide_type": "slide"
    }
   },
   "source": [
    "If everything went well, you should see this in your browser:\n",
    "\n",
    "<img src=\"images/browser-3.png\"> "
   ]
  },
  {
   "cell_type": "markdown",
   "metadata": {
    "slideshow": {
     "slide_type": "slide"
    }
   },
   "source": [
    "We'll walk through what each piece of this does. The first piece of code under the imports sets our app as Flask and points it to where we will be serving our HTML templates.\n",
    "\n",
    "Next we have a function that runs when the default route for our app is called ('/'). We are returning the page we just created.\n",
    "\n",
    "The next function is called when the form is submitted and takes the payload of that form: the entered name and the level of excitement level. It then sends it to what is called a string template. A string template allows us to pass in values from our code that can then be manipulated outside of our code in the HTML. This allows for a separation of concerns. The view can be dynamically generated based on the values passed to it, rather than having to code all the conditionals in Python on the Flask backend.\n",
    "\n",
    "We capture the values passed to us in the form. Notice that the names in the HTML are captured and stored into Python variables.\n",
    "\n",
    "Next, we discuss how to return an output with those values."
   ]
  },
  {
   "cell_type": "markdown",
   "metadata": {
    "slideshow": {
     "slide_type": "slide"
    }
   },
   "source": [
    "<a id=\"step----return-values-to-the-flask-backend\"></a>\n",
    "### Part 4 - Return Values to the Flask Backend\n",
    "\n",
    "The return of that last function is returning a page that utilizes a Jinja2 string template. We are passing our Python variables, 'name' and 'excitement_level' to our string template under the Jinga2 variable names 'name' and 'lvl'. We could have used any variable names for these. We can also use as many as we want. Note, that they don't have to just be an integer. The can be a string or a list of values or basically any other type.\n",
    "\n",
    "Create a new `stuff_you_know.html` file in the `templates` folder. Paste in the following:\n",
    "```HTML\n",
    "<!DOCTYPE html>\n",
    "<html>\n",
    "<head>\n",
    "</head>\n",
    "<body>\n",
    "<center>\n",
    "\t{{ name }}, your excitement level is {{ lvl }}.\n",
    "\t{% if  lvl|int <= 5  %}\n",
    "\tShame.<br><br>\n",
    "\t<img src=\"https://media.giphy.com/media/c2YyNySJ1CbFC/200.gif\">\n",
    "\n",
    "\t{% elif lvl|int > 5 and lvl|int < 50 %}\n",
    "\tMeh. Try harder.<br><br>\n",
    "\t<img src=\"https://media0.giphy.com/media/11lLn6lwsdicLK/200.gif\">\n",
    "\n",
    "\t{% elif lvl|int > 9000 %}\n",
    "\tOVER 9000!!<br><br>\n",
    "\t<img src=\"http://i0.kym-cdn.com/photos/images/original/000/845/401/195.gif\">\n",
    "\n",
    "\t{% else %}\n",
    "\tThat's fantastic. You are a star.<br><br>\n",
    "\t<img src=\"https://media4.giphy.com/media/arm7b1hJrw1BS/200.gif\">\n",
    "\t{% endif %}\n",
    "</center>\n",
    "</body>\n",
    "</html>\n",
    "\n",
    "```"
   ]
  },
  {
   "cell_type": "markdown",
   "metadata": {
    "slideshow": {
     "slide_type": "slide"
    }
   },
   "source": [
    "Lots of code there. What's going on?\n",
    "\n",
    "Our variables that we passed in using Flask were 'name' and 'lvl' if you remember. Notice that we are using those here. They are in the curly braces: `{{ name }}` and `{{ lvl }}`. These are called templates, since Jinja2 will replace these placeholders with the variable values upon rendering. Just putting the curly braced values prints out to our page the values we passed in.\n",
    "\n",
    "Here we also employed some conditional logic. This is how string templating works. We can do a number of operations using Jinja2; we can do everything from formatting values to showing or hiding data based on its values. It is very flexible and prevents us from having to change our backend code for every scenario."
   ]
  },
  {
   "cell_type": "markdown",
   "metadata": {
    "slideshow": {
     "slide_type": "slide"
    }
   },
   "source": [
    "<a id=\"step----test-it\"></a>\n",
    "### Part 5 - Test it!\n",
    "\n",
    "Now that we have all the pieces, go ahead and go to the page for our app in your browser.\n",
    "\n",
    "`localhost:5000`\n",
    "\n",
    "Fill in the form. Try different values like 2, 7, 10.\n",
    "\n",
    "Notice how the output changes with those values.\n",
    "\n",
    "What are some ways you could use this in your work?"
   ]
  },
  {
   "cell_type": "markdown",
   "metadata": {
    "slideshow": {
     "slide_type": "slide"
    }
   },
   "source": [
    "<a id=\"part----add-in-machine-learning\"></a>\n",
    "### Part 6 - Add in machine learning\n",
    "We can use Flask as a way to share and host our machine learning predictions.\n"
   ]
  },
  {
   "cell_type": "markdown",
   "metadata": {
    "slideshow": {
     "slide_type": "slide"
    }
   },
   "source": [
    "<a id=\"part----create-and-train-a-model\"></a>\n",
    "### Part 7 - Create and train a Model\n",
    "\n",
    "First, import the following modules in the py header file:\n",
    "```Python\n",
    "import numpy as np\n",
    "import pandas as pd\n",
    "from sklearn.ensemble import RandomForestClassifier\n",
    "```\n",
    "\n",
    "Load in the `titanic.csv` dataset and create a model on it:\n",
    "\n",
    "```Python\n",
    "#-------- MODEL -----------#\n",
    "\n",
    "df = pd.read_csv('titanic.csv')\n",
    "include = ['Pclass', 'Sex', 'Age', 'Fare', 'SibSp', 'Survived']\n",
    "\n",
    "# Create dummies and drop NaNs\n",
    "df['Sex'] = df['Sex'].apply(lambda x: 0 if x == 'male' else 1)\n",
    "df = df[include].dropna()\n",
    "\n",
    "X = df[['Pclass', 'Sex', 'Age', 'Fare', 'SibSp']]\n",
    "y = df['Survived']\n",
    "\n",
    "PREDICTOR = RandomForestClassifier(n_estimators=100).fit(X, y)\n",
    "```"
   ]
  },
  {
   "cell_type": "markdown",
   "metadata": {
    "slideshow": {
     "slide_type": "fragment"
    }
   },
   "source": [
    "You could also train and test your model in a Jupyter notebook and pickle the fitted model. This would result in a much faster load time for your app. In that case, your code would look something like this:\n",
    "\n",
    "```Python\n",
    "with open('picked_model.pkl', 'r') as picklefile:\n",
    "    PREDICTOR = pickle.load(picklefile)\n",
    "```"
   ]
  },
  {
   "cell_type": "markdown",
   "metadata": {
    "slideshow": {
     "slide_type": "slide"
    }
   },
   "source": [
    "<a id=\"part----make-a-simple-api\"></a>\n",
    "### Part 8 - Make a simple API\n",
    "\n",
    "Here's the fun part. Now that we have a `PREDICTOR`, we need to get some values to make our predictions.\n",
    "\n",
    "One way to do this is to get information from the **URL parameters**. These are the part of a URL that come after the `?` and are matched by key:value pairs. For example, if you navigate to:\n",
    "\n",
    "```\n",
    "http://localhost:5000/predict?pclass=1&sex=1&age=18&fare=500&sibsp=0\n",
    "```\n",
    "\n",
    "then Flask can retrieve that data for you. Let's write a route to do just that:\n",
    "\n",
    "```Python\n",
    "#-------- ROUTES -----------#\n",
    "\n",
    "@app.route('/predict', methods=[\"GET\"])\n",
    "def predict():\n",
    "    pclass = flask.request.args['pclass']\n",
    "    sex = flask.request.args['sex']\n",
    "    age = flask.request.args['age']\n",
    "    fare = flask.request.args['fare']\n",
    "    sibsp = flask.request.args['sibsp']\n",
    "\n",
    "    item = np.array([pclass, sex, age, fare, sibsp]).reshape(1,-1)\n",
    "    score = PREDICTOR.predict_proba(item)\n",
    "    results = {'survival chances': score[0,1], 'death chances': score[0,0]}\n",
    "    return flask.jsonify(results)\n",
    "```\n",
    "\n",
    "And... voila! Save the file. Launch your app. You now have a simple API for your model.  \n",
    "\n",
    "Play with the parameters in the URL. You should get the predicted probability of death and survival."
   ]
  },
  {
   "cell_type": "markdown",
   "metadata": {
    "slideshow": {
     "slide_type": "slide"
    }
   },
   "source": [
    "<a id=\"part----make-a-simple-webform\"></a>\n",
    "### Part 9 - Make a simple webform for the titanic dataset\n",
    "\n",
    "Well that was exciting. But it doesn't look very nice. Let's create a simple web form to read in the inputs.\n",
    "\n",
    "Create a file `titanic_input.html` in `templates`:\n",
    "\n",
    "```html\n",
    "<!doctype html>\n",
    "<html>\n",
    "  <head>\n",
    "    <title>Titanic Survivor-O-Matic</title>\n",
    "  </head>\n",
    "  <body>\n",
    "\n",
    "    <form action=\"/result\" method=\"POST\">\n",
    "      <p>Class <input type=\"number\" name=\"pclass\" /></p>\n",
    "      <p>Sex <input type=\"number\" name=\"sex\" /></p>\n",
    "      <p>Age <input type=\"number\" name=\"age\" /></p>\n",
    "      <p>Fare <input type=\"number\" name=\"fare\" /></p>\n",
    "      <p># of siblings <input type=\"text\" name=\"sibsp\" /></p>\n",
    "\n",
    "      <p><input type=\"submit\" value=\"submit\" /></p>\n",
    "    </form>\n",
    "\n",
    "  </body>\n",
    "</html>\n",
    "```\n",
    "\n",
    "The two most common HTTP methods are `GET` and `POST`. When your browser visits a URL, it sends a `GET` request. However, when you submit a web form, typically a `POST` request is sent. For a `POST` request, a URL is still accessed. However, the parameters are sent inside the request body instead of as part of the URL (as we saw earlier with the `GET` parameters). Sending parameters in the body allows you to send more data than would fit inside the URL. However, it prevents a user from bookmarking the exact URL call and \"hides\" the submitted data from the user. (It only hides it from your average user -- the submitted data is actually easy to see using your browser's developer tools.)"
   ]
  },
  {
   "cell_type": "markdown",
   "metadata": {
    "slideshow": {
     "slide_type": "slide"
    }
   },
   "source": [
    "Luckily, Flask knows how to read `form` tags in an HTML file that have been `POST`'d to the server.\n",
    "\n",
    "Add two new decorators in below your first one. Write all this text out, don't copy paste:\n",
    "\n",
    "```Python\n",
    "\n",
    "#----- ROUTES -----#\n",
    "\n",
    "# This method takes input via an HTML page\n",
    "@app.route('/titanic_input')\n",
    "def page():\n",
    "   flask.render_template(\"titanic_input.html\")\n",
    "\n",
    "@app.route('/titanic_result', methods=['POST', 'GET'])\n",
    "def result():\n",
    "    '''Gets prediction using the HTML form'''\n",
    "    if flask.request.method == 'POST':\n",
    "\n",
    "       inputs = flask.request.form\n",
    "\n",
    "       pclass = inputs['pclass'][0]\n",
    "       sex = inputs['sex'][0]\n",
    "       age = inputs['age'][0]\n",
    "       fare = inputs['fare'][0]\n",
    "       sibsp = inputs['sibsp'][0]\n",
    "\n",
    "       item = np.array([pclass, sex, age, fare, sibsp]).reshape(1, -1)\n",
    "       score = PREDICTOR.predict_proba(item)\n",
    "       results = {'survival chances': score[0,1], 'death chances': score[0,0]}\n",
    "       return flask.jsonify(results)\n",
    "\n",
    "```\n",
    "\n",
    "Save, close, and relaunch the app. Go to `http://127.0.0.1:5000/titanic_input` and type in your inputs.\n",
    "\n",
    "Both methods should still be there. You can either play with the URL parameters at `/predict` or enter them at `/titanic_input`"
   ]
  },
  {
   "cell_type": "markdown",
   "metadata": {
    "collapsed": true,
    "slideshow": {
     "slide_type": "slide"
    }
   },
   "source": [
    "<a id=\"independent-practice\"></a>\n",
    "## Independent Practice\n",
    "---\n",
    "\n",
    "See if you can customize and play around with the app you just built. Try the following things:\n",
    "\n",
    "- Create the model in jupyter / pycharm, pickle it, and import it into your flask app.  Play around with the features used, change the model (try logistic regression)\n",
    "- Make the app look nicer by playing with the HTML.  Can you use dropdowns?  Buttons?\n",
    "- See if you can return more values to the page, like the predicted category, or the model's parameters.\n",
    "- Whenever you let the user provide inputs, you must always validate them. For example, can you enter values that make the web app crash or return invalid output? To prevent this, you must always validate your inputs -- can you add some input validation here? Can you show the user an error if some inputs are not valid?\n"
   ]
  },
  {
   "cell_type": "markdown",
   "metadata": {
    "slideshow": {
     "slide_type": "slide"
    }
   },
   "source": [
    "<a id=\"examples\"></a>\n",
    "## Examples\n",
    "---\n",
    "\n",
    "Here are some examples of Flask apps in action. Fork and clone the apps you like so you can play with them and edit them on your local machine.\n",
    "\n",
    "Two apps using scikit-learn:\n",
    "- [Visualizing the Iris dataset using Flask and Angular JS](https://github.com/ColCarroll/flask_angular_example)\n",
    "- [Using Neural Nets to recognize images](https://github.com/mdlai/digit_recognition)\n",
    "\n",
    "More websites built in Flask:\n",
    "- [The Flask Website itself!](http://flask.pocoo.org/)\n",
    "- [A reddit clone](https://github.com/codelucas/flask_reddit)\n"
   ]
  },
  {
   "cell_type": "markdown",
   "metadata": {
    "slideshow": {
     "slide_type": "slide"
    }
   },
   "source": [
    "<a id=\"additional-resources\"></a>\n",
    "## Additional Resources\n",
    "---\n",
    "\n",
    "- [The Flask Documentation](http://flask.pocoo.org/docs/0.11/)\n",
    "- [A Flask tutorial to follow along with](https://github.com/miguelgrinberg/flask-pycon2014)\n",
    "- [The Flask mega tutorial](http://blog.miguelgrinberg.com/post/the-flask-mega-tutorial-part-ii-templates)\n"
   ]
  }
 ],
 "metadata": {
  "celltoolbar": "Slideshow",
  "kernelspec": {
   "display_name": "Python 2",
   "language": "python",
   "name": "python2"
  },
  "language_info": {
   "codemirror_mode": {
    "name": "ipython",
    "version": 2
   },
   "file_extension": ".py",
   "mimetype": "text/x-python",
   "name": "python",
   "nbconvert_exporter": "python",
   "pygments_lexer": "ipython2",
   "version": "2.7.13"
  }
 },
 "nbformat": 4,
 "nbformat_minor": 2
}
