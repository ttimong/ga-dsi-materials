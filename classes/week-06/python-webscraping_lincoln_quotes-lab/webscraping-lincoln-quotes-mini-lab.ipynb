{
 "cells": [
  {
   "cell_type": "markdown",
   "metadata": {},
   "source": [
    "<img src=\"http://imgur.com/1ZcRyrc.png\" style=\"float: left; margin: 20px; height: 55px\">\n",
    "\n",
    "# Automated Data Collection: Lincoln Quotes\n",
    "\n",
    "_Authors: Joseph Nelson (DC)_\n",
    "\n",
    "---\n",
    "\n",
    "For this mini-lab, you are asked to produce a list of all of Lincoln's quotes available on this page: http://www.successories.com/iquote/author/291/abraham-lincoln-quotes/1 \n",
    "\n",
    "Use the `requests` and `BeautifulSoup` libraries in Python.\n",
    "\n",
    "For a bonus, collect all the quotes from each page available on Successories."
   ]
  },
  {
   "cell_type": "code",
   "execution_count": 7,
   "metadata": {
    "collapsed": true
   },
   "outputs": [],
   "source": [
    "import requests\n",
    "from bs4 import BeautifulSoup"
   ]
  },
  {
   "cell_type": "code",
   "execution_count": 24,
   "metadata": {
    "scrolled": false
   },
   "outputs": [
    {
     "name": "stdout",
     "output_type": "stream",
     "text": [
      "[u'\"Having thus chosen our course, without guile and with pure purpose, let us renew our trust in God, and go forward without fear and with manly hearts.\"', u'\"You have to do your own growing no matter how tall your grandfather was.\"', u'\"I have been driven many times to my knees by the overwhelming conviction that I had nowhere to go. My own wisdom, and that of all about me, seemed insufficient for the day.\"', u'\"I see a very dark cloud on America\\'s horizon, and that cloud is coming from Rome\"', u'\"Things may come to those who wait...but only the things left by those who hustle.\"', u'\"Do not worry; eat three square meals a day; say your prayers; be courteous to your creditors; keep your digestion good; exercise; go slow and easy. Maybe there are other things your special case requires to make you happy, but my friend, these I reckon will give you a good lift. -\"', u'\"He can compress the most words into the smallest ideas of any man I ever met.\"', u'\"That some should be rich, shows that others may become rich, and, hence, is just encouragement to industry and enterprise.\"', u'\"Among free men there can be no successful appeal from the ballot to the bullet.\"', u'\"Nothing valuable can be lost by taking time.\"', u'\"Truth is generally the best vindication against slander.\"', u'\"The shadow is what we think of it; the tree is the real thing.\"', u'\"It is better to remain quiet and be thought a fool...\"', u'\"All that I am or hope to be I owe to my angel mother. I remember my mother\\'s prayers and they have always followed me. They have clung to me all my life.\"', u'\"We must ask where we are and whither we are tending.\"', u'\"If you wish to win a man over to your ideas, first make him your friend.\"', u'\"I am not concerned that you have fallen -- I am concerned that you arise.\"', u'\"Force is all-conquering, but its victories are short-lived.\"', u'\"No man has a good enough memory to make a successful liar.\"', u'\"Fourscore and seven years ago our fathers brought forth upon this continent a new nation, conceived in liberty, and dedicated to the proposition that all men are created equal. We here highly resolve that the dead shall not have died in vain, that this nation, under God, shall have a new birth of freedom; and that government of the people, by the people, and for the people, shall not perish from the earth.\"']\n",
      "[u'\"In law it is good policy never to plead what you need not, lest you oblige yourself to prove what you cannot\"', u'\"Let me not be understood as saying that there are no bad laws, nor that grievances may not arise for the redress of which no legal provisions have been made. I mean to say no such thing. But I do mean to say that although bad laws, if they exist, should be repealed as soon as possible, still, while they continue in force, for the sake of example they should be religiously observed.\"', u'\"A jury too often has at least one member more ready to hang the panel than to hang the traitor.\"', u'\"I am glad to know that there is a system of labor where the laborer can strike if he wants to!  I would like to God that such a system prevailed all over the world\"', u'\"Kindness is the only service that will stand the storm of life and not wash out. It will wear well and will be remembered long after the prism of politeness or the complexion of courtesy has faded away.\"', u'\"In times like these men should utter nothing for which they would not be willingly responsible through time and in eternity.\"', u'\"Seriously, I do not think I fit for the presidency.\"', u'\"I can make a General in five minutes but a good horse is hard to replace.\"', u'\"We shall nobody save or meanly lose the last best hope\"', u'\"The fiery trials through which we pass will light us down in honor or dishonor to the latest generation.\"', u'\"Fellow citizens, we cannot escape history.\"', u'\"Most folks are about as happy as they make up their minds to be.\"', u'\"In all that people can individually do as well for themselves, government ought not to interfere.\"', u'\"The plainest print cannot be read through a gold eagle\"', u'\"It is difficult to make a man miserable while he feels worthy of himself and claims kindred to the great God who made him.\"', u'\"Tell us any lie you want to, In any kind of mixture, But we pray you, God we pray you, Don\\'t show us his picture.\"', u'\"Military glory --the attractive rainbow that rises in showers of blood.\"', u'\"Towering genius disdains a beaten path.\"', u'\"Few can be induced to labor exclusively for posterity; and none will do it enthusiastically. Posterity has done nothing for us; and theorize on it as we may, practically we shall do very little for it. . .\"', u'\"With high hope for the future, no prediction is ventured.\"']\n"
     ]
    }
   ],
   "source": [
    "for i in range(1,3):\n",
    "    url = 'https://www.successories.com/iquote/author/291/abraham-lincoln-quotes/' + str(i)\n",
    "    response = requests.get(url)\n",
    "\n",
    "    soup = BeautifulSoup(response.text, 'lxml')\n",
    "    \n",
    "    lincoln_quotes = []\n",
    "\n",
    "    quotes = soup.find_all(name = 'div', attrs = {'class':'quote'})\n",
    "\n",
    "    for quote in quotes:\n",
    "        lincoln_quotes.append(quote.text)\n",
    "\n",
    "    print lincoln_quotes\n"
   ]
  },
  {
   "cell_type": "code",
   "execution_count": null,
   "metadata": {
    "collapsed": true
   },
   "outputs": [],
   "source": []
  }
 ],
 "metadata": {
  "kernelspec": {
   "display_name": "Python 2",
   "language": "python",
   "name": "python2"
  },
  "language_info": {
   "codemirror_mode": {
    "name": "ipython",
    "version": 2
   },
   "file_extension": ".py",
   "mimetype": "text/x-python",
   "name": "python",
   "nbconvert_exporter": "python",
   "pygments_lexer": "ipython2",
   "version": "2.7.13"
  }
 },
 "nbformat": 4,
 "nbformat_minor": 2
}
