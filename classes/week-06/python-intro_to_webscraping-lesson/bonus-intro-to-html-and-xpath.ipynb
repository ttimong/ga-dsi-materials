{
 "cells": [
  {
   "cell_type": "markdown",
   "metadata": {},
   "source": [
    "<img src=\"http://imgur.com/1ZcRyrc.png\" style=\"float: left; margin: 20px; height: 55px\">\n",
    "\n",
    "# Introduction to Html and XPath\n",
    "\n",
    "_Authors: Kiefer Katovich (SF), Dave Yerrington (SF)_\n",
    "\n",
    "---\n",
    "\n",
    "### Learning Objectives\n",
    "- Understand scraping basics\n",
    "- Familiarity with import.io service\n",
    "- Understand the structure and content of HTML\n",
    "- Utilize XPath to extract information from HTML \n"
   ]
  },
  {
   "cell_type": "markdown",
   "metadata": {},
   "source": [
    "### STUDENT PRE-WORK\n",
    "*Before this lesson, you should already be able to:*\n",
    "- Understand basic HTML concepts\n",
    "- Worked with Beautiful Soup\n",
    "- Signed up for import.io"
   ]
  },
  {
   "cell_type": "markdown",
   "metadata": {},
   "source": [
    "### LESSON GUIDE\n",
    "\n",
    "- [Introduction](#introduction)\n",
    "- [HTML](#html)\n",
    "    - [Elements](#elements)\n",
    "    - [Attributes](#attributes)\n",
    "- [What is XPath?](#xpath)\n",
    "    - [Absolute References](#xpath_absolute)\n",
    "    - [Relative References](#xpath_relative)\n",
    "    - [\"Wheres Waldo?\" Exercise](#waldo_exercise)\n",
    "- [1 vs N Selectors](#1_v_n)\n",
    "- [Demo Code](#demo)\n",
    "    - [Scrape Data Tau](#scrape_tau)\n",
    "- [Independent Practice](#ind_practice)\n",
    "\n",
    "---"
   ]
  },
  {
   "cell_type": "markdown",
   "metadata": {},
   "source": [
    "<a id='introduction'></a>\n",
    "## Introduction: Scraping Overview (10 mins)\n",
    "\n",
    "Web scraping is a technique of extracting information from websites. It focuses on transformation of unstructured data on the web, into structured data that can be stored and analyzed.\n",
    "\n",
    "There are a variety of ways to \"scrape\" what we want from the web:\n",
    "\n",
    "- 3rd Party Services (import.io)\n",
    "- Write our own Python apps that pull HTML documents and parse them.\n",
    "  - Mechanize\n",
    "  - Scrapy\n",
    "  - Requests\n",
    "  - libxml / XPath\n",
    "  - Beautiful Soup\n",
    "  - Regular expressions"
   ]
  },
  {
   "cell_type": "markdown",
   "metadata": {},
   "source": [
    "## Discussion: What do you think would be the most challenging aspect of scraping information?\n",
    "\n",
    "\n",
    "_ie: If you were asked to scrape craigslist property listings and put them in a DataFrame(), what would hold you up?_"
   ]
  },
  {
   "cell_type": "markdown",
   "metadata": {},
   "source": [
    "<a id='html'></a>\n",
    "## HTML Review\n",
    "\n",
    "In the HTML DOM (Document Object Model), everything is a node:\n",
    " * The document itself is a document node.\n",
    " * All HTML elements are element nodes.\n",
    " * All HTML attributes are attribute nodes.\n",
    " * Text inside HTML elements are text nodes.\n",
    " * Comments are comment nodes."
   ]
  },
  {
   "cell_type": "markdown",
   "metadata": {},
   "source": [
    "## Html in iPython\n",
    "\n",
    "You can write html style text in a Jupyter Notebook the same way you can markdown style text. \n",
    "```\n",
    "<p>I am a paragraph.</p>\n",
    "<strong>I am bold.</strong>\n",
    "```\n",
    "<p>I am a paragraph.</p>\n",
    "<strong>I am bold.</strong>\n"
   ]
  },
  {
   "cell_type": "markdown",
   "metadata": {},
   "source": [
    "<a id='elements'></a>\n",
    "## Elements\n",
    "Elements begin and end with **open and close \"tags\"**, which are defined by namespaced, encapsulated strings. \n",
    "\n",
    "```html\n",
    "<title>I am a title.</title>\n",
    "<p>I am a paragraph.</p>\n",
    "<strong>I am bold.</strong>\n",
    "```\n",
    "\n",
    "_note: the tags **title, p, and strong** are represented here._"
   ]
  },
  {
   "cell_type": "markdown",
   "metadata": {},
   "source": [
    "## Element Parent / Child Relationships\n",
    "\n",
    "<img src=\"http://www.htmlgoodies.com/img/2007/06/flowChart2.gif\" width=\"250\">\n",
    "\n",
    "**Elements begin and end in the same namespace like so:**  `<p></p>`\n",
    "\n",
    "**Elements can have parents and children:**\n",
    "\n",
    "```html\n",
    "<body>\n",
    "    <div>I am inside the parent element\n",
    "        <div>I am inside a child element</div>\n",
    "        <div>I am inside another child element</div>\n",
    "        <div>I am inside yet another child element</div>\n",
    "    </div>\n",
    "</body>\n",
    "```"
   ]
  },
  {
   "cell_type": "markdown",
   "metadata": {},
   "source": [
    "<a id='attributes'></a>\n",
    "\n",
    "## Element Attributes\n",
    "\n",
    "Elements can also have attributes!  Attributes are defined inside **element tags** and can contain data that may be useful to scrape.\n",
    "\n",
    "```html\n",
    "<a href=\"http://lmgtfy.com/?q=html+element+attributes\" title=\"A title\" id=\"web-link\" name=\"hal\">A Simple Link</a>\n",
    "```\n",
    "\n",
    "The **element attributes** of this `<a>` tag element are:\n",
    "- id\n",
    "- href\n",
    "- title\n",
    "- name\n",
    "\n",
    "This `<a>` tag example will render in your browser like this:\n",
    "> <a href=\"https://www.youtube.com/watch?v=dQw4w9WgXcQ\">A Simple Link</a>\n"
   ]
  },
  {
   "cell_type": "markdown",
   "metadata": {},
   "source": [
    "## Can you identify an attribute, an element, a text item, and a child element?\n",
    "\n",
    "```HTML\n",
    "<html>\n",
    "   <title id=\"main-title\">All this scraping is making me itch!</title>\n",
    "   <body>\n",
    "       <h1>Welcome to my Homepage</h1>\n",
    "       <p id=\"welcome-paragraph\" class=\"strong-paragraph\">\n",
    "           <span>Hello friends, let me tell you about this cool hair product..</span>\n",
    "           <ul>\n",
    "              <li>It's cool</li>\n",
    "              <li>It's fresh</li>\n",
    "              <li>It can tell the future</li>\n",
    "              <li>Always be closing</li>\n",
    "           </ul>\n",
    "       </p>\n",
    "   </body>\n",
    "```\n",
    "\n",
    "**Bonus: What's missing?** "
   ]
  },
  {
   "cell_type": "markdown",
   "metadata": {},
   "source": [
    "<a id='xpath'></a>\n",
    "\n",
    "## Enter XPath\n",
    "\n",
    "XPath uses path expressions to select nodes or node-sets in an HTML/XML document. These path expressions look very much like the expressions you see when you work with a traditional computer file system."
   ]
  },
  {
   "cell_type": "markdown",
   "metadata": {},
   "source": [
    "## XPath Features\n",
    "\n",
    "XPath includes over 100 built-in functions to help us select and manipulate HTML (or XML) documents. XPath has functions for:\n",
    "\n",
    "- string values\n",
    "- numeric values\n",
    "- date and time comparison\n",
    "- sequence manipulation\n",
    "- Boolean values\n",
    "- and more!"
   ]
  },
  {
   "cell_type": "markdown",
   "metadata": {},
   "source": [
    "## Basic XPath Expressions\n",
    "\n",
    "XPath comes with a wide array of features but the basics of selecting data are the most common problems that XPath can help you solve.\n",
    "\n",
    "The most common task you'll use **XPath** for is selecting data from HTML documents.  There are two ways you can **select elements** within HTML using **XPath**:\n",
    "\n",
    "- Absolute reference\n",
    "- Relative reference"
   ]
  },
  {
   "cell_type": "markdown",
   "metadata": {},
   "source": [
    "<a id='xpath_absolute'></a>\n",
    "# XPath:  Absolute References\n",
    "\n",
    "_For our XPath demonstration, we will use Scrapy, which is using libxml under the hood.  Libxml provides the basic functionality for XPath expressions._"
   ]
  },
  {
   "cell_type": "code",
   "execution_count": 8,
   "metadata": {
    "collapsed": false
   },
   "outputs": [
    {
     "data": {
      "text/plain": [
       "[u'good']"
      ]
     },
     "execution_count": 8,
     "metadata": {},
     "output_type": "execute_result"
    }
   ],
   "source": [
    "# pip install scrapy\n",
    "# pip install --upgrade zope2\n",
    "from scrapy.selector import Selector\n",
    "from scrapy.http import HtmlResponse\n",
    "\n",
    "HTML = \"\"\"\n",
    "<html>\n",
    "    <body>\n",
    "        <span id=\"only-span\">good</span>\n",
    "    </body>\n",
    "</html>\n",
    "\"\"\"\n",
    "# The same thing but \"absolute\" reference\n",
    "Selector(text=HTML).xpath('/html/body/span/text()').extract()\n"
   ]
  },
  {
   "cell_type": "markdown",
   "metadata": {},
   "source": [
    "<a id='xpath_relative'></a>\n",
    "## Relative Reference\n",
    "\n",
    "Relative references in XPath match the \"ends\" of structures.  Since there is only a single \"span\" element, `//span/text()` matches **one element**."
   ]
  },
  {
   "cell_type": "code",
   "execution_count": 9,
   "metadata": {
    "collapsed": false
   },
   "outputs": [
    {
     "data": {
      "text/plain": [
       "[u'good']"
      ]
     },
     "execution_count": 9,
     "metadata": {},
     "output_type": "execute_result"
    }
   ],
   "source": [
    "Selector(text=HTML).xpath('//span/text()').extract()"
   ]
  },
  {
   "cell_type": "markdown",
   "metadata": {},
   "source": [
    "## Selecting Attributes\n",
    "\n",
    "Attributes **within a tag**, such as `id=\"only-span\"` within our span attribute.  We can get the attribute by using `@` symbol **after** the **element reference**.\n"
   ]
  },
  {
   "cell_type": "code",
   "execution_count": 10,
   "metadata": {
    "collapsed": false
   },
   "outputs": [
    {
     "data": {
      "text/plain": [
       "[u'only-span']"
      ]
     },
     "execution_count": 10,
     "metadata": {},
     "output_type": "execute_result"
    }
   ],
   "source": [
    "Selector(text=HTML).xpath('//span/@id').extract()"
   ]
  },
  {
   "cell_type": "markdown",
   "metadata": {},
   "source": [
    "<a id='waldo_exercise'></a>\n",
    "## (~10 mins) Where's Waldo - \"XPath Edition\"\n",
    "\n",
    "In this example, we will find Waldo together.  Find Waldo as:\n",
    "\n",
    "- Element\n",
    "- Attribute\n",
    "- Text element"
   ]
  },
  {
   "cell_type": "code",
   "execution_count": 12,
   "metadata": {
    "collapsed": true
   },
   "outputs": [],
   "source": [
    "HTML = \"\"\"\n",
    "<html>\n",
    "    <body>\n",
    "        \n",
    "        <ul id=\"waldo\">\n",
    "            <li class=\"waldo\">\n",
    "                <span> yo Im not here</span>\n",
    "            </li>\n",
    "            <li class=\"waldo\">Height:  ???</li>\n",
    "            <li class=\"waldo\">Weight:  ???</li>\n",
    "            <li class=\"waldo\">Last Location:  ???</li>\n",
    "            <li class=\"nerds\">\n",
    "                <div class=\"alpha\">Bill gates</div>\n",
    "                <div class=\"alpha\">Zuckerberg</div>\n",
    "                <div class=\"beta\">Theil</div>\n",
    "                <div class=\"animal\">parker</div>\n",
    "            </li>\n",
    "        </ul>\n",
    "        \n",
    "        <ul id=\"tim\">\n",
    "            <li class=\"tdawg\">\n",
    "                <span>yo im here</span>\n",
    "            </li>\n",
    "        </ul>\n",
    "        <li>stuff</li>\n",
    "        <li>stuff2</li>\n",
    "        \n",
    "        <div id=\"cooldiv\">\n",
    "            <span class=\"dsi-rocks\">\n",
    "               YO!\n",
    "            </span>\n",
    "        </div>\n",
    "        \n",
    "        \n",
    "        <waldo>Waldo</waldo>\n",
    "    </body>\n",
    "</html>\n",
    "\"\"\""
   ]
  },
  {
   "cell_type": "code",
   "execution_count": 14,
   "metadata": {
    "collapsed": false
   },
   "outputs": [],
   "source": [
    "# # text contents of the element waldo\n",
    "# Selector(text=HTML).xpath('/html/body/waldo/text()').extract()\n",
    "\n",
    "# # Contents of all class attributes named waldo\n",
    "# Selector(text=HTML).xpath('//*[@class=\"waldo\"]').extract()\n",
    "# # Contents of all attributes named waldo\n",
    "# Selector(text=HTML).xpath('//*[@*=\"waldo\"]').extract()\n",
    "\n",
    "# # gets everything around the text element waldo\n",
    "# Selector(text=HTML).xpath(\"//*[text()='Waldo']\").extract()"
   ]
  },
  {
   "cell_type": "markdown",
   "metadata": {},
   "source": [
    "<a id='1_v_n'></a>\n",
    "\n",
    "## 1 vs N Selections\n",
    "\n",
    "When selecting elements via relative reference, it's possible that you will select multiple items.  It's still possible to select single items, if you're specfic enough.\n",
    "\n",
    "**Singular Reference**\n",
    "- **Index** starts at **1**\n",
    "- Selections by offset\n",
    "- Selections by \"first\" or \"last\"\n",
    "- Selections by **unique attribute value**\n"
   ]
  },
  {
   "cell_type": "code",
   "execution_count": 15,
   "metadata": {
    "collapsed": false
   },
   "outputs": [
    {
     "data": {
      "text/plain": [
       "[u'5,233.42']"
      ]
     },
     "execution_count": 15,
     "metadata": {},
     "output_type": "execute_result"
    }
   ],
   "source": [
    "HTML = \"\"\"\n",
    "<html>\n",
    "    <body>\n",
    "    \n",
    "        <!-- Search Results -->\n",
    "        <div class=\"search-result\">\n",
    "           <a href=\"https://www.youtube.com/watch?v=751hUX_q0Do\" title=\"Rappin with Gas\">Rapping with gas</a>\n",
    "           <span class=\"link-details\">This is a great video about gas.</span>\n",
    "        </div>\n",
    "        <div class=\"search-result\">\n",
    "           <a href=\"https://www.youtube.com/watch?v=97byWqi-zsI\" title=\"Casio Rapmap\">The Rapmaster</a>\n",
    "           <span class=\"link-details\">My first synth ever.</span>\n",
    "        </div>\n",
    "        <div class=\"search-result\">\n",
    "           <a href=\"https://www.youtube.com/watch?v=TSwqnR327fk\" title=\"Cinco Products\">Cinco Midi Organizer</a>\n",
    "           <span class=\"link-details\">Midi files at the speed of light.</span>\n",
    "        </div>\n",
    "        <div class=\"search-result\">\n",
    "           <a href=\"https://www.youtube.com/watch?v=8TCxE0bWQeQ\" title=\"Baddest Gates\">BBG Baddest Moments</a>\n",
    "           <span class=\"link-details\">It's tough to be a gangster.</span>\n",
    "        </div>\n",
    "        \n",
    "        <!-- Page stats -->\n",
    "        <div class=\"page-stats-container\">\n",
    "            <li class=\"item\" id=\"pageviews\">1,333,443</li>\n",
    "            <li class=\"item\" id=\"somethingelse\">bla</li>\n",
    "            <li class=\"item\" id=\"last-viewed\">01-22-2016</li>\n",
    "            <li class=\"item\" id=\"views-per-hour\">1,532</li>\n",
    "            <li class=\"item\" id=\"kiefer-views-per-hour\">5,233.42</li>\n",
    "        </div>\n",
    "        \n",
    "    </body>\n",
    "</html>\n",
    "\"\"\"\n",
    "\n",
    "span = Selector(text=HTML).xpath('/html/body/div/li[@id=\"kiefer-views-per-hour\"]/text()').extract()\n",
    "span"
   ]
  },
  {
   "cell_type": "markdown",
   "metadata": {},
   "source": [
    "#### Selecting the first element in a series of elements"
   ]
  },
  {
   "cell_type": "code",
   "execution_count": 16,
   "metadata": {
    "collapsed": false
   },
   "outputs": [
    {
     "data": {
      "text/plain": [
       "u'<span class=\"link-details\">Midi files at the speed of light.</span>'"
      ]
     },
     "execution_count": 16,
     "metadata": {},
     "output_type": "execute_result"
    }
   ],
   "source": [
    "spans = Selector(text=HTML).xpath('//span').extract()\n",
    "spans[2]"
   ]
  },
  {
   "cell_type": "markdown",
   "metadata": {},
   "source": [
    "#### Selecting the last element in a series of elements"
   ]
  },
  {
   "cell_type": "code",
   "execution_count": 17,
   "metadata": {
    "collapsed": false
   },
   "outputs": [
    {
     "data": {
      "text/plain": [
       "u'<span class=\"link-details\">It\\'s tough to be a gangster.</span>'"
      ]
     },
     "execution_count": 17,
     "metadata": {},
     "output_type": "execute_result"
    }
   ],
   "source": [
    "spans = Selector(text=HTML).xpath('//span').extract()\n",
    "spans[-1]"
   ]
  },
  {
   "cell_type": "markdown",
   "metadata": {},
   "source": [
    "#### Selecting all elements matching a selection"
   ]
  },
  {
   "cell_type": "code",
   "execution_count": 18,
   "metadata": {
    "collapsed": false,
    "scrolled": true
   },
   "outputs": [
    {
     "data": {
      "text/plain": [
       "[u'<span class=\"link-details\">This is a great video about gas.</span>',\n",
       " u'<span class=\"link-details\">My first synth ever.</span>',\n",
       " u'<span class=\"link-details\">Midi files at the speed of light.</span>',\n",
       " u'<span class=\"link-details\">It\\'s tough to be a gangster.</span>']"
      ]
     },
     "execution_count": 18,
     "metadata": {},
     "output_type": "execute_result"
    }
   ],
   "source": [
    "Selector(text=HTML).xpath('//span').extract()"
   ]
  },
  {
   "cell_type": "markdown",
   "metadata": {},
   "source": [
    "#### Selecting elements matching an _attribute_\n",
    "\n",
    "This will be one of the most common ways you will select items.  HTML DOM elements will be more differentiated based on their \"class\" and \"id\" variables.  Mainly, these types of attributes are used by web developers to refer to specfic elements or a broad set of elements to apply visual characteristics using CSS.\n",
    "\n",
    "```HTML \n",
    "//element[@attribute=\"value\"]\n",
    "```\n",
    "\n",
    "**Generally**\n",
    "\n",
    "- \"class\" attributes within elements usually refer to multiple items\n",
    "- \"id\" attributes are supposed to be unique, but not always\n",
    "\n",
    "_CSS stands for cascading style sheets.  These are used to abstract the definition of visual elements on a micro and macro scale for the web.  They are also our best friend as data miners.  They give us strong hints and cues as to how a web document is structured._"
   ]
  },
  {
   "cell_type": "markdown",
   "metadata": {},
   "source": [
    "<a id='demo'></a>\n",
    "\n",
    "## Let's Code:\n",
    "\n",
    " - How can we get a series of only text items for the page statistics section of our page?\n",
    " - We want to know only how many times Kiefer views my Youtube videos page per hour?"
   ]
  },
  {
   "cell_type": "code",
   "execution_count": 21,
   "metadata": {
    "collapsed": false
   },
   "outputs": [
    {
     "data": {
      "text/plain": [
       "<Selector xpath=None data=u'<html>\\n    <body>\\n    \\n        <!-- Sear'>"
      ]
     },
     "execution_count": 21,
     "metadata": {},
     "output_type": "execute_result"
    }
   ],
   "source": [
    "# Get all text elements for the page statistics section\n",
    "Selector(text=HTML)"
   ]
  },
  {
   "cell_type": "code",
   "execution_count": 24,
   "metadata": {
    "collapsed": false
   },
   "outputs": [
    {
     "data": {
      "text/plain": [
       "[u'5,233.42']"
      ]
     },
     "execution_count": 24,
     "metadata": {},
     "output_type": "execute_result"
    }
   ],
   "source": [
    "#option1: Get only the text for \"Kiefer's\" number of views per hour\n",
    "Selector(text=HTML).xpath('//div[@class=\"page-stats-container\"]/li[5]/text()').extract()\n",
    "\n"
   ]
  },
  {
   "cell_type": "code",
   "execution_count": 23,
   "metadata": {
    "collapsed": false
   },
   "outputs": [
    {
     "data": {
      "text/plain": [
       "[u'5,233.42']"
      ]
     },
     "execution_count": 23,
     "metadata": {},
     "output_type": "execute_result"
    }
   ],
   "source": [
    "#option2: Get only the text for \"Kiefer's\" number of views per hour\n",
    "Selector(text=HTML).xpath('//li[@id=\"kiefer-views-per-hour\"]/text()').extract()"
   ]
  },
  {
   "cell_type": "markdown",
   "metadata": {},
   "source": [
    "## A Quick Note:  Requests\n",
    "\n",
    "The requests module is the gateway to interacting with the web using Python.  We can:\n",
    "\n",
    " - Fetch web documents as strings\n",
    " - Decode JSON\n",
    " - Basic data munging with Web Documents\n",
    " - Download static files that are not text\n",
    "  - Images\n",
    "  - Videos\n",
    "  - Binary data\n",
    "\n",
    "\n",
    "Take some time and read up on Requests:\n",
    "\n",
    "http://docs.python-requests.org/en/master/user/quickstart/"
   ]
  },
  {
   "cell_type": "markdown",
   "metadata": {},
   "source": [
    "<a id='scrape_tau'></a>\n",
    "\n",
    "## Let's Scrape Data Tau Headlines\n",
    "\n",
    "DataTau is a great site for data science news. Let's take their headlines using Python **requests**, and practice selecting various elements.\n",
    "\n",
    "Using <a href=\"https://chrome.google.com/webstore/detail/xpath-helper/hgimnogjllphhhkhlmebbmlgjoejdpjl?hl=en\">XPath helper Chrome plugin</a> _(cmd-shift-x)_ and the Chrome \"inspect\" feature, let's explore the structure of the page.\n",
    "\n",
    "_Here's a <a href=\"https://www.youtube.com/watch?v=i2Li1vnv09U\">concise video</a> that demonstrates the basic inspect feature within Chrome._"
   ]
  },
  {
   "cell_type": "code",
   "execution_count": 25,
   "metadata": {
    "collapsed": false
   },
   "outputs": [
    {
     "data": {
      "text/plain": [
       "u'<html><head><link rel=\"stylesheet\" type=\"text/css\" href=\"news.css\">\\n<link rel=\"shortcut icon\" href=\"http://www.iconj.com/ico/d/x/dxo02ap56v.ico\">\\n<scr'"
      ]
     },
     "execution_count": 25,
     "metadata": {},
     "output_type": "execute_result"
    }
   ],
   "source": [
    "# Please only run this frame once to avoid hitting the site too hard all at once\n",
    "import requests\n",
    "\n",
    "response = requests.get(\"http://www.datatau.com\")\n",
    "HTML = response.text  \n",
    "HTML[0:150]           # view the first 150 characters of the HTML index document for DataTau"
   ]
  },
  {
   "cell_type": "markdown",
   "metadata": {},
   "source": [
    "#### Selecting Only The Headlines\n",
    "\n",
    "We will use the XPath helper tool to inspect the markup that comprises the **title** to find any pattern.  Since there are more than one **titles**, we expect to find a series of elements representing the **title** data that we are interested in.\n",
    "\n",
    "![](https://snag.gy/m4K3UE.jpg)\n",
    "\n",
    "In this example, we are referencing the the **1st center**, **3rd table row (`tr[3]`)**, within the 2nd **td having a class of \"title\" (`td[@class=\"title\"][2]`)**, and the anchor tag within a **(`a/text()`)**.\n"
   ]
  },
  {
   "cell_type": "code",
   "execution_count": 26,
   "metadata": {
    "collapsed": false
   },
   "outputs": [
    {
     "data": {
      "text/plain": [
       "[u'Density Gradient Maps and Scatterplots in MapD 3.1',\n",
       " u'Neurally Embedded Emojis',\n",
       " u'ReveRse engineering BoardGameGeek',\n",
       " u'Google releases new TensorFlow Object Detection API',\n",
       " u'GOAI: Open GPU-Accelerated Data Analytics',\n",
       " u'Random Effects Neural Networks in Edward and Keras',\n",
       " u'Visualizing neural networks in 3d',\n",
       " u'Syncing Redshift & PostgreSQL in real-time with Kafka Connect',\n",
       " u'Max Pooling',\n",
       " u'How to Properly Induce a Neural Network']"
      ]
     },
     "execution_count": 26,
     "metadata": {},
     "output_type": "execute_result"
    }
   ],
   "source": [
    "import pandas as pd\n",
    "\n",
    "titles = Selector(text=HTML).xpath('//td[@class=\"title\"]/a/text()').extract()\n",
    "titles[0:10] # the first 5 titles"
   ]
  },
  {
   "cell_type": "markdown",
   "metadata": {},
   "source": [
    "## How do we get the urls from the titles?"
   ]
  },
  {
   "cell_type": "code",
   "execution_count": 27,
   "metadata": {
    "collapsed": false
   },
   "outputs": [
    {
     "data": {
      "text/plain": [
       "[u'/x?fnid=QwKvBRyfSS',\n",
       " u'https://www.linkedin.com/pulse/8-habits-effective-data-scientists-vin-vashishta',\n",
       " u'https://www.xongolab.com/',\n",
       " u'https://medium.com/@SteveHerrin/how-i-made-a-little-money-by-running-a-lot-3d7bf39b436a',\n",
       " u'https://arxiv.org/abs/1706.02515',\n",
       " u'https://read.dataly.co/google-analytics-api-how-to-get-data-from-google-analytics-with-python-in-jupyter-notebook-with-85483dd73e22',\n",
       " u'https://blog.insightdatascience.com/engineering-features-to-automatically-assess-image-quality-9313170e4e1f',\n",
       " u'http://minimaxir.com/2017/06/r-notebooks/',\n",
       " u'http://erikrood.com/Posts/py_gsheets.html',\n",
       " u'https://blog.statsbot.co/time-series-anomaly-detection-algorithms-1cef5519aef2',\n",
       " u'https://elitedatascience.com/bias-variance-tradeoff',\n",
       " u'https://medium.com/@mansanher/setting-up-your-gpu-tensorflow-platform-1ba2c8b533a',\n",
       " u'https://www.linkedin.com/pulse/spotlight-remarkable-potential-ai-kyc-deepak-amirtha-raj',\n",
       " u'https://medium.com/@Deepakv_raj/spotlight-on-the-remarkable-potential-of-ai-in-kyc-7441bf7eec38',\n",
       " u'https://www.azavea.com/blog/2017/05/30/deep-learning-on-aerial-imagery/',\n",
       " u'https://github.com/indrajithi/mgc-django',\n",
       " u'https://medium.com/xtrememl/why-how-to-use-windows-10-wsl-built-in-linux-for-machine-learning-6a225f4bbd3a',\n",
       " u'https://arxiv.org/abs/1705.10883',\n",
       " u'http://engineering.indeedblog.com/blog/2017/06/friendly-machine-learning/',\n",
       " u'https://youtu.be/DGtJAJUIxXw',\n",
       " u'http://www.thetalkingmachines.com/blog/2017/6/15/overfitting-and-asking-ecological-questions-with-ml',\n",
       " u'http://www.learningmachines101.com/lm101-059-how-to-properly-introduce-a-neural-network/',\n",
       " u'https://dataskeptic.com/blog/episodes/2017/max-pooling',\n",
       " u'https://blog.insightdatascience.com/from-postgresql-to-redshift-with-kafka-connect-111c44954a6a',\n",
       " u'https://arogozhnikov.github.io/3d_nn/',\n",
       " u'http://willwolf.io/2017/06/15/random-effects-neural-networks/',\n",
       " u'https://devblogs.nvidia.com/parallelforall/goai-open-gpu-accelerated-data-analytics/',\n",
       " u'https://techcrunch.com/2017/06/16/object-detection-api/',\n",
       " u'https://blog.godatadriven.com/reverse-engineering-boardgamegeek',\n",
       " u'http://willwolf.io/2017/06/19/neurally-embedded-emojis/',\n",
       " u'https://www.mapd.com/blog/2017/06/18/release-feature-focus-being-smart-not-dense-with-immerse-density-gradients/']"
      ]
     },
     "execution_count": 27,
     "metadata": {},
     "output_type": "execute_result"
    }
   ],
   "source": [
    "urls = Selector(text=HTML).xpath('//td[@class=\"title\"]/a/@href').extract()\n",
    "urls[::-1]\n",
    "#<a href=\"http://tech.marksblogg.com/faster-queries-google-cloud-dataproc.html\">33x Faster Queries on Google Cloud's Dataproc using Facebook's Presto</a>\n",
    "# titles[0:5] # the first 5 titles"
   ]
  },
  {
   "cell_type": "markdown",
   "metadata": {},
   "source": [
    "#### How can we get the site domain, after the title within the parentheses (ie: stitchfix.com)?"
   ]
  },
  {
   "cell_type": "code",
   "execution_count": 28,
   "metadata": {
    "collapsed": false
   },
   "outputs": [],
   "source": [
    "domains = Selector(text=HTML).xpath(\"//span[@class='comhead']/text()\").extract()"
   ]
  },
  {
   "cell_type": "code",
   "execution_count": 29,
   "metadata": {
    "collapsed": false
   },
   "outputs": [
    {
     "data": {
      "text/plain": [
       "[u' (mapd.com) ',\n",
       " u' (willwolf.io) ',\n",
       " u' (godatadriven.com) ',\n",
       " u' (techcrunch.com) ',\n",
       " u' (nvidia.com) ']"
      ]
     },
     "execution_count": 29,
     "metadata": {},
     "output_type": "execute_result"
    }
   ],
   "source": [
    "domains[0:5]"
   ]
  },
  {
   "cell_type": "markdown",
   "metadata": {},
   "source": [
    "#### How about the points?"
   ]
  },
  {
   "cell_type": "code",
   "execution_count": 30,
   "metadata": {
    "collapsed": false
   },
   "outputs": [
    {
     "data": {
      "text/plain": [
       "[u'2 points', u'3 points', u'6 points', u'2 points', u'7 points']"
      ]
     },
     "execution_count": 30,
     "metadata": {},
     "output_type": "execute_result"
    }
   ],
   "source": [
    "points = Selector(text=HTML).xpath('//td[@class=\"subtext\"]/span/text()').extract()\n",
    "points[0:5]"
   ]
  },
  {
   "cell_type": "markdown",
   "metadata": {},
   "source": [
    "#### How about the \"more Link?\"\n",
    "Hint:  You can use `element[text()='exact text']` to find text element matching specific text."
   ]
  },
  {
   "cell_type": "code",
   "execution_count": 31,
   "metadata": {
    "collapsed": false
   },
   "outputs": [
    {
     "data": {
      "text/plain": [
       "[u'/x?fnid=QwKvBRyfSS']"
      ]
     },
     "execution_count": 31,
     "metadata": {},
     "output_type": "execute_result"
    }
   ],
   "source": [
    "next_link = Selector(text=HTML).xpath('//a[text()=\"More\"]/@href').extract()\n",
    "next_link"
   ]
  },
  {
   "cell_type": "markdown",
   "metadata": {},
   "source": [
    "<a id='ind_practice'></a>\n",
    "\n",
    "## Independent Practice / Lab\n",
    "\n",
    "For the next 30 minutes try to grab the following:\n",
    "\n",
    "- Story titles\n",
    "- Story URL (href)\n",
    "- Domain\n",
    "- Points\n",
    "\n",
    "Stretch:\n",
    "- Author\n",
    "- Comment count\n",
    "\n",
    "Then put into a DataFrame.\n",
    "\n",
    "- Do basic analysis of domains and point distributions\n",
    "\n",
    "** Bonus **\n",
    "\n",
    "Automatically find the next \"more link\" and mine the next page(s) until none exist.  Logically, you can each page with this pseudo code:\n",
    "\n",
    "1. Does the next link exist (a tag with text == \"More\")\n",
    "1. Fetch URL, prepended with domain (datatau.com/(extracted link here))\n",
    "1. Parse the page with `Selector(text=HTML).xpath('').extract()` to find the elements\n",
    "1. Add to dataframe\n",
    "\n",
    "_Note:  You might want to set a limit something like 2-3 total requests per attempt to avoid unecessary transfer_\n"
   ]
  },
  {
   "cell_type": "code",
   "execution_count": 32,
   "metadata": {
    "collapsed": false,
    "scrolled": false
   },
   "outputs": [
    {
     "name": "stdout",
     "output_type": "stream",
     "text": [
      "Fetching http://www.datatau.com/x?fnid=bOnSxMTcKr...\n",
      "Fetching http://www.datatau.com/x?fnid=DRhVUuzcLa...\n",
      "Fetching http://www.datatau.com/x?fnid=aD61WsE9qT...\n",
      "Fetching http://www.datatau.com/x?fnid=sryqu5zGxG...\n",
      "Fetching http://www.datatau.com/x?fnid=0RXAV16nmF...\n",
      "Fetching http://www.datatau.com/x?fnid=LDQCYhEe0G...\n"
     ]
    },
    {
     "data": {
      "text/html": [
       "<div>\n",
       "<table border=\"1\" class=\"dataframe\">\n",
       "  <thead>\n",
       "    <tr style=\"text-align: right;\">\n",
       "      <th></th>\n",
       "      <th>index</th>\n",
       "      <th>authors</th>\n",
       "      <th>comments</th>\n",
       "      <th>domains</th>\n",
       "      <th>links</th>\n",
       "      <th>points</th>\n",
       "      <th>titles</th>\n",
       "    </tr>\n",
       "  </thead>\n",
       "  <tbody>\n",
       "    <tr>\n",
       "      <th>0</th>\n",
       "      <td>0</td>\n",
       "      <td>digambersingh89</td>\n",
       "      <td>discuss</td>\n",
       "      <td>(freebiesmall.com)</td>\n",
       "      <td>https://www.freebiesmall.com/blog/not-to-miss-...</td>\n",
       "      <td>2 points</td>\n",
       "      <td>Not To Miss YouTube Channels For Designers And...</td>\n",
       "    </tr>\n",
       "    <tr>\n",
       "      <th>1</th>\n",
       "      <td>1</td>\n",
       "      <td>jmsmistral</td>\n",
       "      <td>3 comments</td>\n",
       "      <td>(jonathansacramento.com)</td>\n",
       "      <td>http://jonathansacramento.com/posts/20170416_c...</td>\n",
       "      <td>7 points</td>\n",
       "      <td>Predicting Churn without Machine Learning</td>\n",
       "    </tr>\n",
       "    <tr>\n",
       "      <th>2</th>\n",
       "      <td>2</td>\n",
       "      <td>gargisharma</td>\n",
       "      <td>discuss</td>\n",
       "      <td>(paralleldots.com)</td>\n",
       "      <td>http://blog.paralleldots.com/technology/deep-l...</td>\n",
       "      <td>11 points</td>\n",
       "      <td>Some Lesser-Known Deep Learning Libraries</td>\n",
       "    </tr>\n",
       "    <tr>\n",
       "      <th>3</th>\n",
       "      <td>3</td>\n",
       "      <td>Weenkus</td>\n",
       "      <td>discuss</td>\n",
       "      <td>(datawhatnow.com)</td>\n",
       "      <td>http://datawhatnow.com/feature-importance/</td>\n",
       "      <td>6 points</td>\n",
       "      <td>Feature importance and why it's important</td>\n",
       "    </tr>\n",
       "    <tr>\n",
       "      <th>4</th>\n",
       "      <td>4</td>\n",
       "      <td>okcdata</td>\n",
       "      <td>discuss</td>\n",
       "      <td>(okcupid.com)</td>\n",
       "      <td>https://tech.okcupid.com/the-pitfalls-of-a-b-t...</td>\n",
       "      <td>7 points</td>\n",
       "      <td>The pitfalls of A/B testing in social networks</td>\n",
       "    </tr>\n",
       "    <tr>\n",
       "      <th>5</th>\n",
       "      <td>5</td>\n",
       "      <td>csaid81</td>\n",
       "      <td>2 comments</td>\n",
       "      <td>(chris-said.io)</td>\n",
       "      <td>http://chris-said.io/2017/05/03/empirical-baye...</td>\n",
       "      <td>2 points</td>\n",
       "      <td>Empirical Bayes for multiple sample sizes</td>\n",
       "    </tr>\n",
       "    <tr>\n",
       "      <th>6</th>\n",
       "      <td>6</td>\n",
       "      <td>mwakanosya</td>\n",
       "      <td>discuss</td>\n",
       "      <td>(insightdatascience.com)</td>\n",
       "      <td>https://blog.insightdatascience.com/separating...</td>\n",
       "      <td>3 points</td>\n",
       "      <td>Separating Overlapping Chromosomes with Deep L...</td>\n",
       "    </tr>\n",
       "    <tr>\n",
       "      <th>7</th>\n",
       "      <td>7</td>\n",
       "      <td>gargisharma</td>\n",
       "      <td>discuss</td>\n",
       "      <td>(paralleldots.com)</td>\n",
       "      <td>http://blog.paralleldots.com/technology/deep-l...</td>\n",
       "      <td>3 points</td>\n",
       "      <td>Emotion Detection Using Machine Learning - Par...</td>\n",
       "    </tr>\n",
       "    <tr>\n",
       "      <th>8</th>\n",
       "      <td>8</td>\n",
       "      <td>Bassviola</td>\n",
       "      <td>1 comment</td>\n",
       "      <td>(autodeskresearch.com)</td>\n",
       "      <td>https://www.autodeskresearch.com/publications/...</td>\n",
       "      <td>2 points</td>\n",
       "      <td>Same Stats, Different Graphs</td>\n",
       "    </tr>\n",
       "    <tr>\n",
       "      <th>9</th>\n",
       "      <td>9</td>\n",
       "      <td>blester</td>\n",
       "      <td>discuss</td>\n",
       "      <td>(abigailsee.com)</td>\n",
       "      <td>http://www.abigailsee.com/2017/04/16/taming-rn...</td>\n",
       "      <td>5 points</td>\n",
       "      <td>Abstractive Summary with Pointer-Generator Net...</td>\n",
       "    </tr>\n",
       "    <tr>\n",
       "      <th>10</th>\n",
       "      <td>10</td>\n",
       "      <td>Argentum01</td>\n",
       "      <td>discuss</td>\n",
       "      <td>(theintercept.com)</td>\n",
       "      <td>https://trial-and-terror.theintercept.com/</td>\n",
       "      <td>5 points</td>\n",
       "      <td>Most people prosecuted for terrorism since 9/1...</td>\n",
       "    </tr>\n",
       "    <tr>\n",
       "      <th>11</th>\n",
       "      <td>11</td>\n",
       "      <td>deeplearningt</td>\n",
       "      <td>3 comments</td>\n",
       "      <td>(deeplearningtrack.com)</td>\n",
       "      <td>https://www.deeplearningtrack.com/</td>\n",
       "      <td>16 points</td>\n",
       "      <td>An innovative approach to learn data science</td>\n",
       "    </tr>\n",
       "    <tr>\n",
       "      <th>12</th>\n",
       "      <td>12</td>\n",
       "      <td>boniface316</td>\n",
       "      <td>1 comment</td>\n",
       "      <td>(sp-bx.com)</td>\n",
       "      <td>item?id=18063</td>\n",
       "      <td>4 points</td>\n",
       "      <td>Ask: Bayes vs Bayesian vs Naive Bayes</td>\n",
       "    </tr>\n",
       "    <tr>\n",
       "      <th>13</th>\n",
       "      <td>13</td>\n",
       "      <td>Soapbox</td>\n",
       "      <td>discuss</td>\n",
       "      <td>(sp-bx.com)</td>\n",
       "      <td>https://www.sp-bx.com/is-innovation-in-advance...</td>\n",
       "      <td>3 points</td>\n",
       "      <td>Is Innovation in Advanced AI the Apocalypse?</td>\n",
       "    </tr>\n",
       "    <tr>\n",
       "      <th>14</th>\n",
       "      <td>14</td>\n",
       "      <td>Soapbox</td>\n",
       "      <td>discuss</td>\n",
       "      <td>(sp-bx.com)</td>\n",
       "      <td>https://www.sp-bx.com/online-presence-5-ideas-...</td>\n",
       "      <td>3 points</td>\n",
       "      <td>Online Presence: 5 Ideas to Consider</td>\n",
       "    </tr>\n",
       "    <tr>\n",
       "      <th>15</th>\n",
       "      <td>15</td>\n",
       "      <td>Soapbox</td>\n",
       "      <td>discuss</td>\n",
       "      <td>(visualization.bike)</td>\n",
       "      <td>https://www.sp-bx.com/5-ways-make-business-sma...</td>\n",
       "      <td>3 points</td>\n",
       "      <td>5 Ways To Make Your Business Smarter Using Aug...</td>\n",
       "    </tr>\n",
       "    <tr>\n",
       "      <th>16</th>\n",
       "      <td>16</td>\n",
       "      <td>bike_visual</td>\n",
       "      <td>3 comments</td>\n",
       "      <td>(displayr.com)</td>\n",
       "      <td>https://www.visualization.bike/</td>\n",
       "      <td>29 points</td>\n",
       "      <td>The most complete bike sharing visualization a...</td>\n",
       "    </tr>\n",
       "    <tr>\n",
       "      <th>17</th>\n",
       "      <td>17</td>\n",
       "      <td>displayr1</td>\n",
       "      <td>discuss</td>\n",
       "      <td>(sigopt.com)</td>\n",
       "      <td>https://www.displayr.com/blog/</td>\n",
       "      <td>8 points</td>\n",
       "      <td>Data science tool in early beta (so it's free)</td>\n",
       "    </tr>\n",
       "    <tr>\n",
       "      <th>18</th>\n",
       "      <td>18</td>\n",
       "      <td>alexandraj777</td>\n",
       "      <td>1 comment</td>\n",
       "      <td>(datascience.com)</td>\n",
       "      <td>http://blog.sigopt.com/post/159685042073/sigop...</td>\n",
       "      <td>5 points</td>\n",
       "      <td>Expected Improvement vs. Knowledge Gradient</td>\n",
       "    </tr>\n",
       "    <tr>\n",
       "      <th>19</th>\n",
       "      <td>19</td>\n",
       "      <td>DataScienceInc</td>\n",
       "      <td>discuss</td>\n",
       "      <td>(alookanalytics.com)</td>\n",
       "      <td>https://www.datascience.com/trends/machine-lea...</td>\n",
       "      <td>8 points</td>\n",
       "      <td>Visualize and share trends in GitHub activity ...</td>\n",
       "    </tr>\n",
       "    <tr>\n",
       "      <th>20</th>\n",
       "      <td>20</td>\n",
       "      <td>adam_alook</td>\n",
       "      <td>discuss</td>\n",
       "      <td>(medium.com)</td>\n",
       "      <td>https://blog.alookanalytics.com/2017/04/11/int...</td>\n",
       "      <td>8 points</td>\n",
       "      <td>Intuition vs Unsupervised Learning – Agglomera...</td>\n",
       "    </tr>\n",
       "    <tr>\n",
       "      <th>21</th>\n",
       "      <td>21</td>\n",
       "      <td>svejed123</td>\n",
       "      <td>discuss</td>\n",
       "      <td>(intel.com)</td>\n",
       "      <td>https://medium.com/@beganovicdorian/spark-vs-p...</td>\n",
       "      <td>2 points</td>\n",
       "      <td>Spark vs pandas benchmark</td>\n",
       "    </tr>\n",
       "    <tr>\n",
       "      <th>22</th>\n",
       "      <td>22</td>\n",
       "      <td>Hx</td>\n",
       "      <td>discuss</td>\n",
       "      <td>(aioptify.com)</td>\n",
       "      <td>https://software.intel.com/en-us/blogs/2017/04...</td>\n",
       "      <td>4 points</td>\n",
       "      <td>Intel and Facebook* Collaborate to Boost Caffe...</td>\n",
       "    </tr>\n",
       "    <tr>\n",
       "      <th>23</th>\n",
       "      <td>23</td>\n",
       "      <td>jahan</td>\n",
       "      <td>discuss</td>\n",
       "      <td>(byteacademy.co)</td>\n",
       "      <td>http://www.aioptify.com/top-prediction-books.php</td>\n",
       "      <td>4 points</td>\n",
       "      <td>Top Books on Prediction</td>\n",
       "    </tr>\n",
       "    <tr>\n",
       "      <th>24</th>\n",
       "      <td>24</td>\n",
       "      <td>saloni_S</td>\n",
       "      <td>discuss</td>\n",
       "      <td>(willwolf.io)</td>\n",
       "      <td>http://byteacademy.co/ai-machine-learning/</td>\n",
       "      <td>2 points</td>\n",
       "      <td>AI vs Machine Learning vs Deep Learning: What’...</td>\n",
       "    </tr>\n",
       "    <tr>\n",
       "      <th>25</th>\n",
       "      <td>25</td>\n",
       "      <td>cavaunpeu</td>\n",
       "      <td>discuss</td>\n",
       "      <td>(mapd.com)</td>\n",
       "      <td>http://willwolf.io/2017/04/19/deriving-the-sof...</td>\n",
       "      <td>2 points</td>\n",
       "      <td>Deriving the Softmax from First Principles</td>\n",
       "    </tr>\n",
       "    <tr>\n",
       "      <th>26</th>\n",
       "      <td>26</td>\n",
       "      <td>mapd</td>\n",
       "      <td>discuss</td>\n",
       "      <td>(neuraldesigner.com)</td>\n",
       "      <td>https://www.mapd.com/blog/2017/04/14/quick-ins...</td>\n",
       "      <td>4 points</td>\n",
       "      <td>Quick visual insight with cross-filtering in M...</td>\n",
       "    </tr>\n",
       "    <tr>\n",
       "      <th>27</th>\n",
       "      <td>27</td>\n",
       "      <td>sergios</td>\n",
       "      <td>discuss</td>\n",
       "      <td>(datazar.com)</td>\n",
       "      <td>https://www.neuraldesigner.com/blog/market-bas...</td>\n",
       "      <td>4 points</td>\n",
       "      <td>Market Basket Analysis using R and Neural Desi...</td>\n",
       "    </tr>\n",
       "    <tr>\n",
       "      <th>28</th>\n",
       "      <td>28</td>\n",
       "      <td>ata_aman</td>\n",
       "      <td>2 comments</td>\n",
       "      <td>(datawanderings.com)</td>\n",
       "      <td>https://blog.datazar.com/curve-fitting-vs-regr...</td>\n",
       "      <td>7 points</td>\n",
       "      <td>The Difference Between Curve Fitting and Regre...</td>\n",
       "    </tr>\n",
       "    <tr>\n",
       "      <th>29</th>\n",
       "      <td>29</td>\n",
       "      <td>datactopus</td>\n",
       "      <td>discuss</td>\n",
       "      <td>NaN</td>\n",
       "      <td>http://datawanderings.com/2017/04/03/hard-etl/</td>\n",
       "      <td>11 points</td>\n",
       "      <td>Why is data preparation so hard and are we get...</td>\n",
       "    </tr>\n",
       "    <tr>\n",
       "      <th>...</th>\n",
       "      <td>...</td>\n",
       "      <td>...</td>\n",
       "      <td>...</td>\n",
       "      <td>...</td>\n",
       "      <td>...</td>\n",
       "      <td>...</td>\n",
       "      <td>...</td>\n",
       "    </tr>\n",
       "    <tr>\n",
       "      <th>180</th>\n",
       "      <td>0</td>\n",
       "      <td>tmostak</td>\n",
       "      <td>discuss</td>\n",
       "      <td>(mapd.com)</td>\n",
       "      <td>https://www.mapd.com/blog/2017/06/18/release-f...</td>\n",
       "      <td>2 points</td>\n",
       "      <td>Density Gradient Maps and Scatterplots in MapD...</td>\n",
       "    </tr>\n",
       "    <tr>\n",
       "      <th>181</th>\n",
       "      <td>1</td>\n",
       "      <td>cavaunpeu</td>\n",
       "      <td>discuss</td>\n",
       "      <td>(willwolf.io)</td>\n",
       "      <td>http://willwolf.io/2017/06/19/neurally-embedde...</td>\n",
       "      <td>3 points</td>\n",
       "      <td>Neurally Embedded Emojis</td>\n",
       "    </tr>\n",
       "    <tr>\n",
       "      <th>182</th>\n",
       "      <td>2</td>\n",
       "      <td>jhoek</td>\n",
       "      <td>discuss</td>\n",
       "      <td>(godatadriven.com)</td>\n",
       "      <td>https://blog.godatadriven.com/reverse-engineer...</td>\n",
       "      <td>6 points</td>\n",
       "      <td>ReveRse engineering BoardGameGeek</td>\n",
       "    </tr>\n",
       "    <tr>\n",
       "      <th>183</th>\n",
       "      <td>3</td>\n",
       "      <td>genofon</td>\n",
       "      <td>discuss</td>\n",
       "      <td>(techcrunch.com)</td>\n",
       "      <td>https://techcrunch.com/2017/06/16/object-detec...</td>\n",
       "      <td>2 points</td>\n",
       "      <td>Google releases new TensorFlow Object Detectio...</td>\n",
       "    </tr>\n",
       "    <tr>\n",
       "      <th>184</th>\n",
       "      <td>4</td>\n",
       "      <td>ethikal</td>\n",
       "      <td>discuss</td>\n",
       "      <td>(nvidia.com)</td>\n",
       "      <td>https://devblogs.nvidia.com/parallelforall/goa...</td>\n",
       "      <td>7 points</td>\n",
       "      <td>GOAI: Open GPU-Accelerated Data Analytics</td>\n",
       "    </tr>\n",
       "    <tr>\n",
       "      <th>185</th>\n",
       "      <td>5</td>\n",
       "      <td>cavaunpeu</td>\n",
       "      <td>discuss</td>\n",
       "      <td>(willwolf.io)</td>\n",
       "      <td>http://willwolf.io/2017/06/15/random-effects-n...</td>\n",
       "      <td>4 points</td>\n",
       "      <td>Random Effects Neural Networks in Edward and K...</td>\n",
       "    </tr>\n",
       "    <tr>\n",
       "      <th>186</th>\n",
       "      <td>6</td>\n",
       "      <td>axelr</td>\n",
       "      <td>discuss</td>\n",
       "      <td>(github.io)</td>\n",
       "      <td>https://arogozhnikov.github.io/3d_nn/</td>\n",
       "      <td>9 points</td>\n",
       "      <td>Visualizing neural networks in 3d</td>\n",
       "    </tr>\n",
       "    <tr>\n",
       "      <th>187</th>\n",
       "      <td>7</td>\n",
       "      <td>ronaknnathani</td>\n",
       "      <td>2 comments</td>\n",
       "      <td>(insightdatascience.com)</td>\n",
       "      <td>https://blog.insightdatascience.com/from-postg...</td>\n",
       "      <td>4 points</td>\n",
       "      <td>Syncing Redshift &amp; PostgreSQL in real-time wit...</td>\n",
       "    </tr>\n",
       "    <tr>\n",
       "      <th>188</th>\n",
       "      <td>8</td>\n",
       "      <td>audio</td>\n",
       "      <td>discuss</td>\n",
       "      <td>(dataskeptic.com)</td>\n",
       "      <td>https://dataskeptic.com/blog/episodes/2017/max...</td>\n",
       "      <td>2 points</td>\n",
       "      <td>Max Pooling</td>\n",
       "    </tr>\n",
       "    <tr>\n",
       "      <th>189</th>\n",
       "      <td>9</td>\n",
       "      <td>audio</td>\n",
       "      <td>discuss</td>\n",
       "      <td>(learningmachines101.com)</td>\n",
       "      <td>http://www.learningmachines101.com/lm101-059-h...</td>\n",
       "      <td>2 points</td>\n",
       "      <td>How to Properly Induce a Neural Network</td>\n",
       "    </tr>\n",
       "    <tr>\n",
       "      <th>190</th>\n",
       "      <td>10</td>\n",
       "      <td>audio</td>\n",
       "      <td>discuss</td>\n",
       "      <td>(thetalkingmachines.com)</td>\n",
       "      <td>http://www.thetalkingmachines.com/blog/2017/6/...</td>\n",
       "      <td>2 points</td>\n",
       "      <td>Overfitting and Asking Ecological Questions wi...</td>\n",
       "    </tr>\n",
       "    <tr>\n",
       "      <th>191</th>\n",
       "      <td>11</td>\n",
       "      <td>kokorcsin</td>\n",
       "      <td>discuss</td>\n",
       "      <td>(youtu.be)</td>\n",
       "      <td>https://youtu.be/DGtJAJUIxXw</td>\n",
       "      <td>5 points</td>\n",
       "      <td>How to import a 7M+ rows data set into Postgre...</td>\n",
       "    </tr>\n",
       "    <tr>\n",
       "      <th>192</th>\n",
       "      <td>12</td>\n",
       "      <td>artem</td>\n",
       "      <td>discuss</td>\n",
       "      <td>(indeedblog.com)</td>\n",
       "      <td>http://engineering.indeedblog.com/blog/2017/06...</td>\n",
       "      <td>2 points</td>\n",
       "      <td>Friendly Machine Learning – Indeed Engineering</td>\n",
       "    </tr>\n",
       "    <tr>\n",
       "      <th>193</th>\n",
       "      <td>13</td>\n",
       "      <td>vvmisic</td>\n",
       "      <td>2 comments</td>\n",
       "      <td>(arxiv.org)</td>\n",
       "      <td>https://arxiv.org/abs/1705.10883</td>\n",
       "      <td>8 points</td>\n",
       "      <td>Optimization of tree ensembles</td>\n",
       "    </tr>\n",
       "    <tr>\n",
       "      <th>194</th>\n",
       "      <td>14</td>\n",
       "      <td>rootkit</td>\n",
       "      <td>1 comment</td>\n",
       "      <td>(medium.com)</td>\n",
       "      <td>https://medium.com/xtrememl/why-how-to-use-win...</td>\n",
       "      <td>2 points</td>\n",
       "      <td>Why\\How to use Windows Linux Subsytem for end ...</td>\n",
       "    </tr>\n",
       "    <tr>\n",
       "      <th>195</th>\n",
       "      <td>15</td>\n",
       "      <td>carlosgg</td>\n",
       "      <td>discuss</td>\n",
       "      <td>(github.com)</td>\n",
       "      <td>https://github.com/indrajithi/mgc-django</td>\n",
       "      <td>2 points</td>\n",
       "      <td>Music Genre Classifier</td>\n",
       "    </tr>\n",
       "    <tr>\n",
       "      <th>196</th>\n",
       "      <td>16</td>\n",
       "      <td>azavea</td>\n",
       "      <td>discuss</td>\n",
       "      <td>(azavea.com)</td>\n",
       "      <td>https://www.azavea.com/blog/2017/05/30/deep-le...</td>\n",
       "      <td>2 points</td>\n",
       "      <td>Deep Learning for Semantic Segmentation of Aer...</td>\n",
       "    </tr>\n",
       "    <tr>\n",
       "      <th>197</th>\n",
       "      <td>17</td>\n",
       "      <td>deepak_raj</td>\n",
       "      <td>discuss</td>\n",
       "      <td>(medium.com)</td>\n",
       "      <td>https://medium.com/@Deepakv_raj/spotlight-on-t...</td>\n",
       "      <td>3 points</td>\n",
       "      <td>Spotlight on the Remarkable Potential of AI in...</td>\n",
       "    </tr>\n",
       "    <tr>\n",
       "      <th>198</th>\n",
       "      <td>18</td>\n",
       "      <td>deepak_raj</td>\n",
       "      <td>discuss</td>\n",
       "      <td>(linkedin.com)</td>\n",
       "      <td>https://www.linkedin.com/pulse/spotlight-remar...</td>\n",
       "      <td>3 points</td>\n",
       "      <td>Spotlight on the Remarkable Potential of AI in...</td>\n",
       "    </tr>\n",
       "    <tr>\n",
       "      <th>199</th>\n",
       "      <td>19</td>\n",
       "      <td>Escachator</td>\n",
       "      <td>discuss</td>\n",
       "      <td>(medium.com)</td>\n",
       "      <td>https://medium.com/@mansanher/setting-up-your-...</td>\n",
       "      <td>5 points</td>\n",
       "      <td>Setting up your GPU TensorFlow Docker platform</td>\n",
       "    </tr>\n",
       "    <tr>\n",
       "      <th>200</th>\n",
       "      <td>20</td>\n",
       "      <td>lizeds</td>\n",
       "      <td>discuss</td>\n",
       "      <td>(elitedatascience.com)</td>\n",
       "      <td>https://elitedatascience.com/bias-variance-tra...</td>\n",
       "      <td>13 points</td>\n",
       "      <td>WTF is the Bias-Variance Tradeoff? (Infographic)</td>\n",
       "    </tr>\n",
       "    <tr>\n",
       "      <th>201</th>\n",
       "      <td>21</td>\n",
       "      <td>belokon</td>\n",
       "      <td>discuss</td>\n",
       "      <td>(statsbot.co)</td>\n",
       "      <td>https://blog.statsbot.co/time-series-anomaly-d...</td>\n",
       "      <td>9 points</td>\n",
       "      <td>Сurrent state of anomaly detection algorithms ...</td>\n",
       "    </tr>\n",
       "    <tr>\n",
       "      <th>202</th>\n",
       "      <td>22</td>\n",
       "      <td>erikrood</td>\n",
       "      <td>discuss</td>\n",
       "      <td>(erikrood.com)</td>\n",
       "      <td>http://erikrood.com/Posts/py_gsheets.html</td>\n",
       "      <td>10 points</td>\n",
       "      <td>Reading and writing to Google Sheets using Python</td>\n",
       "    </tr>\n",
       "    <tr>\n",
       "      <th>203</th>\n",
       "      <td>23</td>\n",
       "      <td>carlosgg</td>\n",
       "      <td>discuss</td>\n",
       "      <td>(minimaxir.com)</td>\n",
       "      <td>http://minimaxir.com/2017/06/r-notebooks/</td>\n",
       "      <td>6 points</td>\n",
       "      <td>Advantages of Using R Notebooks For Data Analy...</td>\n",
       "    </tr>\n",
       "    <tr>\n",
       "      <th>204</th>\n",
       "      <td>24</td>\n",
       "      <td>ddrum001</td>\n",
       "      <td>discuss</td>\n",
       "      <td>(insightdatascience.com)</td>\n",
       "      <td>https://blog.insightdatascience.com/engineerin...</td>\n",
       "      <td>6 points</td>\n",
       "      <td>Engineering features to automatically assess i...</td>\n",
       "    </tr>\n",
       "    <tr>\n",
       "      <th>205</th>\n",
       "      <td>25</td>\n",
       "      <td>woratana</td>\n",
       "      <td>discuss</td>\n",
       "      <td>(dataly.co)</td>\n",
       "      <td>https://read.dataly.co/google-analytics-api-ho...</td>\n",
       "      <td>4 points</td>\n",
       "      <td>Tutorial: Beginner guide to use Python with Go...</td>\n",
       "    </tr>\n",
       "    <tr>\n",
       "      <th>206</th>\n",
       "      <td>26</td>\n",
       "      <td>jackhftang</td>\n",
       "      <td>discuss</td>\n",
       "      <td>(arxiv.org)</td>\n",
       "      <td>https://arxiv.org/abs/1706.02515</td>\n",
       "      <td>4 points</td>\n",
       "      <td>Self-Normalizing NN</td>\n",
       "    </tr>\n",
       "    <tr>\n",
       "      <th>207</th>\n",
       "      <td>27</td>\n",
       "      <td>Herrin</td>\n",
       "      <td>2 comments</td>\n",
       "      <td>(medium.com)</td>\n",
       "      <td>https://medium.com/@SteveHerrin/how-i-made-a-l...</td>\n",
       "      <td>5 points</td>\n",
       "      <td>How I made a little money by running a lot</td>\n",
       "    </tr>\n",
       "    <tr>\n",
       "      <th>208</th>\n",
       "      <td>28</td>\n",
       "      <td>anitadig01</td>\n",
       "      <td>3 comments</td>\n",
       "      <td>(xongolab.com)</td>\n",
       "      <td>https://www.xongolab.com/</td>\n",
       "      <td>2 points</td>\n",
       "      <td>Mobile Apps Development Company India</td>\n",
       "    </tr>\n",
       "    <tr>\n",
       "      <th>209</th>\n",
       "      <td>29</td>\n",
       "      <td>remywarm</td>\n",
       "      <td>discuss</td>\n",
       "      <td>(linkedin.com)</td>\n",
       "      <td>https://www.linkedin.com/pulse/8-habits-effect...</td>\n",
       "      <td>8 points</td>\n",
       "      <td>8 Habits of Highly Effective Data Scientists</td>\n",
       "    </tr>\n",
       "  </tbody>\n",
       "</table>\n",
       "<p>210 rows × 7 columns</p>\n",
       "</div>"
      ],
      "text/plain": [
       "     index          authors    comments                      domains  \\\n",
       "0        0  digambersingh89     discuss          (freebiesmall.com)    \n",
       "1        1       jmsmistral  3 comments    (jonathansacramento.com)    \n",
       "2        2      gargisharma     discuss          (paralleldots.com)    \n",
       "3        3          Weenkus     discuss           (datawhatnow.com)    \n",
       "4        4          okcdata     discuss               (okcupid.com)    \n",
       "5        5          csaid81  2 comments             (chris-said.io)    \n",
       "6        6       mwakanosya     discuss    (insightdatascience.com)    \n",
       "7        7      gargisharma     discuss          (paralleldots.com)    \n",
       "8        8        Bassviola   1 comment      (autodeskresearch.com)    \n",
       "9        9          blester     discuss            (abigailsee.com)    \n",
       "10      10       Argentum01     discuss          (theintercept.com)    \n",
       "11      11    deeplearningt  3 comments     (deeplearningtrack.com)    \n",
       "12      12      boniface316   1 comment                 (sp-bx.com)    \n",
       "13      13          Soapbox     discuss                 (sp-bx.com)    \n",
       "14      14          Soapbox     discuss                 (sp-bx.com)    \n",
       "15      15          Soapbox     discuss        (visualization.bike)    \n",
       "16      16      bike_visual  3 comments              (displayr.com)    \n",
       "17      17        displayr1     discuss                (sigopt.com)    \n",
       "18      18    alexandraj777   1 comment           (datascience.com)    \n",
       "19      19   DataScienceInc     discuss        (alookanalytics.com)    \n",
       "20      20       adam_alook     discuss                (medium.com)    \n",
       "21      21        svejed123     discuss                 (intel.com)    \n",
       "22      22               Hx     discuss              (aioptify.com)    \n",
       "23      23            jahan     discuss            (byteacademy.co)    \n",
       "24      24         saloni_S     discuss               (willwolf.io)    \n",
       "25      25        cavaunpeu     discuss                  (mapd.com)    \n",
       "26      26             mapd     discuss        (neuraldesigner.com)    \n",
       "27      27          sergios     discuss               (datazar.com)    \n",
       "28      28         ata_aman  2 comments        (datawanderings.com)    \n",
       "29      29       datactopus     discuss                          NaN   \n",
       "..     ...              ...         ...                          ...   \n",
       "180      0          tmostak     discuss                  (mapd.com)    \n",
       "181      1        cavaunpeu     discuss               (willwolf.io)    \n",
       "182      2            jhoek     discuss          (godatadriven.com)    \n",
       "183      3          genofon     discuss            (techcrunch.com)    \n",
       "184      4          ethikal     discuss                (nvidia.com)    \n",
       "185      5        cavaunpeu     discuss               (willwolf.io)    \n",
       "186      6            axelr     discuss                 (github.io)    \n",
       "187      7    ronaknnathani  2 comments    (insightdatascience.com)    \n",
       "188      8            audio     discuss           (dataskeptic.com)    \n",
       "189      9            audio     discuss   (learningmachines101.com)    \n",
       "190     10            audio     discuss    (thetalkingmachines.com)    \n",
       "191     11        kokorcsin     discuss                  (youtu.be)    \n",
       "192     12            artem     discuss            (indeedblog.com)    \n",
       "193     13          vvmisic  2 comments                 (arxiv.org)    \n",
       "194     14          rootkit   1 comment                (medium.com)    \n",
       "195     15         carlosgg     discuss                (github.com)    \n",
       "196     16           azavea     discuss                (azavea.com)    \n",
       "197     17       deepak_raj     discuss                (medium.com)    \n",
       "198     18       deepak_raj     discuss              (linkedin.com)    \n",
       "199     19       Escachator     discuss                (medium.com)    \n",
       "200     20           lizeds     discuss      (elitedatascience.com)    \n",
       "201     21          belokon     discuss               (statsbot.co)    \n",
       "202     22         erikrood     discuss              (erikrood.com)    \n",
       "203     23         carlosgg     discuss             (minimaxir.com)    \n",
       "204     24         ddrum001     discuss    (insightdatascience.com)    \n",
       "205     25         woratana     discuss                 (dataly.co)    \n",
       "206     26       jackhftang     discuss                 (arxiv.org)    \n",
       "207     27           Herrin  2 comments                (medium.com)    \n",
       "208     28       anitadig01  3 comments              (xongolab.com)    \n",
       "209     29         remywarm     discuss              (linkedin.com)    \n",
       "\n",
       "                                                 links     points  \\\n",
       "0    https://www.freebiesmall.com/blog/not-to-miss-...   2 points   \n",
       "1    http://jonathansacramento.com/posts/20170416_c...   7 points   \n",
       "2    http://blog.paralleldots.com/technology/deep-l...  11 points   \n",
       "3           http://datawhatnow.com/feature-importance/   6 points   \n",
       "4    https://tech.okcupid.com/the-pitfalls-of-a-b-t...   7 points   \n",
       "5    http://chris-said.io/2017/05/03/empirical-baye...   2 points   \n",
       "6    https://blog.insightdatascience.com/separating...   3 points   \n",
       "7    http://blog.paralleldots.com/technology/deep-l...   3 points   \n",
       "8    https://www.autodeskresearch.com/publications/...   2 points   \n",
       "9    http://www.abigailsee.com/2017/04/16/taming-rn...   5 points   \n",
       "10          https://trial-and-terror.theintercept.com/   5 points   \n",
       "11                  https://www.deeplearningtrack.com/  16 points   \n",
       "12                                       item?id=18063   4 points   \n",
       "13   https://www.sp-bx.com/is-innovation-in-advance...   3 points   \n",
       "14   https://www.sp-bx.com/online-presence-5-ideas-...   3 points   \n",
       "15   https://www.sp-bx.com/5-ways-make-business-sma...   3 points   \n",
       "16                     https://www.visualization.bike/  29 points   \n",
       "17                      https://www.displayr.com/blog/   8 points   \n",
       "18   http://blog.sigopt.com/post/159685042073/sigop...   5 points   \n",
       "19   https://www.datascience.com/trends/machine-lea...   8 points   \n",
       "20   https://blog.alookanalytics.com/2017/04/11/int...   8 points   \n",
       "21   https://medium.com/@beganovicdorian/spark-vs-p...   2 points   \n",
       "22   https://software.intel.com/en-us/blogs/2017/04...   4 points   \n",
       "23    http://www.aioptify.com/top-prediction-books.php   4 points   \n",
       "24          http://byteacademy.co/ai-machine-learning/   2 points   \n",
       "25   http://willwolf.io/2017/04/19/deriving-the-sof...   2 points   \n",
       "26   https://www.mapd.com/blog/2017/04/14/quick-ins...   4 points   \n",
       "27   https://www.neuraldesigner.com/blog/market-bas...   4 points   \n",
       "28   https://blog.datazar.com/curve-fitting-vs-regr...   7 points   \n",
       "29      http://datawanderings.com/2017/04/03/hard-etl/  11 points   \n",
       "..                                                 ...        ...   \n",
       "180  https://www.mapd.com/blog/2017/06/18/release-f...   2 points   \n",
       "181  http://willwolf.io/2017/06/19/neurally-embedde...   3 points   \n",
       "182  https://blog.godatadriven.com/reverse-engineer...   6 points   \n",
       "183  https://techcrunch.com/2017/06/16/object-detec...   2 points   \n",
       "184  https://devblogs.nvidia.com/parallelforall/goa...   7 points   \n",
       "185  http://willwolf.io/2017/06/15/random-effects-n...   4 points   \n",
       "186              https://arogozhnikov.github.io/3d_nn/   9 points   \n",
       "187  https://blog.insightdatascience.com/from-postg...   4 points   \n",
       "188  https://dataskeptic.com/blog/episodes/2017/max...   2 points   \n",
       "189  http://www.learningmachines101.com/lm101-059-h...   2 points   \n",
       "190  http://www.thetalkingmachines.com/blog/2017/6/...   2 points   \n",
       "191                       https://youtu.be/DGtJAJUIxXw   5 points   \n",
       "192  http://engineering.indeedblog.com/blog/2017/06...   2 points   \n",
       "193                   https://arxiv.org/abs/1705.10883   8 points   \n",
       "194  https://medium.com/xtrememl/why-how-to-use-win...   2 points   \n",
       "195           https://github.com/indrajithi/mgc-django   2 points   \n",
       "196  https://www.azavea.com/blog/2017/05/30/deep-le...   2 points   \n",
       "197  https://medium.com/@Deepakv_raj/spotlight-on-t...   3 points   \n",
       "198  https://www.linkedin.com/pulse/spotlight-remar...   3 points   \n",
       "199  https://medium.com/@mansanher/setting-up-your-...   5 points   \n",
       "200  https://elitedatascience.com/bias-variance-tra...  13 points   \n",
       "201  https://blog.statsbot.co/time-series-anomaly-d...   9 points   \n",
       "202          http://erikrood.com/Posts/py_gsheets.html  10 points   \n",
       "203          http://minimaxir.com/2017/06/r-notebooks/   6 points   \n",
       "204  https://blog.insightdatascience.com/engineerin...   6 points   \n",
       "205  https://read.dataly.co/google-analytics-api-ho...   4 points   \n",
       "206                   https://arxiv.org/abs/1706.02515   4 points   \n",
       "207  https://medium.com/@SteveHerrin/how-i-made-a-l...   5 points   \n",
       "208                          https://www.xongolab.com/   2 points   \n",
       "209  https://www.linkedin.com/pulse/8-habits-effect...   8 points   \n",
       "\n",
       "                                                titles  \n",
       "0    Not To Miss YouTube Channels For Designers And...  \n",
       "1            Predicting Churn without Machine Learning  \n",
       "2            Some Lesser-Known Deep Learning Libraries  \n",
       "3            Feature importance and why it's important  \n",
       "4       The pitfalls of A/B testing in social networks  \n",
       "5            Empirical Bayes for multiple sample sizes  \n",
       "6    Separating Overlapping Chromosomes with Deep L...  \n",
       "7    Emotion Detection Using Machine Learning - Par...  \n",
       "8                         Same Stats, Different Graphs  \n",
       "9    Abstractive Summary with Pointer-Generator Net...  \n",
       "10   Most people prosecuted for terrorism since 9/1...  \n",
       "11        An innovative approach to learn data science  \n",
       "12               Ask: Bayes vs Bayesian vs Naive Bayes  \n",
       "13        Is Innovation in Advanced AI the Apocalypse?  \n",
       "14                Online Presence: 5 Ideas to Consider  \n",
       "15   5 Ways To Make Your Business Smarter Using Aug...  \n",
       "16   The most complete bike sharing visualization a...  \n",
       "17      Data science tool in early beta (so it's free)  \n",
       "18         Expected Improvement vs. Knowledge Gradient  \n",
       "19   Visualize and share trends in GitHub activity ...  \n",
       "20   Intuition vs Unsupervised Learning – Agglomera...  \n",
       "21                           Spark vs pandas benchmark  \n",
       "22   Intel and Facebook* Collaborate to Boost Caffe...  \n",
       "23                             Top Books on Prediction  \n",
       "24   AI vs Machine Learning vs Deep Learning: What’...  \n",
       "25          Deriving the Softmax from First Principles  \n",
       "26   Quick visual insight with cross-filtering in M...  \n",
       "27   Market Basket Analysis using R and Neural Desi...  \n",
       "28   The Difference Between Curve Fitting and Regre...  \n",
       "29   Why is data preparation so hard and are we get...  \n",
       "..                                                 ...  \n",
       "180  Density Gradient Maps and Scatterplots in MapD...  \n",
       "181                           Neurally Embedded Emojis  \n",
       "182                  ReveRse engineering BoardGameGeek  \n",
       "183  Google releases new TensorFlow Object Detectio...  \n",
       "184          GOAI: Open GPU-Accelerated Data Analytics  \n",
       "185  Random Effects Neural Networks in Edward and K...  \n",
       "186                  Visualizing neural networks in 3d  \n",
       "187  Syncing Redshift & PostgreSQL in real-time wit...  \n",
       "188                                        Max Pooling  \n",
       "189            How to Properly Induce a Neural Network  \n",
       "190  Overfitting and Asking Ecological Questions wi...  \n",
       "191  How to import a 7M+ rows data set into Postgre...  \n",
       "192     Friendly Machine Learning – Indeed Engineering  \n",
       "193                     Optimization of tree ensembles  \n",
       "194  Why\\How to use Windows Linux Subsytem for end ...  \n",
       "195                             Music Genre Classifier  \n",
       "196  Deep Learning for Semantic Segmentation of Aer...  \n",
       "197  Spotlight on the Remarkable Potential of AI in...  \n",
       "198  Spotlight on the Remarkable Potential of AI in...  \n",
       "199     Setting up your GPU TensorFlow Docker platform  \n",
       "200   WTF is the Bias-Variance Tradeoff? (Infographic)  \n",
       "201  Сurrent state of anomaly detection algorithms ...  \n",
       "202  Reading and writing to Google Sheets using Python  \n",
       "203  Advantages of Using R Notebooks For Data Analy...  \n",
       "204  Engineering features to automatically assess i...  \n",
       "205  Tutorial: Beginner guide to use Python with Go...  \n",
       "206                                Self-Normalizing NN  \n",
       "207         How I made a little money by running a lot  \n",
       "208              Mobile Apps Development Company India  \n",
       "209       8 Habits of Highly Effective Data Scientists  \n",
       "\n",
       "[210 rows x 7 columns]"
      ]
     },
     "execution_count": 32,
     "metadata": {},
     "output_type": "execute_result"
    }
   ],
   "source": [
    "import requests, numpy as np\n",
    "\n",
    "def parse_url(url=\"http://www.datatau.com\", data=False):\n",
    "    \n",
    "    response  =  requests.get(url)\n",
    "    links     =  Selector(text=response.text).xpath(\"//td[@class='title']/a/@href\").extract()\n",
    "    titles    =  Selector(text=response.text).xpath(\"//td[@class='title']/a/text()\").extract()\n",
    "    points    =  Selector(text=response.text).xpath(\"//td[@class='subtext']/span/text()\").extract()\n",
    "    domains   =  Selector(text=response.text).xpath(\"//td[@class='title']/span/text()\").extract()\n",
    "    authors   =  Selector(text=response.text).xpath(\"//td[@class='subtext']/a[contains(@href, 'user')]/text()\").extract()\n",
    "    comments  =  Selector(text=response.text).xpath(\"//td[@class='subtext']/a[contains(@href, 'item')]/text()\").extract()\n",
    "\n",
    "    expected_length = 30\n",
    "    \n",
    "    # [np.nan]*(expected_length - len(points)) to the end of the lists, will fill in missing\n",
    "    # values at the end that sometimes don't exist at the ends of the results\n",
    "    scraped = dict(\n",
    "        titles   =  titles[:30], \n",
    "        links    =  links[:30], # :30 because of that damn \"more\" link\n",
    "        points   =  points + [np.nan]*(expected_length - len(points)),\n",
    "        domains  =  domains + [np.nan]*(expected_length - len(domains)),\n",
    "        authors  =  authors + [np.nan]*(expected_length - len(authors)),\n",
    "        comments =  comments + [np.nan]*(expected_length - len(comments))\n",
    "    )\n",
    "    \n",
    "    df = pd.DataFrame(scraped)\n",
    "    \n",
    "    if type(data) != bool:\n",
    "        data = df.append(data)\n",
    "    else:\n",
    "        data = df\n",
    "        \n",
    "    # If there's data append it, if not, it's the first iteration, no need.\n",
    "    # Find more link\n",
    "    more_anchor  =  Selector(text=response.text).xpath(\"//a[text() = 'More']/@href\").extract()\n",
    "    \n",
    "    if len(more_anchor) > 0:\n",
    "        more_url  =  \"http://www.datatau.com%s\" % more_anchor[0]\n",
    "        print \"Fetching %s...\" % more_url\n",
    "        return parse_url(more_url, data=data)\n",
    "    else:\n",
    "        return data.reset_index()\n",
    "       \n",
    "        \n",
    "df = parse_url(\"http://www.datatau.com\")\n",
    "df"
   ]
  },
  {
   "cell_type": "code",
   "execution_count": null,
   "metadata": {
    "collapsed": true
   },
   "outputs": [],
   "source": []
  },
  {
   "cell_type": "code",
   "execution_count": null,
   "metadata": {
    "collapsed": true
   },
   "outputs": [],
   "source": []
  }
 ],
 "metadata": {
  "anaconda-cloud": {},
  "kernelspec": {
   "display_name": "Python 2",
   "language": "python",
   "name": "python2"
  },
  "language_info": {
   "codemirror_mode": {
    "name": "ipython",
    "version": 2
   },
   "file_extension": ".py",
   "mimetype": "text/x-python",
   "name": "python",
   "nbconvert_exporter": "python",
   "pygments_lexer": "ipython2",
   "version": "2.7.13"
  }
 },
 "nbformat": 4,
 "nbformat_minor": 0
}
