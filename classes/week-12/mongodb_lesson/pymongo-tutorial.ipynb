{
 "cells": [
  {
   "cell_type": "markdown",
   "metadata": {},
   "source": [
    "# Introduction to MongoDB via Python\n",
    "\n",
    "Before we start let's see what Wikipedia has to say about MongoDB:\n",
    "\n",
    "> \"MongoDB (from \"hu**mongo**us\") is an open source document-oriented database system developed and supported by 10gen. It is part of the NoSQL family of database systems. Instead of storing data in tables as is done in a \"classical\" relational database, MongoDB stores structured data as JSON-like documents with dynamic schemas (MongoDB calls the format BSON), making the integration of data in certain types of applications easier and faster.\n",
    "\n",
    ">10gen began Development of MongoDB in October 2007. The database is used by MTV Networks, Craigslist, Foursquare and UIDAI Aadhaar. MongoDB is the most popular NoSQL database management system.\"\n",
    "\n",
    "![](https://image.slidesharecdn.com/thinkingindocuments1-150909190439-lva1-app6891/95/webinar-back-to-basics-thinking-in-documents-6-638.jpg)\n",
    "Done - let's start!"
   ]
  },
  {
   "cell_type": "markdown",
   "metadata": {},
   "source": [
    "``` bash\n",
    "mkdir -p ~/mongodb\n",
    "cd ~/mongodb\n",
    "curl -O https://fastdl.mongodb.org/osx/mongodb-osx-x86_64-3.4.7.tgz\n",
    "tar -zxvf mongodb-osx-x86_64-3.4.7.tgz\n",
    "cp -R -n mongodb-osx-x86_64-3.4.7/ ~/mongodb\n",
    "```"
   ]
  },
  {
   "cell_type": "markdown",
   "metadata": {},
   "source": [
    "``` bash\n",
    "vi ~/.bashrc\n",
    "#paste this phrase into bashrc file: export PATH=~/mongodb/bin:$PATH\n",
    "# press ESc on keyboard, type colon, then type wq\n",
    "source ~/.bashrc\n",
    "which mongod\n",
    "mkdir -p ~/mongodb/data/db\n",
    "sudo chmod 755 ~/mongodb/data/\n",
    "rm mongodb-osx-x86_64-3.4.7.tgz\n",
    "mongod --dbpath ~/mongodb/data/db/\n",
    "```"
   ]
  },
  {
   "cell_type": "markdown",
   "metadata": {},
   "source": [
    "\n",
    "if you should see something like:\n",
    "`\n",
    "MongoDB shell version: 2.2.2\n",
    "connecting to: test\n",
    "Welcome to the MongoDB shell.\n",
    "For interactive help, type \"help\".\n",
    "For more comprehensive documentation, see\n",
    "\thttp://docs.mongodb.org/\n",
    "Questions? Try the support group\n",
    "\thttp://groups.google.com/group/mongodb-user\n",
    "> \n",
    "`\n",
    "then you are good to go! Type **exit** to quit and go to the previous terminal windows and hit Ctrl+C to kill the server  - we need a bit of customization first."
   ]
  },
  {
   "cell_type": "markdown",
   "metadata": {},
   "source": [
    "## Pymongo\n",
    "\n",
    "[PyMongo](https://api.mongodb.com/python/current) is a Python distribution containing tools for working with MongoDB.\n",
    "* It is the recommended way to work with MongoDB from Python. You can install mongodb using:  ```conda install```.\n",
    "\n",
    "### Connecting to MongoDB"
   ]
  },
  {
   "cell_type": "markdown",
   "metadata": {},
   "source": [
    "We will use MongoClient to connect to MongoDB."
   ]
  },
  {
   "cell_type": "code",
   "execution_count": 29,
   "metadata": {
    "collapsed": false
   },
   "outputs": [
    {
     "name": "stdout",
     "output_type": "stream",
     "text": [
      "Hooray, we have connected to MongoDB successfully!\n"
     ]
    },
    {
     "data": {
      "text/plain": [
       "MongoClient(host=['localhost:27017'], document_class=dict, tz_aware=False, connect=True)"
      ]
     },
     "execution_count": 29,
     "metadata": {},
     "output_type": "execute_result"
    }
   ],
   "source": [
    "import pymongo\n",
    "\n",
    "# Connection to Mongo DB\n",
    "try:\n",
    "    client = pymongo.MongoClient()\n",
    "    print \"Hooray, we have connected to MongoDB successfully!\"\n",
    "except pymongo.errors.ConnectionFailure, e:\n",
    "    print \"Could not connect to MongoDB: %s\" % e \n",
    "client"
   ]
  },
  {
   "cell_type": "markdown",
   "metadata": {},
   "source": [
    "What does ```tz_aware``` mean?\n",
    "\n",
    "* ```tz_aware (optional): if True, datetime instances returned as values in a document by this MongoClient will be timezone aware (otherwise they will be naive)```"
   ]
  },
  {
   "cell_type": "markdown",
   "metadata": {},
   "source": [
    "## Connected\n",
    "We are now connected to our server."
   ]
  },
  {
   "cell_type": "markdown",
   "metadata": {},
   "source": [
    "![](https://www.codeproject.com/KB/database/1037052/image001.png)"
   ]
  },
  {
   "cell_type": "markdown",
   "metadata": {},
   "source": [
    "### Databases\n",
    "\n",
    "Mongodb creates databases and collections automatically for you if they don't exist already. A single instance of MongoDB can support multiple independent databases. "
   ]
  },
  {
   "cell_type": "code",
   "execution_count": 30,
   "metadata": {
    "collapsed": false
   },
   "outputs": [],
   "source": [
    "client.drop_database('mydb')\n",
    "client.drop_database('sandpit-test')\n",
    "client.drop_database('test-database')\n"
   ]
  },
  {
   "cell_type": "markdown",
   "metadata": {},
   "source": [
    "When working with PyMongo you access databases using attribute style access:"
   ]
  },
  {
   "cell_type": "code",
   "execution_count": 31,
   "metadata": {
    "collapsed": false
   },
   "outputs": [
    {
     "data": {
      "text/plain": [
       "Database(MongoClient(host=['localhost:27017'], document_class=dict, tz_aware=False, connect=True), u'test_database')"
      ]
     },
     "execution_count": 31,
     "metadata": {},
     "output_type": "execute_result"
    }
   ],
   "source": [
    "db = client.test_database\n",
    "db"
   ]
  },
  {
   "cell_type": "markdown",
   "metadata": {},
   "source": [
    "## Listing PyMongo Databases\n",
    "To view the databases, use this Python statement on the client object:"
   ]
  },
  {
   "cell_type": "code",
   "execution_count": 32,
   "metadata": {
    "collapsed": false
   },
   "outputs": [
    {
     "data": {
      "text/plain": [
       "Database(MongoClient(host=['localhost:27017'], document_class=dict, tz_aware=False, connect=True), u'test_database')"
      ]
     },
     "execution_count": 32,
     "metadata": {},
     "output_type": "execute_result"
    }
   ],
   "source": [
    "db = client['test_database']\n",
    "db"
   ]
  },
  {
   "cell_type": "markdown",
   "metadata": {},
   "source": [
    "If your database name is such that using attribute style access won’t work (like db-name), you can use dictionary style access instead:"
   ]
  },
  {
   "cell_type": "markdown",
   "metadata": {},
   "source": [
    "If you need to know what databases are available:"
   ]
  },
  {
   "cell_type": "code",
   "execution_count": 33,
   "metadata": {
    "collapsed": false
   },
   "outputs": [
    {
     "data": {
      "text/plain": [
       "[u'admin', u'local', u'test_database']"
      ]
     },
     "execution_count": 33,
     "metadata": {},
     "output_type": "execute_result"
    }
   ],
   "source": [
    "client.database_names()"
   ]
  },
  {
   "cell_type": "markdown",
   "metadata": {},
   "source": [
    "We have created 2 new databases. \n",
    "\n",
    "### Why didn't my 2 databases show up with the above command? \n",
    "Well, databases with no collections or with empty collections will **not** show up with ```database_names()```. Same goes when we try to list empty collections in a database.\n",
    "\n",
    "We'll test it again once we have populate some collections.\n",
    "\n",
    "### Collections\n",
    "\n",
    "A collection is a group of documents stored in MongoDB, and can be thought of as roughly the equivalent of a table in a relational database.\n",
    "\n",
    "In MongoDB, documents stored in a collection must have a unique ```_id``` field that acts as a primary key.\n",
    "\n",
    "Getting a collection in PyMongo works the same as getting a database:"
   ]
  },
  {
   "cell_type": "code",
   "execution_count": 34,
   "metadata": {
    "collapsed": false
   },
   "outputs": [
    {
     "data": {
      "text/plain": [
       "Collection(Database(MongoClient(host=['localhost:27017'], document_class=dict, tz_aware=False, connect=True), u'test_database'), u'test_collection')"
      ]
     },
     "execution_count": 34,
     "metadata": {},
     "output_type": "execute_result"
    }
   ],
   "source": [
    "collection = db.test_collection\n",
    "collection"
   ]
  },
  {
   "cell_type": "markdown",
   "metadata": {},
   "source": [
    "or (using dictionary style access):"
   ]
  },
  {
   "cell_type": "code",
   "execution_count": 35,
   "metadata": {
    "collapsed": false
   },
   "outputs": [
    {
     "data": {
      "text/plain": [
       "Collection(Database(MongoClient(host=['localhost:27017'], document_class=dict, tz_aware=False, connect=True), u'test_database'), u'test-collection')"
      ]
     },
     "execution_count": 35,
     "metadata": {},
     "output_type": "execute_result"
    }
   ],
   "source": [
    "collection = db['test-collection']\n",
    "collection"
   ]
  },
  {
   "cell_type": "markdown",
   "metadata": {},
   "source": [
    "### Documents\n",
    "\n",
    "MongoDB stores structured data as JSON-like documents, using dynamic schemas (called BSON, Binary JSON), rather than predefined schemas. An element of data is called a document, and documents are stored in collections. One collection may have any number of documents.\n",
    "\n",
    "Compared to relational databases, we could say collections are like tables, and documents are like records. But there is one big difference: every record in a table has the same fields (with, usually, differing values) in the same order, while each document in a collection can have completely different fields from the other documents. \n",
    "\n",
    "All you really need to know when you're using Python, however, is that documents are Python dictionaries that can have strings as keys and can contain various primitive types (int, float,unicode, datetime) as well as other documents (Python dicts) and arrays (Python lists)."
   ]
  },
  {
   "cell_type": "code",
   "execution_count": 36,
   "metadata": {
    "collapsed": true
   },
   "outputs": [],
   "source": [
    "import datetime\n",
    "post = {\"author\": \"Mike\", \n",
    "        \"text\": \"My first blog post!\",\n",
    "        \"tags\": [\"mongodb\", \"python\", \"pymongo\"],\n",
    "        \"date\": datetime.datetime.utcnow()}"
   ]
  },
  {
   "cell_type": "code",
   "execution_count": 37,
   "metadata": {
    "collapsed": false,
    "scrolled": true
   },
   "outputs": [
    {
     "data": {
      "text/plain": [
       "{'author': 'Mike',\n",
       " 'date': datetime.datetime(2017, 11, 14, 6, 25, 12, 47501),\n",
       " 'tags': ['mongodb', 'python', 'pymongo'],\n",
       " 'text': 'My first blog post!'}"
      ]
     },
     "execution_count": 37,
     "metadata": {},
     "output_type": "execute_result"
    }
   ],
   "source": [
    "post"
   ]
  },
  {
   "cell_type": "code",
   "execution_count": 38,
   "metadata": {
    "collapsed": false
   },
   "outputs": [
    {
     "data": {
      "text/plain": [
       "ObjectId('5a0a8c484237c71146125a1d')"
      ]
     },
     "execution_count": 38,
     "metadata": {},
     "output_type": "execute_result"
    }
   ],
   "source": [
    "posts = db.posts\n",
    "post_id = posts.insert_one(post).inserted_id\n",
    "post_id"
   ]
  },
  {
   "cell_type": "markdown",
   "metadata": {},
   "source": [
    "The operation returns an ```InsertOneResult``` object, which includes an attribute ```inserted_id``` that contains the ```_id``` of the inserted document. "
   ]
  },
  {
   "cell_type": "code",
   "execution_count": 39,
   "metadata": {
    "collapsed": false
   },
   "outputs": [
    {
     "data": {
      "text/plain": [
       "[u'test_database', u'posts']"
      ]
     },
     "execution_count": 39,
     "metadata": {},
     "output_type": "execute_result"
    }
   ],
   "source": [
    "db.collection_names(include_system_collections=False)"
   ]
  },
  {
   "cell_type": "markdown",
   "metadata": {},
   "source": [
    "The ```ObjectId``` of your inserted document will differ from the one shown.\n",
    "\n",
    "Congratulations you have created your first document!!\n",
    "\n",
    "If the document passed to the ```insert_one()``` method does not contain the ```_id``` field, MongoClient automatically adds the field to the document and sets the field’s value to a generated ```ObjectId```."
   ]
  },
  {
   "cell_type": "code",
   "execution_count": 40,
   "metadata": {
    "collapsed": false
   },
   "outputs": [
    {
     "data": {
      "text/plain": [
       "[u'admin', u'local', u'test_database']"
      ]
     },
     "execution_count": 40,
     "metadata": {},
     "output_type": "execute_result"
    }
   ],
   "source": [
    "client.database_names()"
   ]
  },
  {
   "cell_type": "code",
   "execution_count": 41,
   "metadata": {
    "collapsed": false
   },
   "outputs": [
    {
     "data": {
      "text/plain": [
       "[u'test_database', u'posts']"
      ]
     },
     "execution_count": 41,
     "metadata": {},
     "output_type": "execute_result"
    }
   ],
   "source": [
    "db.collection_names()"
   ]
  },
  {
   "cell_type": "code",
   "execution_count": 42,
   "metadata": {
    "collapsed": false
   },
   "outputs": [
    {
     "data": {
      "text/plain": [
       "[u'admin', u'local', u'test_database']"
      ]
     },
     "execution_count": 42,
     "metadata": {},
     "output_type": "execute_result"
    }
   ],
   "source": [
    "client.database_names()"
   ]
  },
  {
   "cell_type": "code",
   "execution_count": 43,
   "metadata": {
    "collapsed": false
   },
   "outputs": [
    {
     "data": {
      "text/plain": [
       "[u'admin', u'local', u'test_database']"
      ]
     },
     "execution_count": 43,
     "metadata": {},
     "output_type": "execute_result"
    }
   ],
   "source": [
    "# Remove database \n",
    "\n",
    "client.drop_database(\"test-database\")\n",
    "client.database_names()"
   ]
  },
  {
   "cell_type": "code",
   "execution_count": 44,
   "metadata": {
    "collapsed": false
   },
   "outputs": [
    {
     "data": {
      "text/plain": [
       "[u'dummy_collection']"
      ]
     },
     "execution_count": 44,
     "metadata": {},
     "output_type": "execute_result"
    }
   ],
   "source": [
    "# Create a database, then a collection and a dummy document\n",
    "client.dummy.dummy_collection.insert_one({\"greeting\":\"Hello World\"})\n",
    "client.dummy.collection_names()\n"
   ]
  },
  {
   "cell_type": "code",
   "execution_count": 45,
   "metadata": {
    "collapsed": false
   },
   "outputs": [
    {
     "data": {
      "text/plain": [
       "[u'dummy_collection']"
      ]
     },
     "execution_count": 45,
     "metadata": {},
     "output_type": "execute_result"
    }
   ],
   "source": [
    "client.dummy.collection_names()"
   ]
  },
  {
   "cell_type": "code",
   "execution_count": 46,
   "metadata": {
    "collapsed": false
   },
   "outputs": [
    {
     "data": {
      "text/plain": [
       "[]"
      ]
     },
     "execution_count": 46,
     "metadata": {},
     "output_type": "execute_result"
    }
   ],
   "source": [
    "# Delete a collection\n",
    "client.dummy.drop_collection(\"dummy_collection\")\n",
    "client.dummy.collection_names()"
   ]
  },
  {
   "cell_type": "code",
   "execution_count": 47,
   "metadata": {
    "collapsed": false
   },
   "outputs": [
    {
     "data": {
      "text/plain": [
       "[u'admin', u'local', u'test_database']"
      ]
     },
     "execution_count": 47,
     "metadata": {},
     "output_type": "execute_result"
    }
   ],
   "source": [
    "# Delete dummy database\n",
    "client.drop_database(\"dummy\")\n",
    "client.database_names()"
   ]
  },
  {
   "cell_type": "code",
   "execution_count": 48,
   "metadata": {
    "collapsed": false
   },
   "outputs": [
    {
     "data": {
      "text/plain": [
       "<pymongo.results.DeleteResult at 0x10443f730>"
      ]
     },
     "execution_count": 48,
     "metadata": {},
     "output_type": "execute_result"
    }
   ],
   "source": [
    "# Remove documents.\n",
    "#  Please note that there is no multi=True option for remove. MongoDB will remove any documents that match the query\n",
    "posts.delete_one({\"_id\":5678})"
   ]
  },
  {
   "cell_type": "markdown",
   "metadata": {},
   "source": [
    "If we don't specify what documents to remove MongoDB will remove them all. This just removes the documents. The collection and its indexes still exist."
   ]
  },
  {
   "cell_type": "markdown",
   "metadata": {},
   "source": [
    "## Useful Commands\n",
    "\n",
    "If you need to get some statistics about your collections."
   ]
  },
  {
   "cell_type": "code",
   "execution_count": 49,
   "metadata": {
    "collapsed": false
   },
   "outputs": [
    {
     "data": {
      "text/plain": [
       "{u'avgObjSize': 184.0,\n",
       " u'collections': 2,\n",
       " u'dataSize': 1472.0,\n",
       " u'db': u'test_database',\n",
       " u'indexSize': 53248.0,\n",
       " u'indexes': 2,\n",
       " u'numExtents': 0,\n",
       " u'objects': 8,\n",
       " u'ok': 1.0,\n",
       " u'storageSize': 53248.0,\n",
       " u'views': 0}"
      ]
     },
     "execution_count": 49,
     "metadata": {},
     "output_type": "execute_result"
    }
   ],
   "source": [
    "db.command({'dbstats': 1})"
   ]
  },
  {
   "cell_type": "markdown",
   "metadata": {},
   "source": [
    "To get collection statistics use the collstats command:"
   ]
  },
  {
   "cell_type": "code",
   "execution_count": 50,
   "metadata": {
    "collapsed": false
   },
   "outputs": [
    {
     "data": {
      "text/plain": [
       "{u'avgObjSize': 138,\n",
       " u'capped': False,\n",
       " u'count': 6,\n",
       " u'indexDetails': {u'_id_': {u'LSM': {u'bloom filter false positives': 0,\n",
       "    u'bloom filter hits': 0,\n",
       "    u'bloom filter misses': 0,\n",
       "    u'bloom filter pages evicted from cache': 0,\n",
       "    u'bloom filter pages read into cache': 0,\n",
       "    u'bloom filters in the LSM tree': 0,\n",
       "    u'chunks in the LSM tree': 0,\n",
       "    u'highest merge generation in the LSM tree': 0,\n",
       "    u'queries that could have benefited from a Bloom filter that did not exist': 0,\n",
       "    u'sleep for LSM checkpoint throttle': 0,\n",
       "    u'sleep for LSM merge throttle': 0,\n",
       "    u'total size of bloom filters': 0},\n",
       "   u'block-manager': {u'allocations requiring file extension': 0,\n",
       "    u'blocks allocated': 4,\n",
       "    u'blocks freed': 1,\n",
       "    u'checkpoint size': 4096,\n",
       "    u'file allocation unit size': 4096,\n",
       "    u'file bytes available for reuse': 16384,\n",
       "    u'file magic number': 120897,\n",
       "    u'file major version number': 1,\n",
       "    u'file size in bytes': 36864,\n",
       "    u'minor version number': 0},\n",
       "   u'btree': {u'btree checkpoint generation': 6,\n",
       "    u'column-store fixed-size leaf pages': 0,\n",
       "    u'column-store internal pages': 0,\n",
       "    u'column-store variable-size RLE encoded values': 0,\n",
       "    u'column-store variable-size deleted values': 0,\n",
       "    u'column-store variable-size leaf pages': 0,\n",
       "    u'fixed-record size': 0,\n",
       "    u'maximum internal page key size': 1474,\n",
       "    u'maximum internal page size': 16384,\n",
       "    u'maximum leaf page key size': 1474,\n",
       "    u'maximum leaf page size': 16384,\n",
       "    u'maximum leaf page value size': 7372,\n",
       "    u'maximum tree depth': 3,\n",
       "    u'number of key/value pairs': 0,\n",
       "    u'overflow pages': 0,\n",
       "    u'pages rewritten by compaction': 0,\n",
       "    u'row-store internal pages': 0,\n",
       "    u'row-store leaf pages': 0},\n",
       "   u'cache': {u'bytes currently in the cache': 9929,\n",
       "    u'bytes read into cache': 160,\n",
       "    u'bytes written from cache': 178,\n",
       "    u'checkpoint blocked page eviction': 0,\n",
       "    u'data source pages selected for eviction unable to be evicted': 0,\n",
       "    u'hazard pointer blocked page eviction': 0,\n",
       "    u'in-memory page passed criteria to be split': 0,\n",
       "    u'in-memory page splits': 0,\n",
       "    u'internal pages evicted': 0,\n",
       "    u'internal pages split during eviction': 0,\n",
       "    u'leaf pages split during eviction': 0,\n",
       "    u'modified pages evicted': 0,\n",
       "    u'overflow pages read into cache': 0,\n",
       "    u'overflow values cached in memory': 0,\n",
       "    u'page split during eviction deepened the tree': 0,\n",
       "    u'page written requiring lookaside records': 0,\n",
       "    u'pages read into cache': 2,\n",
       "    u'pages read into cache requiring lookaside entries': 0,\n",
       "    u'pages requested from the cache': 6,\n",
       "    u'pages written from cache': 2,\n",
       "    u'pages written requiring in-memory restoration': 0,\n",
       "    u'tracked dirty bytes in the cache': 5142,\n",
       "    u'unmodified pages evicted': 0},\n",
       "   u'cache_walk': {u'Average difference between current eviction generation when the page was last considered': 0,\n",
       "    u'Average on-disk page image size seen': 0,\n",
       "    u'Clean pages currently in cache': 0,\n",
       "    u'Current eviction generation': 0,\n",
       "    u'Dirty pages currently in cache': 0,\n",
       "    u'Entries in the root page': 0,\n",
       "    u'Internal pages currently in cache': 0,\n",
       "    u'Leaf pages currently in cache': 0,\n",
       "    u'Maximum difference between current eviction generation when the page was last considered': 0,\n",
       "    u'Maximum page size seen': 0,\n",
       "    u'Minimum on-disk page image size seen': 0,\n",
       "    u'On-disk page image sizes smaller than a single allocation unit': 0,\n",
       "    u'Pages created in memory and never written': 0,\n",
       "    u'Pages currently queued for eviction': 0,\n",
       "    u'Pages that could not be queued for eviction': 0,\n",
       "    u'Refs skipped during cache traversal': 0,\n",
       "    u'Size of the root page': 0,\n",
       "    u'Total number of pages currently in cache': 0},\n",
       "   u'compression': {u'compressed pages read': 0,\n",
       "    u'compressed pages written': 0,\n",
       "    u'page written failed to compress': 0,\n",
       "    u'page written was too small to compress': 0,\n",
       "    u'raw compression call failed, additional data available': 0,\n",
       "    u'raw compression call failed, no additional data available': 0,\n",
       "    u'raw compression call succeeded': 0},\n",
       "   u'creationString': u'access_pattern_hint=none,allocation_size=4KB,app_metadata=(formatVersion=8,infoObj={ \"v\" : 2, \"key\" : { \"_id\" : 1 }, \"name\" : \"_id_\", \"ns\" : \"test_database.posts\" }),block_allocation=best,block_compressor=,cache_resident=false,checksum=on,colgroups=,collator=,columns=,dictionary=0,encryption=(keyid=,name=),exclusive=false,extractor=,format=btree,huffman_key=,huffman_value=,ignore_in_memory_cache_size=false,immutable=false,internal_item_max=0,internal_key_max=0,internal_key_truncate=true,internal_page_max=16k,key_format=u,key_gap=10,leaf_item_max=0,leaf_key_max=0,leaf_page_max=16k,leaf_value_max=0,log=(enabled=true),lsm=(auto_throttle=true,bloom=true,bloom_bit_count=16,bloom_config=,bloom_hash_count=8,bloom_oldest=false,chunk_count_limit=0,chunk_max=5GB,chunk_size=10MB,merge_max=15,merge_min=0),memory_page_max=5MB,os_cache_dirty_max=0,os_cache_max=0,prefix_compression=true,prefix_compression_min=4,source=,split_deepen_min_child=0,split_deepen_per_child=0,split_pct=90,type=file,value_format=u',\n",
       "   u'cursor': {u'bulk-loaded cursor-insert calls': 0,\n",
       "    u'create calls': 1,\n",
       "    u'cursor-insert key and value bytes inserted': 48,\n",
       "    u'cursor-remove key bytes removed': 0,\n",
       "    u'cursor-update value bytes updated': 0,\n",
       "    u'insert calls': 3,\n",
       "    u'next calls': 0,\n",
       "    u'prev calls': 0,\n",
       "    u'remove calls': 0,\n",
       "    u'reset calls': 5,\n",
       "    u'restarted searches': 0,\n",
       "    u'search calls': 3,\n",
       "    u'search near calls': 0,\n",
       "    u'truncate calls': 0,\n",
       "    u'update calls': 0},\n",
       "   u'metadata': {u'formatVersion': 8,\n",
       "    u'infoObj': u'{ \"v\" : 2, \"key\" : { \"_id\" : 1 }, \"name\" : \"_id_\", \"ns\" : \"test_database.posts\" }'},\n",
       "   u'reconciliation': {u'dictionary matches': 0,\n",
       "    u'fast-path pages deleted': 0,\n",
       "    u'internal page key bytes discarded using suffix compression': 0,\n",
       "    u'internal page multi-block writes': 0,\n",
       "    u'internal-page overflow keys': 0,\n",
       "    u'leaf page key bytes discarded using prefix compression': 4,\n",
       "    u'leaf page multi-block writes': 0,\n",
       "    u'leaf-page overflow keys': 0,\n",
       "    u'maximum blocks required for a page': 0,\n",
       "    u'overflow values written': 0,\n",
       "    u'page checksum matches': 0,\n",
       "    u'page reconciliation calls': 2,\n",
       "    u'page reconciliation calls for eviction': 0,\n",
       "    u'pages deleted': 0},\n",
       "   u'session': {u'object compaction': 0, u'open cursor count': 1},\n",
       "   u'transaction': {u'update conflicts': 0},\n",
       "   u'type': u'file',\n",
       "   u'uri': u'statistics:table:index-5-820442471479659905'}},\n",
       " u'indexSizes': {u'_id_': 36864},\n",
       " u'nindexes': 1,\n",
       " u'ns': u'test_database.posts',\n",
       " u'ok': 1.0,\n",
       " u'size': 828,\n",
       " u'storageSize': 36864,\n",
       " u'totalIndexSize': 36864,\n",
       " u'wiredTiger': {u'LSM': {u'bloom filter false positives': 0,\n",
       "   u'bloom filter hits': 0,\n",
       "   u'bloom filter misses': 0,\n",
       "   u'bloom filter pages evicted from cache': 0,\n",
       "   u'bloom filter pages read into cache': 0,\n",
       "   u'bloom filters in the LSM tree': 0,\n",
       "   u'chunks in the LSM tree': 0,\n",
       "   u'highest merge generation in the LSM tree': 0,\n",
       "   u'queries that could have benefited from a Bloom filter that did not exist': 0,\n",
       "   u'sleep for LSM checkpoint throttle': 0,\n",
       "   u'sleep for LSM merge throttle': 0,\n",
       "   u'total size of bloom filters': 0},\n",
       "  u'block-manager': {u'allocations requiring file extension': 0,\n",
       "   u'blocks allocated': 4,\n",
       "   u'blocks freed': 1,\n",
       "   u'checkpoint size': 4096,\n",
       "   u'file allocation unit size': 4096,\n",
       "   u'file bytes available for reuse': 16384,\n",
       "   u'file magic number': 120897,\n",
       "   u'file major version number': 1,\n",
       "   u'file size in bytes': 36864,\n",
       "   u'minor version number': 0},\n",
       "  u'btree': {u'btree checkpoint generation': 6,\n",
       "   u'column-store fixed-size leaf pages': 0,\n",
       "   u'column-store internal pages': 0,\n",
       "   u'column-store variable-size RLE encoded values': 0,\n",
       "   u'column-store variable-size deleted values': 0,\n",
       "   u'column-store variable-size leaf pages': 0,\n",
       "   u'fixed-record size': 0,\n",
       "   u'maximum internal page key size': 368,\n",
       "   u'maximum internal page size': 4096,\n",
       "   u'maximum leaf page key size': 2867,\n",
       "   u'maximum leaf page size': 32768,\n",
       "   u'maximum leaf page value size': 67108864,\n",
       "   u'maximum tree depth': 3,\n",
       "   u'number of key/value pairs': 0,\n",
       "   u'overflow pages': 0,\n",
       "   u'pages rewritten by compaction': 0,\n",
       "   u'row-store internal pages': 0,\n",
       "   u'row-store leaf pages': 0},\n",
       "  u'cache': {u'bytes currently in the cache': 2222,\n",
       "   u'bytes read into cache': 663,\n",
       "   u'bytes written from cache': 806,\n",
       "   u'checkpoint blocked page eviction': 0,\n",
       "   u'data source pages selected for eviction unable to be evicted': 0,\n",
       "   u'hazard pointer blocked page eviction': 0,\n",
       "   u'in-memory page passed criteria to be split': 0,\n",
       "   u'in-memory page splits': 0,\n",
       "   u'internal pages evicted': 0,\n",
       "   u'internal pages split during eviction': 0,\n",
       "   u'leaf pages split during eviction': 0,\n",
       "   u'modified pages evicted': 0,\n",
       "   u'overflow pages read into cache': 0,\n",
       "   u'overflow values cached in memory': 0,\n",
       "   u'page split during eviction deepened the tree': 0,\n",
       "   u'page written requiring lookaside records': 0,\n",
       "   u'pages read into cache': 2,\n",
       "   u'pages read into cache requiring lookaside entries': 0,\n",
       "   u'pages requested from the cache': 4,\n",
       "   u'pages written from cache': 2,\n",
       "   u'pages written requiring in-memory restoration': 0,\n",
       "   u'tracked dirty bytes in the cache': 1804,\n",
       "   u'unmodified pages evicted': 0},\n",
       "  u'cache_walk': {u'Average difference between current eviction generation when the page was last considered': 0,\n",
       "   u'Average on-disk page image size seen': 0,\n",
       "   u'Clean pages currently in cache': 0,\n",
       "   u'Current eviction generation': 0,\n",
       "   u'Dirty pages currently in cache': 0,\n",
       "   u'Entries in the root page': 0,\n",
       "   u'Internal pages currently in cache': 0,\n",
       "   u'Leaf pages currently in cache': 0,\n",
       "   u'Maximum difference between current eviction generation when the page was last considered': 0,\n",
       "   u'Maximum page size seen': 0,\n",
       "   u'Minimum on-disk page image size seen': 0,\n",
       "   u'On-disk page image sizes smaller than a single allocation unit': 0,\n",
       "   u'Pages created in memory and never written': 0,\n",
       "   u'Pages currently queued for eviction': 0,\n",
       "   u'Pages that could not be queued for eviction': 0,\n",
       "   u'Refs skipped during cache traversal': 0,\n",
       "   u'Size of the root page': 0,\n",
       "   u'Total number of pages currently in cache': 0},\n",
       "  u'compression': {u'compressed pages read': 0,\n",
       "   u'compressed pages written': 0,\n",
       "   u'page written failed to compress': 0,\n",
       "   u'page written was too small to compress': 2,\n",
       "   u'raw compression call failed, additional data available': 0,\n",
       "   u'raw compression call failed, no additional data available': 0,\n",
       "   u'raw compression call succeeded': 0},\n",
       "  u'creationString': u'access_pattern_hint=none,allocation_size=4KB,app_metadata=(formatVersion=1),block_allocation=best,block_compressor=snappy,cache_resident=false,checksum=on,colgroups=,collator=,columns=,dictionary=0,encryption=(keyid=,name=),exclusive=false,extractor=,format=btree,huffman_key=,huffman_value=,ignore_in_memory_cache_size=false,immutable=false,internal_item_max=0,internal_key_max=0,internal_key_truncate=true,internal_page_max=4KB,key_format=q,key_gap=10,leaf_item_max=0,leaf_key_max=0,leaf_page_max=32KB,leaf_value_max=64MB,log=(enabled=true),lsm=(auto_throttle=true,bloom=true,bloom_bit_count=16,bloom_config=,bloom_hash_count=8,bloom_oldest=false,chunk_count_limit=0,chunk_max=5GB,chunk_size=10MB,merge_max=15,merge_min=0),memory_page_max=10m,os_cache_dirty_max=0,os_cache_max=0,prefix_compression=false,prefix_compression_min=4,source=,split_deepen_min_child=0,split_deepen_per_child=0,split_pct=90,type=file,value_format=u',\n",
       "  u'cursor': {u'bulk-loaded cursor-insert calls': 0,\n",
       "   u'create calls': 1,\n",
       "   u'cursor-insert key and value bytes inserted': 417,\n",
       "   u'cursor-remove key bytes removed': 0,\n",
       "   u'cursor-update value bytes updated': 0,\n",
       "   u'insert calls': 3,\n",
       "   u'next calls': 0,\n",
       "   u'prev calls': 1,\n",
       "   u'remove calls': 0,\n",
       "   u'reset calls': 4,\n",
       "   u'restarted searches': 0,\n",
       "   u'search calls': 0,\n",
       "   u'search near calls': 0,\n",
       "   u'truncate calls': 0,\n",
       "   u'update calls': 0},\n",
       "  u'metadata': {u'formatVersion': 1},\n",
       "  u'reconciliation': {u'dictionary matches': 0,\n",
       "   u'fast-path pages deleted': 0,\n",
       "   u'internal page key bytes discarded using suffix compression': 0,\n",
       "   u'internal page multi-block writes': 0,\n",
       "   u'internal-page overflow keys': 0,\n",
       "   u'leaf page key bytes discarded using prefix compression': 0,\n",
       "   u'leaf page multi-block writes': 0,\n",
       "   u'leaf-page overflow keys': 0,\n",
       "   u'maximum blocks required for a page': 0,\n",
       "   u'overflow values written': 0,\n",
       "   u'page checksum matches': 0,\n",
       "   u'page reconciliation calls': 2,\n",
       "   u'page reconciliation calls for eviction': 0,\n",
       "   u'pages deleted': 0},\n",
       "  u'session': {u'object compaction': 0, u'open cursor count': 1},\n",
       "  u'transaction': {u'update conflicts': 0},\n",
       "  u'type': u'file',\n",
       "  u'uri': u'statistics:table:collection-4-820442471479659905'}}"
      ]
     },
     "execution_count": 50,
     "metadata": {},
     "output_type": "execute_result"
    }
   ],
   "source": [
    "db.command({'collstats': 'posts'})"
   ]
  },
  {
   "cell_type": "markdown",
   "metadata": {},
   "source": [
    "This notebook was adapted from: \n",
    "* https://github.com/Altons/pymongo-tutorial\n",
    "* http://api.mongodb.com/python/current/tutorial.html "
   ]
  }
 ],
 "metadata": {
  "kernelspec": {
   "display_name": "Python 2",
   "language": "python",
   "name": "python2"
  },
  "language_info": {
   "codemirror_mode": {
    "name": "ipython",
    "version": 2
   },
   "file_extension": ".py",
   "mimetype": "text/x-python",
   "name": "python",
   "nbconvert_exporter": "python",
   "pygments_lexer": "ipython2",
   "version": "2.7.12"
  }
 },
 "nbformat": 4,
 "nbformat_minor": 0
}
